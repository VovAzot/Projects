{
 "cells": [
  {
   "cell_type": "markdown",
   "metadata": {},
   "source": [
    "# Проект для «Викишоп» "
   ]
  },
  {
   "cell_type": "markdown",
   "metadata": {},
   "source": [
    "Интернет-магазин «Викишоп» запускает новый сервис. Теперь пользователи могут редактировать и дополнять описания товаров, как в вики-сообществах. То есть клиенты предлагают свои правки и комментируют изменения других. Магазину нужен инструмент, который будет искать токсичные комментарии и отправлять их на модерацию. \n",
    "\n",
    "Обучите модель классифицировать комментарии на позитивные и негативные. В вашем распоряжении набор данных с разметкой о токсичности правок.\n",
    "\n",
    "Постройте модель со значением метрики качества *F1* не меньше 0.75. \n",
    "\n",
    "**Инструкция по выполнению проекта**\n",
    "\n",
    "1. Загрузите и подготовьте данные.\n",
    "2. Обучите разные модели. \n",
    "3. Сделайте выводы.\n",
    "\n",
    "Для выполнения проекта применять *BERT* необязательно, но вы можете попробовать.\n",
    "\n",
    "**Описание данных**\n",
    "\n",
    "Данные находятся в файле `toxic_comments.csv`. Столбец *text* в нём содержит текст комментария, а *toxic* — целевой признак."
   ]
  },
  {
   "cell_type": "code",
   "execution_count": 1,
   "metadata": {},
   "outputs": [],
   "source": [
    "import numpy as np\n",
    "import pandas as pd\n",
    "import torch\n",
    "from tqdm import notebook\n",
    "import transformers as ppb \n",
    "from sklearn.linear_model import LogisticRegression\n",
    "from sklearn.model_selection import cross_val_score\n",
    "from sklearn.model_selection import train_test_split\n",
    "from sklearn.tree import DecisionTreeClassifier\n",
    "from sklearn.utils import shuffle\n",
    "from sklearn.ensemble import RandomForestClassifier\n",
    "from sklearn.metrics import f1_score\n",
    "from sklearn.model_selection import GridSearchCV\n",
    "from catboost import CatBoostClassifier\n",
    "from lightgbm import LGBMClassifier\n",
    "import time\n",
    "import re\n",
    "import nltk\n",
    "from nltk.stem import WordNetLemmatizer \n",
    "from nltk.corpus import stopwords as nltk_stopwords\n",
    "from sklearn.feature_extraction.text import TfidfVectorizer"
   ]
  },
  {
   "cell_type": "code",
   "execution_count": 2,
   "metadata": {
    "scrolled": true
   },
   "outputs": [],
   "source": [
    "df = pd.read_csv('/datasets/toxic_comments.csv')"
   ]
  },
  {
   "cell_type": "markdown",
   "metadata": {},
   "source": [
    "Прочитали данные, загрузили предобученную модель distilbert, для экономии времени ограничим выборку до 16000 строк"
   ]
  },
  {
   "cell_type": "code",
   "execution_count": 3,
   "metadata": {},
   "outputs": [],
   "source": [
    "wnl = WordNetLemmatizer()\n",
    "\n",
    "def lemmatize_text(text):\n",
    "    text = text.lower()\n",
    "    lemm_text = \"\".join(wnl.lemmatize(text))\n",
    "    cleared_text = re.sub(r'[^a-zA-Z]', ' ', lemm_text) \n",
    "    return \" \".join(cleared_text.split())\n",
    "\n",
    "df['lemm_text'] = df['text'].apply(lemmatize_text)\n",
    "text = df['lemm_text'] \n",
    "df = df.drop(['text'], axis=1)"
   ]
  },
  {
   "cell_type": "code",
   "execution_count": 4,
   "metadata": {},
   "outputs": [
    {
     "name": "stderr",
     "output_type": "stream",
     "text": [
      "[nltk_data] Downloading package stopwords to /home/jovyan/nltk_data...\n",
      "[nltk_data]   Package stopwords is already up-to-date!\n"
     ]
    }
   ],
   "source": [
    "nltk.download('stopwords')\n",
    "stopwords = set(nltk_stopwords.words('english'))\n",
    "\n",
    "count_tf_idf = TfidfVectorizer(stop_words=stopwords)"
   ]
  },
  {
   "cell_type": "code",
   "execution_count": 5,
   "metadata": {},
   "outputs": [
    {
     "data": {
      "text/plain": [
       "0    143346\n",
       "1     16225\n",
       "Name: toxic, dtype: int64"
      ]
     },
     "execution_count": 5,
     "metadata": {},
     "output_type": "execute_result"
    }
   ],
   "source": [
    "target = df['toxic']\n",
    "features = df.drop(['toxic'], axis=1)\n"
   ]
  },
  {
   "cell_type": "code",
   "execution_count": 6,
   "metadata": {},
   "outputs": [],
   "source": [
    "train_features, test_features, train_labels, test_labels = train_test_split(features,\n",
    "                                                                            target, test_size=0.2, random_state=123456)"
   ]
  },
  {
   "cell_type": "code",
   "execution_count": 7,
   "metadata": {},
   "outputs": [],
   "source": [
    "train_features = count_tf_idf.fit_transform(train_features['lemm_text'].values.astype('U'))\n",
    "test_features = count_tf_idf.transform(test_features['lemm_text'].values.astype('U'))"
   ]
  },
  {
   "cell_type": "code",
   "execution_count": 8,
   "metadata": {},
   "outputs": [
    {
     "name": "stderr",
     "output_type": "stream",
     "text": [
      "/opt/conda/lib/python3.7/site-packages/sklearn/model_selection/_split.py:1978: FutureWarning: The default value of cv will change from 3 to 5 in version 0.22. Specify it explicitly to silence this warning.\n",
      "  warnings.warn(CV_WARNING, FutureWarning)\n"
     ]
    },
    {
     "name": "stdout",
     "output_type": "stream",
     "text": [
      "Лучшие гиперпараметры модели:\n",
      "{'learning_rate': 0.5, 'max_depth': 9, 'random_state': 123456}\n",
      "Время подбора гиперпараметров:2511.76433134079\n"
     ]
    }
   ],
   "source": [
    "train_start = time.time()\n",
    "model = LGBMClassifier() \n",
    "\n",
    "hyperparams = [{'learning_rate':[0.1,  0.5, 0.9],\n",
    "                'max_depth':[x for x in range(1, 10,2)],\n",
    "                'random_state':[123456]}]\n",
    "\n",
    "\n",
    "clf = GridSearchCV(model, hyperparams, scoring='f1')\n",
    "clf.fit(train_features, train_labels)\n",
    "print(\"Лучшие гиперпараметры модели:\")\n",
    "\n",
    "print(clf.best_params_)\n",
    "train_end = time.time()\n",
    "print('Время подбора гиперпараметров:{}'.format(train_end - train_start))"
   ]
  },
  {
   "cell_type": "code",
   "execution_count": 12,
   "metadata": {},
   "outputs": [
    {
     "name": "stderr",
     "output_type": "stream",
     "text": [
      "/opt/conda/lib/python3.7/site-packages/sklearn/model_selection/_split.py:1978: FutureWarning: The default value of cv will change from 3 to 5 in version 0.22. Specify it explicitly to silence this warning.\n",
      "  warnings.warn(CV_WARNING, FutureWarning)\n"
     ]
    },
    {
     "name": "stdout",
     "output_type": "stream",
     "text": [
      "Лучшие гиперпараметры модели:\n",
      "{'max_iter': 10000, 'solver': 'lbfgs'}\n",
      "Время подбора гиперпараметров:236.48582577705383\n"
     ]
    }
   ],
   "source": [
    "train_start = time.time()\n",
    "model = LogisticRegression() \n",
    "\n",
    "hyperparams = [{'solver':['lbfgs', 'liblinear'],\n",
    "               'max_iter' :  [10000],              \n",
    "               }]\n",
    "\n",
    "\n",
    "clf = GridSearchCV(model, hyperparams, scoring='f1')\n",
    "clf.fit(train_features, train_labels)\n",
    "print(\"Лучшие гиперпараметры модели:\")\n",
    "\n",
    "print(clf.best_params_)\n",
    "train_end = time.time()\n",
    "print('Время подбора гиперпараметров:{}'.format(train_end - train_start))"
   ]
  },
  {
   "cell_type": "markdown",
   "metadata": {},
   "source": [
    "Подобрали оптимальные гиперпараметры моделей."
   ]
  },
  {
   "cell_type": "code",
   "execution_count": 13,
   "metadata": {},
   "outputs": [
    {
     "data": {
      "text/html": [
       "<div>\n",
       "<style scoped>\n",
       "    .dataframe tbody tr th:only-of-type {\n",
       "        vertical-align: middle;\n",
       "    }\n",
       "\n",
       "    .dataframe tbody tr th {\n",
       "        vertical-align: top;\n",
       "    }\n",
       "\n",
       "    .dataframe thead th {\n",
       "        text-align: right;\n",
       "    }\n",
       "</style>\n",
       "<table border=\"1\" class=\"dataframe\">\n",
       "  <thead>\n",
       "    <tr style=\"text-align: right;\">\n",
       "      <th></th>\n",
       "      <th>model_name</th>\n",
       "      <th>training time</th>\n",
       "      <th>prediction time</th>\n",
       "      <th>f1</th>\n",
       "    </tr>\n",
       "  </thead>\n",
       "  <tbody>\n",
       "    <tr>\n",
       "      <td>0</td>\n",
       "      <td>LGBMClassifier</td>\n",
       "      <td>137.943609</td>\n",
       "      <td>1.659317</td>\n",
       "      <td>0.759070</td>\n",
       "    </tr>\n",
       "    <tr>\n",
       "      <td>1</td>\n",
       "      <td>LogisticRegression</td>\n",
       "      <td>51.366205</td>\n",
       "      <td>0.007830</td>\n",
       "      <td>0.732064</td>\n",
       "    </tr>\n",
       "  </tbody>\n",
       "</table>\n",
       "</div>"
      ],
      "text/plain": [
       "           model_name  training time   prediction time         f1\n",
       "0      LGBMClassifier      137.943609          1.659317  0.759070\n",
       "1  LogisticRegression       51.366205          0.007830  0.732064"
      ]
     },
     "execution_count": 13,
     "metadata": {},
     "output_type": "execute_result"
    }
   ],
   "source": [
    "\n",
    "models = [LGBMClassifier( learning_rate = 0.5, max_depth = 9, random_state= 123456), \n",
    "          LogisticRegression(solver = 'lbfgs', max_iter=10000)]\n",
    "\n",
    "\n",
    "results = []\n",
    "\n",
    "for model in models: \n",
    "    train_start = time.time()  \n",
    "    model.fit(train_features, train_labels)\n",
    "    train_end = time.time()\n",
    "    predict_start = time.time()\n",
    "    pred = model.predict(test_features)\n",
    "    predict_end = time.time()\n",
    "    f1 = f1_score(test_labels, pred)\n",
    "    results.append({'model_name': model.__class__.__name__, \n",
    "                    'training time ': train_end - train_start,\n",
    "                    'prediction time ': predict_end - predict_start,\n",
    "                    'f1': f1                              \n",
    "                              })  \n",
    "              \n",
    "res = pd.DataFrame(results)\n",
    "res"
   ]
  },
  {
   "cell_type": "markdown",
   "metadata": {},
   "source": [
    "При схожих времени обучения и предказания, значение f1 больше у LGBMClassifier. Советуем использовать ее для предсказания."
   ]
  }
 ],
 "metadata": {
  "ExecuteTimeLog": [
   {
    "duration": 3,
    "start_time": "2022-03-02T12:47:27.491Z"
   },
   {
    "duration": 15717,
    "start_time": "2022-03-03T09:54:10.845Z"
   },
   {
    "duration": 645,
    "start_time": "2022-03-03T09:54:29.541Z"
   },
   {
    "duration": 112016,
    "start_time": "2022-03-03T09:54:40.800Z"
   },
   {
    "duration": 419,
    "start_time": "2022-03-03T09:56:53.758Z"
   },
   {
    "duration": 542,
    "start_time": "2022-03-03T09:57:16.168Z"
   },
   {
    "duration": 21,
    "start_time": "2022-03-03T09:58:48.578Z"
   },
   {
    "duration": 116,
    "start_time": "2022-03-03T09:59:57.110Z"
   },
   {
    "duration": 103,
    "start_time": "2022-03-03T10:00:08.961Z"
   },
   {
    "duration": 97,
    "start_time": "2022-03-03T10:00:15.479Z"
   },
   {
    "duration": 100,
    "start_time": "2022-03-03T10:00:19.793Z"
   },
   {
    "duration": 109,
    "start_time": "2022-03-03T10:00:24.509Z"
   },
   {
    "duration": 100,
    "start_time": "2022-03-03T10:00:29.945Z"
   },
   {
    "duration": 103,
    "start_time": "2022-03-03T10:00:33.614Z"
   },
   {
    "duration": 179,
    "start_time": "2022-03-03T10:01:04.262Z"
   },
   {
    "duration": 233,
    "start_time": "2022-03-03T10:02:59.006Z"
   },
   {
    "duration": 9715,
    "start_time": "2022-03-03T10:05:00.419Z"
   },
   {
    "duration": 231,
    "start_time": "2022-03-03T10:05:19.782Z"
   },
   {
    "duration": 4177,
    "start_time": "2022-03-03T10:06:28.261Z"
   },
   {
    "duration": 643,
    "start_time": "2022-03-03T10:06:32.441Z"
   },
   {
    "duration": 114468,
    "start_time": "2022-03-03T10:06:33.086Z"
   },
   {
    "duration": 234,
    "start_time": "2022-03-03T10:08:27.556Z"
   },
   {
    "duration": 27,
    "start_time": "2022-03-03T10:08:27.792Z"
   },
   {
    "duration": 102,
    "start_time": "2022-03-03T10:08:27.821Z"
   },
   {
    "duration": 12653,
    "start_time": "2022-03-03T10:08:27.926Z"
   },
   {
    "duration": 663,
    "start_time": "2022-03-03T10:08:39.918Z"
   },
   {
    "duration": 661,
    "start_time": "2022-03-03T10:08:39.922Z"
   },
   {
    "duration": 660,
    "start_time": "2022-03-03T10:08:39.923Z"
   },
   {
    "duration": 659,
    "start_time": "2022-03-03T10:08:39.925Z"
   },
   {
    "duration": 660,
    "start_time": "2022-03-03T10:08:39.926Z"
   },
   {
    "duration": 200,
    "start_time": "2022-03-03T10:09:45.056Z"
   },
   {
    "duration": 6,
    "start_time": "2022-03-03T10:09:54.615Z"
   },
   {
    "duration": 2205,
    "start_time": "2022-03-03T10:10:38.087Z"
   },
   {
    "duration": 16053,
    "start_time": "2022-03-03T10:11:42.592Z"
   },
   {
    "duration": 634,
    "start_time": "2022-03-03T10:11:58.647Z"
   },
   {
    "duration": 113471,
    "start_time": "2022-03-03T10:11:59.284Z"
   },
   {
    "duration": 250,
    "start_time": "2022-03-03T10:13:52.757Z"
   },
   {
    "duration": 24,
    "start_time": "2022-03-03T10:13:53.009Z"
   },
   {
    "duration": 102,
    "start_time": "2022-03-03T10:13:53.035Z"
   },
   {
    "duration": 2600,
    "start_time": "2022-03-03T10:13:53.138Z"
   },
   {
    "duration": 678,
    "start_time": "2022-03-03T10:13:55.062Z"
   },
   {
    "duration": 674,
    "start_time": "2022-03-03T10:13:55.067Z"
   },
   {
    "duration": 673,
    "start_time": "2022-03-03T10:13:55.069Z"
   },
   {
    "duration": 673,
    "start_time": "2022-03-03T10:13:55.070Z"
   },
   {
    "duration": 621,
    "start_time": "2022-03-03T10:13:55.123Z"
   },
   {
    "duration": 11797,
    "start_time": "2022-03-03T10:16:36.504Z"
   },
   {
    "duration": 644,
    "start_time": "2022-03-03T10:16:48.303Z"
   },
   {
    "duration": 113777,
    "start_time": "2022-03-03T10:16:48.950Z"
   },
   {
    "duration": 259,
    "start_time": "2022-03-03T10:18:42.730Z"
   },
   {
    "duration": 26,
    "start_time": "2022-03-03T10:18:42.991Z"
   },
   {
    "duration": 110,
    "start_time": "2022-03-03T10:18:43.019Z"
   },
   {
    "duration": 11285,
    "start_time": "2022-03-03T10:18:43.131Z"
   },
   {
    "duration": 6561424,
    "start_time": "2022-03-03T10:18:54.418Z"
   },
   {
    "duration": 725,
    "start_time": "2022-03-03T12:08:15.120Z"
   },
   {
    "duration": 725,
    "start_time": "2022-03-03T12:08:15.121Z"
   },
   {
    "duration": 723,
    "start_time": "2022-03-03T12:08:15.124Z"
   },
   {
    "duration": 720,
    "start_time": "2022-03-03T12:08:15.127Z"
   },
   {
    "duration": 73837,
    "start_time": "2022-03-03T12:08:28.432Z"
   },
   {
    "duration": 195023,
    "start_time": "2022-03-03T12:10:09.486Z"
   },
   {
    "duration": 1454254,
    "start_time": "2022-03-03T12:13:24.601Z"
   },
   {
    "duration": 121807,
    "start_time": "2022-03-03T12:39:38.507Z"
   },
   {
    "duration": 139614,
    "start_time": "2022-03-03T12:41:58.205Z"
   },
   {
    "duration": 137272,
    "start_time": "2022-03-03T12:47:40.949Z"
   },
   {
    "duration": 226,
    "start_time": "2022-03-03T12:51:38.361Z"
   },
   {
    "duration": 291,
    "start_time": "2022-03-03T12:51:55.992Z"
   },
   {
    "duration": 216,
    "start_time": "2022-03-03T12:52:58.129Z"
   },
   {
    "duration": 45,
    "start_time": "2022-03-03T12:54:32.945Z"
   },
   {
    "duration": 4083,
    "start_time": "2022-03-03T12:54:55.300Z"
   },
   {
    "duration": 661,
    "start_time": "2022-03-03T12:54:59.386Z"
   },
   {
    "duration": 3725,
    "start_time": "2022-03-03T12:55:00.049Z"
   },
   {
    "duration": 863,
    "start_time": "2022-03-03T12:55:02.914Z"
   },
   {
    "duration": 862,
    "start_time": "2022-03-03T12:55:02.916Z"
   },
   {
    "duration": 860,
    "start_time": "2022-03-03T12:55:02.919Z"
   },
   {
    "duration": 819,
    "start_time": "2022-03-03T12:55:02.962Z"
   },
   {
    "duration": 815,
    "start_time": "2022-03-03T12:55:02.968Z"
   },
   {
    "duration": 812,
    "start_time": "2022-03-03T12:55:02.972Z"
   },
   {
    "duration": 812,
    "start_time": "2022-03-03T12:55:02.974Z"
   },
   {
    "duration": 811,
    "start_time": "2022-03-03T12:55:02.976Z"
   },
   {
    "duration": 808,
    "start_time": "2022-03-03T12:55:02.979Z"
   },
   {
    "duration": 3992,
    "start_time": "2022-03-03T12:55:16.501Z"
   },
   {
    "duration": 650,
    "start_time": "2022-03-03T12:55:20.495Z"
   },
   {
    "duration": 114496,
    "start_time": "2022-03-03T12:55:21.148Z"
   },
   {
    "duration": 234,
    "start_time": "2022-03-03T12:57:15.646Z"
   },
   {
    "duration": 23,
    "start_time": "2022-03-03T12:57:15.882Z"
   },
   {
    "duration": 578,
    "start_time": "2022-03-03T12:57:15.907Z"
   },
   {
    "duration": 881,
    "start_time": "2022-03-03T12:57:15.606Z"
   },
   {
    "duration": 881,
    "start_time": "2022-03-03T12:57:15.608Z"
   },
   {
    "duration": 879,
    "start_time": "2022-03-03T12:57:15.611Z"
   },
   {
    "duration": 873,
    "start_time": "2022-03-03T12:57:15.618Z"
   },
   {
    "duration": 872,
    "start_time": "2022-03-03T12:57:15.620Z"
   },
   {
    "duration": 828,
    "start_time": "2022-03-03T12:57:15.665Z"
   },
   {
    "duration": 37,
    "start_time": "2022-03-03T12:57:44.072Z"
   },
   {
    "duration": 332,
    "start_time": "2022-03-03T12:59:06.102Z"
   },
   {
    "duration": 174,
    "start_time": "2022-03-03T12:59:35.177Z"
   },
   {
    "duration": 11868,
    "start_time": "2022-03-03T12:59:46.202Z"
   },
   {
    "duration": 215,
    "start_time": "2022-03-03T13:00:06.791Z"
   },
   {
    "duration": 10013,
    "start_time": "2022-03-03T13:00:29.472Z"
   },
   {
    "duration": 4462,
    "start_time": "2022-03-03T13:01:15.377Z"
   },
   {
    "duration": 680,
    "start_time": "2022-03-03T13:01:19.842Z"
   },
   {
    "duration": 114362,
    "start_time": "2022-03-03T13:01:20.525Z"
   },
   {
    "duration": 230,
    "start_time": "2022-03-03T13:03:14.890Z"
   },
   {
    "duration": 24,
    "start_time": "2022-03-03T13:03:15.122Z"
   },
   {
    "duration": 32,
    "start_time": "2022-03-03T13:03:15.148Z"
   },
   {
    "duration": 11966,
    "start_time": "2022-03-03T13:03:15.182Z"
   },
   {
    "duration": 555,
    "start_time": "2022-03-03T13:03:27.151Z"
   },
   {
    "duration": 885,
    "start_time": "2022-03-03T13:03:26.823Z"
   },
   {
    "duration": 885,
    "start_time": "2022-03-03T13:03:26.824Z"
   },
   {
    "duration": 883,
    "start_time": "2022-03-03T13:03:26.827Z"
   },
   {
    "duration": 882,
    "start_time": "2022-03-03T13:03:26.829Z"
   },
   {
    "duration": 125788,
    "start_time": "2022-03-03T13:03:36.726Z"
   },
   {
    "duration": 4121,
    "start_time": "2022-03-03T13:09:29.573Z"
   },
   {
    "duration": 639,
    "start_time": "2022-03-03T13:09:33.697Z"
   },
   {
    "duration": 113705,
    "start_time": "2022-03-03T13:09:34.338Z"
   },
   {
    "duration": 239,
    "start_time": "2022-03-03T13:11:28.045Z"
   },
   {
    "duration": 25,
    "start_time": "2022-03-03T13:11:28.287Z"
   },
   {
    "duration": 29,
    "start_time": "2022-03-03T13:11:28.314Z"
   },
   {
    "duration": 11929,
    "start_time": "2022-03-03T13:11:28.345Z"
   },
   {
    "duration": 564,
    "start_time": "2022-03-03T13:11:40.277Z"
   },
   {
    "duration": 881,
    "start_time": "2022-03-03T13:11:39.962Z"
   },
   {
    "duration": 880,
    "start_time": "2022-03-03T13:11:39.964Z"
   },
   {
    "duration": 1584003,
    "start_time": "2022-03-03T13:15:24.739Z"
   },
   {
    "duration": 60,
    "start_time": "2022-03-03T13:41:48.744Z"
   },
   {
    "duration": 929,
    "start_time": "2022-03-03T13:41:47.877Z"
   },
   {
    "duration": 195167,
    "start_time": "2022-03-03T13:42:08.538Z"
   },
   {
    "duration": 120403,
    "start_time": "2022-03-03T13:45:23.710Z"
   },
   {
    "duration": 6345,
    "start_time": "2022-03-03T17:31:44.971Z"
   },
   {
    "duration": 733,
    "start_time": "2022-03-03T17:31:52.951Z"
   },
   {
    "duration": 10921,
    "start_time": "2022-03-03T17:31:57.234Z"
   },
   {
    "duration": 473,
    "start_time": "2022-03-03T17:32:17.971Z"
   },
   {
    "duration": 28,
    "start_time": "2022-03-03T17:32:21.803Z"
   },
   {
    "duration": 32,
    "start_time": "2022-03-03T17:32:24.345Z"
   },
   {
    "duration": 16229,
    "start_time": "2022-03-03T17:32:24.953Z"
   },
   {
    "duration": 6491,
    "start_time": "2022-03-03T17:33:27.668Z"
   },
   {
    "duration": 153723,
    "start_time": "2022-03-03T17:33:36.677Z"
   },
   {
    "duration": 5012,
    "start_time": "2022-03-03T17:36:22.931Z"
   },
   {
    "duration": 736,
    "start_time": "2022-03-03T17:36:27.946Z"
   },
   {
    "duration": 10936,
    "start_time": "2022-03-03T17:36:28.684Z"
   },
   {
    "duration": 244,
    "start_time": "2022-03-03T17:36:39.622Z"
   },
   {
    "duration": 27,
    "start_time": "2022-03-03T17:36:39.868Z"
   },
   {
    "duration": 30,
    "start_time": "2022-03-03T17:36:39.897Z"
   },
   {
    "duration": 16004,
    "start_time": "2022-03-03T17:36:39.930Z"
   },
   {
    "duration": 2511772,
    "start_time": "2022-03-03T17:36:55.937Z"
   },
   {
    "duration": 80,
    "start_time": "2022-03-03T18:18:47.712Z"
   },
   {
    "duration": -253,
    "start_time": "2022-03-03T18:18:48.048Z"
   },
   {
    "duration": 69,
    "start_time": "2022-03-03T18:25:38.585Z"
   },
   {
    "duration": 65,
    "start_time": "2022-03-03T18:25:54.021Z"
   },
   {
    "duration": 236497,
    "start_time": "2022-03-03T18:26:10.898Z"
   },
   {
    "duration": 191117,
    "start_time": "2022-03-03T18:30:07.485Z"
   }
  ],
  "kernelspec": {
   "display_name": "Python 3 (ipykernel)",
   "language": "python",
   "name": "python3"
  },
  "language_info": {
   "codemirror_mode": {
    "name": "ipython",
    "version": 3
   },
   "file_extension": ".py",
   "mimetype": "text/x-python",
   "name": "python",
   "nbconvert_exporter": "python",
   "pygments_lexer": "ipython3",
   "version": "3.8.12"
  },
  "toc": {
   "base_numbering": 1,
   "nav_menu": {},
   "number_sections": true,
   "sideBar": true,
   "skip_h1_title": true,
   "title_cell": "Table of Contents",
   "title_sidebar": "Contents",
   "toc_cell": false,
   "toc_position": {},
   "toc_section_display": true,
   "toc_window_display": false
  }
 },
 "nbformat": 4,
 "nbformat_minor": 4
}
