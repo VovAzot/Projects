{
 "cells": [
  {
   "cell_type": "markdown",
   "metadata": {},
   "source": [
    "# Выбор локации для скважины"
   ]
  },
  {
   "cell_type": "markdown",
   "metadata": {},
   "source": [
    "Допустим, вы работаете в добывающей компании «ГлавРосГосНефть». Нужно решить, где бурить новую скважину.\n",
    "\n",
    "Вам предоставлены пробы нефти в трёх регионах: в каждом 10 000 месторождений, где измерили качество нефти и объём её запасов. Постройте модель машинного обучения, которая поможет определить регион, где добыча принесёт наибольшую прибыль. Проанализируйте возможную прибыль и риски техникой *Bootstrap.*\n",
    "\n",
    "Шаги для выбора локации:\n",
    "\n",
    "- В избранном регионе ищут месторождения, для каждого определяют значения признаков;\n",
    "- Строят модель и оценивают объём запасов;\n",
    "- Выбирают месторождения с самым высокими оценками значений. Количество месторождений зависит от бюджета компании и стоимости разработки одной скважины;\n",
    "- Прибыль равна суммарной прибыли отобранных месторождений.\n",
    "\n",
    "Признаки</p>\n",
    "<p> f0, f1, f2 — три признака точек (неважно, что они означают, но сами признаки значимы);</p>\n",
    "<p>product — объём запасов в скважине (тыс. баррелей)</p>\n"
   ]
  },
  {
   "cell_type": "markdown",
   "metadata": {},
   "source": [
    "## Загрузка и подготовка данных"
   ]
  },
  {
   "cell_type": "code",
   "execution_count": 1,
   "metadata": {},
   "outputs": [
    {
     "name": "stdout",
     "output_type": "stream",
     "text": [
      "      id        f0        f1        f2     product\n",
      "0  txEyH  0.705745 -0.497823  1.221170  105.280062\n",
      "1  2acmU  1.334711 -0.340164  4.365080   73.037750\n",
      "2  409Wp  1.022732  0.151990  1.419926   85.265647\n",
      "3  iJLyR -0.032172  0.139033  2.978566  168.620776\n",
      "4  Xdl7t  1.988431  0.155413  4.751769  154.036647\n",
      "5  wX4Hy  0.969570  0.489775 -0.735383   64.741541\n",
      "6  tL6pL  0.645075  0.530656  1.780266   49.055285\n",
      "7  BYPU6 -0.400648  0.808337 -5.624670   72.943292\n",
      "8  j9Oui  0.643105 -0.551583  2.372141  113.356160\n",
      "9  OLuZU  2.173381  0.563698  9.441852  127.910945\n",
      "<class 'pandas.core.frame.DataFrame'>\n",
      "RangeIndex: 100000 entries, 0 to 99999\n",
      "Data columns (total 5 columns):\n",
      " #   Column   Non-Null Count   Dtype  \n",
      "---  ------   --------------   -----  \n",
      " 0   id       100000 non-null  object \n",
      " 1   f0       100000 non-null  float64\n",
      " 2   f1       100000 non-null  float64\n",
      " 3   f2       100000 non-null  float64\n",
      " 4   product  100000 non-null  float64\n",
      "dtypes: float64(4), object(1)\n",
      "memory usage: 3.8+ MB\n",
      "None\n",
      "Данные о наличии дубликатов False    100000\n",
      "dtype: int64 \n",
      "\n",
      "      id         f0         f1        f2     product\n",
      "0  kBEdx -15.001348  -8.276000 -0.005876    3.179103\n",
      "1  62mP7  14.272088  -3.475083  0.999183   26.953261\n",
      "2  vyE1P   6.263187  -5.948386  5.001160  134.766305\n",
      "3  KcrkZ -13.081196 -11.506057  4.999415  137.945408\n",
      "4  AHL4O  12.702195  -8.147433  5.004363  134.766305\n",
      "5  HHckp  -3.327590  -2.205276  3.003647   84.038886\n",
      "6  h5Ujo -11.142655 -10.133399  4.002382  110.992147\n",
      "7  muH9x   4.234715  -0.001354  2.004588   53.906522\n",
      "8  YiRkx  13.355129  -0.332068  4.998647  134.766305\n",
      "9  jG6Gi   1.069227 -11.025667  4.997844  137.945408\n",
      "<class 'pandas.core.frame.DataFrame'>\n",
      "RangeIndex: 100000 entries, 0 to 99999\n",
      "Data columns (total 5 columns):\n",
      " #   Column   Non-Null Count   Dtype  \n",
      "---  ------   --------------   -----  \n",
      " 0   id       100000 non-null  object \n",
      " 1   f0       100000 non-null  float64\n",
      " 2   f1       100000 non-null  float64\n",
      " 3   f2       100000 non-null  float64\n",
      " 4   product  100000 non-null  float64\n",
      "dtypes: float64(4), object(1)\n",
      "memory usage: 3.8+ MB\n",
      "None\n",
      "Данные о наличии дубликатов False    100000\n",
      "dtype: int64 \n",
      "\n",
      "      id        f0        f1        f2     product\n",
      "0  fwXo0 -1.146987  0.963328 -0.828965   27.758673\n",
      "1  WJtFt  0.262778  0.269839 -2.530187   56.069697\n",
      "2  ovLUW  0.194587  0.289035 -5.586433   62.871910\n",
      "3  q6cA6  2.236060 -0.553760  0.930038  114.572842\n",
      "4  WPMUX -0.515993  1.716266  5.899011  149.600746\n",
      "5  LzZXx -0.758092  0.710691  2.585887   90.222465\n",
      "6  WBHRv -0.574891  0.317727  1.773745   45.641478\n",
      "7  XO8fn -1.906649 -2.458350 -0.177097   72.480640\n",
      "8  ybmQ5  1.776292 -0.279356  3.004156  106.616832\n",
      "9  OilcN -1.214452 -0.439314  5.922514   52.954532\n",
      "<class 'pandas.core.frame.DataFrame'>\n",
      "RangeIndex: 100000 entries, 0 to 99999\n",
      "Data columns (total 5 columns):\n",
      " #   Column   Non-Null Count   Dtype  \n",
      "---  ------   --------------   -----  \n",
      " 0   id       100000 non-null  object \n",
      " 1   f0       100000 non-null  float64\n",
      " 2   f1       100000 non-null  float64\n",
      " 3   f2       100000 non-null  float64\n",
      " 4   product  100000 non-null  float64\n",
      "dtypes: float64(4), object(1)\n",
      "memory usage: 3.8+ MB\n",
      "None\n",
      "Данные о наличии дубликатов False    100000\n",
      "dtype: int64 \n",
      "\n"
     ]
    }
   ],
   "source": [
    "import pandas as pd\n",
    "import numpy as np\n",
    "import matplotlib.pyplot as plt\n",
    "from sklearn.model_selection import train_test_split\n",
    "from sklearn.metrics import mean_squared_error \n",
    "from sklearn.linear_model import LinearRegression\n",
    "from scipy import stats as st\n",
    "\n",
    "def data_read_glance(file_path):# создаем функцию для загрузки данных и первичного анализа. На вход принимает путь до файла.\n",
    "    data = pd.read_csv(file_path)\n",
    "    print(data.head(10))\n",
    "    print(data.info())\n",
    "    print('Данные о наличии дубликатов', data.duplicated().value_counts(),'\\n')\n",
    "    return data\n",
    "reg0 = data_read_glance('C:/Users/VovAz/Desktop/Проект/Машинное обучение в бизнесе/geo_data_0.csv')\n",
    "reg1 = data_read_glance('C:/Users/VovAz/Desktop/Проект/Машинное обучение в бизнесе/geo_data_1.csv')\n",
    "reg2 = data_read_glance('C:/Users/VovAz/Desktop/Проект/Машинное обучение в бизнесе/geo_data_2.csv')"
   ]
  },
  {
   "cell_type": "markdown",
   "metadata": {},
   "source": [
    "Данные прочитаны, дубликатов нет, пропущенных значений нет. Типы данных не нуждаются в изменении."
   ]
  },
  {
   "cell_type": "markdown",
   "metadata": {},
   "source": [
    "## Обучение и проверка модели"
   ]
  },
  {
   "cell_type": "code",
   "execution_count": 2,
   "metadata": {},
   "outputs": [],
   "source": [
    "def model_fit_valid(data):# создаем функцию для обучения модели, которая принимает датафрейм, печатает средний запас сырья,\n",
    "    #согласно предсказаниям и RMSE модели, возваращает целевые признаки валидацинной выборки и предсказания\n",
    "    features = data.drop(['id', 'product'], axis = 1)#выделяем параметры\n",
    "    target = data['product']# выделяем целевые признаки\n",
    "    features_train, features_valid, target_train, target_valid = train_test_split(features, target,\n",
    "                                                                                  test_size=0.25, random_state=12345)\n",
    "    model = LinearRegression()\n",
    "    model.fit(features_train, target_train)\n",
    "    predict = model.predict(features_valid)\n",
    "\n",
    "    predict_mean = predict.mean()\n",
    "    rmse = mean_squared_error(target_valid, predict)**0.5\n",
    "   \n",
    "    print('Cредний запас нефти: {:.5f}'.format(predict_mean))\n",
    "    print('RMSE модели: {:.5f}'.format(rmse),'\\n')\n",
    "    \n",
    "    return target_valid, predict"
   ]
  },
  {
   "cell_type": "code",
   "execution_count": 3,
   "metadata": {},
   "outputs": [
    {
     "name": "stdout",
     "output_type": "stream",
     "text": [
      "Показатели для региона 0:\n",
      "Cредний запас нефти: 92.59257\n",
      "RMSE модели: 37.57942 \n",
      "\n",
      "Показатели для региона 1:\n",
      "Cредний запас нефти: 68.72855\n",
      "RMSE модели: 0.89310 \n",
      "\n",
      "Показатели для региона 2:\n",
      "Cредний запас нефти: 94.96505\n",
      "RMSE модели: 40.02971 \n",
      "\n"
     ]
    }
   ],
   "source": [
    "print(\"Показатели для региона 0:\")\n",
    "reg0_valid, reg0_prediction = model_fit_valid(reg0)\n",
    "print(\"Показатели для региона 1:\")\n",
    "reg1_valid, reg1_prediction = model_fit_valid(reg1)\n",
    "print(\"Показатели для региона 2:\")\n",
    "reg2_valid, reg2_prediction = model_fit_valid(reg2)"
   ]
  },
  {
   "cell_type": "markdown",
   "metadata": {},
   "source": [
    "Проведя обучение модели и получив необходимые показатели, можно сделать следующие выводы:\n",
    "Средние запасы нефти в регионах 0 и 2 выше чем в регионе 1, однако квадрат из средней квадратичной ошибки в обоих регионах намного выше, что означает слабую предсказуемость результатов для данных регионов. "
   ]
  },
  {
   "cell_type": "markdown",
   "metadata": {},
   "source": [
    "## Подготовка к расчёту прибыли"
   ]
  },
  {
   "cell_type": "code",
   "execution_count": 4,
   "metadata": {},
   "outputs": [
    {
     "name": "stdout",
     "output_type": "stream",
     "text": [
      "Минимальный запас нефти для одной скважины для безубыточной разработки: 111.11\n"
     ]
    }
   ],
   "source": [
    "BUDGET = 10000000000\n",
    "TOP_WELLS = 200\n",
    "SAMPLE_WELLS = 500\n",
    "WELL_INCOME = 450000\n",
    "min_barrel = BUDGET / (TOP_WELLS * WELL_INCOME)\n",
    "print('Минимальный запас нефти для одной скважины для безубыточной разработки: {:.2f}'.format(min_barrel))"
   ]
  },
  {
   "cell_type": "markdown",
   "metadata": {},
   "source": [
    "При условии отбора 200 лучших скважин при бюджете 10 млрд рублей на разработку, минимальным необходимым запасом является объем в 111.11 тыс. баррелей, что превышает средние показатели запасов нефти для всех регионов."
   ]
  },
  {
   "cell_type": "markdown",
   "metadata": {},
   "source": [
    "## Расчёт прибыли и рисков "
   ]
  },
  {
   "cell_type": "code",
   "execution_count": 5,
   "metadata": {},
   "outputs": [
    {
     "name": "stdout",
     "output_type": "stream",
     "text": [
      "Предсказанная операционной прибыли для региона 0: 3320826043.14 рублей\n",
      "\n",
      "Предсказанная операционной прибыли для региона 1: 2415086696.68 рублей\n",
      "\n",
      "Предсказанная операционной прибыли для региона 2: 2710349963.60 рублей\n",
      "\n"
     ]
    }
   ],
   "source": [
    "def income(predict, target):#строим функцию для расчета прибыли на вход прнимает пресказания модели и целевые значения\n",
    "    predict = pd.Series(predict).reset_index(drop=True)#избавляемся от индексов\n",
    "    target = pd.Series(target).reset_index(drop=True)#избавляемся от индексов\n",
    "    predict_sorted = predict.sort_values(ascending=False)[:TOP_WELLS]# из предсказаний выделяем топ-200 вышек по запасам нефти\n",
    "    fuel_quantity = target[predict_sorted.index].sum()#находим действительные запасы топлива в топ-200 вышек по предсказаниям\n",
    "    operating_income = ((fuel_quantity*WELL_INCOME) - BUDGET) #считаем прибыль\n",
    "    return operating_income\n",
    "\n",
    "print('Предсказанная операционная прибыль для региона 0: {:.2f} рублей\\n'.format(income(reg0_prediction, reg0_valid)))\n",
    "print('Предсказанная операционная прибыль для региона 1: {:.2f} рублей\\n'.format(income(reg1_prediction, reg1_valid)))\n",
    "print('Предсказанная операционная прибыль для региона 2: {:.2f} рублей\\n'.format(income(reg2_prediction, reg2_valid)))"
   ]
  },
  {
   "cell_type": "markdown",
   "metadata": {},
   "source": [
    "Если выбирать вышки на основании предсказаний нашей модели, то наиболее предпочтительным выглядит регион №0, со средним значением в 3.3. млрд рублей прибыли. Наименее предпочтительным выглядит регион №1 с его 2.4. млрд. рублей. Однако, поскольку предсказуемость результатов в регионах 0 и 2 оставляет желать лучшего, необходимо просчитать существующие риски и оценить возможность получения данных результатов случайно."
   ]
  },
  {
   "cell_type": "code",
   "execution_count": 6,
   "metadata": {},
   "outputs": [
    {
     "name": "stdout",
     "output_type": "stream",
     "text": [
      "Средняя выручка и риски убытков для региона 0:\n",
      "Средняя выручка:396164984.80\n",
      "Доверительный интервал: [-111215545.89049526, 909766941.5534225]\n",
      "Риски убытка:0.069\n",
      "\n",
      "Средняя выручка и риски убытков для региона 1:\n",
      "Средняя выручка:461155817.28\n",
      "Доверительный интервал: [78050810.7517417, 862952060.2637235]\n",
      "Риски убытка:0.007\n",
      "\n",
      "Средняя выручка и риски убытков для региона 2:\n",
      "Средняя выручка:392950475.17\n",
      "Доверительный интервал: [-112227625.37857565, 934562914.5511636]\n",
      "Риски убытка:0.065\n"
     ]
    }
   ],
   "source": [
    "state = np.random.RandomState(12345)\n",
    "def bootstrap(predict, target):# создаем функцию для перебора 1000 разных выборок размером в 500 вышек и расчета прибыли по топ-200 из них\n",
    "    # функция принимает значения, предсказанные моделью и целевые значения\n",
    "    target = target.reset_index(drop=True)#избавляемся от индексов\n",
    "    values = []\n",
    "    \n",
    "    for i in range(1000):\n",
    "        target_subsample = target.sample(n = SAMPLE_WELLS, replace=True, random_state=state)#выделяем подвыборку из 500 случайных строк\n",
    "        predicted_subsample = predict[target_subsample.index]#находим соотвествующие предсказанные значения\n",
    "        \n",
    "        func = income(predicted_subsample, target_subsample)#применяем ранее созданную функцию income\n",
    "        values.append(func)# присоединяем результаты к ранее созданному списку\n",
    "    values = pd.Series(values)#переводи список в формат Series\n",
    "    mean = values.mean()#находим среднее значение\n",
    "        \n",
    "    confidence_interval = [values.quantile(0.025), values.quantile(0.975)]# находим 95% доверительный интервал средней прибыли с помощью квантилей\n",
    "    print(\"Средняя выручка:{:.2f}\".format(mean))\n",
    "    print(\"Доверительный интервал 95%:\", confidence_interval)\n",
    "    print(\"Риски убытка:{:.3f}\".format((values < 0).mean()))\n",
    "print('Средняя выручка и риски убытков для региона 0:')\n",
    "bootstrap(reg0_prediction, reg0_valid)\n",
    "print('\\nСредняя выручка и риски убытков для региона 1:')\n",
    "bootstrap(reg1_prediction, reg1_valid)\n",
    "print('\\nСредняя выручка и риски убытков для региона 2:')\n",
    "bootstrap(reg2_prediction, reg2_valid)"
   ]
  },
  {
   "cell_type": "markdown",
   "metadata": {},
   "source": [
    "Наша проверка дала интересные результаты и предположение о случайности полученных средних значений оказалось верным. Низкая прогнозируемость для регионов 0 и 2 при формально бОльших запасах нефти может принести убытки при разработке. По итогу проверки можем рекомендовать для разрабоки регион 1."
   ]
  }
 ],
 "metadata": {
  "kernelspec": {
   "display_name": "Python 3 (ipykernel)",
   "language": "python",
   "name": "python3"
  },
  "language_info": {
   "codemirror_mode": {
    "name": "ipython",
    "version": 3
   },
   "file_extension": ".py",
   "mimetype": "text/x-python",
   "name": "python",
   "nbconvert_exporter": "python",
   "pygments_lexer": "ipython3",
   "version": "3.8.12"
  },
  "toc": {
   "base_numbering": 1,
   "nav_menu": {},
   "number_sections": true,
   "sideBar": true,
   "skip_h1_title": true,
   "title_cell": "Table of Contents",
   "title_sidebar": "Contents",
   "toc_cell": false,
   "toc_position": {},
   "toc_section_display": true,
   "toc_window_display": false
  }
 },
 "nbformat": 4,
 "nbformat_minor": 2
}
