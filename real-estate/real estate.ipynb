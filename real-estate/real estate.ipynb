{
 "cells": [
  {
   "cell_type": "markdown",
   "metadata": {},
   "source": [
    "# Исследование объявлений о продаже квартир\n",
    "\n",
    "В вашем распоряжении данные сервиса Яндекс.Недвижимость — архив объявлений о продаже квартир в Санкт-Петербурге и соседних населённых пунктов за несколько лет. Нужно научиться определять рыночную стоимость объектов недвижимости. Ваша задача — установить параметры. Это позволит построить автоматизированную систему: она отследит аномалии и мошенническую деятельность. \n",
    "\n",
    "По каждой квартире на продажу доступны два вида данных. Первые вписаны пользователем, вторые — получены автоматически на основе картографических данных. Например, расстояние до центра, аэропорта, ближайшего парка и водоёма. \n",
    "airports_nearest — расстояние до ближайшего аэропорта в метрах (м)\n",
    "balcony — число балконов\n",
    "ceiling_height — высота потолков (м)\n",
    "cityCenters_nearest — расстояние до центра города (м)\n",
    "days_exposition — сколько дней было размещено объявление (от публикации до снятия)\n",
    "first_day_exposition — дата публикации\n",
    "floor — этаж\n",
    "floors_total — всего этажей в доме\n",
    "is_apartment — апартаменты (булев тип)\n",
    "kitchen_area — площадь кухни в квадратных метрах (м²)\n",
    "last_price — цена на момент снятия с публикации\n",
    "living_area — жилая площадь в квадратных метрах(м²)\n",
    "locality_name — название населённого пункта\n",
    "open_plan — свободная планировка (булев тип)\n",
    "parks_around3000 — число парков в радиусе 3 км\n",
    "parks_nearest — расстояние до ближайшего парка (м)\n",
    "ponds_around3000 — число водоёмов в радиусе 3 км\n",
    "ponds_nearest — расстояние до ближайшего водоёма (м)\n",
    "rooms — число комнат\n",
    "studio — квартира-студия (булев тип)\n",
    "total_area — площадь квартиры в квадратных метрах (м²)\n",
    "total_images — число фотографий квартиры в объявлении"
   ]
  },
  {
   "cell_type": "markdown",
   "metadata": {},
   "source": [
    "### Шаг 1. Откройте файл с данными и изучите общую информацию. "
   ]
  },
  {
   "cell_type": "code",
   "execution_count": 1,
   "metadata": {},
   "outputs": [
    {
     "name": "stdout",
     "output_type": "stream",
     "text": [
      "<class 'pandas.core.frame.DataFrame'>\n",
      "RangeIndex: 23699 entries, 0 to 23698\n",
      "Data columns (total 22 columns):\n",
      "total_images            23699 non-null int64\n",
      "last_price              23699 non-null float64\n",
      "total_area              23699 non-null float64\n",
      "first_day_exposition    23699 non-null object\n",
      "rooms                   23699 non-null int64\n",
      "ceiling_height          14504 non-null float64\n",
      "floors_total            23613 non-null float64\n",
      "living_area             21796 non-null float64\n",
      "floor                   23699 non-null int64\n",
      "is_apartment            2775 non-null object\n",
      "studio                  23699 non-null bool\n",
      "open_plan               23699 non-null bool\n",
      "kitchen_area            21421 non-null float64\n",
      "balcony                 12180 non-null float64\n",
      "locality_name           23650 non-null object\n",
      "airports_nearest        18157 non-null float64\n",
      "cityCenters_nearest     18180 non-null float64\n",
      "parks_around3000        18181 non-null float64\n",
      "parks_nearest           8079 non-null float64\n",
      "ponds_around3000        18181 non-null float64\n",
      "ponds_nearest           9110 non-null float64\n",
      "days_exposition         20518 non-null float64\n",
      "dtypes: bool(2), float64(14), int64(3), object(3)\n",
      "memory usage: 3.7+ MB\n"
     ]
    }
   ],
   "source": [
    "import pandas as pd\n",
    "import matplotlib.pyplot as plt\n",
    "import numpy as np\n",
    "apartment_data = pd.read_csv('/datasets/real_estate_data.csv', sep='\\t')\n",
    "#apartment_data.describe() \n",
    "#print(apartment_data)\n",
    "apartment_data.info()"
   ]
  },
  {
   "cell_type": "markdown",
   "metadata": {},
   "source": [
    "### Вывод"
   ]
  },
  {
   "cell_type": "markdown",
   "metadata": {},
   "source": []
  },
  {
   "cell_type": "markdown",
   "metadata": {},
   "source": [
    "### Шаг 2. Предобработка данных"
   ]
  },
  {
   "cell_type": "code",
   "execution_count": 2,
   "metadata": {},
   "outputs": [
    {
     "name": "stdout",
     "output_type": "stream",
     "text": [
      "False    2725\n",
      "True       50\n",
      "Name: is_apartment, dtype: int64\n"
     ]
    }
   ],
   "source": [
    "\n",
    "print(apartment_data['is_apartment'].value_counts())#Проверяем значения столбца\n",
    "apartment_data['is_apartment'] = apartment_data['is_apartment'].fillna(value = False)# меняем пропущенные значения на false\n",
    "apartment_data['is_apartment'] = apartment_data['is_apartment'].astype('bool')# меняем тип данных на булев\n",
    "#print(apartment_data['is_apartment'].value_counts()) #проверяем, что NaN заменены на False\n",
    "\n",
    "apartment_data['first_day_exposition'] = pd.to_datetime(apartment_data['first_day_exposition'], format='%Y.%m.%dT%H:%M:%S') \n",
    "apartment_data ['balcony'] = apartment_data ['balcony'].fillna(value = 0) #меняем по заданию NaN в столбце balcony на 0\n",
    "#print(apartment_data ['balcony'].value_counts())\n",
    "kitchen_ratio = (apartment_data['total_area'] / apartment_data['kitchen_area']).mean()#считаем коээфециент отношения общей площади к полощади кухни\n",
    "apartment_data['kitchen_area'] = apartment_data['kitchen_area'].fillna(value = apartment_data['total_area'] / kitchen_ratio)#заполняем пропуски\n",
    "\n",
    "height_to_median = apartment_data.groupby(\"floors_total\")[\"ceiling_height\"].median().to_dict()\n",
    " \n",
    "def filler(row):\n",
    "    if np.isnan(row[\"ceiling_height\"]):\n",
    "        return height_to_median.get(row[\"floors_total\"])\n",
    "    return row[\"ceiling_height\"]\n",
    " \n",
    "apartment_data[\"ceiling_height\"] = apartment_data.apply(filler, axis=1)\n"
   ]
  },
  {
   "cell_type": "markdown",
   "metadata": {},
   "source": [
    "Обращаем внимание на то, что столбец 'is_apartment' имеет тип данных object, хотя в описании фигурирует булев тип.\n",
    "проверяем значения столбца, видим что значение True у 50 квартир\n",
    "False - у 2725 квартир, остальные имеют значение NaN. Поскольку апартаменты - относительно редкое явление,\n",
    "принимаем, что значения NaN скрывают за собой False. Наблюдаем, что значения в столбце first_day_exposition в формате object, хотя это дата, переводим в формат даты. Меняем пропущенные значения по балконам на 0. Заполнили пропущенные значения в площади кухни с помощью коэффециента отношения общей площади к площади кухни."
   ]
  },
  {
   "cell_type": "markdown",
   "metadata": {},
   "source": [
    "### Шаг 3. Посчитайте и добавьте в таблицу"
   ]
  },
  {
   "cell_type": "code",
   "execution_count": 3,
   "metadata": {
    "scrolled": true
   },
   "outputs": [
    {
     "name": "stdout",
     "output_type": "stream",
     "text": [
      "<class 'pandas.core.frame.DataFrame'>\n",
      "RangeIndex: 23699 entries, 0 to 23698\n",
      "Data columns (total 29 columns):\n",
      "total_images            23699 non-null int64\n",
      "last_price              23699 non-null float64\n",
      "total_area              23699 non-null float64\n",
      "first_day_exposition    23699 non-null datetime64[ns]\n",
      "rooms                   23699 non-null int64\n",
      "ceiling_height          23621 non-null float64\n",
      "floors_total            23613 non-null float64\n",
      "living_area             21796 non-null float64\n",
      "floor                   23699 non-null int64\n",
      "is_apartment            23699 non-null bool\n",
      "studio                  23699 non-null bool\n",
      "open_plan               23699 non-null bool\n",
      "kitchen_area            23699 non-null float64\n",
      "balcony                 23699 non-null float64\n",
      "locality_name           23650 non-null object\n",
      "airports_nearest        18157 non-null float64\n",
      "cityCenters_nearest     18180 non-null float64\n",
      "parks_around3000        18181 non-null float64\n",
      "parks_nearest           8079 non-null float64\n",
      "ponds_around3000        18181 non-null float64\n",
      "ponds_nearest           9110 non-null float64\n",
      "days_exposition         20518 non-null float64\n",
      "price_per_sqm           23699 non-null float64\n",
      "weekday                 23699 non-null int64\n",
      "month                   23699 non-null int64\n",
      "year                    23699 non-null int64\n",
      "floor_type              23699 non-null object\n",
      "living_area_ratio       21796 non-null float64\n",
      "kitchen_area_ratio      23699 non-null float64\n",
      "dtypes: bool(3), datetime64[ns](1), float64(17), int64(6), object(2)\n",
      "memory usage: 4.8+ MB\n"
     ]
    }
   ],
   "source": [
    "apartment_data ['price_per_sqm'] = apartment_data ['last_price'] / apartment_data ['total_area'] #добавляем столбец со значение цены\n",
    "#за квадратный метр\n",
    "apartment_data['weekday'] = apartment_data['first_day_exposition'].dt.weekday\n",
    "apartment_data['month'] = apartment_data['first_day_exposition'].dt.month\n",
    "apartment_data['year'] = apartment_data['first_day_exposition'].dt.year #добавляем столбцы с днем недели, месяцем и годом.\n",
    "\n",
    "def floor_type(row): #создаем функцию для определния типа этажа\n",
    "    floor = row['floor']\n",
    "    floors_total = row['floors_total']\n",
    "    if floor == 1:\n",
    "        return 'Первый'\n",
    "    if floor == floors_total:\n",
    "        return 'Последний'\n",
    "    else:\n",
    "        return 'Другой'\n",
    "apartment_data['floor_type'] = apartment_data.apply(floor_type, axis = 1)\n",
    "apartment_data['living_area_ratio'] = apartment_data['living_area'] / apartment_data['total_area'] #считаем значение отношения жилой площади к общей\n",
    "apartment_data['kitchen_area_ratio'] = apartment_data['kitchen_area'] / apartment_data['total_area'] #считаем значения отношения кухни к общей площади\n",
    "apartment_data.info()\n"
   ]
  },
  {
   "cell_type": "markdown",
   "metadata": {},
   "source": [
    "### Шаг 4. Проведите исследовательский анализ данных и выполните инструкции:"
   ]
  },
  {
   "cell_type": "code",
   "execution_count": 4,
   "metadata": {
    "scrolled": true
   },
   "outputs": [
    {
     "data": {
      "image/png": "[encoded data removed]",
      "text/plain": [
       "<Figure size 432x288 with 1 Axes>"
      ]
     },
     "metadata": {
      "needs_background": "light"
     },
     "output_type": "display_data"
    },
    {
     "data": {
      "image/png": "[encoded data removed]",
      "text/plain": [
       "<Figure size 432x288 with 1 Axes>"
      ]
     },
     "metadata": {
      "needs_background": "light"
     },
     "output_type": "display_data"
    },
    {
     "data": {
      "image/png": "[encoded data removed]",
      "text/plain": [
       "<Figure size 432x288 with 1 Axes>"
      ]
     },
     "metadata": {
      "needs_background": "light"
     },
     "output_type": "display_data"
    },
    {
     "data": {
      "image/png": "[encoded data removed]",
      "text/plain": [
       "<Figure size 432x288 with 1 Axes>"
      ]
     },
     "metadata": {
      "needs_background": "light"
     },
     "output_type": "display_data"
    }
   ],
   "source": [
    "#apartment_data.boxplot(column = 'total_area') # наблюдаем, что значения выше 150 кв.м. можно счтитать выбросами\n",
    "apartment_data['total_area'].hist(range = (0,150), bins = 30) #для наглядности ограничиваем площадь 150 кв.м.\n",
    "plt.show()\n",
    "#apartment_data.boxplot(column = 'last_price') #наблюдаем, что значения выше 20 млн  можно счтитать выбросам\n",
    "apartment_data['last_price'].hist(range = (0,20000000), bins = 50)#для наглядности ограничиваем цену 20 млн\n",
    "plt.show()\n",
    "#apartment_data.boxplot(column = 'rooms')#  наблюдаем, что значения выше 6 комнат можно счтитать выбросами\n",
    "apartment_data['rooms'].hist( range = (0,6), bins = 30)#ограничеваем гистограмму 6ю комнатами для наглядности\n",
    "plt.show()\n",
    "apartment_data['ceiling_height'].describe() #наблюдаем, что значения ниже 2.24 м и выше 3,22 м  можно счтитать выбросом.\n",
    "apartment_data['ceiling_height'].hist( range = (2.24, 3.22), bins = 30)\n",
    "plt.show()\n",
    "\n"
   ]
  },
  {
   "cell_type": "markdown",
   "metadata": {},
   "source": [
    "Построили гистограммы для отдельных параметров квартир. Для вычисления выбросов используем ящик с усами и метод describe и создаем гистограммы без выбросов."
   ]
  },
  {
   "cell_type": "code",
   "execution_count": 5,
   "metadata": {},
   "outputs": [
    {
     "data": {
      "image/png": "[encoded data removed]",
      "text/plain": [
       "<Figure size 432x288 with 1 Axes>"
      ]
     },
     "metadata": {
      "needs_background": "light"
     },
     "output_type": "display_data"
    },
    {
     "data": {
      "image/png": "[encoded data removed]",
      "text/plain": [
       "<Figure size 432x288 with 1 Axes>"
      ]
     },
     "metadata": {
      "needs_background": "light"
     },
     "output_type": "display_data"
    },
    {
     "data": {
      "text/plain": [
       "9.0"
      ]
     },
     "execution_count": 5,
     "metadata": {},
     "output_type": "execute_result"
    }
   ],
   "source": [
    "apartment_data.boxplot(column = 'days_exposition')#наблюдаем, что значения  выше 500 дней можно счтитать выбросом.\n",
    "plt.show()\n",
    "apartment_data['days_exposition'].hist( range = (0, 500), bins = 30)\n",
    "plt.show()\n",
    "apartment_data['days_exposition'].describe()# среднее время продажи состаляет 181 день, медианное - 95 дней.\n",
    "apartment_data['days_exposition'].quantile(0.05)#принимаем, что продажа быстрее, чем за 9 дней необычайно быстрая, свыше 500 дней - долгая\n"
   ]
  },
  {
   "cell_type": "markdown",
   "metadata": {},
   "source": [
    "С помощью ящика с усами и метода describe находим, что значения выше 500 дней продажи являются аномально долгими, а 5% самых быстрых значений умещаются в 9 дней, соответственно 9 дней явлется аномально коротким сроком продажи."
   ]
  },
  {
   "cell_type": "code",
   "execution_count": 6,
   "metadata": {
    "scrolled": true
   },
   "outputs": [
    {
     "name": "stdout",
     "output_type": "stream",
     "text": [
      "              last_price\n",
      "floor_type              \n",
      "Другой      5.284580e+06\n",
      "Первый      4.080556e+06\n",
      "Последний   4.673444e+06\n",
      "            last_price\n",
      "floor_type            \n",
      "Другой       4550000.0\n",
      "Первый       3700000.0\n",
      "Последний    4003000.0\n",
      "         last_price\n",
      "weekday            \n",
      "0         4390000.0\n",
      "1         4400000.0\n",
      "2         4400000.0\n",
      "3         4400000.0\n",
      "4         4350000.0\n",
      "5         4400000.0\n",
      "6         4300000.0\n",
      "       last_price\n",
      "month            \n",
      "1       4400000.0\n",
      "2       4395000.0\n",
      "3       4310000.0\n",
      "4       4450000.0\n",
      "5       4350000.0\n",
      "6       4200000.0\n",
      "7       4350000.0\n",
      "8       4450000.0\n",
      "9       4500000.0\n",
      "10      4400000.0\n",
      "11      4500000.0\n",
      "12      4350000.0\n",
      "      last_price\n",
      "year            \n",
      "2015   4500000.0\n",
      "2016   4300000.0\n",
      "2017   4300000.0\n",
      "2018   4400000.0\n",
      "2019   4700000.0\n",
      "0.7467987229163774\n",
      "0.46343417598198167\n",
      "-0.33491367750416756\n",
      "                     total_images  last_price  total_area     rooms  \\\n",
      "total_images             1.000000    0.158603    0.107803  0.075956   \n",
      "last_price               0.158603    1.000000    0.746799  0.463434   \n",
      "total_area               0.107803    0.746799    1.000000  0.795001   \n",
      "rooms                    0.075956    0.463434    0.795001  1.000000   \n",
      "ceiling_height           0.023931    0.361606    0.273879  0.050224   \n",
      "floors_total             0.024237    0.178017    0.006800 -0.201975   \n",
      "living_area              0.089174    0.617319    0.913227  0.890100   \n",
      "floor                    0.038858    0.130092   -0.004870 -0.157287   \n",
      "is_apartment             0.016416    0.015677    0.008181 -0.011814   \n",
      "studio                  -0.017478   -0.020525   -0.033092 -0.026233   \n",
      "open_plan               -0.002514   -0.002988   -0.004368 -0.002530   \n",
      "kitchen_area             0.083308    0.563052    0.536773  0.159180   \n",
      "balcony                  0.050786    0.097680    0.087180  0.023913   \n",
      "airports_nearest         0.000869   -0.023161   -0.010186 -0.045680   \n",
      "cityCenters_nearest     -0.038845   -0.334914   -0.160789 -0.105014   \n",
      "parks_around3000         0.011352    0.128878    0.073107  0.061433   \n",
      "parks_nearest           -0.000264    0.087532    0.032792 -0.027842   \n",
      "ponds_around3000        -0.016561    0.165980    0.110274  0.034567   \n",
      "ponds_nearest           -0.002279   -0.082480   -0.047589 -0.018814   \n",
      "days_exposition          0.009250    0.064613    0.103832  0.075861   \n",
      "price_per_sqm            0.129422    0.658578    0.045141 -0.149073   \n",
      "weekday                 -0.005676   -0.007659   -0.009158 -0.001129   \n",
      "month                    0.022721    0.007190    0.006643  0.002709   \n",
      "year                     0.118625   -0.004755   -0.063364 -0.052232   \n",
      "living_area_ratio       -0.002743    0.014764    0.227658  0.581985   \n",
      "kitchen_area_ratio      -0.013731   -0.093405   -0.356671 -0.600845   \n",
      "\n",
      "                     ceiling_height  floors_total  living_area     floor  \\\n",
      "total_images               0.023931      0.024237     0.089174  0.038858   \n",
      "last_price                 0.361606      0.178017     0.617319  0.130092   \n",
      "total_area                 0.273879      0.006800     0.913227 -0.004870   \n",
      "rooms                      0.050224     -0.201975     0.890100 -0.157287   \n",
      "ceiling_height             1.000000      0.127036     0.183034  0.081674   \n",
      "floors_total               0.127036      1.000000    -0.148565  0.674729   \n",
      "living_area                0.183034     -0.148565     1.000000 -0.114172   \n",
      "floor                      0.081674      0.674729    -0.114172  1.000000   \n",
      "is_apartment               0.041618     -0.014759     0.001929 -0.007795   \n",
      "studio                     0.002222      0.017514    -0.021786  0.012138   \n",
      "open_plan                  0.007674      0.008451    -0.000592  0.000519   \n",
      "kitchen_area               0.320228      0.278053     0.234932  0.191846   \n",
      "balcony                   -0.004594      0.163621     0.044318  0.160260   \n",
      "airports_nearest          -0.048148      0.104681    -0.040535  0.070617   \n",
      "cityCenters_nearest       -0.210905     -0.038409    -0.144015 -0.022528   \n",
      "parks_around3000           0.132362     -0.228009     0.097939 -0.148019   \n",
      "parks_nearest             -0.031315      0.097475    -0.020287  0.083689   \n",
      "ponds_around3000           0.164399     -0.102179     0.078577 -0.062224   \n",
      "ponds_nearest             -0.088641      0.037638    -0.025922  0.021287   \n",
      "days_exposition            0.057181     -0.041740     0.092433 -0.036273   \n",
      "price_per_sqm              0.256016      0.308684    -0.061905  0.231170   \n",
      "weekday                   -0.002733      0.014023    -0.001732  0.011521   \n",
      "month                     -0.007652      0.008253    -0.002062  0.016503   \n",
      "year                      -0.041764      0.017440    -0.061181  0.013217   \n",
      "living_area_ratio         -0.143839     -0.395558     0.580794 -0.285997   \n",
      "kitchen_area_ratio         0.125025      0.347392    -0.586908  0.248836   \n",
      "\n",
      "                     is_apartment    studio  ...  parks_nearest  \\\n",
      "total_images             0.016416 -0.017478  ...      -0.000264   \n",
      "last_price               0.015677 -0.020525  ...       0.087532   \n",
      "total_area               0.008181 -0.033092  ...       0.032792   \n",
      "rooms                   -0.011814 -0.026233  ...      -0.027842   \n",
      "ceiling_height           0.041618  0.002222  ...      -0.031315   \n",
      "floors_total            -0.014759  0.017514  ...       0.097475   \n",
      "living_area              0.001929 -0.021786  ...      -0.020287   \n",
      "floor                   -0.007795  0.012138  ...       0.083689   \n",
      "is_apartment             1.000000 -0.000885  ...      -0.020188   \n",
      "studio                  -0.000885  1.000000  ...      -0.006507   \n",
      "open_plan               -0.000597 -0.000422  ...      -0.011346   \n",
      "kitchen_area             0.012864 -0.031312  ...       0.075818   \n",
      "balcony                  0.039895  0.017471  ...       0.032842   \n",
      "airports_nearest         0.019247  0.009173  ...      -0.099511   \n",
      "cityCenters_nearest      0.026149 -0.002845  ...      -0.071339   \n",
      "parks_around3000        -0.000037 -0.003842  ...      -0.248738   \n",
      "parks_nearest           -0.020188 -0.006507  ...       1.000000   \n",
      "ponds_around3000         0.008684  0.002165  ...       0.081982   \n",
      "ponds_nearest            0.018071 -0.003296  ...      -0.007125   \n",
      "days_exposition         -0.002892 -0.010780  ...       0.023605   \n",
      "price_per_sqm            0.016621  0.006230  ...       0.096583   \n",
      "weekday                 -0.003550 -0.004414  ...      -0.010183   \n",
      "month                   -0.004171 -0.010776  ...      -0.000836   \n",
      "year                     0.018966 -0.043160  ...      -0.020228   \n",
      "living_area_ratio       -0.009916  0.032584  ...      -0.095055   \n",
      "kitchen_area_ratio       0.004893 -0.009423  ...       0.053588   \n",
      "\n",
      "                     ponds_around3000  ponds_nearest  days_exposition  \\\n",
      "total_images                -0.016561      -0.002279         0.009250   \n",
      "last_price                   0.165980      -0.082480         0.064613   \n",
      "total_area                   0.110274      -0.047589         0.103832   \n",
      "rooms                        0.034567      -0.018814         0.075861   \n",
      "ceiling_height               0.164399      -0.088641         0.057181   \n",
      "floors_total                -0.102179       0.037638        -0.041740   \n",
      "living_area                  0.078577      -0.025922         0.092433   \n",
      "floor                       -0.062224       0.021287        -0.036273   \n",
      "is_apartment                 0.008684       0.018071        -0.002892   \n",
      "studio                       0.002165      -0.003296        -0.010780   \n",
      "open_plan                    0.000964      -0.005239         0.000572   \n",
      "kitchen_area                 0.100149      -0.056854         0.059054   \n",
      "balcony                     -0.026543       0.011231        -0.012086   \n",
      "airports_nearest            -0.044696       0.008848         0.004329   \n",
      "cityCenters_nearest         -0.014880      -0.014960        -0.003971   \n",
      "parks_around3000             0.279599      -0.144064         0.031929   \n",
      "parks_nearest                0.081982      -0.007125         0.023605   \n",
      "ponds_around3000             1.000000      -0.313834         0.036556   \n",
      "ponds_nearest               -0.313834       1.000000        -0.038664   \n",
      "days_exposition              0.036556      -0.038664         1.000000   \n",
      "price_per_sqm                0.129239      -0.065693        -0.023171   \n",
      "weekday                     -0.000898      -0.007083        -0.021037   \n",
      "month                       -0.009936       0.014034        -0.037956   \n",
      "year                        -0.011526       0.004547        -0.434752   \n",
      "living_area_ratio           -0.025141       0.021138         0.010677   \n",
      "kitchen_area_ratio           0.007206      -0.013180        -0.024969   \n",
      "\n",
      "                     price_per_sqm   weekday     month      year  \\\n",
      "total_images              0.129422 -0.005676  0.022721  0.118625   \n",
      "last_price                0.658578 -0.007659  0.007190 -0.004755   \n",
      "total_area                0.045141 -0.009158  0.006643 -0.063364   \n",
      "rooms                    -0.149073 -0.001129  0.002709 -0.052232   \n",
      "ceiling_height            0.256016 -0.002733 -0.007652 -0.041764   \n",
      "floors_total              0.308684  0.014023  0.008253  0.017440   \n",
      "living_area              -0.061905 -0.001732 -0.002062 -0.061181   \n",
      "floor                     0.231170  0.011521  0.016503  0.013217   \n",
      "is_apartment              0.016621 -0.003550 -0.004171  0.018966   \n",
      "studio                    0.006230 -0.004414 -0.010776 -0.043160   \n",
      "open_plan                 0.001731 -0.007425  0.001002 -0.035267   \n",
      "kitchen_area              0.255894 -0.013815  0.013616 -0.020937   \n",
      "balcony                   0.057674  0.000605  0.010863 -0.014114   \n",
      "airports_nearest         -0.035686 -0.001719  0.002620  0.009569   \n",
      "cityCenters_nearest      -0.397971  0.005865 -0.012948  0.010809   \n",
      "parks_around3000          0.115315 -0.005648  0.001429 -0.020173   \n",
      "parks_nearest             0.096583 -0.010183 -0.000836 -0.020228   \n",
      "ponds_around3000          0.129239 -0.000898 -0.009936 -0.011526   \n",
      "ponds_nearest            -0.065693 -0.007083  0.014034  0.004547   \n",
      "days_exposition          -0.023171 -0.021037 -0.037956 -0.434752   \n",
      "price_per_sqm             1.000000 -0.003264  0.003069  0.068320   \n",
      "weekday                  -0.003264  1.000000  0.009556  0.000585   \n",
      "month                     0.003069  0.009556  1.000000 -0.222354   \n",
      "year                      0.068320  0.000585 -0.222354  1.000000   \n",
      "living_area_ratio        -0.236033  0.012600 -0.014754 -0.018342   \n",
      "kitchen_area_ratio        0.253556 -0.005829  0.012786  0.032856   \n",
      "\n",
      "                     living_area_ratio  kitchen_area_ratio  \n",
      "total_images                 -0.002743           -0.013731  \n",
      "last_price                    0.014764           -0.093405  \n",
      "total_area                    0.227658           -0.356671  \n",
      "rooms                         0.581985           -0.600845  \n",
      "ceiling_height               -0.143839            0.125025  \n",
      "floors_total                 -0.395558            0.347392  \n",
      "living_area                   0.580794           -0.586908  \n",
      "floor                        -0.285997            0.248836  \n",
      "is_apartment                 -0.009916            0.004893  \n",
      "studio                        0.032584           -0.009423  \n",
      "open_plan                     0.007752           -0.006352  \n",
      "kitchen_area                 -0.427192            0.542898  \n",
      "balcony                      -0.074767            0.044363  \n",
      "airports_nearest             -0.079190            0.036270  \n",
      "cityCenters_nearest          -0.021985           -0.005038  \n",
      "parks_around3000              0.087917           -0.076435  \n",
      "parks_nearest                -0.095055            0.053588  \n",
      "ponds_around3000             -0.025141            0.007206  \n",
      "ponds_nearest                 0.021138           -0.013180  \n",
      "days_exposition               0.010677           -0.024969  \n",
      "price_per_sqm                -0.236033            0.253556  \n",
      "weekday                       0.012600           -0.005829  \n",
      "month                        -0.014754            0.012786  \n",
      "year                         -0.018342            0.032856  \n",
      "living_area_ratio             1.000000           -0.726282  \n",
      "kitchen_area_ratio           -0.726282            1.000000  \n",
      "\n",
      "[26 rows x 26 columns]\n"
     ]
    }
   ],
   "source": [
    "\n",
    "apartment_data_good = apartment_data.query('days_exposition < 500 & ceiling_height < 3.22 & ceiling_height > 2.24 & rooms > 0 & rooms <= 6 & last_price < 20000000 & total_area <=150')\n",
    "#создаем срез данных без редких и выбивающихся значений\n",
    "floor_type_data_mean = apartment_data_good.pivot_table(index='floor_type', values='last_price', aggfunc = 'mean')#создаем сводную таблицу со \n",
    "#средними значениями цены для типа этажей\n",
    "floor_type_data_median = apartment_data_good.pivot_table(index='floor_type', values='last_price', aggfunc = 'median')#создаем сводную таблицу со \n",
    "#медианными значениями цены для типа этажей\n",
    "print(floor_type_data_mean)\n",
    "print(floor_type_data_median)\n",
    "weekday_data = apartment_data_good.pivot_table(index='weekday', values='last_price', aggfunc = 'median')\n",
    "print(weekday_data) \n",
    "month_data = apartment_data_good.pivot_table(index='month', values='last_price', aggfunc = 'median')\n",
    "print(month_data) \n",
    "year_data = apartment_data_good.pivot_table(index='year', values='last_price', aggfunc = 'median')\n",
    "print(year_data)\n",
    "print(apartment_data_good['last_price'].corr(apartment_data_good['total_area']))\n",
    "print(apartment_data_good['last_price'].corr(apartment_data_good['rooms']))\n",
    "print(apartment_data_good['last_price'].corr(apartment_data_good['cityCenters_nearest']))\n",
    "print(apartment_data_good.corr())\n",
    "\n",
    "\n"
   ]
  },
  {
   "cell_type": "markdown",
   "metadata": {},
   "source": [
    "Очищаем данные от выбивающихся значений, найденных ранее. С помощью сводных таблиц находим, что у последних и особенно первых этажей цена за квартиру ниже. Также находим, что цена квартир в целом не меняется по дням неделям, но самые дешевые выставляют  по пятницам и воскресеньям. По месяцам самые дорогие квартиры выкладывают в сентябрь и ноябрь , самые дешевые - в июнь. По годам самые дорогие квартиры были выложены в 2019 году самые дешевые - в 2017 году. С помощью метода corr подтверждаем очевидное, что площадь и количество комнат влияют на стоимость положительно, расстояние от центра - отрицательно."
   ]
  },
  {
   "cell_type": "code",
   "execution_count": 7,
   "metadata": {},
   "outputs": [
    {
     "name": "stdout",
     "output_type": "stream",
     "text": [
      "Санкт-Петербург      11416\n",
      "посёлок Мурино         457\n",
      "посёлок Шушары         380\n",
      "Всеволожск             299\n",
      "Колпино                290\n",
      "посёлок Парголово      282\n",
      "Пушкин                 265\n",
      "деревня Кудрово        251\n",
      "Гатчина                242\n",
      "Выборг                 186\n",
      "Name: locality_name, dtype: int64\n",
      "Средняя стоимость квадратного метра в Санкт- Петербурге: 106578 рублей\n",
      "Средняя стоимость квадратного метра во Всеволожске: 66567 рублей\n",
      "Средняя стоимость квадратного метра в поселке Мурино: 85372 рублей\n",
      "Средняя стоимость квадратного метра в поселке Шушары: 77591 рублей\n",
      "Средняя стоимость квадратного метра в Колпине: 74682 рублей\n",
      "Средняя стоимость квадратного метра в Пушкине: 100474 рублей\n",
      "Средняя стоимость квадратного метра в поселке Парголово: 89479 рублей\n",
      "Средняя стоимость квадратного метра в Гатчине: 68029 рублей\n",
      "Средняя стоимость квадратного метра в Петергофе: 82688 рублей\n",
      "Средняя стоимость квадратного метра в деревне Кудрово: 92426 рублей\n"
     ]
    }
   ],
   "source": [
    "print(apartment_data_good['locality_name'].value_counts().head(10)) #находим топ-10 населенных пунктов по количеству объявлений\n",
    "st_peterburg_data = apartment_data_good.query('locality_name == \"Санкт-Петербург\"')\n",
    "print('Средняя стоимость квадратного метра в Санкт- Петербурге:', int(st_peterburg_data['price_per_sqm'].mean()),'рублей')\n",
    "vsevolojsk_data = apartment_data_good.query('locality_name == \"Всеволожск\"')\n",
    "print('Средняя стоимость квадратного метра во Всеволожске:', int(vsevolojsk_data['price_per_sqm'].mean()),'рублей')\n",
    "murino_data = apartment_data_good.query('locality_name == \"посёлок Мурино\"')\n",
    "print('Средняя стоимость квадратного метра в поселке Мурино:', int(murino_data['price_per_sqm'].mean()),'рублей')\n",
    "shushari_data = apartment_data_good.query('locality_name == \"посёлок Шушары\"')\n",
    "print('Средняя стоимость квадратного метра в поселке Шушары:', int(shushari_data['price_per_sqm'].mean()),'рублей')\n",
    "kolpino_data = apartment_data_good.query('locality_name == \"Колпино\"')\n",
    "print('Средняя стоимость квадратного метра в Колпине:', int(kolpino_data['price_per_sqm'].mean()),'рублей')\n",
    "pushkin_data = apartment_data_good.query('locality_name == \"Пушкин\"')\n",
    "print('Средняя стоимость квадратного метра в Пушкине:', int(pushkin_data['price_per_sqm'].mean()),'рублей')\n",
    "pargolovo_data = apartment_data_good.query('locality_name == \"посёлок Парголово\"')\n",
    "print('Средняя стоимость квадратного метра в поселке Парголово:', int(pargolovo_data['price_per_sqm'].mean()),'рублей')\n",
    "gatchina_data = apartment_data_good.query('locality_name == \"Гатчина\"')\n",
    "print('Средняя стоимость квадратного метра в Гатчине:', int(gatchina_data['price_per_sqm'].mean()),'рублей')\n",
    "petergof_data = apartment_data_good.query('locality_name == \"Петергоф\"')\n",
    "print('Средняя стоимость квадратного метра в Петергофе:', int(petergof_data['price_per_sqm'].mean()),'рублей')\n",
    "kudrovo_data = apartment_data_good.query('locality_name == \"деревня Кудрово\"')\n",
    "print('Средняя стоимость квадратного метра в деревне Кудрово:', int(kudrovo_data['price_per_sqm'].mean()),'рублей')\n"
   ]
  },
  {
   "cell_type": "markdown",
   "metadata": {},
   "source": [
    "Находим топ-10 населенных пунктов по количеству объявлений, рассчитываем среднюю стоимость квадратного метра для каждого из них. Самые дорогие квадратные метры в Петербурге, Пушкине и Кудрове. Самые дешевые - во Всеволожске, Гатчине и Колпине."
   ]
  },
  {
   "cell_type": "code",
   "execution_count": 8,
   "metadata": {},
   "outputs": [
    {
     "name": "stderr",
     "output_type": "stream",
     "text": [
      "/opt/conda/lib/python3.7/site-packages/ipykernel_launcher.py:1: SettingWithCopyWarning: \n",
      "A value is trying to be set on a copy of a slice from a DataFrame.\n",
      "Try using .loc[row_indexer,col_indexer] = value instead\n",
      "\n",
      "See the caveats in the documentation: http://pandas.pydata.org/pandas-docs/stable/user_guide/indexing.html#returning-a-view-versus-a-copy\n",
      "  \"\"\"Entry point for launching an IPython kernel.\n"
     ]
    },
    {
     "name": "stdout",
     "output_type": "stream",
     "text": [
      "Корреляция между ценой и площадью в центре 0.6737838099747164\n",
      "Корреляция между ценой и количеством комнат в центре 0.41753677033309167\n",
      "Корреляция между ценой и расстоянием от центра в центре города -0.07671128243372052\n",
      "Корреляция между ценой и площадью в общем 0.7467987229163774\n",
      "Корреляция между ценой и количеством комнат в общем 0.46343417598198167\n",
      "Корреляция между ценой и расстоянием от центра в общем -0.33491367750416756\n"
     ]
    },
    {
     "data": {
      "image/png": "[encoded data removed]",
      "text/plain": [
       "<Figure size 432x288 with 1 Axes>"
      ]
     },
     "metadata": {
      "needs_background": "light"
     },
     "output_type": "display_data"
    },
    {
     "data": {
      "image/png": "[encoded data removed]",
      "text/plain": [
       "<Figure size 432x288 with 1 Axes>"
      ]
     },
     "metadata": {
      "needs_background": "light"
     },
     "output_type": "display_data"
    },
    {
     "data": {
      "image/png": "[encoded data removed]",
      "text/plain": [
       "<Figure size 432x288 with 1 Axes>"
      ]
     },
     "metadata": {
      "needs_background": "light"
     },
     "output_type": "display_data"
    },
    {
     "data": {
      "image/png": "[encoded data removed]",
      "text/plain": [
       "<Figure size 432x288 with 1 Axes>"
      ]
     },
     "metadata": {
      "needs_background": "light"
     },
     "output_type": "display_data"
    },
    {
     "data": {
      "image/png": "[encoded data removed]",
      "text/plain": [
       "<Figure size 432x288 with 1 Axes>"
      ]
     },
     "metadata": {
      "needs_background": "light"
     },
     "output_type": "display_data"
    }
   ],
   "source": [
    "st_peterburg_data['cityCenter_nearest_kilo'] = round(st_peterburg_data['cityCenters_nearest'] / 1000, 0)#считаем расстояние до цетнра в километрах\n",
    "mean_price_sqm_kilo_data = st_peterburg_data.pivot_table(index='cityCenter_nearest_kilo', values='price_per_sqm', aggfunc = 'mean')\n",
    "mean_price_sqm_kilo_data.plot(y='price_per_sqm', kind='line', grid = True) #строим график средних цен за квадратный метр в зависимости от расстояния от центра\n",
    "#цена начинает падать после 7 км от центра.\n",
    "st_peterburg_data_centre = st_peterburg_data.query('cityCenter_nearest_kilo < 7')\n",
    "#print(st_peterburg_data_centre)\n",
    "\n",
    "st_peterburg_data_centre_hist = st_peterburg_data_centre[['price_per_sqm','rooms','ceiling_height','total_area']]\n",
    "for column in st_peterburg_data_centre_hist:\n",
    "    st_peterburg_data_centre_hist.plot(y= column, kind='hist', bins=30, linewidth=5, \n",
    "                     grid=True, legend=True, label = 'Центр Спб') \n",
    "print('Корреляция между ценой и площадью в центре', st_peterburg_data_centre['last_price'].corr(st_peterburg_data_centre['total_area']))\n",
    "print('Корреляция между ценой и количеством комнат в центре', st_peterburg_data_centre['last_price'].corr(st_peterburg_data_centre['rooms']))\n",
    "print('Корреляция между ценой и расстоянием от центра в центре города', st_peterburg_data_centre['last_price'].corr(st_peterburg_data_centre['cityCenter_nearest_kilo']))\n",
    "print('Корреляция между ценой и площадью в общем', apartment_data_good['last_price'].corr(apartment_data_good['total_area']))\n",
    "print('Корреляция между ценой и количеством комнат в общем', apartment_data_good['last_price'].corr(apartment_data_good['rooms']))\n",
    "print('Корреляция между ценой и расстоянием от центра в общем', apartment_data_good['last_price'].corr(apartment_data_good['cityCenters_nearest']))\n"
   ]
  },
  {
   "cell_type": "markdown",
   "metadata": {},
   "source": [
    "Для начала округляем значения расстояний от центра с точностью до километра. Строим график зависмости цены за квадратный метр от расстония от центра, кроме выброса в районе 25 километров (скорее всего элитный загородный поселок), наблдаем что цены начинают падать после 7 км. Это значение и считаем за центр. Анализируем данные по центру Петербурга. По данным о высоте потолка наблюдаем, что в целом по городу преобладает значение в 2,5м, то в центре Питера 3,0 м. Если по городу в целом пик значений по общей площади находится в пределах 30 -60 кв.м, то в центре Питера - 40 и 60-80 кв.м. По количеству комнат в целом по городу количество однокомнатных и двукомнатных квартир примерно одинково, но в центре однокомнатные квартиры встречатся реже чем дву- и даже трехкомнатные. По поводу зависимости цены от таких параметров, как: площадь, количество комнат и расстоянием от центра, квартиры в центре меньше подвержены изменению цены, чем квартиры в целом по городу."
   ]
  },
  {
   "cell_type": "markdown",
   "metadata": {},
   "source": [
    "### Шаг 5. Общий вывод"
   ]
  },
  {
   "cell_type": "markdown",
   "metadata": {},
   "source": [
    "Был проведен визуальный анализ данных, срезаны выбросы, заменены или удалены пропущенные значения, построены графики по разным параметрам. Проанализовали корреляцию цены и различных параметров, посчитана средняя цена квадратного метра по топ-10 населенным пунктам Санкт-Петербурга, определен центр города. Проведен сравнительный анализ корреляции цен с различными параметрами между центром города и города в целом."
   ]
  }
 ],
 "metadata": {
  "kernelspec": {
   "display_name": "Python 3 (ipykernel)",
   "language": "python",
   "name": "python3"
  },
  "language_info": {
   "codemirror_mode": {
    "name": "ipython",
    "version": 3
   },
   "file_extension": ".py",
   "mimetype": "text/x-python",
   "name": "python",
   "nbconvert_exporter": "python",
   "pygments_lexer": "ipython3",
   "version": "3.8.12"
  },
  "toc": {
   "base_numbering": 1,
   "nav_menu": {},
   "number_sections": true,
   "sideBar": true,
   "skip_h1_title": true,
   "title_cell": "Table of Contents",
   "title_sidebar": "Contents",
   "toc_cell": false,
   "toc_position": {},
   "toc_section_display": true,
   "toc_window_display": false
  }
 },
 "nbformat": 4,
 "nbformat_minor": 2
}
