{
 "cells": [
  {
   "cell_type": "markdown",
   "metadata": {},
   "source": [
    "# Восстановление золота из руды"
   ]
  },
  {
   "cell_type": "markdown",
   "metadata": {},
   "source": [
    "Подготовьте прототип модели машинного обучения для «Цифры». Компания разрабатывает решения для эффективной работы промышленных предприятий.\n",
    "\n",
    "Модель должна предсказать коэффициент восстановления золота из золотосодержащей руды. Используйте данные с параметрами добычи и очистки. \n",
    "\n",
    "Модель поможет оптимизировать производство, чтобы не запускать предприятие с убыточными характеристиками.\n",
    "\n",
    "Вам нужно:\n",
    "\n",
    "1. Подготовить данные;\n",
    "2. Провести исследовательский анализ данных;\n",
    "3. Построить и обучить модель.\n",
    "\n",
    "Чтобы выполнить проект, обращайтесь к библиотекам *pandas*, *matplotlib* и *sklearn.* Вам поможет их документация.\n",
    "<p>Описание данных</p>\n",
    "<p>Технологический процесс</p>\n",
    "<p>Rougher feed — исходное сырье</p>\n",
    "<p>Rougher additions (или reagent additions) — флотационные реагенты: Xanthate, Sulphate, Depressant\n",
    "<p>Xanthate **— ксантогенат (промотер, или активатор флотации);</p>\n",
    "<p>Sulphate — сульфат (на данном производстве сульфид натрия);</p>\n",
    "<p>Depressant — депрессант (силикат натрия).</p>\n",
    "<p>Rougher process (англ. «грубый процесс») — флотация</p>\n",
    "<p>Rougher tails — отвальные хвосты</p>\n",
    "<p>Float banks — флотационная установка</p>\n",
    "<p>Cleaner process — очистка</p>\n",
    "<p>Rougher Au — черновой концентрат золота</p>\n",
    "<p>Final Au — финальный концентрат золота</p>\n",
    "<p>Параметры этапов</p>\n",
    "<p>air amount — объём воздуха</p>\n",
    "<p>fluid levels — уровень жидкости</p>\n",
    "<p>feed size — размер гранул сырья</p>\n",
    "<p>feed rate — скорость подачи</p>\n",
    "<p>Наименование признаков</p>\n",
    "<p>Наименование признаков должно быть такое:</p>\n",
    "<p>[этап].[тип_параметра].[название_параметра]</p>\n",
    "<p>Пример: rougher.input.feed_ag</p>\n",
    "<p>Возможные значения для блока [этап]:</p>\n",
    "<p>rougher — флотация</p>\n",
    "<p>primary_cleaner — первичная очистка</p>\n",
    "<p>secondary_cleaner — вторичная очистка</p>\n",
    "<p>final — финальные характеристики</p>\n",
    "<p>Возможные значения для блока [тип_параметра]:</p>\n",
    "<p>input — параметры сырья</p>\n",
    "<p>output — параметры продукта</p>\n",
    "<p>state — параметры, характеризующие текущее состояние этапа</p>\n",
    "<p>calculation — расчётные характеристики</p>"
   ]
  },
  {
   "cell_type": "markdown",
   "metadata": {},
   "source": [
    "## Подготовка данных"
   ]
  },
  {
   "cell_type": "code",
   "execution_count": 1,
   "metadata": {},
   "outputs": [],
   "source": [
    "import pandas as pd\n",
    "import numpy as np\n",
    "import matplotlib.pyplot as plt\n",
    "import seaborn as sns\n",
    "from sklearn.model_selection import train_test_split\n",
    "from sklearn.model_selection import cross_val_score\n",
    "from sklearn.ensemble import RandomForestRegressor\n",
    "from sklearn.tree import DecisionTreeRegressor\n",
    "from sklearn.metrics import mean_absolute_error\n",
    "from sklearn.metrics import make_scorer\n",
    "from sklearn.linear_model import LinearRegression\n",
    "from sklearn.dummy import DummyRegressor\n",
    "import warnings\n",
    "warnings.simplefilter(action='ignore', category=FutureWarning)"
   ]
  },
  {
   "cell_type": "markdown",
   "metadata": {},
   "source": [
    "Добавляем необходимые библиотеки и инструменты, убираем предупреждения об ошибках."
   ]
  },
  {
   "cell_type": "code",
   "execution_count": 3,
   "metadata": {},
   "outputs": [],
   "source": [
    "def data_read_glance(file_path):# создаем функцию для загрузки данных и первичного анализа. На вход принимает путь до файла.\n",
    "    data = pd.read_csv(file_path, parse_dates = ['date'])\n",
    "    print(data.info())\n",
    "    print('Данные о наличии дубликатов', data.duplicated().value_counts(),'\\n')\n",
    "    return data\n",
    "#df_full = data_read_glance('C:/Users/VovAz/Desktop/Проект/Сборный проект-2/gold_recovery_full_new.csv')\n"
   ]
  },
  {
   "cell_type": "code",
   "execution_count": 4,
   "metadata": {},
   "outputs": [],
   "source": [
    "df_train = pd.read_csv('/datasets/gold_recovery_train_new.csv')\n",
    "df_test = pd.read_csv('/datasets/gold_recovery_test_new.csv')\n",
    "df_full= pd.read_csv('/datasets/gold_recovery_full_new.csv')"
   ]
  },
  {
   "cell_type": "code",
   "execution_count": null,
   "metadata": {},
   "outputs": [],
   "source": []
  },
  {
   "cell_type": "code",
   "execution_count": 3,
   "metadata": {},
   "outputs": [],
   "source": [
    "df_train = data_read_glance('C:/Users/VovAz/Desktop/Проект/Сборный проект-2/gold_recovery_train_new.csv')"
   ]
  },
  {
   "cell_type": "code",
   "execution_count": 4,
   "metadata": {},
   "outputs": [],
   "source": [
    "df_test = data_read_glance('C:/Users/VovAz/Desktop/Проект/Сборный проект-2/gold_recovery_test_new.csv')"
   ]
  },
  {
   "cell_type": "markdown",
   "metadata": {},
   "source": [
    "Проводим первичный анализ данных, типы данных соотвестсвует описанию, привели тип obj к типу datetime"
   ]
  },
  {
   "cell_type": "code",
   "execution_count": 5,
   "metadata": {},
   "outputs": [
    {
     "name": "stdout",
     "output_type": "stream",
     "text": [
      "Значение МАЕ между фактическим и расчетным значением: 9.682896147825551e-15\n"
     ]
    }
   ],
   "source": [
    "def mineral_preparation_efficiency(data):# пишем функцию для расчета эффективности обогащения, на вход принимает датафрейм\n",
    "    F = data[\"rougher.input.feed_au\"]\n",
    "    C = data[\"rougher.output.concentrate_au\"]\n",
    "    T = data[\"rougher.output.tail_au\"]\n",
    "    recovery = (C * (F - T)) / (F  * (C - T)) * 100\n",
    "    return recovery\n",
    "test_recovery = df_train.apply(mineral_preparation_efficiency, axis = 1)\n",
    "mae = mean_absolute_error(df_train['rougher.output.recovery'], test_recovery)\n",
    "print('Значение МАЕ между фактическим и расчетным значением:', mae)"
   ]
  },
  {
   "cell_type": "markdown",
   "metadata": {},
   "source": [
    "Ошибка между расчетным и фактическим значением стремится к нулю, значит данные предоставлены верные."
   ]
  },
  {
   "cell_type": "code",
   "execution_count": 6,
   "metadata": {},
   "outputs": [
    {
     "name": "stdout",
     "output_type": "stream",
     "text": [
      "Количество пропущенных признаков в тестовой выборке: 34\n"
     ]
    },
    {
     "data": {
      "text/plain": [
       "['final.output.concentrate_ag',\n",
       " 'final.output.concentrate_pb',\n",
       " 'final.output.concentrate_sol',\n",
       " 'final.output.concentrate_au',\n",
       " 'final.output.recovery',\n",
       " 'final.output.tail_ag',\n",
       " 'final.output.tail_pb',\n",
       " 'final.output.tail_sol',\n",
       " 'final.output.tail_au',\n",
       " 'primary_cleaner.output.concentrate_ag',\n",
       " 'primary_cleaner.output.concentrate_pb',\n",
       " 'primary_cleaner.output.concentrate_sol',\n",
       " 'primary_cleaner.output.concentrate_au',\n",
       " 'primary_cleaner.output.tail_ag',\n",
       " 'primary_cleaner.output.tail_pb',\n",
       " 'primary_cleaner.output.tail_sol',\n",
       " 'primary_cleaner.output.tail_au',\n",
       " 'rougher.calculation.sulfate_to_au_concentrate',\n",
       " 'rougher.calculation.floatbank10_sulfate_to_au_feed',\n",
       " 'rougher.calculation.floatbank11_sulfate_to_au_feed',\n",
       " 'rougher.calculation.au_pb_ratio',\n",
       " 'rougher.output.concentrate_ag',\n",
       " 'rougher.output.concentrate_pb',\n",
       " 'rougher.output.concentrate_sol',\n",
       " 'rougher.output.concentrate_au',\n",
       " 'rougher.output.recovery',\n",
       " 'rougher.output.tail_ag',\n",
       " 'rougher.output.tail_pb',\n",
       " 'rougher.output.tail_sol',\n",
       " 'rougher.output.tail_au',\n",
       " 'secondary_cleaner.output.tail_ag',\n",
       " 'secondary_cleaner.output.tail_pb',\n",
       " 'secondary_cleaner.output.tail_sol',\n",
       " 'secondary_cleaner.output.tail_au']"
      ]
     },
     "execution_count": 6,
     "metadata": {},
     "output_type": "execute_result"
    }
   ],
   "source": [
    "miss_columns = []\n",
    "for i in df_train.columns:\n",
    "    if i not in df_test.columns:\n",
    "        miss_columns.append(i)# создаем список из пропущенных в тестовой выборке столбцов\n",
    "print('Количество пропущенных признаков в тестовой выборке:', len(miss_columns))\n",
    "miss_columns"
   ]
  },
  {
   "cell_type": "markdown",
   "metadata": {},
   "source": [
    "Отмечаем, что из 34 пропущенных признака 30 относятся к параметрам продукта и только 4 к расчетным характеристикам\n",
    "\n",
    "9 пропущенных признаков этапа final, 8 primary_cleaner, 9 rougher, 4 secondary_cleaner относятся к параметрам продукта 4 пропущенных признака этапа rougher относятся к расчетным характеристикам На всех этапах отсутствует информация о хвостовых частях. Во всех этапах, кроме повторной очистки отсутствует информация о доле металлов. У финального этапа и этапа флотации отсутствуют признаки обогащения. Так же отсутствуют данные о некоторых реагентах на этапе флотации"
   ]
  },
  {
   "cell_type": "code",
   "execution_count": 7,
   "metadata": {},
   "outputs": [],
   "source": [
    "df_train = df_train.sort_values('date', ascending=True)\n",
    "df_train = df_train.fillna(method=\"ffill\")\n",
    "df_test = df_test.sort_values('date', ascending=True)\n",
    "df_test = df_test.fillna(method=\"ffill\")\n",
    "df_full = df_full.sort_values('date', ascending=True)\n",
    "df_full = df_full.fillna(method=\"ffill\")\n"
   ]
  },
  {
   "cell_type": "markdown",
   "metadata": {},
   "source": [
    "Поскольку, по условиям задачи, процессы происходящие в примерно одинаковые периоды времени должны быть похожими по характеристикам, заполняем пропуски методом ffill. Хотя данные должны быть расположены в порядке возрастания по параметру date, убедимся с помощью sort_values."
   ]
  },
  {
   "cell_type": "markdown",
   "metadata": {},
   "source": [
    "## Анализ данных"
   ]
  },
  {
   "cell_type": "code",
   "execution_count": 8,
   "metadata": {},
   "outputs": [
    {
     "name": "stdout",
     "output_type": "stream",
     "text": [
      "Концентрация до флотации\n",
      "Концентрация Серебра: 8.79, Свинца: 3.59, Золота: 8.27 \n",
      "\n",
      "Концентрация после флотации\n",
      "Коцентрация Серебра: 11.99, Свинца: 7.61, Золота: 19.77 \n",
      "\n",
      "Концентрация после первичной очистки\n",
      "Концентрация Серебра: 8.44, Свинца: 9.81, Золота: 32.12 \n",
      "\n",
      "Концентрация после финальной очистки\n",
      "Концентрация Серебра: 5.17, Свинца: 9.98, Золота: 44.08 \n",
      "\n"
     ]
    }
   ],
   "source": [
    "print('Концентрация до флотации')\n",
    "print('Концентрация Серебра:{: 0.2f}, Свинца:{: 0.2f}, Золота:{: 0.2f}'.\n",
    "format(df_full['rougher.input.feed_ag'].mean(),\n",
    "df_full['rougher.input.feed_pb'].mean(),\n",
    "df_full['rougher.input.feed_au'].mean()),'\\n')\n",
    "print('Концентрация после флотации')\n",
    "print('Коцентрация Серебра:{: 0.2f}, Свинца:{: 0.2f}, Золота:{: 0.2f}'.\n",
    "format(df_full['rougher.output.concentrate_ag'].mean(),\n",
    "df_full['rougher.output.concentrate_pb'].mean(),\n",
    "df_full['rougher.output.concentrate_au'].mean()), '\\n')\n",
    "print('Концентрация после первичной очистки')\n",
    "print('Концентрация Серебра:{: 0.2f}, Свинца:{: 0.2f}, Золота:{: 0.2f}'.\n",
    "format(df_full['primary_cleaner.output.concentrate_ag'].mean(),\n",
    "df_full['primary_cleaner.output.concentrate_pb'].mean(),\n",
    "df_full['primary_cleaner.output.concentrate_au'].mean()), '\\n')\n",
    "print('Концентрация после финальной очистки')\n",
    "print('Концентрация Серебра:{: 0.2f}, Свинца:{: 0.2f}, Золота:{: 0.2f}'.\n",
    "format(df_full['final.output.concentrate_ag'].mean(),\n",
    "df_full['final.output.concentrate_pb'].mean(),\n",
    "df_full['final.output.concentrate_au'].mean()), '\\n')"
   ]
  },
  {
   "cell_type": "markdown",
   "metadata": {},
   "source": [
    "Наблюдаем, что после флотации повышается общее количество серебра, свинца и золота увеличиваются, после первичной и финальной очистки доля серебра уменьшается, свинца - незначительно увеличивается, золота - увеличивается значительно."
   ]
  },
  {
   "cell_type": "code",
   "execution_count": 9,
   "metadata": {},
   "outputs": [
    {
     "name": "stdout",
     "output_type": "stream",
     "text": [
      "count    5290.000000\n",
      "mean       55.952754\n",
      "std        19.080334\n",
      "min         0.046369\n",
      "25%        43.906504\n",
      "50%        50.846843\n",
      "75%        62.451165\n",
      "max       392.494040\n",
      "Name: rougher.input.feed_size, dtype: float64\n",
      "count    14149.000000\n",
      "mean        60.239856\n",
      "std         23.005310\n",
      "min          9.659576\n",
      "25%         48.966751\n",
      "50%         55.269784\n",
      "75%         66.007526\n",
      "max        484.967466\n",
      "Name: rougher.input.feed_size, dtype: float64\n"
     ]
    }
   ],
   "source": [
    "print(df_test['rougher.input.feed_size'].describe())\n",
    "print(df_train['rougher.input.feed_size'].describe())"
   ]
  },
  {
   "cell_type": "markdown",
   "metadata": {},
   "source": [
    "Проводим сравениепоказателей сырья для тестовой и обучающей выборки. В целом, показатели отличаются незначитльно, разница может быть вызвана разницей в размерах выборки. Проведем более подробный анализ."
   ]
  },
  {
   "cell_type": "code",
   "execution_count": 10,
   "metadata": {},
   "outputs": [
    {
     "data": {
      "image/png": "[encoded data removed]",
      "text/plain": [
       "<Figure size 432x288 with 1 Axes>"
      ]
     },
     "metadata": {
      "needs_background": "light"
     },
     "output_type": "display_data"
    },
    {
     "data": {
      "image/png": "[encoded data removed]",
      "text/plain": [
       "<Figure size 432x288 with 1 Axes>"
      ]
     },
     "metadata": {
      "needs_background": "light"
     },
     "output_type": "display_data"
    },
    {
     "data": {
      "image/png": "[encoded data removed]",
      "text/plain": [
       "<Figure size 432x288 with 1 Axes>"
      ]
     },
     "metadata": {
      "needs_background": "light"
     },
     "output_type": "display_data"
    },
    {
     "name": "stdout",
     "output_type": "stream",
     "text": [
      "Размер гранул в гистограмме с квантилем от 0.01 до 0.99\n"
     ]
    },
    {
     "data": {
      "image/png": "[encoded data removed]",
      "text/plain": [
       "<Figure size 432x288 with 1 Axes>"
      ]
     },
     "metadata": {
      "needs_background": "light"
     },
     "output_type": "display_data"
    },
    {
     "name": "stdout",
     "output_type": "stream",
     "text": [
      "Размер гранул в полной выборке\n"
     ]
    },
    {
     "data": {
      "image/png": "[encoded data removed]",
      "text/plain": [
       "<Figure size 432x288 with 1 Axes>"
      ]
     },
     "metadata": {
      "needs_background": "light"
     },
     "output_type": "display_data"
    }
   ],
   "source": [
    "fig = sns.kdeplot(df_test['rougher.input.feed_size'], shade=True, color=\"r\")\n",
    "fig = sns.kdeplot(df_train['rougher.input.feed_size'], shade=True, color=\"b\").set(title='Размер гранул в исходном сырье. Красный - тестовая выборка, Синий - обучающая',\n",
    "                                                                  xlabel='Размер гранул',\n",
    "                                                                  ylabel='% от выборки')\n",
    "plt.show()\n",
    "sns.boxplot(df_test['rougher.input.feed_size'], color = \"r\").set(title = 'Тестовая')\n",
    "plt.show()\n",
    "sns.boxplot(df_train['rougher.input.feed_size'], color = \"b\").set(title = 'Обучающая')\n",
    "plt.show()\n",
    "print('Размер гранул в гистограмме с квантилем от 0.01 до 0.99')\n",
    "df_test['rougher.input.feed_size'].hist( range = (df_test['rougher.input.feed_size'].quantile(.01), df_test['rougher.input.feed_size'].quantile(.99)), bins = 100, alpha = 0.5, density = True,color = 'r')\n",
    "df_train['rougher.input.feed_size'].hist( range = (df_train['rougher.input.feed_size'].quantile(.01), df_train['rougher.input.feed_size'].quantile(.99)), bins = 100, alpha = 0.5, density = True,color = 'b')\n",
    "plt.show()\n",
    "print('Размер гранул в полной выборке')\n",
    "df_full['rougher.input.feed_size'].hist( range = (df_full['rougher.input.feed_size'].quantile(.01), df_full['rougher.input.feed_size'].quantile(.99)), bins = 100, density = True,color = 'g')\n",
    "plt.show()\n"
   ]
  },
  {
   "cell_type": "markdown",
   "metadata": {},
   "source": [
    "Размер гранул в обучающей и тестовой выборке должен быть одинаковым. Тестовая выборка показывает пик в районе 43, обучающая выборка распределна равномерно между 40 и 60. Такой пик может быть связан с меньшим количеством данных. В целом, график в общей выборке, обучающей и тестовой и распределения схожи."
   ]
  },
  {
   "cell_type": "code",
   "execution_count": 11,
   "metadata": {},
   "outputs": [
    {
     "name": "stdout",
     "output_type": "stream",
     "text": [
      "Размер общей концентрации веществ золота, серебра, свинца, золи в сырье\n"
     ]
    },
    {
     "data": {
      "image/png": "[encoded data removed]",
      "text/plain": [
       "<Figure size 432x288 with 1 Axes>"
      ]
     },
     "metadata": {
      "needs_background": "light"
     },
     "output_type": "display_data"
    },
    {
     "name": "stdout",
     "output_type": "stream",
     "text": [
      "Размер общей концентрации веществ золота, серебра, свинца, золи после флотации\n"
     ]
    },
    {
     "data": {
      "image/png": "[encoded data removed]",
      "text/plain": [
       "<Figure size 432x288 with 1 Axes>"
      ]
     },
     "metadata": {
      "needs_background": "light"
     },
     "output_type": "display_data"
    },
    {
     "name": "stdout",
     "output_type": "stream",
     "text": [
      "Размер общей концентрации веществ золота, серебра, свинца, золи после первичной очистки\n"
     ]
    },
    {
     "data": {
      "image/png": "[encoded data removed]",
      "text/plain": [
       "<Figure size 432x288 with 1 Axes>"
      ]
     },
     "metadata": {
      "needs_background": "light"
     },
     "output_type": "display_data"
    },
    {
     "name": "stdout",
     "output_type": "stream",
     "text": [
      "Размер общей концентрации веществ золота, серебра, свинца, золи после вторичной очистки\n"
     ]
    },
    {
     "data": {
      "image/png": "[encoded data removed]",
      "text/plain": [
       "<Figure size 432x288 with 1 Axes>"
      ]
     },
     "metadata": {
      "needs_background": "light"
     },
     "output_type": "display_data"
    },
    {
     "name": "stdout",
     "output_type": "stream",
     "text": [
      "*данные показаны с квантиля 0.01 до 0.99\n"
     ]
    }
   ],
   "source": [
    "df_full['before_rougher'] = df_full['rougher.input.feed_au'] + df_full['rougher.input.feed_ag'] + df_full['rougher.input.feed_pb'] + df_full['rougher.input.feed_sol']\n",
    "df_full['after_rougher'] = df_full['rougher.output.concentrate_au'] + df_full['rougher.output.concentrate_ag'] + df_full['rougher.output.concentrate_pb'] + df_full['rougher.output.concentrate_sol']\n",
    "df_full['primary_cleaner'] = df_full['primary_cleaner.output.concentrate_au'] + df_full['primary_cleaner.output.concentrate_ag'] + df_full['primary_cleaner.output.concentrate_pb']  + df_full['primary_cleaner.output.concentrate_sol']\n",
    "df_full['final'] = df_full['final.output.concentrate_au'] + df_full['final.output.concentrate_ag'] + df_full['final.output.concentrate_pb'] + df_full['final.output.concentrate_sol']\n",
    "print('Размер общей концентрации веществ золота, серебра, свинца, золи в сырье')\n",
    "df_full['before_rougher'].hist( range = (df_full['before_rougher'].quantile(.01), df_full['before_rougher'].quantile(.99)), bins = 100, density = True,color = 'r')\n",
    "plt.show()\n",
    "print('Размер общей концентрации веществ золота, серебра, свинца, золи после флотации')\n",
    "df_full['after_rougher'].hist( range = (df_full['after_rougher'].quantile(.01), df_full['after_rougher'].quantile(.99)), bins = 100, density = True,color = 'y')\n",
    "plt.show()\n",
    "print('Размер общей концентрации веществ золота, серебра, свинца, золи после первичной очистки')\n",
    "df_full['primary_cleaner'].hist( range = (df_full['primary_cleaner'].quantile(.01), df_full['primary_cleaner'].quantile(.99)), bins = 100, density = True,color = 'b')\n",
    "plt.show()\n",
    "print('Размер общей концентрации веществ золота, серебра, свинца, золи после вторичной очистки')\n",
    "df_full['final'].hist( range = (df_full['final'].quantile(.01), df_full['final'].quantile(.99)), bins = 100, density = True,color = 'g')\n",
    "plt.show()\n",
    "print('*данные показаны с квантиля 0.01 до 0.99')"
   ]
  },
  {
   "cell_type": "markdown",
   "metadata": {},
   "source": [
    "Графики общей концетрации веществ показывают нормальное распределение с тенденцией к концетрации вещества в районе 70, что ожидаемо при очистке."
   ]
  },
  {
   "cell_type": "markdown",
   "metadata": {},
   "source": [
    "## Модель"
   ]
  },
  {
   "cell_type": "code",
   "execution_count": 12,
   "metadata": {},
   "outputs": [],
   "source": [
    "def sMAPE(true,pred):#создаем функцию для расчета smape, фунция принимает целевые значения и предсказания модели.\n",
    "    error = np.mean(abs(true - pred)/((abs(true)+abs(pred))/2))*100\n",
    "    return error\n",
    "def final_sMAPE(sMAPE_rougher, sMAPE_final):#создаем функцию для расчета финального smape, фунция принимает  значения smape для прарметров rougher и final\n",
    "    return (0.25*sMAPE_rougher + 0.75*sMAPE_final)"
   ]
  },
  {
   "cell_type": "code",
   "execution_count": 13,
   "metadata": {},
   "outputs": [],
   "source": [
    "features = df_train.drop(columns = ['date'], axis=1)\n",
    "features = features.drop(miss_columns, axis=1)\n",
    "target = df_train.loc[:, ['final.output.recovery', 'rougher.output.recovery']]\n",
    "features_train, features_valid, target_train, target_valid = train_test_split(features,target, test_size = 0.25,\n",
    "                                                                                                random_state = 12345)\n",
    "target_train_rougher = target_train['rougher.output.recovery']\n",
    "target_train_final = target_train['final.output.recovery']\n",
    "target_valid_rougher = target_valid['rougher.output.recovery']\n",
    "target_valid_final = target_valid['final.output.recovery']\n",
    "targets_to_join = df_full[['date', 'final.output.recovery', 'rougher.output.recovery']].copy()\n",
    "test = df_test.join(targets_to_join.set_index('date'), on='date')\n",
    "target_test_rougher = test['rougher.output.recovery']\n",
    "target_test_final = test['final.output.recovery']\n",
    "features_test = test.drop(columns = ['date', 'final.output.recovery', 'rougher.output.recovery'], axis = 1)"
   ]
  },
  {
   "cell_type": "code",
   "execution_count": 14,
   "metadata": {},
   "outputs": [
    {
     "data": {
      "text/plain": [
       "(0       89.993421\n",
       " 1       88.089657\n",
       " 2       88.412756\n",
       " 3       87.360133\n",
       " 4       83.236367\n",
       "           ...    \n",
       " 5285    95.172585\n",
       " 5286    94.575036\n",
       " 5287    93.018138\n",
       " 5288    92.599042\n",
       " 5289    91.177695\n",
       " Name: rougher.output.recovery, Length: 5290, dtype: float64,\n",
       " 0       70.273583\n",
       " 1       68.910432\n",
       " 2       68.143213\n",
       " 3       67.776393\n",
       " 4       61.467078\n",
       "           ...    \n",
       " 5285    68.919891\n",
       " 5286    68.440582\n",
       " 5287    67.092759\n",
       " 5288    68.061186\n",
       " 5289    71.699976\n",
       " Name: final.output.recovery, Length: 5290, dtype: float64)"
      ]
     },
     "execution_count": 14,
     "metadata": {},
     "output_type": "execute_result"
    }
   ],
   "source": [
    "target_test_rougher, target_test_final"
   ]
  },
  {
   "cell_type": "raw",
   "metadata": {},
   "source": [
    "model = LinearRegression()#проводим обучение модели рандмоного леса\n",
    "model.fit(features_train, target_train_rougher)\n",
    "pred = model.predict(features_valid)\n",
    "result_rougher = sMAPE(target_valid_rougher,pred)\n",
    "model.fit(features_train, target_train_final)\n",
    "pred = model.predict(features_valid)\n",
    "result_final = sMAPE(target_valid_final, pred)\n",
    "result = final_sMAPE(result_rougher, result_final)\n",
    "print('Результат sMAPE:', result)\n",
    "scores = cross_val_score(model, features_train, target_train_rougher, cv=5) \n",
    "final_score = pd.Series(scores).mean()\n",
    "print('Результат кросс-валидации для параметра rougher:',final_score)\n",
    "scores = cross_val_score(model, features_train, target_train_final, cv=5) \n",
    "final_score = pd.Series(scores).mean()\n",
    "print('Результат кросс-валидации для параметра final:',final_score)"
   ]
  },
  {
   "cell_type": "code",
   "execution_count": null,
   "metadata": {},
   "outputs": [],
   "source": [
    "best_model = None\n",
    "best_result = 1000\n",
    "for depth in range(1,21):\n",
    "    model1 = DecisionTreeRegressor(max_depth = depth, random_state = 12345)#проводим обучение модели рандмоного леса\n",
    "    model1.fit(features_train, target_train_rougher)\n",
    "    pred1 = model.predict(features_valid)\n",
    "    result_rougher1 = sMAPE(target_valid_rougher,pred1)\n",
    "    model1.fit(features_train, target_train_final)\n",
    "    pred1 = model1.predict(features_valid)\n",
    "    result_final1 = sMAPE(target_valid_final, pred1)\n",
    "    result1 = final_sMAPE(result_rougher1, result_final1)\n",
    "    if result1 < best_result:\n",
    "        best_result = result1\n",
    "        best_model = model1\n",
    "print('Лучшая модель дерева решений:', best_model, '\\nРезультат sMAPE:', best_result)\n",
    "scores = cross_val_score(best_model, features_train, target_train_rougher, cv=5) \n",
    "final_score = pd.Series(scores).mean()\n",
    "print('Результат кросс-валидации для параметра rougher:',final_score)\n",
    "scores = cross_val_score(best_model, features_train, target_train_final, cv=5) \n",
    "final_score = pd.Series(scores).mean()\n",
    "print('Результат кросс-валидации для параметра final:',final_score)"
   ]
  },
  {
   "cell_type": "code",
   "execution_count": null,
   "metadata": {},
   "outputs": [],
   "source": [
    "%%time\n",
    "best_model = RandomForestRegressor(max_depth=20, n_estimators=91, random_state=12345) \n",
    "scores = cross_val_score(best_model, features_train, target_train_rougher, cv=5) \n",
    "final_score = pd.Series(scores).mean()\n",
    "print('Результат кросс-валидации для параметра rougher:',final_score)\n",
    "scores = cross_val_score(best_model, features_train, target_train_final, cv=5) \n",
    "final_score = pd.Series(scores).mean()\n",
    "print('Результат кросс-валидации для параметра final:',final_score)\n",
    "best_model.fit(features_train, target_train_rougher)\n",
    "pred = best_model.predict(features_valid)\n",
    "result_rougher = sMAPE(target_valid_rougher,pred)\n",
    "best_model.fit(features_train, target_train_final)\n",
    "pred = best_model.predict(features_valid)\n",
    "result_final = sMAPE(target_valid_final, pred)\n",
    "result = final_sMAPE(result_rougher, result_final)\n",
    "print('Результат smape для лучшей модели рандомного леса:', result)"
   ]
  },
  {
   "cell_type": "code",
   "execution_count": 15,
   "metadata": {},
   "outputs": [
    {
     "data": {
      "text/html": [
       "<div>\n",
       "<style scoped>\n",
       "    .dataframe tbody tr th:only-of-type {\n",
       "        vertical-align: middle;\n",
       "    }\n",
       "\n",
       "    .dataframe tbody tr th {\n",
       "        vertical-align: top;\n",
       "    }\n",
       "\n",
       "    .dataframe thead th {\n",
       "        text-align: right;\n",
       "    }\n",
       "</style>\n",
       "<table border=\"1\" class=\"dataframe\">\n",
       "  <thead>\n",
       "    <tr style=\"text-align: right;\">\n",
       "      <th></th>\n",
       "      <th>model_name</th>\n",
       "      <th>cross_val_score_rougher</th>\n",
       "      <th>cross_val_score_final</th>\n",
       "    </tr>\n",
       "  </thead>\n",
       "  <tbody>\n",
       "    <tr>\n",
       "      <td>0</td>\n",
       "      <td>DecisionTreeRegressor</td>\n",
       "      <td>-8.130156</td>\n",
       "      <td>-10.063145</td>\n",
       "    </tr>\n",
       "    <tr>\n",
       "      <td>1</td>\n",
       "      <td>RandomForestRegressor</td>\n",
       "      <td>-7.851703</td>\n",
       "      <td>-7.488172</td>\n",
       "    </tr>\n",
       "    <tr>\n",
       "      <td>2</td>\n",
       "      <td>LinearRegression</td>\n",
       "      <td>-9.717144</td>\n",
       "      <td>-9.246919</td>\n",
       "    </tr>\n",
       "  </tbody>\n",
       "</table>\n",
       "</div>"
      ],
      "text/plain": [
       "              model_name  cross_val_score_rougher  cross_val_score_final\n",
       "0  DecisionTreeRegressor                -8.130156             -10.063145\n",
       "1  RandomForestRegressor                -7.851703              -7.488172\n",
       "2       LinearRegression                -9.717144              -9.246919"
      ]
     },
     "execution_count": 15,
     "metadata": {},
     "output_type": "execute_result"
    }
   ],
   "source": [
    "random_state = 12345\n",
    "cv = 5\n",
    "models = [DecisionTreeRegressor(random_state = random_state), \n",
    "          RandomForestRegressor(random_state=random_state), \n",
    "          LinearRegression()]\n",
    "\n",
    "\n",
    "results_cross_val = []\n",
    "\n",
    "for model in models: \n",
    "    \n",
    "    scorer = make_scorer(sMAPE, greater_is_better=False) \n",
    "    \n",
    "    cross_val_score_rougher = cross_val_score(model, \n",
    "                                              features_train, \n",
    "                                              target_train_rougher, \n",
    "                                              cv=cv, scoring=scorer).mean()\n",
    "    cross_val_score_final = cross_val_score(model, \n",
    "                                            features_train, \n",
    "                                            target_train_final, \n",
    "                                            cv=cv, scoring=scorer).mean()\n",
    "\n",
    "    results_cross_val.append({'model_name': model.__class__.__name__, \n",
    "                              'cross_val_score_rougher': cross_val_score_rougher, \n",
    "                              'cross_val_score_final': cross_val_score_final}) \n",
    "              \n",
    "res = pd.DataFrame(results_cross_val)\n",
    "res"
   ]
  },
  {
   "cell_type": "code",
   "execution_count": 16,
   "metadata": {},
   "outputs": [
    {
     "name": "stdout",
     "output_type": "stream",
     "text": [
      "Результаты final sMAPE:\n",
      "DecisionTreeRegressor -9.579897792712694\n",
      "RandomForestRegressor -7.579055185005817\n",
      "LinearRegression -9.364474919729004\n"
     ]
    }
   ],
   "source": [
    "print('Результаты final sMAPE:')\n",
    "for i in range(len(res)):\n",
    "    print(res['model_name'][i], final_sMAPE(res['cross_val_score_rougher'][i], res['cross_val_score_final'][i]))"
   ]
  },
  {
   "cell_type": "markdown",
   "metadata": {},
   "source": [
    "Были обучены модели на основе линейной регрессии, дерева решений и рандомного леса. У дерева решений и линейной регрессии результаты оказались значительно хуже, чем у рандомного леса. "
   ]
  },
  {
   "cell_type": "code",
   "execution_count": 21,
   "metadata": {},
   "outputs": [
    {
     "name": "stdout",
     "output_type": "stream",
     "text": [
      "Лучшая модель рандомного леса: RandomForestRegressor(bootstrap=True, criterion='mse', max_depth=1,\n",
      "                      max_features='auto', max_leaf_nodes=None,\n",
      "                      min_impurity_decrease=0.0, min_impurity_split=None,\n",
      "                      min_samples_leaf=1, min_samples_split=2,\n",
      "                      min_weight_fraction_leaf=0.0, n_estimators=51,\n",
      "                      n_jobs=None, oob_score=False, random_state=12345,\n",
      "                      verbose=0, warm_start=False) \n",
      "Результат sMAPE: 10.161924854955068\n",
      "CPU times: user 14.8 s, sys: 8.01 ms, total: 14.8 s\n",
      "Wall time: 14.8 s\n"
     ]
    }
   ],
   "source": [
    "%%time\n",
    "best_model = None\n",
    "best_result = 1000\n",
    "for est in range(1,101,10):\n",
    "    for depth in range(1,21):\n",
    "        model = RandomForestRegressor(n_estimators = est, max_depth = depth, random_state = 12345)#проводим обучение модели рандмоного леса\n",
    "        model.fit(features_train, target_train_rougher)\n",
    "        pred = model.predict(features_valid)\n",
    "        result_rougher = sMAPE(target_valid_rougher,pred)\n",
    "        model.fit(features_train, target_train_final)\n",
    "        pred = model.predict(features_valid)\n",
    "        result_final = sMAPE(target_valid_final, pred)\n",
    "        result = final_sMAPE(result_rougher, result_final)\n",
    "        if result < best_result:\n",
    "            best_result = result\n",
    "            best_model = model\n",
    "print('Лучшая модель рандомного леса:', best_model, '\\nРезультат sMAPE:', best_result)"
   ]
  },
  {
   "cell_type": "code",
   "execution_count": 18,
   "metadata": {},
   "outputs": [
    {
     "name": "stdout",
     "output_type": "stream",
     "text": [
      "Результат smape для лучшей модели рандомного леса на тестовой выборке: 10.848378143537587\n"
     ]
    }
   ],
   "source": [
    "best_model.fit(features_train, target_train_rougher)\n",
    "pred = best_model.predict(features_test)\n",
    "result_rougher = sMAPE(target_test_rougher,pred)\n",
    "best_model.fit(features_train, target_train_final)\n",
    "pred = best_model.predict(features_test)\n",
    "result_final = sMAPE(target_test_final, pred)\n",
    "result = final_sMAPE(result_rougher, result_final)\n",
    "print('Результат smape для лучшей модели рандомного леса на тестовой выборке:', result)"
   ]
  },
  {
   "cell_type": "code",
   "execution_count": 19,
   "metadata": {},
   "outputs": [
    {
     "name": "stdout",
     "output_type": "stream",
     "text": [
      "Значение final sMAPE для DummyRegressor с параметром: mean 10.303111617667632\n",
      "Значение final sMAPE для DummyRegressor с параметром: median 9.487425461757168\n"
     ]
    }
   ],
   "source": [
    "for i in ['mean', 'median']:#посмотрим результаты sMAPE для дамми-модели\n",
    "    dummy_model = DummyRegressor(strategy = i)\n",
    "    dummy_model.fit(features_train, target_train_rougher)\n",
    "    pred = dummy_model.predict(features_test)\n",
    "    result_rougher = sMAPE(target_test_rougher,pred)\n",
    "    dummy_model.fit(features_train, target_train_final)\n",
    "    pred = dummy_model.predict(features_test)\n",
    "    result_final = sMAPE(target_test_final, pred)\n",
    "    result = final_sMAPE(result_rougher, result_final)\n",
    "    print('Значение final sMAPE для DummyRegressor с параметром:', i, result)\n"
   ]
  },
  {
   "cell_type": "markdown",
   "metadata": {},
   "source": [
    "Проведено сравнение модели с дамми моделью, результаты обученной модели уступают результатам заполнения медианным и средним значениеми. "
   ]
  }
 ],
 "metadata": {
  "ExecuteTimeLog": [
   {
    "duration": 2857,
    "start_time": "2022-01-11T06:27:39.041Z"
   },
   {
    "duration": 4071,
    "start_time": "2022-01-11T06:27:41.901Z"
   },
   {
    "duration": 5,
    "start_time": "2022-01-11T06:28:05.842Z"
   },
   {
    "duration": 1748,
    "start_time": "2022-01-11T06:28:33.454Z"
   },
   {
    "duration": 2578,
    "start_time": "2022-01-11T06:28:40.893Z"
   },
   {
    "duration": 14,
    "start_time": "2022-01-11T06:28:47.292Z"
   },
   {
    "duration": 122,
    "start_time": "2022-01-11T06:28:48.685Z"
   },
   {
    "duration": 18,
    "start_time": "2022-01-11T06:28:50.183Z"
   },
   {
    "duration": 34,
    "start_time": "2022-01-11T06:28:51.834Z"
   },
   {
    "duration": 7385,
    "start_time": "2022-01-11T06:28:52.394Z"
   },
   {
    "duration": 7303,
    "start_time": "2022-01-11T06:28:59.782Z"
   },
   {
    "duration": 6,
    "start_time": "2022-01-11T06:29:07.089Z"
   },
   {
    "duration": 479,
    "start_time": "2022-01-11T06:29:07.099Z"
   },
   {
    "duration": 8,
    "start_time": "2022-01-11T06:29:23.111Z"
   },
   {
    "duration": 148291,
    "start_time": "2022-01-11T06:29:44.379Z"
   },
   {
    "duration": 8,
    "start_time": "2022-01-11T06:35:34.632Z"
   },
   {
    "duration": 1410541,
    "start_time": "2022-01-11T06:35:39.858Z"
   },
   {
    "duration": 39074,
    "start_time": "2022-01-11T06:59:10.402Z"
   },
   {
    "duration": 17,
    "start_time": "2022-01-11T06:59:49.479Z"
   },
   {
    "duration": 30893,
    "start_time": "2022-01-11T06:59:49.502Z"
   },
   {
    "duration": 14822,
    "start_time": "2022-01-11T07:00:40.821Z"
   }
  ],
  "kernelspec": {
   "display_name": "Python 3 (ipykernel)",
   "language": "python",
   "name": "python3"
  },
  "language_info": {
   "codemirror_mode": {
    "name": "ipython",
    "version": 3
   },
   "file_extension": ".py",
   "mimetype": "text/x-python",
   "name": "python",
   "nbconvert_exporter": "python",
   "pygments_lexer": "ipython3",
   "version": "3.8.12"
  },
  "toc": {
   "base_numbering": 1,
   "nav_menu": {},
   "number_sections": true,
   "sideBar": true,
   "skip_h1_title": true,
   "title_cell": "Содержание",
   "title_sidebar": "Contents",
   "toc_cell": true,
   "toc_position": {},
   "toc_section_display": true,
   "toc_window_display": true
  }
 },
 "nbformat": 4,
 "nbformat_minor": 2
}
