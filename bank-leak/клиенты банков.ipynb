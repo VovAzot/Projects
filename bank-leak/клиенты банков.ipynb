{
 "cells": [
  {
   "cell_type": "markdown",
   "metadata": {},
   "source": [
    "# Отток клиентов"
   ]
  },
  {
   "cell_type": "markdown",
   "metadata": {},
   "source": [
    "Из «Бета-Банка» стали уходить клиенты. Каждый месяц. Немного, но заметно. Банковские маркетологи посчитали: сохранять текущих клиентов дешевле, чем привлекать новых.\n",
    "\n",
    "Нужно спрогнозировать, уйдёт клиент из банка в ближайшее время или нет. Вам предоставлены исторические данные о поведении клиентов и расторжении договоров с банком. \n",
    "\n",
    "Постройте модель с предельно большим значением *F1*-меры. Чтобы сдать проект успешно, нужно довести метрику до 0.59. Проверьте *F1*-меру на тестовой выборке самостоятельно.\n",
    "\n",
    "Дополнительно измеряйте *AUC-ROC*, сравнивайте её значение с *F1*-мерой.\n",
    "\n",
    "Источник данных: [https://www.kaggle.com/barelydedicated/bank-customer-churn-modeling](https://www.kaggle.com/barelydedicated/bank-customer-churn-modeling)\n",
    "Описание данных\n",
    "\n",
    "Признаки</p>\n",
    "<p> RowNumber — индекс строки в данных</p>\n",
    "<p>CustomerId — уникальный идентификатор клиента</p>\n",
    "<p>Surname — фамилия</p>\n",
    "<p>CreditScore — кредитный рейтинг</p>\n",
    "<p>Geography — страна проживания</p>\n",
    "<p>Gender — пол</p>\n",
    "<p>Age — возраст</p>\n",
    "<p>Tenure — сколько лет человек является клиентом банка</p>\n",
    "<p>Balance — баланс на счёте</p>\n",
    "<p>NumOfProducts — количество продуктов банка, используемых клиентом</p>\n",
    "<p>HasCrCard — наличие кредитной карты</p>\n",
    "<p>IsActiveMember — активность клиента</p>\n",
    "<p>EstimatedSalary — предполагаемая зарплата</p>\n",
    "<p>\n",
    "<p>Целевой признак</p>\n",
    "<p>Exited — факт ухода клиента</p>"
   ]
  },
  {
   "cell_type": "markdown",
   "metadata": {},
   "source": [
    "## Подготовка данных"
   ]
  },
  {
   "cell_type": "code",
   "execution_count": 1,
   "metadata": {
    "scrolled": true
   },
   "outputs": [
    {
     "name": "stdout",
     "output_type": "stream",
     "text": [
      "<class 'pandas.core.frame.DataFrame'>\n",
      "RangeIndex: 10000 entries, 0 to 9999\n",
      "Data columns (total 14 columns):\n",
      " #   Column           Non-Null Count  Dtype  \n",
      "---  ------           --------------  -----  \n",
      " 0   RowNumber        10000 non-null  int64  \n",
      " 1   CustomerId       10000 non-null  int64  \n",
      " 2   Surname          10000 non-null  object \n",
      " 3   CreditScore      10000 non-null  int64  \n",
      " 4   Geography        10000 non-null  object \n",
      " 5   Gender           10000 non-null  object \n",
      " 6   Age              10000 non-null  int64  \n",
      " 7   Tenure           9091 non-null   float64\n",
      " 8   Balance          10000 non-null  float64\n",
      " 9   NumOfProducts    10000 non-null  int64  \n",
      " 10  HasCrCard        10000 non-null  int64  \n",
      " 11  IsActiveMember   10000 non-null  int64  \n",
      " 12  EstimatedSalary  10000 non-null  float64\n",
      " 13  Exited           10000 non-null  int64  \n",
      "dtypes: float64(3), int64(8), object(3)\n",
      "memory usage: 1.1+ MB\n"
     ]
    }
   ],
   "source": [
    "import pandas as pd\n",
    "import numpy as np\n",
    "import matplotlib.pyplot as plt\n",
    "from sklearn.model_selection import train_test_split\n",
    "from sklearn.preprocessing import StandardScaler\n",
    "from sklearn.preprocessing import OrdinalEncoder\n",
    "from sklearn.tree import DecisionTreeClassifier\n",
    "from sklearn.ensemble import RandomForestRegressor\n",
    "from sklearn.ensemble import RandomForestClassifier\n",
    "from sklearn.metrics import mean_absolute_error\n",
    "from sklearn.metrics import f1_score\n",
    "from sklearn.metrics import confusion_matrix\n",
    "from sklearn.metrics import roc_auc_score\n",
    "from sklearn.metrics import roc_curve \n",
    "from sklearn.linear_model import LinearRegression\n",
    "from sklearn.dummy import DummyRegressor\n",
    "from sklearn.dummy import DummyClassifier\n",
    "from sklearn.utils import shuffle\n",
    "encoder = OrdinalEncoder()\n",
    "df = pd.read_csv('C:/Users/VovAz/Desktop/Churn.csv')\n",
    "df.duplicated().value_counts() # проверяем на наличие дубликатов\n",
    "df.info()#проверяем данные. В столбце Tenure имеются пропущенные значения. \n",
    "\n",
    "tenure_pred = df[df['Tenure'].isna()]#выделяем строки в которых пропущены значения Tenure \n",
    "traning_tenure = df.dropna()#для обучения модели оставляем строки без пропущенных значений\n",
    "traning_tenure = traning_tenure.drop(['RowNumber', 'CustomerId', 'Surname'], axis = 1)\n",
    "#выделяем признаки;\n",
    "traning_tenure = pd.DataFrame(encoder.fit_transform(traning_tenure),columns=traning_tenure.columns)\n",
    "# проводим порядковое кодирование данных\n",
    "features_tenure = traning_tenure.drop(['Tenure'], axis =1 )\n",
    "target_tenure = traning_tenure['Tenure']#выделяем целевое значение\n",
    "features_tenure_train, features_tenure_valid,target_tenure_train, target_tenure_valid = train_test_split(features_tenure,\n",
    "                                                                                                          target_tenure,\n",
    "                                                                                                         test_size = 0.25,\n",
    "                                                                                                         random_state = 12345)\n",
    "#делим данные на валидационную и тренировочную выборку\n",
    "               "
   ]
  },
  {
   "cell_type": "code",
   "execution_count": 2,
   "metadata": {},
   "outputs": [
    {
     "name": "stdout",
     "output_type": "stream",
     "text": [
      "Лучшая модель рандомного леса: RandomForestRegressor(max_depth=1, n_estimators=31, random_state=12345) \n",
      "Результат MAE: 2.4506580669071116\n",
      "Wall time: 2min\n"
     ]
    }
   ],
   "source": [
    "%%time\n",
    "best_model = None\n",
    "best_result = 1000\n",
    "for est in range(1,101,10):\n",
    "    for depth in range(1,21):\n",
    "        model = RandomForestRegressor(n_estimators = est, max_depth = depth, random_state = 12345)#проводим обучение модели рандмоного леса\n",
    "        model.fit(features_tenure_train, target_tenure_train)\n",
    "        pred = model.predict(features_tenure_valid)\n",
    "        result = mean_absolute_error(target_tenure_valid, pred)\n",
    "        if result < best_result:\n",
    "            best_result = result\n",
    "            best_model = model\n",
    "print('Лучшая модель рандомного леса:',best_model,'\\nРезультат MAE:', best_result)#печатаем результат мае у лучшей модели"
   ]
  },
  {
   "cell_type": "code",
   "execution_count": 3,
   "metadata": {},
   "outputs": [
    {
     "name": "stdout",
     "output_type": "stream",
     "text": [
      "Результат МАЕ модели логистической регрессии: 2.48682887379274\n"
     ]
    }
   ],
   "source": [
    "model1 = LinearRegression()\n",
    "model1.fit(features_tenure_train, target_tenure_train)\n",
    "pred1 = model.predict(features_tenure_valid)\n",
    "result1 = mean_absolute_error(target_tenure_valid, pred1)\n",
    "print ('Результат МАЕ модели логистической регрессии:', result1)#.49"
   ]
  },
  {
   "cell_type": "code",
   "execution_count": 4,
   "metadata": {},
   "outputs": [
    {
     "name": "stdout",
     "output_type": "stream",
     "text": [
      "Результат МАЕ Дамми-модели: 2.445666520017598\n"
     ]
    }
   ],
   "source": [
    "dummy = DummyRegressor(strategy = 'median')# проверяем адекватность модели с помощью дамми-модели\n",
    "dummy.fit(features_tenure_train, target_tenure_train)\n",
    "pred2 = dummy.predict(features_tenure_valid)\n",
    "result_dummy =  mean_absolute_error(target_tenure_valid, pred2)\n",
    "print ('Результат МАЕ Дамми-модели:', result_dummy)#результат предсказания дамми-модели лучше, чем у нашей модели"
   ]
  },
  {
   "cell_type": "code",
   "execution_count": 5,
   "metadata": {},
   "outputs": [],
   "source": [
    "df['Tenure'] = df['Tenure'].fillna(df['Tenure'].median())#заполняем пропущенные данные медианой"
   ]
  },
  {
   "cell_type": "markdown",
   "metadata": {},
   "source": [
    "Прочитали, изучили данные, типы данных требуют корректировки для обучения моедли, дубликатов нет,  порядковый номер, айди или фамилия клиента вряд ли влияет на целевое значение, поэтому данные были удалены. Пробуем сделать модель, которая предсказывает срок пользования банком. Пропущенные данные в столбце Tenure были заменены медианой, поскольку не удалось создать адекватную модель для предсказания значений."
   ]
  },
  {
   "cell_type": "markdown",
   "metadata": {},
   "source": [
    "## Исследование задачи"
   ]
  },
  {
   "cell_type": "code",
   "execution_count": 6,
   "metadata": {},
   "outputs": [
    {
     "name": "stdout",
     "output_type": "stream",
     "text": [
      "Баланс классов в целевом признаке:\n",
      " 0.0    7963\n",
      "1.0    2037\n",
      "Name: Exited, dtype: int64\n",
      "\n",
      "Параметры лучшей модели на основе дерева решений: DecisionTreeClassifier(max_depth=12, random_state=12345) \n",
      "Значение F1 у Дерева решений 0.5257142857142857\n",
      "Матрица ошибок:\n",
      " [[1484  125]\n",
      " [ 207  184]]\n",
      "Wall time: 433 ms\n"
     ]
    }
   ],
   "source": [
    "%%time\n",
    "data_ordinal = pd.DataFrame(encoder.fit_transform(df), columns=df.columns)#проводим кодирование данных методом порядкового кодирования\n",
    "features = data_ordinal.drop(['RowNumber', 'CustomerId', 'Surname', 'Exited'], axis = 1)#выделяем параметры\n",
    "target = data_ordinal['Exited']#выделяем целевые показатели\n",
    "print('Баланс классов в целевом признаке:\\n',target.value_counts())\n",
    "features, features_test, target, target_test = train_test_split (features,target, test_size = 0.20, random_state = 12345)\n",
    "features_train, features_valid, target_train, target_valid = train_test_split(features,target, test_size = 0.25,\n",
    "                                                                                                random_state = 12345)\n",
    "best_model1 = None\n",
    "best_result1 = 0    \n",
    "for i in range (1,21):\n",
    "    model = DecisionTreeClassifier(random_state=12345, max_depth = i)\n",
    "    model.fit(features_train, target_train) \n",
    "    predicted_valid = model.predict(features_valid)\n",
    "    result1 = f1_score(target_valid, predicted_valid)\n",
    "    if result1 > best_result1:\n",
    "        best_model1 = model\n",
    "        best_result1 = result1\n",
    "print('\\nПараметры лучшей модели на основе дерева решений:', best_model1,'\\nЗначение F1 у Дерева решений', best_result1)\n",
    "predicted_valid = best_model1.predict(features_valid)\n",
    "print('Матрица ошибок:\\n',confusion_matrix(target_valid, predicted_valid))"
   ]
  },
  {
   "cell_type": "code",
   "execution_count": 7,
   "metadata": {},
   "outputs": [
    {
     "name": "stdout",
     "output_type": "stream",
     "text": [
      "Лучшая модель рандомного леса: RandomForestClassifier(max_depth=20, n_estimators=91, random_state=12345) \n",
      "Значение F1: 0.5436573311367381\n",
      "Матрица ошибок:\n",
      " [[1558   51]\n",
      " [ 226  165]]\n",
      "Wall time: 45.2 s\n"
     ]
    }
   ],
   "source": [
    "%%time\n",
    "best_model = None\n",
    "best_result = 0\n",
    "for est in range(1,101,10):\n",
    "    for depth in range(1,21):\n",
    "        model1 = RandomForestClassifier(n_estimators = est, max_depth = depth, random_state = 12345)#проводим обучение модели рандмоного леса\n",
    "        model1.fit(features_train, target_train)\n",
    "        predicted_valid = model1.predict(features_valid)\n",
    "        result1 = f1_score(target_valid, predicted_valid)\n",
    "        if result > best_result:\n",
    "            best_result = result1\n",
    "            best_model = model1\n",
    "print('Лучшая модель рандомного леса:', best_model,'\\nЗначение F1:', best_result)\n",
    "predicted_valid = best_model.predict(features_valid)\n",
    "print('Матрица ошибок:\\n',confusion_matrix(target_valid, predicted_valid))\n",
    "\n"
   ]
  },
  {
   "cell_type": "code",
   "execution_count": 8,
   "metadata": {},
   "outputs": [
    {
     "name": "stdout",
     "output_type": "stream",
     "text": [
      "Значение F1 на тестовой выборке 0.5752608047690015\n"
     ]
    }
   ],
   "source": [
    "predicted_test = best_model.predict(features_test)\n",
    "print('Значение F1 на тестовой выборке',f1_score(target_test, predicted_test))"
   ]
  },
  {
   "cell_type": "code",
   "execution_count": 9,
   "metadata": {},
   "outputs": [
    {
     "data": {
      "image/png": "[encoded data removed]",
      "text/plain": [
       "<Figure size 432x432 with 1 Axes>"
      ]
     },
     "metadata": {
      "needs_background": "light"
     },
     "output_type": "display_data"
    },
    {
     "name": "stdout",
     "output_type": "stream",
     "text": [
      "Значение AUC-ROC: 0.8587522760399067\n"
     ]
    }
   ],
   "source": [
    "probabilities_valid = best_model.predict_proba(features_test)\n",
    "probabilities_one_valid = probabilities_valid[:, 1]\n",
    "fpr, tpr, thresholds = roc_curve(target_test, probabilities_one_valid)\n",
    "plt.figure(figsize=(6, 6))\n",
    "plt.plot(fpr, tpr)\n",
    "plt.xlabel('False Positive Rate')\n",
    "plt.ylabel('True Positive Rate')\n",
    "plt.ylim([0.0, 1.0])\n",
    "plt.xlim([0.0, 1.0])\n",
    "plt.title('ROC-кривая')\n",
    "plt.plot([0, 1], [0, 1], linestyle='--')\n",
    "plt.show()\n",
    "auc_roc = roc_auc_score(target_test, probabilities_one_valid)\n",
    "print('Значение AUC-ROC:', auc_roc)"
   ]
  },
  {
   "cell_type": "markdown",
   "metadata": {},
   "source": [
    "Изучили баланс класса, он составляет 20% положительных значений, соответственно модель может недообучаться на положительных значениях.  Это подверждает матрица отвественности, существует большое количество ложноположительных значений. Провели обучение моделей дерева решений и рандомного леса без учета дисбаланса класса. В случае модели дерево решений удалось добиться значения f1 в 0.52, у рандомного леса - 0.54. На тестовой выборке лучшая модель показала результат f1 - 0.58, построили кривую ошибок, значение AUC-ROC составило 0.858."
   ]
  },
  {
   "cell_type": "markdown",
   "metadata": {},
   "source": [
    "## Борьба с дисбалансом"
   ]
  },
  {
   "cell_type": "code",
   "execution_count": 10,
   "metadata": {},
   "outputs": [
    {
     "name": "stdout",
     "output_type": "stream",
     "text": [
      "Лучшая модель рандомного леса: RandomForestClassifier(class_weight='balanced', max_depth=12, n_estimators=91,\n",
      "                       random_state=12345) \n",
      "Значение F1: 0.5912408759124088\n",
      "Wall time: 3min 1s\n"
     ]
    }
   ],
   "source": [
    "%%time\n",
    "def upsample(features, target, repeat):#создаем функцию для увеличения обучающих данных\n",
    "    features_zeros = features[target == 0]\n",
    "    features_ones = features[target == 1]\n",
    "    target_zeros = target[target == 0]\n",
    "    target_ones = target[target == 1]# разделяем данные согласно целевому значению\n",
    "\n",
    "    features_upsampled = pd.concat([features_zeros] + [features_ones] * repeat)# соединяем нулевые значения с положительными, умноженными на указанное число\n",
    "    target_upsampled = pd.concat([target_zeros] + [target_ones] * repeat)\n",
    "    \n",
    "    features_upsampled, target_upsampled = shuffle(\n",
    "        features_upsampled, target_upsampled, random_state=12345)# перемешиваем данные\n",
    "    \n",
    "    return features_upsampled, target_upsampled# возвращаем целевые значения и признаки после перемешивания и увеличения\n",
    "\n",
    "    \n",
    "features_upsampled, target_upsampled = upsample(features_train, target_train, 10)\n",
    "best_model = None\n",
    "best_result = 0\n",
    "for est in range(1,102,10):\n",
    "    for depth in range(1,31):\n",
    "        model1 = RandomForestClassifier(n_estimators = est, max_depth = depth, random_state = 12345, class_weight = 'balanced')#проводим обучение модели рандмоного леса на новых данных\n",
    "        model1.fit(features_upsampled, target_upsampled)\n",
    "        predicted_valid = model1.predict(features_valid)\n",
    "        result1 = f1_score(target_valid, predicted_valid)\n",
    "        if result1 > best_result:\n",
    "            best_result = result1\n",
    "            best_model = model1\n",
    "print('Лучшая модель рандомного леса:', best_model,'\\nЗначение F1:', best_result)"
   ]
  },
  {
   "cell_type": "code",
   "execution_count": 11,
   "metadata": {},
   "outputs": [
    {
     "data": {
      "image/png": "[encoded data removed]",
      "text/plain": [
       "<Figure size 432x432 with 1 Axes>"
      ]
     },
     "metadata": {
      "needs_background": "light"
     },
     "output_type": "display_data"
    },
    {
     "name": "stdout",
     "output_type": "stream",
     "text": [
      "Значение AUC-ROC: 0.8444475528477124\n"
     ]
    }
   ],
   "source": [
    "probabilities_valid = best_model.predict_proba(features_valid)\n",
    "probabilities_one_valid = probabilities_valid[:, 1]\n",
    "fpr, tpr, thresholds = roc_curve(target_valid, probabilities_one_valid)\n",
    "plt.figure(figsize=(6, 6))\n",
    "plt.plot(fpr, tpr)\n",
    "plt.xlabel('False Positive Rate')\n",
    "plt.ylabel('True Positive Rate')\n",
    "plt.ylim([0.0, 1.0])\n",
    "plt.xlim([0.0, 1.0])\n",
    "plt.title('ROC-кривая')\n",
    "plt.plot([0, 1], [0, 1], linestyle='--')\n",
    "plt.show()\n",
    "auc_roc = roc_auc_score(target_valid, probabilities_one_valid)\n",
    "\n",
    "print('Значение AUC-ROC:', auc_roc)"
   ]
  },
  {
   "cell_type": "markdown",
   "metadata": {},
   "source": [
    "С помощью тренировки модели на искуственно увеличенной выборке положительных значений удалось увеличить значение f1 до 0.59 на валидационной выборке. Построили кривую ошибок, значение AUC-ROC составило 0.84"
   ]
  },
  {
   "cell_type": "markdown",
   "metadata": {},
   "source": [
    "## Тестирование модели"
   ]
  },
  {
   "cell_type": "code",
   "execution_count": 12,
   "metadata": {},
   "outputs": [
    {
     "name": "stdout",
     "output_type": "stream",
     "text": [
      "Значение F1 на тестовой выборке 0.6206896551724138\n",
      "Порог = 0.00 | f1 = 0.352\n",
      "Порог = 0.01 | f1 = 0.354\n",
      "Порог = 0.02 | f1 = 0.360\n",
      "Порог = 0.03 | f1 = 0.369\n",
      "Порог = 0.04 | f1 = 0.378\n",
      "Порог = 0.05 | f1 = 0.385\n",
      "Порог = 0.06 | f1 = 0.394\n",
      "Порог = 0.07 | f1 = 0.401\n",
      "Порог = 0.08 | f1 = 0.407\n",
      "Порог = 0.09 | f1 = 0.415\n",
      "Порог = 0.10 | f1 = 0.424\n",
      "Порог = 0.11 | f1 = 0.433\n",
      "Порог = 0.12 | f1 = 0.441\n",
      "Порог = 0.13 | f1 = 0.450\n",
      "Порог = 0.14 | f1 = 0.459\n",
      "Порог = 0.15 | f1 = 0.464\n",
      "Порог = 0.16 | f1 = 0.474\n",
      "Порог = 0.17 | f1 = 0.481\n",
      "Порог = 0.18 | f1 = 0.484\n",
      "Порог = 0.19 | f1 = 0.491\n",
      "Порог = 0.20 | f1 = 0.500\n",
      "Порог = 0.21 | f1 = 0.507\n",
      "Порог = 0.22 | f1 = 0.513\n",
      "Порог = 0.23 | f1 = 0.521\n",
      "Порог = 0.24 | f1 = 0.529\n",
      "Порог = 0.25 | f1 = 0.540\n",
      "Порог = 0.26 | f1 = 0.548\n",
      "Порог = 0.27 | f1 = 0.554\n",
      "Порог = 0.28 | f1 = 0.553\n",
      "Порог = 0.29 | f1 = 0.560\n",
      "Порог = 0.30 | f1 = 0.565\n",
      "Порог = 0.31 | f1 = 0.576\n",
      "Порог = 0.32 | f1 = 0.585\n",
      "Порог = 0.33 | f1 = 0.585\n",
      "Порог = 0.34 | f1 = 0.588\n",
      "Порог = 0.35 | f1 = 0.582\n",
      "Порог = 0.36 | f1 = 0.587\n",
      "Порог = 0.37 | f1 = 0.594\n",
      "Порог = 0.38 | f1 = 0.602\n",
      "Порог = 0.39 | f1 = 0.604\n",
      "Порог = 0.40 | f1 = 0.609\n",
      "Порог = 0.41 | f1 = 0.610\n",
      "Порог = 0.42 | f1 = 0.611\n",
      "Порог = 0.43 | f1 = 0.614\n",
      "Порог = 0.44 | f1 = 0.618\n",
      "Порог = 0.45 | f1 = 0.621\n",
      "Порог = 0.46 | f1 = 0.622\n",
      "Порог = 0.47 | f1 = 0.624\n",
      "Порог = 0.48 | f1 = 0.624\n",
      "Порог = 0.49 | f1 = 0.629\n",
      "Порог = 0.50 | f1 = 0.621\n",
      "Порог = 0.51 | f1 = 0.615\n",
      "Порог = 0.52 | f1 = 0.614\n",
      "Порог = 0.53 | f1 = 0.614\n",
      "Порог = 0.54 | f1 = 0.614\n",
      "Порог = 0.55 | f1 = 0.610\n",
      "Порог = 0.56 | f1 = 0.612\n",
      "Порог = 0.57 | f1 = 0.605\n",
      "Порог = 0.58 | f1 = 0.608\n",
      "Порог = 0.59 | f1 = 0.606\n",
      "Порог = 0.60 | f1 = 0.606\n",
      "Порог = 0.61 | f1 = 0.592\n",
      "Порог = 0.62 | f1 = 0.587\n",
      "Порог = 0.63 | f1 = 0.572\n",
      "Порог = 0.64 | f1 = 0.572\n",
      "Порог = 0.65 | f1 = 0.567\n",
      "Порог = 0.66 | f1 = 0.558\n",
      "Порог = 0.67 | f1 = 0.549\n",
      "Порог = 0.68 | f1 = 0.546\n",
      "Порог = 0.69 | f1 = 0.539\n",
      "Порог = 0.70 | f1 = 0.522\n",
      "Порог = 0.71 | f1 = 0.510\n",
      "Порог = 0.72 | f1 = 0.505\n",
      "Порог = 0.73 | f1 = 0.498\n",
      "Порог = 0.74 | f1 = 0.492\n",
      "Порог = 0.75 | f1 = 0.485\n",
      "Порог = 0.76 | f1 = 0.475\n",
      "Порог = 0.77 | f1 = 0.460\n",
      "Порог = 0.78 | f1 = 0.445\n",
      "Порог = 0.79 | f1 = 0.430\n",
      "Порог = 0.80 | f1 = 0.419\n",
      "Порог = 0.81 | f1 = 0.395\n",
      "Порог = 0.82 | f1 = 0.377\n",
      "Порог = 0.83 | f1 = 0.362\n",
      "Порог = 0.84 | f1 = 0.345\n",
      "Порог = 0.85 | f1 = 0.321\n",
      "Порог = 0.86 | f1 = 0.302\n",
      "Порог = 0.87 | f1 = 0.286\n",
      "Порог = 0.88 | f1 = 0.273\n",
      "Порог = 0.89 | f1 = 0.262\n",
      "Порог = 0.90 | f1 = 0.233\n",
      "Порог = 0.91 | f1 = 0.207\n",
      "Порог = 0.92 | f1 = 0.197\n",
      "Порог = 0.93 | f1 = 0.151\n",
      "Порог = 0.94 | f1 = 0.131\n",
      "Порог = 0.95 | f1 = 0.098\n",
      "Порог = 0.96 | f1 = 0.050\n",
      "Порог = 0.97 | f1 = 0.019\n",
      "Порог = 0.98 | f1 = 0.000\n",
      "Порог = 0.99 | f1 = 0.000\n",
      "Значение f1 после изменения порога 0.6290868094701241\n"
     ]
    }
   ],
   "source": [
    "predicted_test = best_model.predict(features_test)\n",
    "print('Значение F1 на тестовой выборке',f1_score(target_test, predicted_test))\n",
    "def prediction_threshold(model,features, threshold): #строим функцию для изменения предсказания в зависимости от порога предсказаний\n",
    "    proba = model.predict_proba(features)# принимает три параметра: модель, параметря для предсказания, порог предсказания положительного значения\n",
    "    result = []\n",
    "    for i in range (len(proba)):\n",
    "    \n",
    "        if proba[i,1] >= threshold:\n",
    "            result.append(1.0)\n",
    "        else:\n",
    "            result.append(0.0)\n",
    "    return result\n",
    "for threshold in np.arange(0, 1, 0.01):# проводим анализ значения f1 для разного порога предсказания на лучшей модели и тестовой выборке\n",
    "    new_predictions = prediction_threshold(best_model, features_test, threshold)\n",
    "\n",
    "    print(\"Порог = {:.2f} | f1 = {:.3f}\".format(threshold, f1_score(target_test, new_predictions)))\n",
    "new_predictions = prediction_threshold(best_model, features_test, 0.49)\n",
    "print ('Значение f1 после изменения порога', f1_score(target_test, new_predictions))\n"
   ]
  },
  {
   "cell_type": "code",
   "execution_count": 13,
   "metadata": {
    "scrolled": true
   },
   "outputs": [
    {
     "data": {
      "image/png": "[encoded data removed]",
      "text/plain": [
       "<Figure size 432x432 with 1 Axes>"
      ]
     },
     "metadata": {
      "needs_background": "light"
     },
     "output_type": "display_data"
    }
   ],
   "source": [
    "probabilities_valid = best_model.predict_proba(features_test)\n",
    "probabilities_one_valid = probabilities_valid[:, 1]\n",
    "fpr, tpr, thresholds = roc_curve(target_test, probabilities_one_valid)\n",
    "plt.figure(figsize=(6, 6))\n",
    "plt.plot(fpr, tpr)\n",
    "plt.xlabel('False Positive Rate')\n",
    "plt.ylabel('True Positive Rate')\n",
    "plt.ylim([0.0, 1.0])\n",
    "plt.xlim([0.0, 1.0])\n",
    "plt.title('ROC-кривая')\n",
    "plt.plot([0, 1], [0, 1], linestyle='--')\n",
    "plt.show()"
   ]
  },
  {
   "cell_type": "code",
   "execution_count": 14,
   "metadata": {},
   "outputs": [
    {
     "name": "stdout",
     "output_type": "stream",
     "text": [
      "Значение AUC-ROC: 0.8597691429286064\n"
     ]
    }
   ],
   "source": [
    "auc_roc = roc_auc_score(target_test, probabilities_one_valid)\n",
    "\n",
    "print('Значение AUC-ROC:', auc_roc)"
   ]
  },
  {
   "cell_type": "code",
   "execution_count": 15,
   "metadata": {},
   "outputs": [
    {
     "name": "stdout",
     "output_type": "stream",
     "text": [
      "Значение f1 для DummyClassifier с параметром: stratified 0.1820418204182042\n",
      "Значение f1 для DummyClassifier с параметром: uniform 0.300355871886121\n"
     ]
    }
   ],
   "source": [
    "for i in ['stratified', 'uniform']:#посмотрим результаты f1 меры для dummy модели\n",
    "    cls = DummyClassifier(strategy = i).fit(features_train, target_train)\n",
    "    predicted_valid_test = cls.predict(features_test)\n",
    "    result = f1_score(target_test, predicted_valid_test)\n",
    "    print('Значение f1 для DummyClassifier с параметром:', i, result)\n"
   ]
  },
  {
   "cell_type": "code",
   "execution_count": 16,
   "metadata": {
    "scrolled": true
   },
   "outputs": [
    {
     "data": {
      "image/png": "[encoded data removed]",
      "text/plain": [
       "<Figure size 432x288 with 1 Axes>"
      ]
     },
     "metadata": {
      "needs_background": "light"
     },
     "output_type": "display_data"
    }
   ],
   "source": [
    "feature_names = [f\"{i}\" for i in features.columns]\n",
    "importances = best_model.feature_importances_\n",
    "std = np.std([tree.feature_importances_ for tree in best_model.estimators_], axis=0)\n",
    "forest_importances = pd.Series(importances, index=feature_names)\n",
    "\n",
    "fig, ax = plt.subplots()\n",
    "forest_importances.plot.bar(yerr=std, ax=ax)\n",
    "ax.set_title(\"Значение параметров для принятия решения\")\n",
    "fig.tight_layout()"
   ]
  },
  {
   "cell_type": "markdown",
   "metadata": {},
   "source": [
    "Модель была протестирована на тестовой выборке и показала значение f1 0.62, изменение порогового значения для принятия решения о выборе положительного класса на 0.49 позволило увеличить значение до 0.63. Была построена кривая ошибок, и посчитано значение AUC-ROC, которое оказалось равным 0.859. Модель показывает неплохие результаты в предсказании. Создали график учета параметров моделью при предсказании. Наиболее значимые параметры: возраст, количество продуктов, баланс на счету, заработная плата и кредитный рейтинг."
   ]
  }
 ],
 "metadata": {
  "kernelspec": {
   "display_name": "Python 3 (ipykernel)",
   "language": "python",
   "name": "python3"
  },
  "language_info": {
   "codemirror_mode": {
    "name": "ipython",
    "version": 3
   },
   "file_extension": ".py",
   "mimetype": "text/x-python",
   "name": "python",
   "nbconvert_exporter": "python",
   "pygments_lexer": "ipython3",
   "version": "3.8.12"
  },
  "toc": {
   "base_numbering": 1,
   "nav_menu": {},
   "number_sections": true,
   "sideBar": true,
   "skip_h1_title": true,
   "title_cell": "Содержание",
   "title_sidebar": "Contents",
   "toc_cell": true,
   "toc_position": {},
   "toc_section_display": true,
   "toc_window_display": true
  }
 },
 "nbformat": 4,
 "nbformat_minor": 2
}
