{
 "cells": [
  {
   "cell_type": "markdown",
   "metadata": {},
   "source": [
    "# Рекомендация тарифов"
   ]
  },
  {
   "cell_type": "markdown",
   "metadata": {},
   "source": [
    "В вашем распоряжении данные о поведении клиентов, которые уже перешли на эти тарифы (из проекта курса «Статистический анализ данных»). Нужно построить модель для задачи классификации, которая выберет подходящий тариф. Предобработка данных не понадобится — вы её уже сделали.\n",
    "\n",
    "Постройте модель с максимально большим значением *accuracy*. Чтобы сдать проект успешно, нужно довести долю правильных ответов по крайней мере до 0.75. Проверьте *accuracy* на тестовой выборке самостоятельно."
   ]
  },
  {
   "cell_type": "markdown",
   "metadata": {},
   "source": [
    "## Откройте и изучите файл"
   ]
  },
  {
   "cell_type": "code",
   "execution_count": 1,
   "metadata": {},
   "outputs": [
    {
     "name": "stdout",
     "output_type": "stream",
     "text": [
      "<class 'pandas.core.frame.DataFrame'>\n",
      "RangeIndex: 3214 entries, 0 to 3213\n",
      "Data columns (total 5 columns):\n",
      "calls       3214 non-null float64\n",
      "minutes     3214 non-null float64\n",
      "messages    3214 non-null float64\n",
      "mb_used     3214 non-null float64\n",
      "is_ultra    3214 non-null int64\n",
      "dtypes: float64(4), int64(1)\n",
      "memory usage: 125.7 KB\n",
      "False    3214\n",
      "dtype: int64\n",
      "   calls  minutes  messages   mb_used  is_ultra\n",
      "0   40.0   311.90      83.0  19915.42         0\n",
      "1   85.0   516.75      56.0  22696.96         0\n",
      "2   77.0   467.66      86.0  21060.45         0\n",
      "3  106.0   745.53      81.0   8437.39         1\n",
      "4   66.0   418.74       1.0  14502.75         0\n"
     ]
    }
   ],
   "source": [
    "import pandas as pd\n",
    "from sklearn.tree import DecisionTreeClassifier\n",
    "from sklearn.ensemble import RandomForestClassifier\n",
    "from sklearn.linear_model import LogisticRegression\n",
    "from sklearn.model_selection import train_test_split\n",
    "from sklearn.metrics import accuracy_score\n",
    "from warnings import simplefilter\n",
    "simplefilter(action='ignore', category=FutureWarning)\n",
    "df = pd.read_csv('/datasets/users_behavior.csv')\n",
    "df.info()# проверяем данные \n",
    "print(df.duplicated().value_counts())#изучаем данные на наличие дубликатов\n",
    "print(df.head(5))\n"
   ]
  },
  {
   "cell_type": "markdown",
   "metadata": {},
   "source": [
    "Открываем файл с помощью библиотеки Pandas, проверяем типы данных, пропущенных значений нет, дубликатов нет."
   ]
  },
  {
   "cell_type": "markdown",
   "metadata": {},
   "source": [
    "## Разбейте данные на выборки"
   ]
  },
  {
   "cell_type": "code",
   "execution_count": 2,
   "metadata": {},
   "outputs": [],
   "source": [
    "df, df_test = train_test_split(df, test_size = 0.2, random_state = 12345)# выделяем тестовую выборку\n",
    "target_test = df_test['is_ultra'] #выделяем целевые значения\n",
    "features_test = df_test.drop(['is_ultra'], axis = 1)\n",
    "target = df['is_ultra'] #выделяем целевые значения\n",
    "features = df.drop(['is_ultra'], axis = 1)# выделяем параметры \n",
    "train_target, valid_target, train_features, valid_features = train_test_split(target, features, test_size = 0.25,\n",
    "                                                                              random_state = 12345)# делим выборку на тренировочную и валидационную\n"
   ]
  },
  {
   "cell_type": "markdown",
   "metadata": {},
   "source": [
    "Делим выборку на тестовую, валидационную и тренировочную в соотношении 20%х20%х60%. Определяем параметры и целевые значения."
   ]
  },
  {
   "cell_type": "markdown",
   "metadata": {},
   "source": [
    "## Исследуйте модели"
   ]
  },
  {
   "cell_type": "code",
   "execution_count": 3,
   "metadata": {},
   "outputs": [
    {
     "name": "stdout",
     "output_type": "stream",
     "text": [
      "Параметры лучшей модели случайного  леса: RandomForestClassifier(bootstrap=True, class_weight=None, criterion='gini',\n",
      "                       max_depth=15, max_features='auto', max_leaf_nodes=None,\n",
      "                       min_impurity_decrease=0.0, min_impurity_split=None,\n",
      "                       min_samples_leaf=1, min_samples_split=2,\n",
      "                       min_weight_fraction_leaf=0.0, n_estimators=21,\n",
      "                       n_jobs=None, oob_score=False, random_state=12345,\n",
      "                       verbose=0, warm_start=False) Значение Accuracy 0.8009331259720062\n"
     ]
    }
   ],
   "source": [
    "best_model = None\n",
    "best_result = 0\n",
    "for est in range(1, 101, 10):\n",
    "    for depth in range (1, 21):# проверяем циклом количество деревьев в случанйном лесе с наилучшими параметрами accuracy\n",
    "        model = RandomForestClassifier(random_state=12345, n_estimators= est, max_depth = depth) \n",
    "        model.fit(train_features, train_target) \n",
    "        result = model.score(valid_features, valid_target) \n",
    "        if result > best_result:\n",
    "            best_model = model\n",
    "            best_result = result\n",
    "print('Параметры лучшей модели на основе случайного  леса:', best_model,'Значение Accuracy', best_result)"
   ]
  },
  {
   "cell_type": "markdown",
   "metadata": {},
   "source": [
    "Проводим обучение модели на основе случайного леса, подбираем оптимальное значение деревьев в промежутке от 1 до 101 с шагом в 10. И глубины деревьев в промежутке от 1 до 20. Считаем значение Accuracy для всех гиперпараметров, находим наиболее подходящее. Лучшим полученным на валидационной выборке значением является 80% точности. Сохраняем модель в переменную best_model."
   ]
  },
  {
   "cell_type": "code",
   "execution_count": 4,
   "metadata": {},
   "outputs": [
    {
     "name": "stdout",
     "output_type": "stream",
     "text": [
      "Параметры лучшей модели дерева решений: DecisionTreeClassifier(class_weight=None, criterion='gini', max_depth=7,\n",
      "                       max_features=None, max_leaf_nodes=None,\n",
      "                       min_impurity_decrease=0.0, min_impurity_split=None,\n",
      "                       min_samples_leaf=1, min_samples_split=2,\n",
      "                       min_weight_fraction_leaf=0.0, presort=False,\n",
      "                       random_state=12345, splitter='best') Значение Accuracy 0.7744945567651633\n"
     ]
    }
   ],
   "source": [
    "best_model1 = None\n",
    "best_result1 = 0\n",
    "for i in range (1,21):\n",
    "    model1 = DecisionTreeClassifier(random_state=12345, max_depth = i)\n",
    "    model1.fit(train_features, train_target) \n",
    "    result1 = model1.score(valid_features, valid_target) \n",
    "    if result1 > best_result1:\n",
    "        best_model1 = model1\n",
    "        best_result1 = result1\n",
    "print('Параметры лучшей модели на основе дерева решений:', best_model1,'Значение Accuracy', best_result1)"
   ]
  },
  {
   "cell_type": "markdown",
   "metadata": {},
   "source": [
    "Проводим обучение модели на основе дерева решений, подбираем оптимальное значение глубины деревьев в промежутке от 1 до 20. Считаем значение Accuracy для всех гиперпараметров, находим наиболее подходящее. Лучшим полученным на валидационной выборке значением является 77% точности. Сохраняем модель в переменную best_model1."
   ]
  },
  {
   "cell_type": "code",
   "execution_count": 5,
   "metadata": {},
   "outputs": [
    {
     "name": "stdout",
     "output_type": "stream",
     "text": [
      "Значение Accuracy у логистической регрессии : 0.6967340590979783\n"
     ]
    }
   ],
   "source": [
    "model2 = LogisticRegression(random_state=12345)\n",
    "model2.fit(train_features, train_target) \n",
    "pred = model2.predict(valid_features)\n",
    "result2 = model2.score(valid_features, valid_target) \n",
    "print('Значение Accuracy у логистической регрессии :', result2)"
   ]
  },
  {
   "cell_type": "markdown",
   "metadata": {},
   "source": [
    "Проводим обучение модели на основе логистической регрессии. Полученным на валидационной выборке значением является 69% точности. Сохраняем модель в переменную model2."
   ]
  },
  {
   "cell_type": "markdown",
   "metadata": {},
   "source": [
    "Исходя из проведенных тестов моделей на валидацинной выборке, лидером является случайный лес с результатом 80% правильных предсказаний. Дерево решений тоже хорошо себя показало с результатом в 77% правильных предсказаний. Логистическая регрессия сильно отстает с результатом 70%."
   ]
  },
  {
   "cell_type": "markdown",
   "metadata": {},
   "source": [
    "## Проверьте модель на тестовой выборке"
   ]
  },
  {
   "cell_type": "code",
   "execution_count": 6,
   "metadata": {},
   "outputs": [
    {
     "name": "stdout",
     "output_type": "stream",
     "text": [
      "Результат проверки лучшей модели на тестовой выборке: 0.7822706065318819\n",
      "Результат проверки второй по качеству модели на тестовой выборке: 0.7884914463452566\n"
     ]
    }
   ],
   "source": [
    "\n",
    "print('Результат проверки лучшей модели на тестовой выборке:',best_model.score(features_test, target_test))# проверяем качество модели на тестовой выборке\n",
    "print('Результат проверки второй по качеству модели на тестовой выборке:',best_model1.score(features_test, target_test))"
   ]
  },
  {
   "cell_type": "markdown",
   "metadata": {},
   "source": [
    "В результате проведения тестирования лучшей модели на тестовой выборке, получили результат 78%. Для интереса проверили результат примения на тестовой выборке лучшей модели из класса Дерево решений, результаты получились сопостовимыми. На первый взгляд, выглядит неплохо, но нужно еще проверить модель на адекватность."
   ]
  },
  {
   "cell_type": "markdown",
   "metadata": {},
   "source": [
    "## (бонус) Проверьте модели на адекватность"
   ]
  },
  {
   "cell_type": "code",
   "execution_count": 7,
   "metadata": {},
   "outputs": [
    {
     "name": "stdout",
     "output_type": "stream",
     "text": [
      "Значение Accuracy для DummyClassifier который предсказывает самый частый вариант класса 0.6951788491446346\n",
      "Значение Accuracy для DummyClassifier который предсказывает классы исходя из класса обучающей выборки 0.5629860031104199\n",
      "Значение Accuracy для DummyClassifier который предсказывает классы поровну 0.5116640746500778\n"
     ]
    }
   ],
   "source": [
    "from sklearn.dummy import DummyClassifier #добавляем DummyClassifier из библиотеки sklearn\n",
    "frequent_cls = DummyClassifier(strategy = 'most_frequent').fit(train_features, train_target)# обучаем DummyClassifier на нашей обучающей выборке с параметром \"most_frequent\"\n",
    "print('Значение Accuracy для DummyClassifier который предсказывает самый частый вариант класса', frequent_cls.score(features_test, target_test)) #“stratified”, “most_frequent”, “prior”, “uniform”, “constant”\n",
    "stratified_cls = DummyClassifier(strategy = 'stratified').fit(train_features, train_target)\n",
    "print('Значение Accuracy для DummyClassifier который предсказывает классы исходя из класса обучающей выборки', stratified_cls.score(features_test, target_test))\n",
    "uniform_cls = DummyClassifier(strategy = 'uniform').fit(train_features, train_target)\n",
    "print('Значение Accuracy для DummyClassifier который предсказывает классы поровну', uniform_cls.score(features_test, target_test))"
   ]
  },
  {
   "cell_type": "markdown",
   "metadata": {},
   "source": [
    "Исходя из проведенного тестирования, делаем вывод, что выбранная модель отвечает критериям адекватности, случайно результат 78% правильных предсказаний получить не удалось. Просто проставление самого популярного класса дала результат в 70% правильных предсказаний, результат сопоставим с использованием логистической регрессии, делаем вывод, что данная модель в данном случае была правильно отброшена в ходе выбора модели."
   ]
  },
  {
   "cell_type": "markdown",
   "metadata": {},
   "source": [
    "По итогу проведенной работы, можно заключить, что на практике возможно использование модели на основе рандомоного леса и дерева решений, поскольку на тестовой выборке они показали сходный результат. Валидационная выборка показала преимущество рандомного леса (3%), однако в условиях ограниченных вычислительных ресурсов дерево решений тоже может применяться. "
   ]
  }
 ],
 "metadata": {
  "ExecuteTimeLog": [
   {
    "duration": 809,
    "start_time": "2021-11-15T08:26:38.558Z"
   },
   {
    "duration": 30,
    "start_time": "2021-11-15T08:27:15.972Z"
   },
   {
    "duration": 36,
    "start_time": "2021-11-15T08:29:41.603Z"
   },
   {
    "duration": 1194,
    "start_time": "2021-11-15T09:06:22.330Z"
   },
   {
    "duration": 782,
    "start_time": "2021-11-15T09:06:29.698Z"
   },
   {
    "duration": 9,
    "start_time": "2021-11-15T09:06:33.079Z"
   },
   {
    "duration": 441,
    "start_time": "2021-11-15T09:12:05.071Z"
   },
   {
    "duration": 3227,
    "start_time": "2021-11-15T09:12:49.653Z"
   },
   {
    "duration": 3110,
    "start_time": "2021-11-15T09:15:07.759Z"
   },
   {
    "duration": 313,
    "start_time": "2021-11-15T09:21:24.409Z"
   },
   {
    "duration": 313,
    "start_time": "2021-11-15T09:22:34.547Z"
   },
   {
    "duration": 76,
    "start_time": "2021-11-15T09:22:44.777Z"
   },
   {
    "duration": 81,
    "start_time": "2021-11-15T09:23:21.842Z"
   },
   {
    "duration": 25,
    "start_time": "2021-11-15T09:27:09.843Z"
   },
   {
    "duration": 1688,
    "start_time": "2021-11-15T09:28:27.525Z"
   },
   {
    "duration": 10,
    "start_time": "2021-11-15T09:28:29.216Z"
   },
   {
    "duration": 3371,
    "start_time": "2021-11-15T09:28:29.229Z"
   },
   {
    "duration": 88,
    "start_time": "2021-11-15T09:28:32.602Z"
   },
   {
    "duration": 23,
    "start_time": "2021-11-15T09:28:32.692Z"
   },
   {
    "duration": 1405,
    "start_time": "2021-11-15T09:58:17.637Z"
   },
   {
    "duration": 21,
    "start_time": "2021-11-15T09:58:19.045Z"
   },
   {
    "duration": 17211,
    "start_time": "2021-11-15T09:58:19.071Z"
   },
   {
    "duration": 94,
    "start_time": "2021-11-15T09:58:36.285Z"
   },
   {
    "duration": 22,
    "start_time": "2021-11-15T09:58:36.381Z"
   },
   {
    "duration": 1476,
    "start_time": "2021-11-16T08:58:20.083Z"
   },
   {
    "duration": 122,
    "start_time": "2021-11-16T08:58:21.562Z"
   },
   {
    "duration": 1748,
    "start_time": "2021-11-16T08:58:19.939Z"
   },
   {
    "duration": 1746,
    "start_time": "2021-11-16T08:58:19.942Z"
   },
   {
    "duration": 1747,
    "start_time": "2021-11-16T08:58:19.943Z"
   },
   {
    "duration": 11,
    "start_time": "2021-11-16T08:58:27.344Z"
   },
   {
    "duration": 16451,
    "start_time": "2021-11-16T08:58:31.763Z"
   },
   {
    "duration": 86,
    "start_time": "2021-11-16T08:58:48.217Z"
   },
   {
    "duration": 20,
    "start_time": "2021-11-16T08:58:48.306Z"
   },
   {
    "duration": 16,
    "start_time": "2021-11-16T08:59:36.087Z"
   },
   {
    "duration": 23,
    "start_time": "2021-11-16T08:59:45.870Z"
   },
   {
    "duration": 515,
    "start_time": "2021-11-16T09:03:25.837Z"
   },
   {
    "duration": 1824,
    "start_time": "2021-11-16T09:03:36.797Z"
   },
   {
    "duration": 17,
    "start_time": "2021-11-16T09:03:38.624Z"
   },
   {
    "duration": 23308,
    "start_time": "2021-11-16T09:03:38.645Z"
   },
   {
    "duration": 112,
    "start_time": "2021-11-16T09:04:01.956Z"
   },
   {
    "duration": 36,
    "start_time": "2021-11-16T09:04:02.070Z"
   },
   {
    "duration": 17,
    "start_time": "2021-11-16T09:04:02.108Z"
   },
   {
    "duration": 669,
    "start_time": "2021-11-16T09:06:10.613Z"
   },
   {
    "duration": 16,
    "start_time": "2021-11-16T09:06:19.463Z"
   },
   {
    "duration": 2564,
    "start_time": "2021-11-16T09:06:39.751Z"
   },
   {
    "duration": 16,
    "start_time": "2021-11-16T09:06:42.318Z"
   },
   {
    "duration": 16717,
    "start_time": "2021-11-16T09:06:42.340Z"
   },
   {
    "duration": 81,
    "start_time": "2021-11-16T09:06:59.059Z"
   },
   {
    "duration": 18,
    "start_time": "2021-11-16T09:06:59.143Z"
   },
   {
    "duration": 37,
    "start_time": "2021-11-16T09:06:59.163Z"
   },
   {
    "duration": 19,
    "start_time": "2021-11-16T09:07:49.311Z"
   },
   {
    "duration": 22,
    "start_time": "2021-11-16T09:17:49.963Z"
   },
   {
    "duration": 16,
    "start_time": "2021-11-16T09:18:03.201Z"
   },
   {
    "duration": 1503,
    "start_time": "2021-11-16T09:18:36.069Z"
   },
   {
    "duration": 15,
    "start_time": "2021-11-16T09:18:37.575Z"
   },
   {
    "duration": 15557,
    "start_time": "2021-11-16T09:18:37.593Z"
   },
   {
    "duration": 81,
    "start_time": "2021-11-16T09:18:53.153Z"
   },
   {
    "duration": 17,
    "start_time": "2021-11-16T09:18:53.237Z"
   },
   {
    "duration": 43,
    "start_time": "2021-11-16T09:18:53.257Z"
   },
   {
    "duration": 17,
    "start_time": "2021-11-16T09:19:13.973Z"
   },
   {
    "duration": 16,
    "start_time": "2021-11-16T09:19:16.457Z"
   },
   {
    "duration": 35,
    "start_time": "2021-11-16T09:21:08.392Z"
   },
   {
    "duration": 560,
    "start_time": "2021-11-16T09:21:21.890Z"
   },
   {
    "duration": 41,
    "start_time": "2021-11-16T09:21:32.828Z"
   },
   {
    "duration": 33,
    "start_time": "2021-11-16T09:22:14.918Z"
   },
   {
    "duration": 30,
    "start_time": "2021-11-16T09:22:42.060Z"
   },
   {
    "duration": 31,
    "start_time": "2021-11-16T09:27:10.065Z"
   },
   {
    "duration": 19,
    "start_time": "2021-11-16T10:27:26.076Z"
   },
   {
    "duration": 1469,
    "start_time": "2021-11-16T10:27:32.717Z"
   },
   {
    "duration": 14,
    "start_time": "2021-11-16T10:27:34.189Z"
   },
   {
    "duration": 16322,
    "start_time": "2021-11-16T10:27:34.208Z"
   },
   {
    "duration": 87,
    "start_time": "2021-11-16T10:27:50.532Z"
   },
   {
    "duration": 17,
    "start_time": "2021-11-16T10:27:50.621Z"
   },
   {
    "duration": 31,
    "start_time": "2021-11-16T10:27:50.640Z"
   },
   {
    "duration": 1531,
    "start_time": "2021-11-16T10:29:04.980Z"
   },
   {
    "duration": 16,
    "start_time": "2021-11-16T10:29:06.515Z"
   },
   {
    "duration": 659,
    "start_time": "2021-11-16T10:29:06.537Z"
   },
   {
    "duration": 19,
    "start_time": "2021-11-16T10:29:07.180Z"
   },
   {
    "duration": 18,
    "start_time": "2021-11-16T10:29:07.182Z"
   },
   {
    "duration": 19,
    "start_time": "2021-11-16T10:29:07.183Z"
   },
   {
    "duration": 1945,
    "start_time": "2021-11-16T10:29:27.172Z"
   },
   {
    "duration": 12,
    "start_time": "2021-11-16T10:29:29.119Z"
   },
   {
    "duration": 16575,
    "start_time": "2021-11-16T10:29:29.135Z"
   },
   {
    "duration": 69,
    "start_time": "2021-11-16T10:29:45.713Z"
   },
   {
    "duration": 19,
    "start_time": "2021-11-16T10:29:45.801Z"
   },
   {
    "duration": 30,
    "start_time": "2021-11-16T10:29:45.823Z"
   },
   {
    "duration": 1476,
    "start_time": "2021-11-16T10:32:35.793Z"
   },
   {
    "duration": 13,
    "start_time": "2021-11-16T10:32:37.272Z"
   },
   {
    "duration": 37393,
    "start_time": "2021-11-16T10:32:37.292Z"
   },
   {
    "duration": 92,
    "start_time": "2021-11-16T10:33:14.688Z"
   },
   {
    "duration": 30,
    "start_time": "2021-11-16T10:33:14.783Z"
   },
   {
    "duration": 22,
    "start_time": "2021-11-16T10:33:14.815Z"
   },
   {
    "duration": 5,
    "start_time": "2021-11-16T11:37:22.497Z"
   },
   {
    "duration": 16,
    "start_time": "2021-11-16T11:37:55.684Z"
   },
   {
    "duration": 10,
    "start_time": "2021-11-16T11:43:55.459Z"
   },
   {
    "duration": 14,
    "start_time": "2021-11-16T11:45:12.823Z"
   },
   {
    "duration": 12,
    "start_time": "2021-11-16T11:46:05.180Z"
   },
   {
    "duration": 1532,
    "start_time": "2021-11-16T11:46:46.658Z"
   },
   {
    "duration": 13,
    "start_time": "2021-11-16T11:46:48.192Z"
   },
   {
    "duration": 39293,
    "start_time": "2021-11-16T11:46:48.209Z"
   },
   {
    "duration": 70,
    "start_time": "2021-11-16T11:47:27.505Z"
   },
   {
    "duration": 36,
    "start_time": "2021-11-16T11:47:27.577Z"
   },
   {
    "duration": 24,
    "start_time": "2021-11-16T11:47:27.615Z"
   },
   {
    "duration": 13,
    "start_time": "2021-11-16T11:47:27.641Z"
   },
   {
    "duration": 1379,
    "start_time": "2021-11-16T11:54:11.920Z"
   },
   {
    "duration": 13,
    "start_time": "2021-11-16T11:54:13.302Z"
   },
   {
    "duration": 42047,
    "start_time": "2021-11-16T11:54:13.318Z"
   },
   {
    "duration": 319,
    "start_time": "2021-11-16T11:54:55.368Z"
   },
   {
    "duration": 29,
    "start_time": "2021-11-16T11:54:55.690Z"
   },
   {
    "duration": 27,
    "start_time": "2021-11-16T11:54:55.722Z"
   },
   {
    "duration": 49,
    "start_time": "2021-11-16T11:54:55.752Z"
   },
   {
    "duration": 13,
    "start_time": "2021-11-16T12:00:43.737Z"
   },
   {
    "duration": 16,
    "start_time": "2021-11-16T12:09:14.371Z"
   },
   {
    "duration": 1442,
    "start_time": "2021-11-16T12:14:28.748Z"
   },
   {
    "duration": 18,
    "start_time": "2021-11-16T12:14:30.193Z"
   },
   {
    "duration": 39359,
    "start_time": "2021-11-16T12:14:30.215Z"
   },
   {
    "duration": 217,
    "start_time": "2021-11-16T12:15:09.577Z"
   },
   {
    "duration": 25,
    "start_time": "2021-11-16T12:15:09.801Z"
   },
   {
    "duration": 16,
    "start_time": "2021-11-16T12:15:09.829Z"
   },
   {
    "duration": 11,
    "start_time": "2021-11-16T12:15:09.848Z"
   }
  ],
  "kernelspec": {
   "display_name": "Python 3 (ipykernel)",
   "language": "python",
   "name": "python3"
  },
  "language_info": {
   "codemirror_mode": {
    "name": "ipython",
    "version": 3
   },
   "file_extension": ".py",
   "mimetype": "text/x-python",
   "name": "python",
   "nbconvert_exporter": "python",
   "pygments_lexer": "ipython3",
   "version": "3.8.12"
  },
  "toc": {
   "base_numbering": 1,
   "nav_menu": {},
   "number_sections": true,
   "sideBar": true,
   "skip_h1_title": true,
   "title_cell": "Table of Contents",
   "title_sidebar": "Contents",
   "toc_cell": false,
   "toc_position": {},
   "toc_section_display": true,
   "toc_window_display": false
  }
 },
 "nbformat": 4,
 "nbformat_minor": 2
}
