{
 "cells": [
  {
   "cell_type": "markdown",
   "id": "76892c45",
   "metadata": {},
   "source": [
    "# Описание проекта\n"
   ]
  },
  {
   "cell_type": "markdown",
   "id": "ed51ea49",
   "metadata": {},
   "source": [
    "Оператор связи «Ниединогоразрыва.ком» хочет научиться прогнозировать отток клиентов. Если выяснится, что пользователь планирует уйти, ему будут предложены промокоды и специальные условия. Команда оператора собрала персональные данные о некоторых клиентах, информацию об их тарифах и договорах."
   ]
  },
  {
   "cell_type": "markdown",
   "id": "ae6bfba4",
   "metadata": {},
   "source": [
    "# Описание данных"
   ]
  },
  {
   "cell_type": "markdown",
   "id": "f438719d",
   "metadata": {},
   "source": [
    "Данные состоят из файлов, полученных из разных источников:\n",
    "Данные состоят из файлов, полученных из разных источников:\n",
    "\n",
    "- contract.csv — информация о договоре;\n",
    "- personal.csv — персональные данные клиента;\n",
    "- internet.csv — информация об интернет-услугах;\n",
    "- phone.csv — информация об услугах телефонии\n",
    "\n"
   ]
  },
  {
   "cell_type": "markdown",
   "id": "ce44d3a1",
   "metadata": {},
   "source": [
    "Описание полей данных:\n",
    "- BeginDate – дата начала пользования услугами,\n",
    "- EndDate – дата окончания пользования услугами,\n",
    "- Type – тип оплаты: ежемесячный, годовой и тд,\n",
    "- PaperlessBilling – безналичный расчет,\n",
    "- PaymentMethod – способ оплаты,\n",
    "- MonthlyCharges – ежемесячные траты на услуги,\n",
    "- TotalCharges – всего потрачено денег на услуги\n",
    "- Dependents – наличие иждивенцев\n",
    "- Senior Citizen – наличие пенсионного статуса по возрасту\n",
    "- Partner – наличие супруга(и)\n",
    "- MultipleLines – наличие возможности ведения параллельных линий во время звонка"
   ]
  },
  {
   "cell_type": "code",
   "execution_count": 3,
   "id": "d3091a6a",
   "metadata": {},
   "outputs": [],
   "source": [
    "import sweetviz as sv\n",
    "import pandas as pd\n",
    "import numpy as np \n",
    "import time\n",
    "import seaborn as sns\n",
    "import matplotlib.pyplot as plt\n",
    "from sklearn.model_selection import train_test_split, GridSearchCV, cross_val_score\n",
    "from sklearn.metrics import roc_auc_score, roc_curve, accuracy_score\n",
    "from sklearn.utils import shuffle\n",
    "from sklearn.preprocessing import StandardScaler\n",
    "from sklearn.preprocessing import OrdinalEncoder\n",
    "from sklearn.tree import DecisionTreeClassifier\n",
    "from sklearn.linear_model import LogisticRegression\n",
    "from sklearn.ensemble import RandomForestClassifier\n",
    "from catboost import CatBoostClassifier\n",
    "from lightgbm import LGBMClassifier\n",
    "import warnings\n",
    "warnings.filterwarnings('ignore')\n",
    "RANDOM_STATE = 12345"
   ]
  },
  {
   "cell_type": "code",
   "execution_count": 4,
   "id": "c0fa9d15",
   "metadata": {},
   "outputs": [],
   "source": [
    "df_con = pd.read_csv('/datasets/final_provider/contract.csv')\n",
    "df_int = pd.read_csv('/datasets/final_provider/internet.csv')\n",
    "df_pers = pd.read_csv('/datasets/final_provider/personal.csv')\n",
    "df_phone = pd.read_csv('/datasets/final_provider/phone.csv')"
   ]
  },
  {
   "cell_type": "code",
   "execution_count": 6,
   "id": "bc32a441",
   "metadata": {
    "scrolled": true
   },
   "outputs": [
    {
     "name": "stdout",
     "output_type": "stream",
     "text": [
      "<class 'pandas.core.frame.DataFrame'>\n",
      "RangeIndex: 7043 entries, 0 to 7042\n",
      "Data columns (total 8 columns):\n",
      " #   Column            Non-Null Count  Dtype         \n",
      "---  ------            --------------  -----         \n",
      " 0   customerID        7043 non-null   object        \n",
      " 1   BeginDate         7043 non-null   datetime64[ns]\n",
      " 2   EndDate           1869 non-null   datetime64[ns]\n",
      " 3   Type              7043 non-null   object        \n",
      " 4   PaperlessBilling  7043 non-null   object        \n",
      " 5   PaymentMethod     7043 non-null   object        \n",
      " 6   MonthlyCharges    7043 non-null   float64       \n",
      " 7   TotalCharges      7032 non-null   float64       \n",
      "dtypes: datetime64[ns](2), float64(2), object(4)\n",
      "memory usage: 440.3+ KB\n"
     ]
    }
   ],
   "source": [
    "#df_con = pd.read_csv('C:/Users/VovAz/Desktop/Проект/Финальный проект/contract.csv')\n",
    "\n",
    "df_con.info()\n",
    "\n",
    "df_con['TotalCharges'] = pd.to_numeric(df_con['TotalCharges'], errors='coerce')\n",
    "df_con['BeginDate'] = pd.to_datetime(df_con['BeginDate'], format='%Y-%m-%d')\n",
    "df_con['EndDate'] = pd.to_datetime(df_con['EndDate'], format='%Y-%m-%d', errors='coerce')\n",
    "\n",
    "#report_con = sv.analyze([df_con, \"contract\"])"
   ]
  },
  {
   "cell_type": "code",
   "execution_count": 3,
   "id": "3c84cc42",
   "metadata": {},
   "outputs": [
    {
     "name": "stdout",
     "output_type": "stream",
     "text": [
      "Report SWEETVIZ_REPORT.html was generated! NOTEBOOK/COLAB USERS: the web browser MAY not pop up, regardless, the report IS saved in your notebook/colab files.\n"
     ]
    }
   ],
   "source": [
    "report_con.show_html()"
   ]
  },
  {
   "cell_type": "markdown",
   "id": "fc945b19",
   "metadata": {},
   "source": [
    "Изучили данные по контрактам. 4 категориальных столбца, 2 столбца с датами в формате obj, нужно заменить на формат DateTime.Формат столбца TotalCharges - obj, требуется изменение формата на float. Пропусков и дубликатов нет. В стобце EndDate 5 уникальных значений, 73% значений - no, что может означать, что данные клиенты активны. В столбце MonthlyCharges изучили значения минимальных и максимальных значений, значение дисперсии, стандартного отклонения, данные сбаланисрованы, с пологими пиками и хвостом, направленным к отрицательным значениям.\n",
    "\\n\n",
    "В столбце TotalCharges после замены формата были утеряны 11 значений, изучили значения минимальных и максимальных значений, значение дисперсии, стандартного отклонения,, данные в нем сбалансированы, сильных выбросов нет, с пологими пиками и хвостом, направленным к положительным значениям."
   ]
  },
  {
   "cell_type": "code",
   "execution_count": 4,
   "id": "6d7b83fe",
   "metadata": {},
   "outputs": [
    {
     "data": {
      "application/vnd.jupyter.widget-view+json": {
       "model_id": "47ecb4d3c3084aceb19b2405a7d8088b",
       "version_major": 2,
       "version_minor": 0
      },
      "text/plain": [
       "                                             |          | [  0%]   00:00 -> (? left)"
      ]
     },
     "metadata": {},
     "output_type": "display_data"
    },
    {
     "name": "stdout",
     "output_type": "stream",
     "text": [
      "Report SWEETVIZ_REPORT.html was generated! NOTEBOOK/COLAB USERS: the web browser MAY not pop up, regardless, the report IS saved in your notebook/colab files.\n",
      "<class 'pandas.core.frame.DataFrame'>\n",
      "RangeIndex: 5517 entries, 0 to 5516\n",
      "Data columns (total 8 columns):\n",
      " #   Column            Non-Null Count  Dtype \n",
      "---  ------            --------------  ----- \n",
      " 0   customerID        5517 non-null   object\n",
      " 1   InternetService   5517 non-null   object\n",
      " 2   OnlineSecurity    5517 non-null   object\n",
      " 3   OnlineBackup      5517 non-null   object\n",
      " 4   DeviceProtection  5517 non-null   object\n",
      " 5   TechSupport       5517 non-null   object\n",
      " 6   StreamingTV       5517 non-null   object\n",
      " 7   StreamingMovies   5517 non-null   object\n",
      "dtypes: object(8)\n",
      "memory usage: 344.9+ KB\n"
     ]
    }
   ],
   "source": [
    "#df_int = pd.read_csv('C:/Users/VovAz/Desktop/Проект/Финальный проект/internet.csv')\n",
    "report_int = sv.analyze([df_int, \"internet\"])\n",
    "report_int.show_html()\n",
    "df_int.info()"
   ]
  },
  {
   "cell_type": "markdown",
   "id": "85db94bf",
   "metadata": {},
   "source": [
    "Данные с интернет пользователями содержат категориальные значения, пропусков и дубликатов нет, требуется только обработка с помощью ohe."
   ]
  },
  {
   "cell_type": "code",
   "execution_count": 5,
   "id": "78cd9be4",
   "metadata": {},
   "outputs": [
    {
     "data": {
      "application/vnd.jupyter.widget-view+json": {
       "model_id": "860aad4a070c44ec9d57669b9cd92ee2",
       "version_major": 2,
       "version_minor": 0
      },
      "text/plain": [
       "                                             |          | [  0%]   00:00 -> (? left)"
      ]
     },
     "metadata": {},
     "output_type": "display_data"
    },
    {
     "name": "stdout",
     "output_type": "stream",
     "text": [
      "Report SWEETVIZ_REPORT.html was generated! NOTEBOOK/COLAB USERS: the web browser MAY not pop up, regardless, the report IS saved in your notebook/colab files.\n",
      "<class 'pandas.core.frame.DataFrame'>\n",
      "RangeIndex: 7043 entries, 0 to 7042\n",
      "Data columns (total 5 columns):\n",
      " #   Column         Non-Null Count  Dtype \n",
      "---  ------         --------------  ----- \n",
      " 0   customerID     7043 non-null   object\n",
      " 1   gender         7043 non-null   object\n",
      " 2   SeniorCitizen  7043 non-null   int64 \n",
      " 3   Partner        7043 non-null   object\n",
      " 4   Dependents     7043 non-null   object\n",
      "dtypes: int64(1), object(4)\n",
      "memory usage: 275.2+ KB\n"
     ]
    }
   ],
   "source": [
    "df_pers = pd.read_csv('C:/Users/VovAz/Desktop/Проект/Финальный проект/personal.csv')\n",
    "report_pers = sv.analyze([df_pers, \"personal\"])\n",
    "report_pers.show_html()\n",
    "df_pers.info()"
   ]
  },
  {
   "cell_type": "markdown",
   "id": "6193a398",
   "metadata": {},
   "source": [
    "В данной таблице содержатся данные о пользователях: о его поле, имеются ли партнеры, иждивенцы и является ли клиент пенсионером. Пропусков и дубликатов нет."
   ]
  },
  {
   "cell_type": "code",
   "execution_count": 6,
   "id": "d1b5e77d",
   "metadata": {},
   "outputs": [
    {
     "data": {
      "application/vnd.jupyter.widget-view+json": {
       "model_id": "d63bc13c0d984075ada7dea629d7712b",
       "version_major": 2,
       "version_minor": 0
      },
      "text/plain": [
       "                                             |          | [  0%]   00:00 -> (? left)"
      ]
     },
     "metadata": {},
     "output_type": "display_data"
    },
    {
     "name": "stdout",
     "output_type": "stream",
     "text": [
      "Report SWEETVIZ_REPORT.html was generated! NOTEBOOK/COLAB USERS: the web browser MAY not pop up, regardless, the report IS saved in your notebook/colab files.\n",
      "<class 'pandas.core.frame.DataFrame'>\n",
      "RangeIndex: 6361 entries, 0 to 6360\n",
      "Data columns (total 2 columns):\n",
      " #   Column         Non-Null Count  Dtype \n",
      "---  ------         --------------  ----- \n",
      " 0   customerID     6361 non-null   object\n",
      " 1   MultipleLines  6361 non-null   object\n",
      "dtypes: object(2)\n",
      "memory usage: 99.5+ KB\n"
     ]
    }
   ],
   "source": [
    "#df_phone = pd.read_csv('C:/Users/VovAz/Desktop/Проект/Финальный проект/phone.csv')\n",
    "report_phone = sv.analyze([df_phone, \"phone\"])\n",
    "report_phone.show_html()\n",
    "df_phone.info()"
   ]
  },
  {
   "cell_type": "markdown",
   "id": "be68a58e",
   "metadata": {},
   "source": [
    "В данной талице содержатся данные о том пользуется ли клиент несколькими линиями, поскольку количество значений в таблице меньше, чем в основной предлагается заменить пропуски значением 'No'. "
   ]
  },
  {
   "cell_type": "code",
   "execution_count": null,
   "id": "4ea4aa55",
   "metadata": {},
   "outputs": [],
   "source": []
  },
  {
   "cell_type": "markdown",
   "id": "3190dec2",
   "metadata": {},
   "source": [
    "# План\n",
    "##  Соединить таблицы.\n",
    "### Для того, чтобы собрать в одну таблицу данные по клиентам.\n",
    "## Заполнить недостающие значения.\n",
    "### И изменить значение целевого признака на булев тип для отслеживания ухода клиентов\n",
    "##  Провести кодирование категориальных признаков.\n",
    "##  Разделить выборку на тестовую и тренировочную, в тренировочной провести балансировку классов.\n",
    "##  Обучить модели."
   ]
  },
  {
   "cell_type": "code",
   "execution_count": 7,
   "id": "fba28d85",
   "metadata": {},
   "outputs": [
    {
     "name": "stdout",
     "output_type": "stream",
     "text": [
      "['CustomerID' 'BeginDate' 'EndDate' 'Type' 'PaperlessBilling'\n",
      " 'PaymentMethod' 'MonthlyCharges' 'TotalCharges']\n"
     ]
    }
   ],
   "source": [
    "df_con = df_con.rename(columns={'customerID': 'CustomerID'})\n",
    "print(df_con.columns.values)"
   ]
  },
  {
   "cell_type": "code",
   "execution_count": 8,
   "id": "795bb964",
   "metadata": {},
   "outputs": [
    {
     "name": "stdout",
     "output_type": "stream",
     "text": [
      "['CustomerID' 'Gender' 'SeniorCitizen' 'Partner' 'Dependents']\n"
     ]
    }
   ],
   "source": [
    "df_pers = df_pers.rename(columns={'customerID': 'CustomerID', 'gender': 'Gender'})\n",
    "print(df_pers.columns.values)"
   ]
  },
  {
   "cell_type": "code",
   "execution_count": 9,
   "id": "be76df23",
   "metadata": {},
   "outputs": [
    {
     "name": "stdout",
     "output_type": "stream",
     "text": [
      "['CustomerID' 'InternetService' 'OnlineSecurity' 'OnlineBackup'\n",
      " 'DeviceProtection' 'TechSupport' 'StreamingTV' 'StreamingMovies']\n"
     ]
    }
   ],
   "source": [
    "df_int = df_int.rename(columns={'customerID': 'CustomerID'})\n",
    "print(df_int.columns.values)"
   ]
  },
  {
   "cell_type": "code",
   "execution_count": 10,
   "id": "5a551b6c",
   "metadata": {},
   "outputs": [
    {
     "name": "stdout",
     "output_type": "stream",
     "text": [
      "['CustomerID' 'MultipleLines']\n"
     ]
    }
   ],
   "source": [
    "df_phone = df_phone.rename(columns={'customerID': 'CustomerID'})\n",
    "print(df_phone.columns.values)"
   ]
  },
  {
   "cell_type": "markdown",
   "id": "de355329",
   "metadata": {},
   "source": [
    "Привели названия столбцов к единому виду."
   ]
  },
  {
   "cell_type": "code",
   "execution_count": 11,
   "id": "299115ab",
   "metadata": {},
   "outputs": [
    {
     "data": {
      "text/html": [
       "<div>\n",
       "<style scoped>\n",
       "    .dataframe tbody tr th:only-of-type {\n",
       "        vertical-align: middle;\n",
       "    }\n",
       "\n",
       "    .dataframe tbody tr th {\n",
       "        vertical-align: top;\n",
       "    }\n",
       "\n",
       "    .dataframe thead th {\n",
       "        text-align: right;\n",
       "    }\n",
       "</style>\n",
       "<table border=\"1\" class=\"dataframe\">\n",
       "  <thead>\n",
       "    <tr style=\"text-align: right;\">\n",
       "      <th></th>\n",
       "      <th>CustomerID</th>\n",
       "      <th>BeginDate</th>\n",
       "      <th>EndDate</th>\n",
       "      <th>Type</th>\n",
       "      <th>PaperlessBilling</th>\n",
       "      <th>PaymentMethod</th>\n",
       "      <th>MonthlyCharges</th>\n",
       "      <th>TotalCharges</th>\n",
       "      <th>Churn</th>\n",
       "    </tr>\n",
       "  </thead>\n",
       "  <tbody>\n",
       "    <tr>\n",
       "      <th>0</th>\n",
       "      <td>7590-VHVEG</td>\n",
       "      <td>2020-01-01</td>\n",
       "      <td>NaT</td>\n",
       "      <td>Month-to-month</td>\n",
       "      <td>Yes</td>\n",
       "      <td>Electronic check</td>\n",
       "      <td>29.85</td>\n",
       "      <td>29.85</td>\n",
       "      <td>False</td>\n",
       "    </tr>\n",
       "    <tr>\n",
       "      <th>1</th>\n",
       "      <td>5575-GNVDE</td>\n",
       "      <td>2017-04-01</td>\n",
       "      <td>NaT</td>\n",
       "      <td>One year</td>\n",
       "      <td>No</td>\n",
       "      <td>Mailed check</td>\n",
       "      <td>56.95</td>\n",
       "      <td>1889.50</td>\n",
       "      <td>False</td>\n",
       "    </tr>\n",
       "    <tr>\n",
       "      <th>2</th>\n",
       "      <td>3668-QPYBK</td>\n",
       "      <td>2019-10-01</td>\n",
       "      <td>2019-12-01</td>\n",
       "      <td>Month-to-month</td>\n",
       "      <td>Yes</td>\n",
       "      <td>Mailed check</td>\n",
       "      <td>53.85</td>\n",
       "      <td>108.15</td>\n",
       "      <td>True</td>\n",
       "    </tr>\n",
       "    <tr>\n",
       "      <th>3</th>\n",
       "      <td>7795-CFOCW</td>\n",
       "      <td>2016-05-01</td>\n",
       "      <td>NaT</td>\n",
       "      <td>One year</td>\n",
       "      <td>No</td>\n",
       "      <td>Bank transfer (automatic)</td>\n",
       "      <td>42.30</td>\n",
       "      <td>1840.75</td>\n",
       "      <td>False</td>\n",
       "    </tr>\n",
       "    <tr>\n",
       "      <th>4</th>\n",
       "      <td>9237-HQITU</td>\n",
       "      <td>2019-09-01</td>\n",
       "      <td>2019-11-01</td>\n",
       "      <td>Month-to-month</td>\n",
       "      <td>Yes</td>\n",
       "      <td>Electronic check</td>\n",
       "      <td>70.70</td>\n",
       "      <td>151.65</td>\n",
       "      <td>True</td>\n",
       "    </tr>\n",
       "    <tr>\n",
       "      <th>...</th>\n",
       "      <td>...</td>\n",
       "      <td>...</td>\n",
       "      <td>...</td>\n",
       "      <td>...</td>\n",
       "      <td>...</td>\n",
       "      <td>...</td>\n",
       "      <td>...</td>\n",
       "      <td>...</td>\n",
       "      <td>...</td>\n",
       "    </tr>\n",
       "    <tr>\n",
       "      <th>7038</th>\n",
       "      <td>6840-RESVB</td>\n",
       "      <td>2018-02-01</td>\n",
       "      <td>NaT</td>\n",
       "      <td>One year</td>\n",
       "      <td>Yes</td>\n",
       "      <td>Mailed check</td>\n",
       "      <td>84.80</td>\n",
       "      <td>1990.50</td>\n",
       "      <td>False</td>\n",
       "    </tr>\n",
       "    <tr>\n",
       "      <th>7039</th>\n",
       "      <td>2234-XADUH</td>\n",
       "      <td>2014-02-01</td>\n",
       "      <td>NaT</td>\n",
       "      <td>One year</td>\n",
       "      <td>Yes</td>\n",
       "      <td>Credit card (automatic)</td>\n",
       "      <td>103.20</td>\n",
       "      <td>7362.90</td>\n",
       "      <td>False</td>\n",
       "    </tr>\n",
       "    <tr>\n",
       "      <th>7040</th>\n",
       "      <td>4801-JZAZL</td>\n",
       "      <td>2019-03-01</td>\n",
       "      <td>NaT</td>\n",
       "      <td>Month-to-month</td>\n",
       "      <td>Yes</td>\n",
       "      <td>Electronic check</td>\n",
       "      <td>29.60</td>\n",
       "      <td>346.45</td>\n",
       "      <td>False</td>\n",
       "    </tr>\n",
       "    <tr>\n",
       "      <th>7041</th>\n",
       "      <td>8361-LTMKD</td>\n",
       "      <td>2019-07-01</td>\n",
       "      <td>2019-11-01</td>\n",
       "      <td>Month-to-month</td>\n",
       "      <td>Yes</td>\n",
       "      <td>Mailed check</td>\n",
       "      <td>74.40</td>\n",
       "      <td>306.60</td>\n",
       "      <td>True</td>\n",
       "    </tr>\n",
       "    <tr>\n",
       "      <th>7042</th>\n",
       "      <td>3186-AJIEK</td>\n",
       "      <td>2014-08-01</td>\n",
       "      <td>NaT</td>\n",
       "      <td>Two year</td>\n",
       "      <td>Yes</td>\n",
       "      <td>Bank transfer (automatic)</td>\n",
       "      <td>105.65</td>\n",
       "      <td>6844.50</td>\n",
       "      <td>False</td>\n",
       "    </tr>\n",
       "  </tbody>\n",
       "</table>\n",
       "<p>7043 rows × 9 columns</p>\n",
       "</div>"
      ],
      "text/plain": [
       "      CustomerID  BeginDate    EndDate            Type PaperlessBilling  \\\n",
       "0     7590-VHVEG 2020-01-01        NaT  Month-to-month              Yes   \n",
       "1     5575-GNVDE 2017-04-01        NaT        One year               No   \n",
       "2     3668-QPYBK 2019-10-01 2019-12-01  Month-to-month              Yes   \n",
       "3     7795-CFOCW 2016-05-01        NaT        One year               No   \n",
       "4     9237-HQITU 2019-09-01 2019-11-01  Month-to-month              Yes   \n",
       "...          ...        ...        ...             ...              ...   \n",
       "7038  6840-RESVB 2018-02-01        NaT        One year              Yes   \n",
       "7039  2234-XADUH 2014-02-01        NaT        One year              Yes   \n",
       "7040  4801-JZAZL 2019-03-01        NaT  Month-to-month              Yes   \n",
       "7041  8361-LTMKD 2019-07-01 2019-11-01  Month-to-month              Yes   \n",
       "7042  3186-AJIEK 2014-08-01        NaT        Two year              Yes   \n",
       "\n",
       "                  PaymentMethod  MonthlyCharges  TotalCharges  Churn  \n",
       "0              Electronic check           29.85         29.85  False  \n",
       "1                  Mailed check           56.95       1889.50  False  \n",
       "2                  Mailed check           53.85        108.15   True  \n",
       "3     Bank transfer (automatic)           42.30       1840.75  False  \n",
       "4              Electronic check           70.70        151.65   True  \n",
       "...                         ...             ...           ...    ...  \n",
       "7038               Mailed check           84.80       1990.50  False  \n",
       "7039    Credit card (automatic)          103.20       7362.90  False  \n",
       "7040           Electronic check           29.60        346.45  False  \n",
       "7041               Mailed check           74.40        306.60   True  \n",
       "7042  Bank transfer (automatic)          105.65       6844.50  False  \n",
       "\n",
       "[7043 rows x 9 columns]"
      ]
     },
     "execution_count": 11,
     "metadata": {},
     "output_type": "execute_result"
    }
   ],
   "source": [
    "df_con['Churn'] = (df_con['EndDate'].notna()).astype(bool)\n",
    "df_con"
   ]
  },
  {
   "cell_type": "markdown",
   "id": "77c870a9",
   "metadata": {},
   "source": [
    "Создали новый столбец с оттоком клиентов значение True - означает, что клиент ушёл от оператора."
   ]
  },
  {
   "cell_type": "code",
   "execution_count": 12,
   "id": "e3cd7968",
   "metadata": {},
   "outputs": [
    {
     "name": "stdout",
     "output_type": "stream",
     "text": [
      "<class 'pandas.core.frame.DataFrame'>\n",
      "RangeIndex: 7043 entries, 0 to 7042\n",
      "Data columns (total 9 columns):\n",
      " #   Column            Non-Null Count  Dtype         \n",
      "---  ------            --------------  -----         \n",
      " 0   CustomerID        7043 non-null   object        \n",
      " 1   BeginDate         7043 non-null   datetime64[ns]\n",
      " 2   EndDate           7043 non-null   datetime64[ns]\n",
      " 3   Type              7043 non-null   object        \n",
      " 4   PaperlessBilling  7043 non-null   object        \n",
      " 5   PaymentMethod     7043 non-null   object        \n",
      " 6   MonthlyCharges    7043 non-null   float64       \n",
      " 7   TotalCharges      7032 non-null   float64       \n",
      " 8   Churn             7043 non-null   bool          \n",
      "dtypes: bool(1), datetime64[ns](2), float64(2), object(4)\n",
      "memory usage: 447.2+ KB\n"
     ]
    }
   ],
   "source": [
    "df_con['EndDate'] = df_con['EndDate'].fillna('2020-02-01')\n",
    "df_con['EndDate'] = pd.to_datetime(df_con['EndDate'], format='%Y-%m-%d')\n",
    "df_con.info()"
   ]
  },
  {
   "cell_type": "markdown",
   "id": "b60c3985",
   "metadata": {},
   "source": [
    "Для исчисления срока пользования клиентом услугами компании заполнили пропуски датой выдачи отчета."
   ]
  },
  {
   "cell_type": "code",
   "execution_count": 13,
   "id": "7c2a4f1e",
   "metadata": {},
   "outputs": [
    {
     "data": {
      "text/html": [
       "<div>\n",
       "<style scoped>\n",
       "    .dataframe tbody tr th:only-of-type {\n",
       "        vertical-align: middle;\n",
       "    }\n",
       "\n",
       "    .dataframe tbody tr th {\n",
       "        vertical-align: top;\n",
       "    }\n",
       "\n",
       "    .dataframe thead th {\n",
       "        text-align: right;\n",
       "    }\n",
       "</style>\n",
       "<table border=\"1\" class=\"dataframe\">\n",
       "  <thead>\n",
       "    <tr style=\"text-align: right;\">\n",
       "      <th></th>\n",
       "      <th>CustomerID</th>\n",
       "      <th>BeginDate</th>\n",
       "      <th>EndDate</th>\n",
       "      <th>Type</th>\n",
       "      <th>PaperlessBilling</th>\n",
       "      <th>PaymentMethod</th>\n",
       "      <th>MonthlyCharges</th>\n",
       "      <th>TotalCharges</th>\n",
       "      <th>Churn</th>\n",
       "      <th>TotalDays</th>\n",
       "    </tr>\n",
       "  </thead>\n",
       "  <tbody>\n",
       "    <tr>\n",
       "      <th>0</th>\n",
       "      <td>7590-VHVEG</td>\n",
       "      <td>2020-01-01</td>\n",
       "      <td>2020-02-01</td>\n",
       "      <td>Month-to-month</td>\n",
       "      <td>Yes</td>\n",
       "      <td>Electronic check</td>\n",
       "      <td>29.85</td>\n",
       "      <td>29.85</td>\n",
       "      <td>False</td>\n",
       "      <td>31</td>\n",
       "    </tr>\n",
       "    <tr>\n",
       "      <th>1</th>\n",
       "      <td>5575-GNVDE</td>\n",
       "      <td>2017-04-01</td>\n",
       "      <td>2020-02-01</td>\n",
       "      <td>One year</td>\n",
       "      <td>No</td>\n",
       "      <td>Mailed check</td>\n",
       "      <td>56.95</td>\n",
       "      <td>1889.50</td>\n",
       "      <td>False</td>\n",
       "      <td>1036</td>\n",
       "    </tr>\n",
       "    <tr>\n",
       "      <th>2</th>\n",
       "      <td>3668-QPYBK</td>\n",
       "      <td>2019-10-01</td>\n",
       "      <td>2019-12-01</td>\n",
       "      <td>Month-to-month</td>\n",
       "      <td>Yes</td>\n",
       "      <td>Mailed check</td>\n",
       "      <td>53.85</td>\n",
       "      <td>108.15</td>\n",
       "      <td>True</td>\n",
       "      <td>61</td>\n",
       "    </tr>\n",
       "    <tr>\n",
       "      <th>3</th>\n",
       "      <td>7795-CFOCW</td>\n",
       "      <td>2016-05-01</td>\n",
       "      <td>2020-02-01</td>\n",
       "      <td>One year</td>\n",
       "      <td>No</td>\n",
       "      <td>Bank transfer (automatic)</td>\n",
       "      <td>42.30</td>\n",
       "      <td>1840.75</td>\n",
       "      <td>False</td>\n",
       "      <td>1371</td>\n",
       "    </tr>\n",
       "    <tr>\n",
       "      <th>4</th>\n",
       "      <td>9237-HQITU</td>\n",
       "      <td>2019-09-01</td>\n",
       "      <td>2019-11-01</td>\n",
       "      <td>Month-to-month</td>\n",
       "      <td>Yes</td>\n",
       "      <td>Electronic check</td>\n",
       "      <td>70.70</td>\n",
       "      <td>151.65</td>\n",
       "      <td>True</td>\n",
       "      <td>61</td>\n",
       "    </tr>\n",
       "    <tr>\n",
       "      <th>...</th>\n",
       "      <td>...</td>\n",
       "      <td>...</td>\n",
       "      <td>...</td>\n",
       "      <td>...</td>\n",
       "      <td>...</td>\n",
       "      <td>...</td>\n",
       "      <td>...</td>\n",
       "      <td>...</td>\n",
       "      <td>...</td>\n",
       "      <td>...</td>\n",
       "    </tr>\n",
       "    <tr>\n",
       "      <th>7038</th>\n",
       "      <td>6840-RESVB</td>\n",
       "      <td>2018-02-01</td>\n",
       "      <td>2020-02-01</td>\n",
       "      <td>One year</td>\n",
       "      <td>Yes</td>\n",
       "      <td>Mailed check</td>\n",
       "      <td>84.80</td>\n",
       "      <td>1990.50</td>\n",
       "      <td>False</td>\n",
       "      <td>730</td>\n",
       "    </tr>\n",
       "    <tr>\n",
       "      <th>7039</th>\n",
       "      <td>2234-XADUH</td>\n",
       "      <td>2014-02-01</td>\n",
       "      <td>2020-02-01</td>\n",
       "      <td>One year</td>\n",
       "      <td>Yes</td>\n",
       "      <td>Credit card (automatic)</td>\n",
       "      <td>103.20</td>\n",
       "      <td>7362.90</td>\n",
       "      <td>False</td>\n",
       "      <td>2191</td>\n",
       "    </tr>\n",
       "    <tr>\n",
       "      <th>7040</th>\n",
       "      <td>4801-JZAZL</td>\n",
       "      <td>2019-03-01</td>\n",
       "      <td>2020-02-01</td>\n",
       "      <td>Month-to-month</td>\n",
       "      <td>Yes</td>\n",
       "      <td>Electronic check</td>\n",
       "      <td>29.60</td>\n",
       "      <td>346.45</td>\n",
       "      <td>False</td>\n",
       "      <td>337</td>\n",
       "    </tr>\n",
       "    <tr>\n",
       "      <th>7041</th>\n",
       "      <td>8361-LTMKD</td>\n",
       "      <td>2019-07-01</td>\n",
       "      <td>2019-11-01</td>\n",
       "      <td>Month-to-month</td>\n",
       "      <td>Yes</td>\n",
       "      <td>Mailed check</td>\n",
       "      <td>74.40</td>\n",
       "      <td>306.60</td>\n",
       "      <td>True</td>\n",
       "      <td>123</td>\n",
       "    </tr>\n",
       "    <tr>\n",
       "      <th>7042</th>\n",
       "      <td>3186-AJIEK</td>\n",
       "      <td>2014-08-01</td>\n",
       "      <td>2020-02-01</td>\n",
       "      <td>Two year</td>\n",
       "      <td>Yes</td>\n",
       "      <td>Bank transfer (automatic)</td>\n",
       "      <td>105.65</td>\n",
       "      <td>6844.50</td>\n",
       "      <td>False</td>\n",
       "      <td>2010</td>\n",
       "    </tr>\n",
       "  </tbody>\n",
       "</table>\n",
       "<p>7043 rows × 10 columns</p>\n",
       "</div>"
      ],
      "text/plain": [
       "      CustomerID  BeginDate    EndDate            Type PaperlessBilling  \\\n",
       "0     7590-VHVEG 2020-01-01 2020-02-01  Month-to-month              Yes   \n",
       "1     5575-GNVDE 2017-04-01 2020-02-01        One year               No   \n",
       "2     3668-QPYBK 2019-10-01 2019-12-01  Month-to-month              Yes   \n",
       "3     7795-CFOCW 2016-05-01 2020-02-01        One year               No   \n",
       "4     9237-HQITU 2019-09-01 2019-11-01  Month-to-month              Yes   \n",
       "...          ...        ...        ...             ...              ...   \n",
       "7038  6840-RESVB 2018-02-01 2020-02-01        One year              Yes   \n",
       "7039  2234-XADUH 2014-02-01 2020-02-01        One year              Yes   \n",
       "7040  4801-JZAZL 2019-03-01 2020-02-01  Month-to-month              Yes   \n",
       "7041  8361-LTMKD 2019-07-01 2019-11-01  Month-to-month              Yes   \n",
       "7042  3186-AJIEK 2014-08-01 2020-02-01        Two year              Yes   \n",
       "\n",
       "                  PaymentMethod  MonthlyCharges  TotalCharges  Churn  \\\n",
       "0              Electronic check           29.85         29.85  False   \n",
       "1                  Mailed check           56.95       1889.50  False   \n",
       "2                  Mailed check           53.85        108.15   True   \n",
       "3     Bank transfer (automatic)           42.30       1840.75  False   \n",
       "4              Electronic check           70.70        151.65   True   \n",
       "...                         ...             ...           ...    ...   \n",
       "7038               Mailed check           84.80       1990.50  False   \n",
       "7039    Credit card (automatic)          103.20       7362.90  False   \n",
       "7040           Electronic check           29.60        346.45  False   \n",
       "7041               Mailed check           74.40        306.60   True   \n",
       "7042  Bank transfer (automatic)          105.65       6844.50  False   \n",
       "\n",
       "      TotalDays  \n",
       "0            31  \n",
       "1          1036  \n",
       "2            61  \n",
       "3          1371  \n",
       "4            61  \n",
       "...         ...  \n",
       "7038        730  \n",
       "7039       2191  \n",
       "7040        337  \n",
       "7041        123  \n",
       "7042       2010  \n",
       "\n",
       "[7043 rows x 10 columns]"
      ]
     },
     "execution_count": 13,
     "metadata": {},
     "output_type": "execute_result"
    }
   ],
   "source": [
    "df_con['TotalDays'] = (df_con['EndDate'] - df_con['BeginDate']).dt.days\n",
    "df_con"
   ]
  },
  {
   "cell_type": "markdown",
   "id": "332f1886",
   "metadata": {},
   "source": [
    "Столбец с количеством дней добавили, осталось обработать 11 пропусков в столбце TotalCharges."
   ]
  },
  {
   "cell_type": "code",
   "execution_count": 14,
   "id": "54d7ba9a",
   "metadata": {},
   "outputs": [
    {
     "data": {
      "text/html": [
       "<div>\n",
       "<style scoped>\n",
       "    .dataframe tbody tr th:only-of-type {\n",
       "        vertical-align: middle;\n",
       "    }\n",
       "\n",
       "    .dataframe tbody tr th {\n",
       "        vertical-align: top;\n",
       "    }\n",
       "\n",
       "    .dataframe thead th {\n",
       "        text-align: right;\n",
       "    }\n",
       "</style>\n",
       "<table border=\"1\" class=\"dataframe\">\n",
       "  <thead>\n",
       "    <tr style=\"text-align: right;\">\n",
       "      <th></th>\n",
       "      <th>CustomerID</th>\n",
       "      <th>BeginDate</th>\n",
       "      <th>EndDate</th>\n",
       "      <th>Type</th>\n",
       "      <th>PaperlessBilling</th>\n",
       "      <th>PaymentMethod</th>\n",
       "      <th>MonthlyCharges</th>\n",
       "      <th>TotalCharges</th>\n",
       "      <th>Churn</th>\n",
       "      <th>TotalDays</th>\n",
       "    </tr>\n",
       "  </thead>\n",
       "  <tbody>\n",
       "    <tr>\n",
       "      <th>488</th>\n",
       "      <td>4472-LVYGI</td>\n",
       "      <td>2020-02-01</td>\n",
       "      <td>2020-02-01</td>\n",
       "      <td>Two year</td>\n",
       "      <td>Yes</td>\n",
       "      <td>Bank transfer (automatic)</td>\n",
       "      <td>52.55</td>\n",
       "      <td>NaN</td>\n",
       "      <td>False</td>\n",
       "      <td>0</td>\n",
       "    </tr>\n",
       "    <tr>\n",
       "      <th>753</th>\n",
       "      <td>3115-CZMZD</td>\n",
       "      <td>2020-02-01</td>\n",
       "      <td>2020-02-01</td>\n",
       "      <td>Two year</td>\n",
       "      <td>No</td>\n",
       "      <td>Mailed check</td>\n",
       "      <td>20.25</td>\n",
       "      <td>NaN</td>\n",
       "      <td>False</td>\n",
       "      <td>0</td>\n",
       "    </tr>\n",
       "    <tr>\n",
       "      <th>936</th>\n",
       "      <td>5709-LVOEQ</td>\n",
       "      <td>2020-02-01</td>\n",
       "      <td>2020-02-01</td>\n",
       "      <td>Two year</td>\n",
       "      <td>No</td>\n",
       "      <td>Mailed check</td>\n",
       "      <td>80.85</td>\n",
       "      <td>NaN</td>\n",
       "      <td>False</td>\n",
       "      <td>0</td>\n",
       "    </tr>\n",
       "    <tr>\n",
       "      <th>1082</th>\n",
       "      <td>4367-NUYAO</td>\n",
       "      <td>2020-02-01</td>\n",
       "      <td>2020-02-01</td>\n",
       "      <td>Two year</td>\n",
       "      <td>No</td>\n",
       "      <td>Mailed check</td>\n",
       "      <td>25.75</td>\n",
       "      <td>NaN</td>\n",
       "      <td>False</td>\n",
       "      <td>0</td>\n",
       "    </tr>\n",
       "    <tr>\n",
       "      <th>1340</th>\n",
       "      <td>1371-DWPAZ</td>\n",
       "      <td>2020-02-01</td>\n",
       "      <td>2020-02-01</td>\n",
       "      <td>Two year</td>\n",
       "      <td>No</td>\n",
       "      <td>Credit card (automatic)</td>\n",
       "      <td>56.05</td>\n",
       "      <td>NaN</td>\n",
       "      <td>False</td>\n",
       "      <td>0</td>\n",
       "    </tr>\n",
       "    <tr>\n",
       "      <th>3331</th>\n",
       "      <td>7644-OMVMY</td>\n",
       "      <td>2020-02-01</td>\n",
       "      <td>2020-02-01</td>\n",
       "      <td>Two year</td>\n",
       "      <td>No</td>\n",
       "      <td>Mailed check</td>\n",
       "      <td>19.85</td>\n",
       "      <td>NaN</td>\n",
       "      <td>False</td>\n",
       "      <td>0</td>\n",
       "    </tr>\n",
       "    <tr>\n",
       "      <th>3826</th>\n",
       "      <td>3213-VVOLG</td>\n",
       "      <td>2020-02-01</td>\n",
       "      <td>2020-02-01</td>\n",
       "      <td>Two year</td>\n",
       "      <td>No</td>\n",
       "      <td>Mailed check</td>\n",
       "      <td>25.35</td>\n",
       "      <td>NaN</td>\n",
       "      <td>False</td>\n",
       "      <td>0</td>\n",
       "    </tr>\n",
       "    <tr>\n",
       "      <th>4380</th>\n",
       "      <td>2520-SGTTA</td>\n",
       "      <td>2020-02-01</td>\n",
       "      <td>2020-02-01</td>\n",
       "      <td>Two year</td>\n",
       "      <td>No</td>\n",
       "      <td>Mailed check</td>\n",
       "      <td>20.00</td>\n",
       "      <td>NaN</td>\n",
       "      <td>False</td>\n",
       "      <td>0</td>\n",
       "    </tr>\n",
       "    <tr>\n",
       "      <th>5218</th>\n",
       "      <td>2923-ARZLG</td>\n",
       "      <td>2020-02-01</td>\n",
       "      <td>2020-02-01</td>\n",
       "      <td>One year</td>\n",
       "      <td>Yes</td>\n",
       "      <td>Mailed check</td>\n",
       "      <td>19.70</td>\n",
       "      <td>NaN</td>\n",
       "      <td>False</td>\n",
       "      <td>0</td>\n",
       "    </tr>\n",
       "    <tr>\n",
       "      <th>6670</th>\n",
       "      <td>4075-WKNIU</td>\n",
       "      <td>2020-02-01</td>\n",
       "      <td>2020-02-01</td>\n",
       "      <td>Two year</td>\n",
       "      <td>No</td>\n",
       "      <td>Mailed check</td>\n",
       "      <td>73.35</td>\n",
       "      <td>NaN</td>\n",
       "      <td>False</td>\n",
       "      <td>0</td>\n",
       "    </tr>\n",
       "    <tr>\n",
       "      <th>6754</th>\n",
       "      <td>2775-SEFEE</td>\n",
       "      <td>2020-02-01</td>\n",
       "      <td>2020-02-01</td>\n",
       "      <td>Two year</td>\n",
       "      <td>Yes</td>\n",
       "      <td>Bank transfer (automatic)</td>\n",
       "      <td>61.90</td>\n",
       "      <td>NaN</td>\n",
       "      <td>False</td>\n",
       "      <td>0</td>\n",
       "    </tr>\n",
       "  </tbody>\n",
       "</table>\n",
       "</div>"
      ],
      "text/plain": [
       "      CustomerID  BeginDate    EndDate      Type PaperlessBilling  \\\n",
       "488   4472-LVYGI 2020-02-01 2020-02-01  Two year              Yes   \n",
       "753   3115-CZMZD 2020-02-01 2020-02-01  Two year               No   \n",
       "936   5709-LVOEQ 2020-02-01 2020-02-01  Two year               No   \n",
       "1082  4367-NUYAO 2020-02-01 2020-02-01  Two year               No   \n",
       "1340  1371-DWPAZ 2020-02-01 2020-02-01  Two year               No   \n",
       "3331  7644-OMVMY 2020-02-01 2020-02-01  Two year               No   \n",
       "3826  3213-VVOLG 2020-02-01 2020-02-01  Two year               No   \n",
       "4380  2520-SGTTA 2020-02-01 2020-02-01  Two year               No   \n",
       "5218  2923-ARZLG 2020-02-01 2020-02-01  One year              Yes   \n",
       "6670  4075-WKNIU 2020-02-01 2020-02-01  Two year               No   \n",
       "6754  2775-SEFEE 2020-02-01 2020-02-01  Two year              Yes   \n",
       "\n",
       "                  PaymentMethod  MonthlyCharges  TotalCharges  Churn  \\\n",
       "488   Bank transfer (automatic)           52.55           NaN  False   \n",
       "753                Mailed check           20.25           NaN  False   \n",
       "936                Mailed check           80.85           NaN  False   \n",
       "1082               Mailed check           25.75           NaN  False   \n",
       "1340    Credit card (automatic)           56.05           NaN  False   \n",
       "3331               Mailed check           19.85           NaN  False   \n",
       "3826               Mailed check           25.35           NaN  False   \n",
       "4380               Mailed check           20.00           NaN  False   \n",
       "5218               Mailed check           19.70           NaN  False   \n",
       "6670               Mailed check           73.35           NaN  False   \n",
       "6754  Bank transfer (automatic)           61.90           NaN  False   \n",
       "\n",
       "      TotalDays  \n",
       "488           0  \n",
       "753           0  \n",
       "936           0  \n",
       "1082          0  \n",
       "1340          0  \n",
       "3331          0  \n",
       "3826          0  \n",
       "4380          0  \n",
       "5218          0  \n",
       "6670          0  \n",
       "6754          0  "
      ]
     },
     "execution_count": 14,
     "metadata": {},
     "output_type": "execute_result"
    }
   ],
   "source": [
    "df_con[df_con['TotalCharges'].isnull()]"
   ]
  },
  {
   "cell_type": "markdown",
   "id": "ea1f0126",
   "metadata": {},
   "source": [
    "Очевидно, что это новые клиенты, подключившиевся в день выгрузки отчета, соответственно, они еще не успели понести расходов, предлагается заменить пропуски на 0. "
   ]
  },
  {
   "cell_type": "code",
   "execution_count": 15,
   "id": "ed6b9be4",
   "metadata": {},
   "outputs": [
    {
     "name": "stdout",
     "output_type": "stream",
     "text": [
      "<class 'pandas.core.frame.DataFrame'>\n",
      "RangeIndex: 7043 entries, 0 to 7042\n",
      "Data columns (total 10 columns):\n",
      " #   Column            Non-Null Count  Dtype         \n",
      "---  ------            --------------  -----         \n",
      " 0   CustomerID        7043 non-null   object        \n",
      " 1   BeginDate         7043 non-null   datetime64[ns]\n",
      " 2   EndDate           7043 non-null   datetime64[ns]\n",
      " 3   Type              7043 non-null   object        \n",
      " 4   PaperlessBilling  7043 non-null   object        \n",
      " 5   PaymentMethod     7043 non-null   object        \n",
      " 6   MonthlyCharges    7043 non-null   float64       \n",
      " 7   TotalCharges      7043 non-null   float64       \n",
      " 8   Churn             7043 non-null   bool          \n",
      " 9   TotalDays         7043 non-null   int64         \n",
      "dtypes: bool(1), datetime64[ns](2), float64(2), int64(1), object(4)\n",
      "memory usage: 502.2+ KB\n"
     ]
    }
   ],
   "source": [
    "df_con['TotalCharges'] = df_con['TotalCharges'].fillna(0)\n",
    "df_con.info()"
   ]
  },
  {
   "cell_type": "code",
   "execution_count": 16,
   "id": "932d9f01",
   "metadata": {},
   "outputs": [],
   "source": [
    "df_total  = df_con.merge(df_pers, \n",
    "                             how='left',\n",
    "                        on='CustomerID').merge(df_int,\n",
    "                                               how='left', on='CustomerID').merge(df_phone, how='left', on='CustomerID')"
   ]
  },
  {
   "cell_type": "code",
   "execution_count": 17,
   "id": "dac6df31",
   "metadata": {},
   "outputs": [],
   "source": [
    "df_total = df_total.set_index('CustomerID')"
   ]
  },
  {
   "cell_type": "code",
   "execution_count": 18,
   "id": "c0631f0d",
   "metadata": {},
   "outputs": [
    {
     "name": "stdout",
     "output_type": "stream",
     "text": [
      "<class 'pandas.core.frame.DataFrame'>\n",
      "Index: 7043 entries, 7590-VHVEG to 3186-AJIEK\n",
      "Data columns (total 21 columns):\n",
      " #   Column            Non-Null Count  Dtype         \n",
      "---  ------            --------------  -----         \n",
      " 0   BeginDate         7043 non-null   datetime64[ns]\n",
      " 1   EndDate           7043 non-null   datetime64[ns]\n",
      " 2   Type              7043 non-null   object        \n",
      " 3   PaperlessBilling  7043 non-null   object        \n",
      " 4   PaymentMethod     7043 non-null   object        \n",
      " 5   MonthlyCharges    7043 non-null   float64       \n",
      " 6   TotalCharges      7043 non-null   float64       \n",
      " 7   Churn             7043 non-null   bool          \n",
      " 8   TotalDays         7043 non-null   int64         \n",
      " 9   Gender            7043 non-null   object        \n",
      " 10  SeniorCitizen     7043 non-null   int64         \n",
      " 11  Partner           7043 non-null   object        \n",
      " 12  Dependents        7043 non-null   object        \n",
      " 13  InternetService   5517 non-null   object        \n",
      " 14  OnlineSecurity    5517 non-null   object        \n",
      " 15  OnlineBackup      5517 non-null   object        \n",
      " 16  DeviceProtection  5517 non-null   object        \n",
      " 17  TechSupport       5517 non-null   object        \n",
      " 18  StreamingTV       5517 non-null   object        \n",
      " 19  StreamingMovies   5517 non-null   object        \n",
      " 20  MultipleLines     6361 non-null   object        \n",
      "dtypes: bool(1), datetime64[ns](2), float64(2), int64(2), object(14)\n",
      "memory usage: 1.1+ MB\n"
     ]
    }
   ],
   "source": [
    "df_total.info()"
   ]
  },
  {
   "cell_type": "markdown",
   "id": "5c88ff9a",
   "metadata": {},
   "source": [
    "Одинаковое количество пропусков в InternetService, OnlineSecurity, OnlineBackup, DeviceProtection, TechSupport, StreamingTV, StreamingMovies и MultipleLines скорее всего означают, что услуги не подключены. Заменим пропуски на \"No\""
   ]
  },
  {
   "cell_type": "code",
   "execution_count": 19,
   "id": "2ba7cf3d",
   "metadata": {},
   "outputs": [],
   "source": [
    "for i in ('InternetService', 'OnlineSecurity', 'OnlineBackup', 'DeviceProtection', 'TechSupport', 'StreamingTV', 'StreamingMovies', 'MultipleLines'):\n",
    "    df_total[i] = df_total[i].fillna('No')"
   ]
  },
  {
   "cell_type": "code",
   "execution_count": 20,
   "id": "6f705a7a",
   "metadata": {},
   "outputs": [
    {
     "name": "stdout",
     "output_type": "stream",
     "text": [
      "<class 'pandas.core.frame.DataFrame'>\n",
      "Index: 7043 entries, 7590-VHVEG to 3186-AJIEK\n",
      "Data columns (total 21 columns):\n",
      " #   Column            Non-Null Count  Dtype         \n",
      "---  ------            --------------  -----         \n",
      " 0   BeginDate         7043 non-null   datetime64[ns]\n",
      " 1   EndDate           7043 non-null   datetime64[ns]\n",
      " 2   Type              7043 non-null   object        \n",
      " 3   PaperlessBilling  7043 non-null   object        \n",
      " 4   PaymentMethod     7043 non-null   object        \n",
      " 5   MonthlyCharges    7043 non-null   float64       \n",
      " 6   TotalCharges      7043 non-null   float64       \n",
      " 7   Churn             7043 non-null   bool          \n",
      " 8   TotalDays         7043 non-null   int64         \n",
      " 9   Gender            7043 non-null   object        \n",
      " 10  SeniorCitizen     7043 non-null   int64         \n",
      " 11  Partner           7043 non-null   object        \n",
      " 12  Dependents        7043 non-null   object        \n",
      " 13  InternetService   7043 non-null   object        \n",
      " 14  OnlineSecurity    7043 non-null   object        \n",
      " 15  OnlineBackup      7043 non-null   object        \n",
      " 16  DeviceProtection  7043 non-null   object        \n",
      " 17  TechSupport       7043 non-null   object        \n",
      " 18  StreamingTV       7043 non-null   object        \n",
      " 19  StreamingMovies   7043 non-null   object        \n",
      " 20  MultipleLines     7043 non-null   object        \n",
      "dtypes: bool(1), datetime64[ns](2), float64(2), int64(2), object(14)\n",
      "memory usage: 1.1+ MB\n"
     ]
    }
   ],
   "source": [
    "df_total.info()"
   ]
  },
  {
   "cell_type": "code",
   "execution_count": 21,
   "id": "e18e14a2",
   "metadata": {},
   "outputs": [
    {
     "data": {
      "application/vnd.jupyter.widget-view+json": {
       "model_id": "a510aec1004e4957b9743d6ab9aea5b9",
       "version_major": 2,
       "version_minor": 0
      },
      "text/plain": [
       "                                             |          | [  0%]   00:00 -> (? left)"
      ]
     },
     "metadata": {},
     "output_type": "display_data"
    },
    {
     "name": "stdout",
     "output_type": "stream",
     "text": [
      "Report SWEETVIZ_REPORT.html was generated! NOTEBOOK/COLAB USERS: the web browser MAY not pop up, regardless, the report IS saved in your notebook/colab files.\n"
     ]
    }
   ],
   "source": [
    "report_total = sv.analyze([df_total, \"total\"])\n",
    "report_total.show_html()"
   ]
  },
  {
   "cell_type": "markdown",
   "id": "44927772",
   "metadata": {},
   "source": [
    "# Исследовательский анализ данных"
   ]
  },
  {
   "cell_type": "code",
   "execution_count": 22,
   "id": "11821593",
   "metadata": {},
   "outputs": [
    {
     "data": {
      "application/vnd.jupyter.widget-view+json": {
       "model_id": "cdbc5eb1280a4dca88619be3f1c3da91",
       "version_major": 2,
       "version_minor": 0
      },
      "text/plain": [
       "                                             |          | [  0%]   00:00 -> (? left)"
      ]
     },
     "metadata": {},
     "output_type": "display_data"
    },
    {
     "name": "stdout",
     "output_type": "stream",
     "text": [
      "Report SWEETVIZ_REPORT.html was generated! NOTEBOOK/COLAB USERS: the web browser MAY not pop up, regardless, the report IS saved in your notebook/colab files.\n"
     ]
    }
   ],
   "source": [
    "report_total = sv.analyze([df_total, \"total\"])\n",
    "report_total.show_html()"
   ]
  },
  {
   "cell_type": "markdown",
   "id": "877ed431",
   "metadata": {},
   "source": [
    "С помощью sweetviz проводим исследовательский анализ данных:\n",
    "- среди пользователей наиболее популярен помесячный тип оплаты - 55%, на втором месте - двухлетний контракт 24%, на последнем - годовой - 21%.\n",
    "- пользователи предпочитают безналичный расчет - 59%.\n",
    "- клиенты предпочитают платить электронным чеком - 34%, переводом, кредитной картой или по почте препочитают платить 22%\n",
    "- ежемесячно пользователи платят от 18 до 119 долларов, наиболее популярны самые дешевые тарифы - ими пользуются 23% пользователей, далее мы наблюдаем второй пик в районе 55 долларов в месяц - 9% пользователей и третий  - в районе 85 долларов - 14%. Данные распределены с пологим пиком и хвостом к отрицательным значениям. Среднее значение - 65 долларов в месяц, медианное - 70, модальное - 20 долларов.\n",
    "- в столбце TotalDays наблюдаем два пика - в районе 0-100 и в районе 2200 это означает что привлечено много новых клиентов и существует много лояльных клиентов, которые пользуются услугами с начала наблюдений.\n",
    "- клиентов мужчин и клиентов женщин 50/50\n",
    "- клиентов пенсионеров 16%\n",
    "- не пользуются интернетом от компании - 22% клиентов\n",
    "- набором дополнительных услуг пользубтся 20-40 % клиентов"
   ]
  },
  {
   "cell_type": "code",
   "execution_count": 21,
   "id": "7cd88404",
   "metadata": {},
   "outputs": [
    {
     "data": {
      "image/png": "[encoded data removed]",
      "text/plain": [
       "<Figure size 432x216 with 2 Axes>"
      ]
     },
     "metadata": {
      "needs_background": "light"
     },
     "output_type": "display_data"
    },
    {
     "data": {
      "image/png": "[encoded data removed]",
      "text/plain": [
       "<Figure size 432x216 with 2 Axes>"
      ]
     },
     "metadata": {
      "needs_background": "light"
     },
     "output_type": "display_data"
    },
    {
     "data": {
      "image/png": "[encoded data removed]",
      "text/plain": [
       "<Figure size 432x216 with 2 Axes>"
      ]
     },
     "metadata": {
      "needs_background": "light"
     },
     "output_type": "display_data"
    },
    {
     "data": {
      "image/png": "[encoded data removed]",
      "text/plain": [
       "<Figure size 432x216 with 2 Axes>"
      ]
     },
     "metadata": {
      "needs_background": "light"
     },
     "output_type": "display_data"
    },
    {
     "data": {
      "image/png": "[encoded data removed]",
      "text/plain": [
       "<Figure size 432x216 with 2 Axes>"
      ]
     },
     "metadata": {
      "needs_background": "light"
     },
     "output_type": "display_data"
    },
    {
     "data": {
      "image/png": "[encoded data removed]",
      "text/plain": [
       "<Figure size 432x216 with 2 Axes>"
      ]
     },
     "metadata": {
      "needs_background": "light"
     },
     "output_type": "display_data"
    },
    {
     "data": {
      "image/png": "[encoded data removed]",
      "text/plain": [
       "<Figure size 432x216 with 2 Axes>"
      ]
     },
     "metadata": {
      "needs_background": "light"
     },
     "output_type": "display_data"
    },
    {
     "data": {
      "image/png": "[encoded data removed]",
      "text/plain": [
       "<Figure size 432x216 with 2 Axes>"
      ]
     },
     "metadata": {
      "needs_background": "light"
     },
     "output_type": "display_data"
    },
    {
     "data": {
      "image/png": "[encoded data removed]",
      "text/plain": [
       "<Figure size 432x216 with 2 Axes>"
      ]
     },
     "metadata": {
      "needs_background": "light"
     },
     "output_type": "display_data"
    },
    {
     "data": {
      "image/png": "[encoded data removed]",
      "text/plain": [
       "<Figure size 432x216 with 2 Axes>"
      ]
     },
     "metadata": {
      "needs_background": "light"
     },
     "output_type": "display_data"
    },
    {
     "data": {
      "image/png": "[encoded data removed]",
      "text/plain": [
       "<Figure size 432x216 with 2 Axes>"
      ]
     },
     "metadata": {
      "needs_background": "light"
     },
     "output_type": "display_data"
    },
    {
     "data": {
      "image/png": "[encoded data removed]",
      "text/plain": [
       "<Figure size 432x216 with 2 Axes>"
      ]
     },
     "metadata": {
      "needs_background": "light"
     },
     "output_type": "display_data"
    },
    {
     "data": {
      "image/png": "[encoded data removed]",
      "text/plain": [
       "<Figure size 432x216 with 2 Axes>"
      ]
     },
     "metadata": {
      "needs_background": "light"
     },
     "output_type": "display_data"
    },
    {
     "data": {
      "image/png": "[encoded data removed]",
      "text/plain": [
       "<Figure size 432x216 with 2 Axes>"
      ]
     },
     "metadata": {
      "needs_background": "light"
     },
     "output_type": "display_data"
    },
    {
     "data": {
      "image/png": "[encoded data removed]",
      "text/plain": [
       "<Figure size 432x216 with 2 Axes>"
      ]
     },
     "metadata": {
      "needs_background": "light"
     },
     "output_type": "display_data"
    }
   ],
   "source": [
    "for i in [\n",
    "    'Type',\n",
    "    'PaperlessBilling',\n",
    "    'PaymentMethod',\n",
    "    'Gender',\n",
    "    'SeniorCitizen',\n",
    "    'Partner',\n",
    "    'Dependents',\n",
    "    'InternetService', \n",
    "    'OnlineSecurity', \n",
    "    'OnlineBackup', \n",
    "    'DeviceProtection', \n",
    "    'TechSupport', \n",
    "    'StreamingTV', \n",
    "    'StreamingMovies', \n",
    "    'MultipleLines'\n",
    "]:\n",
    "    \n",
    "    g = sns.FacetGrid(df_total, col=\"Churn\")\n",
    "    g.map(sns.histplot,  i)"
   ]
  },
  {
   "cell_type": "markdown",
   "id": "ed784404",
   "metadata": {},
   "source": [
    "Рассмотрим распределение признаков в зависимости от того - покинул клиент компанию или нет.\n",
    "- Среди тех кто покинул компанию большинство пользователей тарифов с ежемесячным списанием\n",
    "- Выше доля тех, кто пользуется безналичным расчетом и электронным чеком\n",
    "- Пенсионеры покидают компанию несколько чаще, как и люди без партнера\n",
    "- Заметно высока доля людей с оптоволоконным соединением и стриминговым телевидением и кино - можно предположить что их не устраивает качество\n"
   ]
  },
  {
   "cell_type": "code",
   "execution_count": 24,
   "id": "27c0c4c9",
   "metadata": {},
   "outputs": [
    {
     "data": {
      "image/png": "[encoded data removed]",
      "text/plain": [
       "<Figure size 600x300 with 2 Axes>"
      ]
     },
     "metadata": {},
     "output_type": "display_data"
    },
    {
     "data": {
      "image/png": "[encoded data removed]",
      "text/plain": [
       "<Figure size 600x300 with 2 Axes>"
      ]
     },
     "metadata": {},
     "output_type": "display_data"
    },
    {
     "data": {
      "image/png": "[encoded data removed]",
      "text/plain": [
       "<Figure size 600x300 with 2 Axes>"
      ]
     },
     "metadata": {},
     "output_type": "display_data"
    }
   ],
   "source": [
    "for i in ['MonthlyCharges', 'TotalCharges', 'TotalDays']:\n",
    "    \n",
    "    g = sns.FacetGrid(df_total, col=\"Churn\")\n",
    "    g.map(sns.histplot,  i)"
   ]
  },
  {
   "cell_type": "markdown",
   "id": "7951847b",
   "metadata": {},
   "source": [
    "Исходя из анализа количественных значений можно сделать следующие выводы:\n",
    "- Чаще покидают компанию те, кто платит больше.\n",
    "- Чаще уходят новые клиенты."
   ]
  },
  {
   "cell_type": "markdown",
   "id": "9377bfbc",
   "metadata": {},
   "source": [
    "# Обучение модели"
   ]
  },
  {
   "cell_type": "code",
   "execution_count": 22,
   "id": "26e59171",
   "metadata": {},
   "outputs": [],
   "source": [
    "del df_total['BeginDate'], df_total['EndDate']\n",
    "df_total = pd.get_dummies(df_total, drop_first=True)\n",
    "features = df_total.drop(['Churn'], axis =1)\n",
    "target = df_total['Churn']\n"
   ]
  },
  {
   "cell_type": "code",
   "execution_count": 23,
   "id": "4e263ce6",
   "metadata": {},
   "outputs": [
    {
     "data": {
      "text/html": [
       "<div>\n",
       "<style scoped>\n",
       "    .dataframe tbody tr th:only-of-type {\n",
       "        vertical-align: middle;\n",
       "    }\n",
       "\n",
       "    .dataframe tbody tr th {\n",
       "        vertical-align: top;\n",
       "    }\n",
       "\n",
       "    .dataframe thead th {\n",
       "        text-align: right;\n",
       "    }\n",
       "</style>\n",
       "<table border=\"1\" class=\"dataframe\">\n",
       "  <thead>\n",
       "    <tr style=\"text-align: right;\">\n",
       "      <th></th>\n",
       "      <th>MonthlyCharges</th>\n",
       "      <th>TotalCharges</th>\n",
       "      <th>Churn</th>\n",
       "      <th>TotalDays</th>\n",
       "      <th>SeniorCitizen</th>\n",
       "      <th>Type_One year</th>\n",
       "      <th>Type_Two year</th>\n",
       "      <th>PaperlessBilling_Yes</th>\n",
       "      <th>PaymentMethod_Credit card (automatic)</th>\n",
       "      <th>PaymentMethod_Electronic check</th>\n",
       "      <th>...</th>\n",
       "      <th>Dependents_Yes</th>\n",
       "      <th>InternetService_Fiber optic</th>\n",
       "      <th>InternetService_No</th>\n",
       "      <th>OnlineSecurity_Yes</th>\n",
       "      <th>OnlineBackup_Yes</th>\n",
       "      <th>DeviceProtection_Yes</th>\n",
       "      <th>TechSupport_Yes</th>\n",
       "      <th>StreamingTV_Yes</th>\n",
       "      <th>StreamingMovies_Yes</th>\n",
       "      <th>MultipleLines_Yes</th>\n",
       "    </tr>\n",
       "    <tr>\n",
       "      <th>CustomerID</th>\n",
       "      <th></th>\n",
       "      <th></th>\n",
       "      <th></th>\n",
       "      <th></th>\n",
       "      <th></th>\n",
       "      <th></th>\n",
       "      <th></th>\n",
       "      <th></th>\n",
       "      <th></th>\n",
       "      <th></th>\n",
       "      <th></th>\n",
       "      <th></th>\n",
       "      <th></th>\n",
       "      <th></th>\n",
       "      <th></th>\n",
       "      <th></th>\n",
       "      <th></th>\n",
       "      <th></th>\n",
       "      <th></th>\n",
       "      <th></th>\n",
       "      <th></th>\n",
       "    </tr>\n",
       "  </thead>\n",
       "  <tbody>\n",
       "    <tr>\n",
       "      <th>7590-VHVEG</th>\n",
       "      <td>29.85</td>\n",
       "      <td>29.85</td>\n",
       "      <td>False</td>\n",
       "      <td>31</td>\n",
       "      <td>0</td>\n",
       "      <td>0</td>\n",
       "      <td>0</td>\n",
       "      <td>1</td>\n",
       "      <td>0</td>\n",
       "      <td>1</td>\n",
       "      <td>...</td>\n",
       "      <td>0</td>\n",
       "      <td>0</td>\n",
       "      <td>0</td>\n",
       "      <td>0</td>\n",
       "      <td>1</td>\n",
       "      <td>0</td>\n",
       "      <td>0</td>\n",
       "      <td>0</td>\n",
       "      <td>0</td>\n",
       "      <td>0</td>\n",
       "    </tr>\n",
       "    <tr>\n",
       "      <th>5575-GNVDE</th>\n",
       "      <td>56.95</td>\n",
       "      <td>1889.50</td>\n",
       "      <td>False</td>\n",
       "      <td>1036</td>\n",
       "      <td>0</td>\n",
       "      <td>1</td>\n",
       "      <td>0</td>\n",
       "      <td>0</td>\n",
       "      <td>0</td>\n",
       "      <td>0</td>\n",
       "      <td>...</td>\n",
       "      <td>0</td>\n",
       "      <td>0</td>\n",
       "      <td>0</td>\n",
       "      <td>1</td>\n",
       "      <td>0</td>\n",
       "      <td>1</td>\n",
       "      <td>0</td>\n",
       "      <td>0</td>\n",
       "      <td>0</td>\n",
       "      <td>0</td>\n",
       "    </tr>\n",
       "    <tr>\n",
       "      <th>3668-QPYBK</th>\n",
       "      <td>53.85</td>\n",
       "      <td>108.15</td>\n",
       "      <td>True</td>\n",
       "      <td>61</td>\n",
       "      <td>0</td>\n",
       "      <td>0</td>\n",
       "      <td>0</td>\n",
       "      <td>1</td>\n",
       "      <td>0</td>\n",
       "      <td>0</td>\n",
       "      <td>...</td>\n",
       "      <td>0</td>\n",
       "      <td>0</td>\n",
       "      <td>0</td>\n",
       "      <td>1</td>\n",
       "      <td>1</td>\n",
       "      <td>0</td>\n",
       "      <td>0</td>\n",
       "      <td>0</td>\n",
       "      <td>0</td>\n",
       "      <td>0</td>\n",
       "    </tr>\n",
       "    <tr>\n",
       "      <th>7795-CFOCW</th>\n",
       "      <td>42.30</td>\n",
       "      <td>1840.75</td>\n",
       "      <td>False</td>\n",
       "      <td>1371</td>\n",
       "      <td>0</td>\n",
       "      <td>1</td>\n",
       "      <td>0</td>\n",
       "      <td>0</td>\n",
       "      <td>0</td>\n",
       "      <td>0</td>\n",
       "      <td>...</td>\n",
       "      <td>0</td>\n",
       "      <td>0</td>\n",
       "      <td>0</td>\n",
       "      <td>1</td>\n",
       "      <td>0</td>\n",
       "      <td>1</td>\n",
       "      <td>1</td>\n",
       "      <td>0</td>\n",
       "      <td>0</td>\n",
       "      <td>0</td>\n",
       "    </tr>\n",
       "    <tr>\n",
       "      <th>9237-HQITU</th>\n",
       "      <td>70.70</td>\n",
       "      <td>151.65</td>\n",
       "      <td>True</td>\n",
       "      <td>61</td>\n",
       "      <td>0</td>\n",
       "      <td>0</td>\n",
       "      <td>0</td>\n",
       "      <td>1</td>\n",
       "      <td>0</td>\n",
       "      <td>1</td>\n",
       "      <td>...</td>\n",
       "      <td>0</td>\n",
       "      <td>1</td>\n",
       "      <td>0</td>\n",
       "      <td>0</td>\n",
       "      <td>0</td>\n",
       "      <td>0</td>\n",
       "      <td>0</td>\n",
       "      <td>0</td>\n",
       "      <td>0</td>\n",
       "      <td>0</td>\n",
       "    </tr>\n",
       "    <tr>\n",
       "      <th>...</th>\n",
       "      <td>...</td>\n",
       "      <td>...</td>\n",
       "      <td>...</td>\n",
       "      <td>...</td>\n",
       "      <td>...</td>\n",
       "      <td>...</td>\n",
       "      <td>...</td>\n",
       "      <td>...</td>\n",
       "      <td>...</td>\n",
       "      <td>...</td>\n",
       "      <td>...</td>\n",
       "      <td>...</td>\n",
       "      <td>...</td>\n",
       "      <td>...</td>\n",
       "      <td>...</td>\n",
       "      <td>...</td>\n",
       "      <td>...</td>\n",
       "      <td>...</td>\n",
       "      <td>...</td>\n",
       "      <td>...</td>\n",
       "      <td>...</td>\n",
       "    </tr>\n",
       "    <tr>\n",
       "      <th>6840-RESVB</th>\n",
       "      <td>84.80</td>\n",
       "      <td>1990.50</td>\n",
       "      <td>False</td>\n",
       "      <td>730</td>\n",
       "      <td>0</td>\n",
       "      <td>1</td>\n",
       "      <td>0</td>\n",
       "      <td>1</td>\n",
       "      <td>0</td>\n",
       "      <td>0</td>\n",
       "      <td>...</td>\n",
       "      <td>1</td>\n",
       "      <td>0</td>\n",
       "      <td>0</td>\n",
       "      <td>1</td>\n",
       "      <td>0</td>\n",
       "      <td>1</td>\n",
       "      <td>1</td>\n",
       "      <td>1</td>\n",
       "      <td>1</td>\n",
       "      <td>1</td>\n",
       "    </tr>\n",
       "    <tr>\n",
       "      <th>2234-XADUH</th>\n",
       "      <td>103.20</td>\n",
       "      <td>7362.90</td>\n",
       "      <td>False</td>\n",
       "      <td>2191</td>\n",
       "      <td>0</td>\n",
       "      <td>1</td>\n",
       "      <td>0</td>\n",
       "      <td>1</td>\n",
       "      <td>1</td>\n",
       "      <td>0</td>\n",
       "      <td>...</td>\n",
       "      <td>1</td>\n",
       "      <td>1</td>\n",
       "      <td>0</td>\n",
       "      <td>0</td>\n",
       "      <td>1</td>\n",
       "      <td>1</td>\n",
       "      <td>0</td>\n",
       "      <td>1</td>\n",
       "      <td>1</td>\n",
       "      <td>1</td>\n",
       "    </tr>\n",
       "    <tr>\n",
       "      <th>4801-JZAZL</th>\n",
       "      <td>29.60</td>\n",
       "      <td>346.45</td>\n",
       "      <td>False</td>\n",
       "      <td>337</td>\n",
       "      <td>0</td>\n",
       "      <td>0</td>\n",
       "      <td>0</td>\n",
       "      <td>1</td>\n",
       "      <td>0</td>\n",
       "      <td>1</td>\n",
       "      <td>...</td>\n",
       "      <td>1</td>\n",
       "      <td>0</td>\n",
       "      <td>0</td>\n",
       "      <td>1</td>\n",
       "      <td>0</td>\n",
       "      <td>0</td>\n",
       "      <td>0</td>\n",
       "      <td>0</td>\n",
       "      <td>0</td>\n",
       "      <td>0</td>\n",
       "    </tr>\n",
       "    <tr>\n",
       "      <th>8361-LTMKD</th>\n",
       "      <td>74.40</td>\n",
       "      <td>306.60</td>\n",
       "      <td>True</td>\n",
       "      <td>123</td>\n",
       "      <td>1</td>\n",
       "      <td>0</td>\n",
       "      <td>0</td>\n",
       "      <td>1</td>\n",
       "      <td>0</td>\n",
       "      <td>0</td>\n",
       "      <td>...</td>\n",
       "      <td>0</td>\n",
       "      <td>1</td>\n",
       "      <td>0</td>\n",
       "      <td>0</td>\n",
       "      <td>0</td>\n",
       "      <td>0</td>\n",
       "      <td>0</td>\n",
       "      <td>0</td>\n",
       "      <td>0</td>\n",
       "      <td>1</td>\n",
       "    </tr>\n",
       "    <tr>\n",
       "      <th>3186-AJIEK</th>\n",
       "      <td>105.65</td>\n",
       "      <td>6844.50</td>\n",
       "      <td>False</td>\n",
       "      <td>2010</td>\n",
       "      <td>0</td>\n",
       "      <td>0</td>\n",
       "      <td>1</td>\n",
       "      <td>1</td>\n",
       "      <td>0</td>\n",
       "      <td>0</td>\n",
       "      <td>...</td>\n",
       "      <td>0</td>\n",
       "      <td>1</td>\n",
       "      <td>0</td>\n",
       "      <td>1</td>\n",
       "      <td>0</td>\n",
       "      <td>1</td>\n",
       "      <td>1</td>\n",
       "      <td>1</td>\n",
       "      <td>1</td>\n",
       "      <td>0</td>\n",
       "    </tr>\n",
       "  </tbody>\n",
       "</table>\n",
       "<p>7043 rows × 23 columns</p>\n",
       "</div>"
      ],
      "text/plain": [
       "            MonthlyCharges  TotalCharges  Churn  TotalDays  SeniorCitizen  \\\n",
       "CustomerID                                                                  \n",
       "7590-VHVEG           29.85         29.85  False         31              0   \n",
       "5575-GNVDE           56.95       1889.50  False       1036              0   \n",
       "3668-QPYBK           53.85        108.15   True         61              0   \n",
       "7795-CFOCW           42.30       1840.75  False       1371              0   \n",
       "9237-HQITU           70.70        151.65   True         61              0   \n",
       "...                    ...           ...    ...        ...            ...   \n",
       "6840-RESVB           84.80       1990.50  False        730              0   \n",
       "2234-XADUH          103.20       7362.90  False       2191              0   \n",
       "4801-JZAZL           29.60        346.45  False        337              0   \n",
       "8361-LTMKD           74.40        306.60   True        123              1   \n",
       "3186-AJIEK          105.65       6844.50  False       2010              0   \n",
       "\n",
       "            Type_One year  Type_Two year  PaperlessBilling_Yes  \\\n",
       "CustomerID                                                       \n",
       "7590-VHVEG              0              0                     1   \n",
       "5575-GNVDE              1              0                     0   \n",
       "3668-QPYBK              0              0                     1   \n",
       "7795-CFOCW              1              0                     0   \n",
       "9237-HQITU              0              0                     1   \n",
       "...                   ...            ...                   ...   \n",
       "6840-RESVB              1              0                     1   \n",
       "2234-XADUH              1              0                     1   \n",
       "4801-JZAZL              0              0                     1   \n",
       "8361-LTMKD              0              0                     1   \n",
       "3186-AJIEK              0              1                     1   \n",
       "\n",
       "            PaymentMethod_Credit card (automatic)  \\\n",
       "CustomerID                                          \n",
       "7590-VHVEG                                      0   \n",
       "5575-GNVDE                                      0   \n",
       "3668-QPYBK                                      0   \n",
       "7795-CFOCW                                      0   \n",
       "9237-HQITU                                      0   \n",
       "...                                           ...   \n",
       "6840-RESVB                                      0   \n",
       "2234-XADUH                                      1   \n",
       "4801-JZAZL                                      0   \n",
       "8361-LTMKD                                      0   \n",
       "3186-AJIEK                                      0   \n",
       "\n",
       "            PaymentMethod_Electronic check  ...  Dependents_Yes  \\\n",
       "CustomerID                                  ...                   \n",
       "7590-VHVEG                               1  ...               0   \n",
       "5575-GNVDE                               0  ...               0   \n",
       "3668-QPYBK                               0  ...               0   \n",
       "7795-CFOCW                               0  ...               0   \n",
       "9237-HQITU                               1  ...               0   \n",
       "...                                    ...  ...             ...   \n",
       "6840-RESVB                               0  ...               1   \n",
       "2234-XADUH                               0  ...               1   \n",
       "4801-JZAZL                               1  ...               1   \n",
       "8361-LTMKD                               0  ...               0   \n",
       "3186-AJIEK                               0  ...               0   \n",
       "\n",
       "            InternetService_Fiber optic  InternetService_No  \\\n",
       "CustomerID                                                    \n",
       "7590-VHVEG                            0                   0   \n",
       "5575-GNVDE                            0                   0   \n",
       "3668-QPYBK                            0                   0   \n",
       "7795-CFOCW                            0                   0   \n",
       "9237-HQITU                            1                   0   \n",
       "...                                 ...                 ...   \n",
       "6840-RESVB                            0                   0   \n",
       "2234-XADUH                            1                   0   \n",
       "4801-JZAZL                            0                   0   \n",
       "8361-LTMKD                            1                   0   \n",
       "3186-AJIEK                            1                   0   \n",
       "\n",
       "            OnlineSecurity_Yes  OnlineBackup_Yes  DeviceProtection_Yes  \\\n",
       "CustomerID                                                               \n",
       "7590-VHVEG                   0                 1                     0   \n",
       "5575-GNVDE                   1                 0                     1   \n",
       "3668-QPYBK                   1                 1                     0   \n",
       "7795-CFOCW                   1                 0                     1   \n",
       "9237-HQITU                   0                 0                     0   \n",
       "...                        ...               ...                   ...   \n",
       "6840-RESVB                   1                 0                     1   \n",
       "2234-XADUH                   0                 1                     1   \n",
       "4801-JZAZL                   1                 0                     0   \n",
       "8361-LTMKD                   0                 0                     0   \n",
       "3186-AJIEK                   1                 0                     1   \n",
       "\n",
       "            TechSupport_Yes  StreamingTV_Yes  StreamingMovies_Yes  \\\n",
       "CustomerID                                                          \n",
       "7590-VHVEG                0                0                    0   \n",
       "5575-GNVDE                0                0                    0   \n",
       "3668-QPYBK                0                0                    0   \n",
       "7795-CFOCW                1                0                    0   \n",
       "9237-HQITU                0                0                    0   \n",
       "...                     ...              ...                  ...   \n",
       "6840-RESVB                1                1                    1   \n",
       "2234-XADUH                0                1                    1   \n",
       "4801-JZAZL                0                0                    0   \n",
       "8361-LTMKD                0                0                    0   \n",
       "3186-AJIEK                1                1                    1   \n",
       "\n",
       "            MultipleLines_Yes  \n",
       "CustomerID                     \n",
       "7590-VHVEG                  0  \n",
       "5575-GNVDE                  0  \n",
       "3668-QPYBK                  0  \n",
       "7795-CFOCW                  0  \n",
       "9237-HQITU                  0  \n",
       "...                       ...  \n",
       "6840-RESVB                  1  \n",
       "2234-XADUH                  1  \n",
       "4801-JZAZL                  0  \n",
       "8361-LTMKD                  1  \n",
       "3186-AJIEK                  0  \n",
       "\n",
       "[7043 rows x 23 columns]"
      ]
     },
     "execution_count": 23,
     "metadata": {},
     "output_type": "execute_result"
    }
   ],
   "source": [
    "df_total"
   ]
  },
  {
   "cell_type": "markdown",
   "id": "172d9497",
   "metadata": {},
   "source": [
    "Провели кодирование категориальных признаков."
   ]
  },
  {
   "cell_type": "code",
   "execution_count": 24,
   "id": "073b9d55",
   "metadata": {},
   "outputs": [],
   "source": [
    "features_train, features_test, target_train, target_test = train_test_split(features, target, test_size=0.25, random_state=RANDOM_STATE)"
   ]
  },
  {
   "cell_type": "code",
   "execution_count": 25,
   "id": "8a29ffe9",
   "metadata": {},
   "outputs": [],
   "source": [
    "scaler = StandardScaler()\n",
    "\n",
    "scaler.fit(features_train[['MonthlyCharges', 'TotalCharges', 'TotalDays']])\n",
    "\n",
    "features_train = features_train.copy()\n",
    "features_train[['MonthlyCharges', 'TotalCharges', 'TotalDays']] = scaler.transform(features_train[['MonthlyCharges', 'TotalCharges', 'TotalDays']])\n",
    "\n",
    "features_test = features_test.copy()\n",
    "features_test[['MonthlyCharges', 'TotalCharges', 'TotalDays']] = scaler.transform(features_test[['MonthlyCharges', 'TotalCharges', 'TotalDays']])"
   ]
  },
  {
   "cell_type": "markdown",
   "id": "bb79c94f",
   "metadata": {},
   "source": [
    "Провели масштабирование признаков"
   ]
  },
  {
   "cell_type": "code",
   "execution_count": 26,
   "id": "45f1a84d",
   "metadata": {},
   "outputs": [
    {
     "data": {
      "text/plain": [
       "False    5174\n",
       "True     1869\n",
       "Name: Churn, dtype: int64"
      ]
     },
     "execution_count": 26,
     "metadata": {},
     "output_type": "execute_result"
    }
   ],
   "source": [
    "target.value_counts()"
   ]
  },
  {
   "cell_type": "markdown",
   "id": "edc25e2c",
   "metadata": {},
   "source": [
    "Наблюдаем примерно трехкратный дисбаланс классов. Проведем upsampling."
   ]
  },
  {
   "cell_type": "code",
   "execution_count": 27,
   "id": "56b0ff5a",
   "metadata": {},
   "outputs": [],
   "source": [
    "def upsample(features, target, repeat):     \n",
    "    features_zeros = features.loc[target == 0]     \n",
    "    features_ones = features.loc[target == 1]     \n",
    "    target_zeros = target.loc[target == 0]     \n",
    "    target_ones = target.loc[target == 1] \n",
    "\n",
    "    features_upsampled = pd.concat([features_zeros] + [features_ones] * repeat)     \n",
    "    target_upsampled = pd.concat([target_zeros] + [target_ones] * repeat)     \n",
    "    \n",
    "    features_upsampled, target_upsampled = shuffle(features_upsampled, target_upsampled, random_state=RANDOM_STATE)          \n",
    "    \n",
    "    return features_upsampled, target_upsampled"
   ]
  },
  {
   "cell_type": "code",
   "execution_count": 28,
   "id": "23ae9d60",
   "metadata": {},
   "outputs": [],
   "source": [
    "features_train, target_train = upsample(features_train, target_train, 3)"
   ]
  },
  {
   "cell_type": "markdown",
   "id": "a51e18f3",
   "metadata": {},
   "source": [
    "Данные готовы для обучения"
   ]
  },
  {
   "cell_type": "code",
   "execution_count": 31,
   "id": "d35597f6",
   "metadata": {},
   "outputs": [
    {
     "data": {
      "text/html": [
       "<div>\n",
       "<style scoped>\n",
       "    .dataframe tbody tr th:only-of-type {\n",
       "        vertical-align: middle;\n",
       "    }\n",
       "\n",
       "    .dataframe tbody tr th {\n",
       "        vertical-align: top;\n",
       "    }\n",
       "\n",
       "    .dataframe thead th {\n",
       "        text-align: right;\n",
       "    }\n",
       "</style>\n",
       "<table border=\"1\" class=\"dataframe\">\n",
       "  <thead>\n",
       "    <tr style=\"text-align: right;\">\n",
       "      <th></th>\n",
       "      <th>model_name</th>\n",
       "      <th>cross_val_score</th>\n",
       "      <th>training time</th>\n",
       "    </tr>\n",
       "  </thead>\n",
       "  <tbody>\n",
       "    <tr>\n",
       "      <th>0</th>\n",
       "      <td>DecisionTreeClassifier</td>\n",
       "      <td>0.906001</td>\n",
       "      <td>0.211003</td>\n",
       "    </tr>\n",
       "    <tr>\n",
       "      <th>1</th>\n",
       "      <td>RandomForestClassifier</td>\n",
       "      <td>0.984087</td>\n",
       "      <td>2.968027</td>\n",
       "    </tr>\n",
       "    <tr>\n",
       "      <th>2</th>\n",
       "      <td>LogisticRegression</td>\n",
       "      <td>0.849099</td>\n",
       "      <td>0.138968</td>\n",
       "    </tr>\n",
       "    <tr>\n",
       "      <th>3</th>\n",
       "      <td>CatBoostClassifier</td>\n",
       "      <td>0.946268</td>\n",
       "      <td>22.489456</td>\n",
       "    </tr>\n",
       "    <tr>\n",
       "      <th>4</th>\n",
       "      <td>LGBMClassifier</td>\n",
       "      <td>0.950502</td>\n",
       "      <td>0.720999</td>\n",
       "    </tr>\n",
       "  </tbody>\n",
       "</table>\n",
       "</div>"
      ],
      "text/plain": [
       "               model_name  cross_val_score  training time \n",
       "0  DecisionTreeClassifier         0.906001        0.211003\n",
       "1  RandomForestClassifier         0.984087        2.968027\n",
       "2      LogisticRegression         0.849099        0.138968\n",
       "3      CatBoostClassifier         0.946268       22.489456\n",
       "4          LGBMClassifier         0.950502        0.720999"
      ]
     },
     "execution_count": 31,
     "metadata": {},
     "output_type": "execute_result"
    }
   ],
   "source": [
    "\n",
    "cv = 5\n",
    "models = [DecisionTreeClassifier(random_state = RANDOM_STATE), \n",
    "          RandomForestClassifier(random_state=RANDOM_STATE), \n",
    "          LogisticRegression(), CatBoostClassifier(random_state=RANDOM_STATE,verbose = 0),LGBMClassifier(random_state=RANDOM_STATE) ]\n",
    "\n",
    "\n",
    "results_cross_val = []\n",
    "\n",
    "for model in models:     \n",
    "    \n",
    "    train_start = time.time()\n",
    "        \n",
    "    cross_val_score_mod = cross_val_score(model, \n",
    "                                              features_train, \n",
    "                                              target_train, \n",
    "                                              cv=cv, scoring='roc_auc').mean()\n",
    "\n",
    "    train_end = time.time()\n",
    "    results_cross_val.append({'model_name': model.__class__.__name__, \n",
    "                              'cross_val_score': cross_val_score_mod, \n",
    "                              'training time ': train_end - train_start\n",
    "                              })  \n",
    "              \n",
    "res = pd.DataFrame(results_cross_val)\n",
    "res"
   ]
  },
  {
   "cell_type": "markdown",
   "id": "2ecbbb7f",
   "metadata": {},
   "source": [
    "Выберем три наиболее перспективные модели для обучения. Это - рандомный лес, Кэтбуст и ЛГБМ."
   ]
  },
  {
   "cell_type": "code",
   "execution_count": 32,
   "id": "2054db92",
   "metadata": {},
   "outputs": [
    {
     "name": "stdout",
     "output_type": "stream",
     "text": [
      "{'depth': 10, 'iterations': 100, 'l2_leaf_reg': 3, 'learning_rate': 0.5, 'random_state': 12345, 'verbose': 0}\n"
     ]
    },
    {
     "data": {
      "image/png": "[encoded data removed]",
      "text/plain": [
       "<Figure size 600x600 with 1 Axes>"
      ]
     },
     "metadata": {},
     "output_type": "display_data"
    },
    {
     "name": "stdout",
     "output_type": "stream",
     "text": [
      "Значение ROC-AUC 0.8595300620617077\n"
     ]
    }
   ],
   "source": [
    "train_start = time.time()\n",
    "model = CatBoostClassifier() \n",
    "\n",
    "hyperparams = [{'learning_rate':[0.1, 0.3, 0.5, 0.9],\n",
    "                'depth':[x for x in range(1, 11, 3)],\n",
    "                'random_state':[RANDOM_STATE],\n",
    "              'verbose':[0],\n",
    "                  'iterations': [50, 100],\n",
    "    'l2_leaf_reg': [3, 9]}]\n",
    "\n",
    "search = GridSearchCV(model, hyperparams, cv=5, scoring='roc_auc')\n",
    "search.fit(features_train, target_train)\n",
    "\n",
    "print(search.best_params_)\n",
    "\n",
    "predicted_probalities = search.best_estimator_.predict_proba(features_test)[:, 1]\n",
    "roc_auc = roc_auc_score(target_test, predicted_probalities)\n",
    "fpr, tpr, thresholds = roc_curve(target_test, predicted_probalities)\n",
    "plt.figure(figsize=(6, 6))\n",
    "plt.plot(fpr, tpr)\n",
    "plt.xlabel('False Positive Rate')\n",
    "plt.ylabel('True Positive Rate')\n",
    "plt.ylim([0.0, 1.0])\n",
    "plt.xlim([0.0, 1.0])\n",
    "plt.title('ROC-кривая модели {}'.format(model.__class__.__name__))\n",
    "plt.plot([0, 1], [0, 1], linestyle='--')\n",
    "plt.show()\n",
    "print('Значение ROC-AUC',roc_auc)"
   ]
  },
  {
   "cell_type": "code",
   "execution_count": 33,
   "id": "6acded4b",
   "metadata": {},
   "outputs": [
    {
     "name": "stdout",
     "output_type": "stream",
     "text": [
      "{'max_depth': 19, 'n_estimators': 9, 'random_state': 12345}\n"
     ]
    },
    {
     "data": {
      "image/png": "[encoded data removed]",
      "text/plain": [
       "<Figure size 600x600 with 1 Axes>"
      ]
     },
     "metadata": {},
     "output_type": "display_data"
    },
    {
     "name": "stdout",
     "output_type": "stream",
     "text": [
      "Значение ROC-AUC 0.8166589622285825\n"
     ]
    }
   ],
   "source": [
    "train_start = time.time()\n",
    "model = RandomForestClassifier() \n",
    "hyperparams = [{'n_estimators' : [x for x in range(1, 10)], \n",
    "                'max_depth':[x for x in range(1, 20)], \n",
    "                'random_state':[RANDOM_STATE]}]\n",
    "\n",
    "search = GridSearchCV(model, hyperparams, cv=5, scoring='roc_auc')\n",
    "search.fit(features_train, target_train)\n",
    "\n",
    "print(search.best_params_)\n",
    "\n",
    "predicted_probalities = search.best_estimator_.predict_proba(features_test)[:, 1]\n",
    "roc_auc = roc_auc_score(target_test, predicted_probalities)\n",
    "fpr, tpr, thresholds = roc_curve(target_test, predicted_probalities)\n",
    "plt.figure(figsize=(6, 6))\n",
    "plt.plot(fpr, tpr)\n",
    "plt.xlabel('False Positive Rate')\n",
    "plt.ylabel('True Positive Rate')\n",
    "plt.ylim([0.0, 1.0])\n",
    "plt.xlim([0.0, 1.0])\n",
    "plt.title('ROC-кривая модели {}'.format(model.__class__.__name__))\n",
    "plt.plot([0, 1], [0, 1], linestyle='--')\n",
    "plt.show()\n",
    "print('Значение ROC-AUC',roc_auc)"
   ]
  },
  {
   "cell_type": "code",
   "execution_count": 34,
   "id": "0bd97ddd",
   "metadata": {},
   "outputs": [
    {
     "name": "stdout",
     "output_type": "stream",
     "text": [
      "{'max_depth': 11, 'num_leaves': 101, 'random_state': 12345}\n"
     ]
    },
    {
     "data": {
      "image/png": "[encoded data removed]",
      "text/plain": [
       "<Figure size 600x600 with 1 Axes>"
      ]
     },
     "metadata": {},
     "output_type": "display_data"
    },
    {
     "name": "stdout",
     "output_type": "stream",
     "text": [
      "Значение ROC-AUC 0.8930927253712064\n"
     ]
    }
   ],
   "source": [
    "train_start = time.time()\n",
    "model = LGBMClassifier() \n",
    "\n",
    "hyperparams = [{'num_leaves' : [x for x in range(1, 102, 20)], \n",
    "                'max_depth':[x for x in range(1, 12, 2)],\n",
    "                'random_state':[RANDOM_STATE]}]\n",
    "\n",
    "\n",
    "\n",
    "search = GridSearchCV(model, hyperparams, cv=5, scoring='roc_auc')\n",
    "search.fit(features_train, target_train)\n",
    "\n",
    "print(search.best_params_)\n",
    "\n",
    "predicted_probalities = search.best_estimator_.predict_proba(features_test)[:, 1]\n",
    "roc_auc = roc_auc_score(target_test, predicted_probalities)\n",
    "fpr, tpr, thresholds = roc_curve(target_test, predicted_probalities)\n",
    "plt.figure(figsize=(6, 6))\n",
    "plt.plot(fpr, tpr)\n",
    "plt.xlabel('False Positive Rate')\n",
    "plt.ylabel('True Positive Rate')\n",
    "plt.ylim([0.0, 1.0])\n",
    "plt.xlim([0.0, 1.0])\n",
    "plt.title('ROC-кривая модели {}'.format(model.__class__.__name__))\n",
    "plt.plot([0, 1], [0, 1], linestyle='--')\n",
    "plt.show()\n",
    "print('Значение ROC-AUC',roc_auc)"
   ]
  },
  {
   "cell_type": "markdown",
   "id": "18f5ec0e",
   "metadata": {},
   "source": [
    "Рандомный лес, несмотря на лидерство при кросс-валидации показал себя хуже трех моделей: налицо переобучение.\n",
    "ЛГБМ показал результат ROC-AUC 0,89 против ROC-AUC 0,86 у КэтБуста, предлагается использовать данную модель для пресказаний.\n",
    "Осталось изучить какие признаки влияют на принятие решения моделью."
   ]
  },
  {
   "cell_type": "code",
   "execution_count": 36,
   "id": "6bd23050",
   "metadata": {},
   "outputs": [
    {
     "data": {
      "image/png": "[encoded data removed]",
      "text/plain": [
       "<Figure size 1000x500 with 1 Axes>"
      ]
     },
     "metadata": {},
     "output_type": "display_data"
    }
   ],
   "source": [
    "importances = pd.DataFrame(search.best_estimator_.feature_importances_, index = features_test.columns, columns=['importances'])\n",
    "importances = importances.sort_values(by='importances', ascending=False)\n",
    "importances.plot(kind='bar', figsize=(10, 5), title='Значение параметров для принятия решения')\n",
    "plt.show()"
   ]
  },
  {
   "cell_type": "markdown",
   "id": "1f0baa75",
   "metadata": {},
   "source": [
    "Наиболее сильно на решение покинуть компанию влияет: срок пользования услугами, месячный тариф и общие траты по услугам."
   ]
  },
  {
   "cell_type": "markdown",
   "id": "2a5744ee",
   "metadata": {},
   "source": [
    "# Отчет\n",
    "- Требовалось провести работу по предсказанию того, откажется ли клиент от услуг оператора сотовой связи или нет.\n",
    "- Сначала данные были прочитаны и по ним были сделаны предварительные выводы\n",
    "- После этого была произведена первичная обработка данных - переименованы столбцы, изменены типы данных\n",
    "- Были добавлены 2 новых столбца - целевой признак Churn, который означает отказался ли клиент от услуг и TotalDays, который обозначает сколько по времени пользователь пользовался услугами\n",
    "- После этого был проведен исследовательский анализ данных - проанализированы количественные и категориальные признаки\n",
    "- Были сделаны следующие выводы: со временем вероятность отказа от услуг снижается и обычно отказывались от услуг те, кто платил больше\n",
    "- После этого была проведена подготовка данных к обучению моделей: удалены ненужные столбцы, применена техника OHE, датафрейм был разделен на обучающую и тестовую выборки, проведено масштабирование количественных признаков и проведен upsample\n",
    "- Затем на данных были обучены 3 модели из самых перспективных: ЛГБМ, Рандомный лес и КэтБуст\n",
    "- Лучший результат показала модель ЛГБМ со значением метрики ROC-AUC в 0.89, что выше, чем значение, требуемое в задании\n",
    "- Самые важные факторы - сколько клиент пользуется услугами и сколько он платит в месяц и общие траты по услугам."
   ]
  }
 ],
 "metadata": {
  "ExecuteTimeLog": [
   {
    "duration": 118,
    "start_time": "2022-04-26T18:15:54.941Z"
   },
   {
    "duration": 12,
    "start_time": "2022-04-26T18:15:58.627Z"
   },
   {
    "duration": 94467,
    "start_time": "2022-04-26T18:16:10.630Z"
   },
   {
    "duration": 123,
    "start_time": "2022-04-26T18:17:45.101Z"
   },
   {
    "duration": 227,
    "start_time": "2022-04-26T18:17:45.227Z"
   },
   {
    "duration": 44,
    "start_time": "2022-04-26T18:18:26.667Z"
   },
   {
    "duration": 7,
    "start_time": "2022-04-26T18:19:04.327Z"
   },
   {
    "duration": 9,
    "start_time": "2022-04-26T18:19:05.121Z"
   },
   {
    "duration": 8,
    "start_time": "2022-04-26T18:19:05.710Z"
   },
   {
    "duration": 6,
    "start_time": "2022-04-26T18:19:06.377Z"
   },
   {
    "duration": 48,
    "start_time": "2022-04-26T18:19:08.118Z"
   },
   {
    "duration": 40,
    "start_time": "2022-04-26T18:19:42.213Z"
   },
   {
    "duration": 29,
    "start_time": "2022-04-26T18:19:46.093Z"
   },
   {
    "duration": 21,
    "start_time": "2022-04-26T18:20:13.342Z"
   },
   {
    "duration": 18,
    "start_time": "2022-04-26T18:20:29.108Z"
   },
   {
    "duration": 41,
    "start_time": "2022-04-26T18:20:29.698Z"
   },
   {
    "duration": 7,
    "start_time": "2022-04-26T18:20:30.637Z"
   },
   {
    "duration": 23,
    "start_time": "2022-04-26T18:20:34.395Z"
   },
   {
    "duration": 17,
    "start_time": "2022-04-26T18:21:01.290Z"
   },
   {
    "duration": 34,
    "start_time": "2022-04-26T18:21:01.820Z"
   },
   {
    "duration": 11389,
    "start_time": "2022-04-26T18:23:52.123Z"
   },
   {
    "duration": 45,
    "start_time": "2022-04-26T18:24:21.202Z"
   },
   {
    "duration": 47,
    "start_time": "2022-04-26T18:24:33.484Z"
   },
   {
    "duration": 11,
    "start_time": "2022-04-26T18:24:49.034Z"
   },
   {
    "duration": 26,
    "start_time": "2022-04-26T18:24:51.730Z"
   },
   {
    "duration": 8,
    "start_time": "2022-04-26T18:24:55.974Z"
   },
   {
    "duration": 6,
    "start_time": "2022-04-26T18:24:58.169Z"
   },
   {
    "duration": 16,
    "start_time": "2022-04-26T18:24:58.610Z"
   },
   {
    "duration": 202,
    "start_time": "2022-04-27T15:03:00.396Z"
   }
  ],
  "kernelspec": {
   "display_name": "Python 3 (ipykernel)",
   "language": "python",
   "name": "python3"
  },
  "language_info": {
   "codemirror_mode": {
    "name": "ipython",
    "version": 3
   },
   "file_extension": ".py",
   "mimetype": "text/x-python",
   "name": "python",
   "nbconvert_exporter": "python",
   "pygments_lexer": "ipython3",
   "version": "3.8.12"
  },
  "toc": {
   "base_numbering": 1,
   "nav_menu": {},
   "number_sections": true,
   "sideBar": true,
   "skip_h1_title": true,
   "title_cell": "Table of Contents",
   "title_sidebar": "Contents",
   "toc_cell": false,
   "toc_position": {},
   "toc_section_display": true,
   "toc_window_display": false
  }
 },
 "nbformat": 4,
 "nbformat_minor": 5
}
