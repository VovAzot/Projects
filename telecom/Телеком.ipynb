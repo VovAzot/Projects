{
 "cells": [
  {
   "cell_type": "markdown",
   "metadata": {},
   "source": [
    "# Определение перспективного тарифа для телеком-компании \"МЕГАЛАЙН\"\n",
    "Компания «Мегалайн» — федеральный оператор сотовой связи. Клиентам предлагают два тарифных плана: «Смарт» и «Ультра». Чтобы скорректировать рекламный бюджет, коммерческий департамент хочет понять, какой тариф приносит больше денег.\n",
    "Нам предстоит сделать предварительный анализ тарифов на небольшой выборке клиентов. В вашем распоряжении данные 500 пользователей «Мегалайна»: кто они, откуда, каким тарифом пользуются, сколько звонков и сообщений каждый отправил за 2018 год. Нужно проанализировать поведение клиентов и сделать вывод — какой тариф лучше.\n",
    "### Наименования столбцов по Таблицам:\n",
    "<font color='red'> Таблица users (информация о пользователях):</font> <br>\n",
    "user_id — уникальный идентификатор пользователя:<br>\n",
    "first_name — имя пользователя<br>\n",
    "last_name — фамилия пользователя<br>\n",
    "age — возраст пользователя (годы)<br>\n",
    "reg_date — дата подключения тарифа (день, месяц, год)<br>\n",
    "churn_date — дата прекращения пользования тарифом (если значение пропущено, то тариф ещё действовал на момент выгрузки данных)<br>\n",
    "city — город проживания пользователя<br>\n",
    "tariff — название тарифного плана<br>\n",
    "<font color='red'>Таблица calls (информация о звонках):</font><br>\n",
    "id — уникальный номер звонка<br>\n",
    "call_date — дата звонка<br>\n",
    "duration — длительность звонка в минутах<br>\n",
    "user_id — идентификатор пользователя, сделавшего звонок<br>\n",
    "<font color='red'>Таблица messages (информация о сообщениях):</font><br>\n",
    "id — уникальный номер сообщения<br>\n",
    "message_date — дата сообщения<br>\n",
    "user_id — идентификатор пользователя, отправившего сообщение<br>\n",
    "<font color='red'>Таблица internet (информация об интернет-сессиях):</font><br>\n",
    "id — уникальный номер сессии<br>\n",
    "mb_used — объём потраченного за сессию интернет-трафика (в мегабайтах)<br>\n",
    "session_date — дата интернет-сессии<br>\n",
    "user_id — идентификатор пользователя<br>\n",
    "<font color='red'>Таблица tariffs (информация о тарифах):</font><br>\n",
    "tariff_name — название тарифа<br>\n",
    "rub_monthly_fee — ежемесячная абонентская плата в рублях<br>\n",
    "minutes_included — количество минут разговора в месяц, включённых в абонентскую плату<br>\n",
    "messages_included — количество сообщений в месяц, включённых в абонентскую плату<br>\n",
    "mb_per_month_included — объём интернет-трафика, включённого в абонентскую плату (в мегабайтах)<br>\n",
    "rub_per_minute — стоимость минуты разговора сверх тарифного пакета (например, если в тарифе 100 минут разговора в месяц, то со 101 минуты будет взиматься плата)<br>\n",
    "rub_per_message — стоимость отправки сообщения сверх тарифного пакета<br>\n",
    "rub_per_gb — стоимость дополнительного гигабайта интернет-трафика сверх тарифного пакета (1 гигабайт = 1024 мегабайта)<br>"
   ]
  },
  {
   "cell_type": "markdown",
   "metadata": {},
   "source": [
    "## Первичный анализ данных\n",
    "Шаг первый. Открываем файлы и изучаем первичную информацию."
   ]
  },
  {
   "cell_type": "code",
   "execution_count": 1,
   "metadata": {
    "scrolled": true
   },
   "outputs": [
    {
     "name": "stdout",
     "output_type": "stream",
     "text": [
      "<class 'pandas.core.frame.DataFrame'>\n",
      "RangeIndex: 202607 entries, 0 to 202606\n",
      "Data columns (total 4 columns):\n",
      "id           202607 non-null object\n",
      "call_date    202607 non-null datetime64[ns]\n",
      "duration     202607 non-null float64\n",
      "user_id      202607 non-null int64\n",
      "dtypes: datetime64[ns](1), float64(1), int64(1), object(1)\n",
      "memory usage: 6.2+ MB\n",
      "<class 'pandas.core.frame.DataFrame'>\n",
      "RangeIndex: 149396 entries, 0 to 149395\n",
      "Data columns (total 5 columns):\n",
      "Unnamed: 0      149396 non-null int64\n",
      "id              149396 non-null object\n",
      "mb_used         149396 non-null float64\n",
      "session_date    149396 non-null datetime64[ns]\n",
      "user_id         149396 non-null int64\n",
      "dtypes: datetime64[ns](1), float64(1), int64(2), object(1)\n",
      "memory usage: 5.7+ MB\n",
      "<class 'pandas.core.frame.DataFrame'>\n",
      "RangeIndex: 123036 entries, 0 to 123035\n",
      "Data columns (total 3 columns):\n",
      "id              123036 non-null object\n",
      "message_date    123036 non-null datetime64[ns]\n",
      "user_id         123036 non-null int64\n",
      "dtypes: datetime64[ns](1), int64(1), object(1)\n",
      "memory usage: 2.8+ MB\n",
      "<class 'pandas.core.frame.DataFrame'>\n",
      "RangeIndex: 2 entries, 0 to 1\n",
      "Data columns (total 8 columns):\n",
      "messages_included        2 non-null int64\n",
      "mb_per_month_included    2 non-null int64\n",
      "minutes_included         2 non-null int64\n",
      "rub_monthly_fee          2 non-null int64\n",
      "rub_per_gb               2 non-null int64\n",
      "rub_per_message          2 non-null int64\n",
      "rub_per_minute           2 non-null int64\n",
      "tariff_name              2 non-null object\n",
      "dtypes: int64(7), object(1)\n",
      "memory usage: 256.0+ bytes\n",
      "<class 'pandas.core.frame.DataFrame'>\n",
      "RangeIndex: 500 entries, 0 to 499\n",
      "Data columns (total 8 columns):\n",
      "user_id       500 non-null int64\n",
      "age           500 non-null int64\n",
      "churn_date    38 non-null object\n",
      "city          500 non-null object\n",
      "first_name    500 non-null object\n",
      "last_name     500 non-null object\n",
      "reg_date      500 non-null object\n",
      "tariff        500 non-null object\n",
      "dtypes: int64(2), object(6)\n",
      "memory usage: 31.4+ KB\n",
      "False    202607\n",
      "dtype: int64\n",
      "False    149396\n",
      "dtype: int64\n",
      "False    123036\n",
      "dtype: int64\n",
      "False    2\n",
      "dtype: int64\n",
      "False    500\n",
      "dtype: int64\n"
     ]
    }
   ],
   "source": [
    "import pandas as pd\n",
    "import matplotlib.pyplot as plt\n",
    "import numpy as np\n",
    "import math \n",
    "import seaborn as sns\n",
    "import scipy.stats as st\n",
    "calls_data = pd.read_csv('/datasets/calls.csv', parse_dates= ['call_date'])\n",
    "internet_data = pd.read_csv('/datasets/internet.csv', parse_dates= ['session_date'] )\n",
    "messages_data = pd.read_csv('/datasets/messages.csv', parse_dates= ['message_date'] )\n",
    "tariffs_data = pd.read_csv('/datasets/tariffs.csv')\n",
    "users_data = pd.read_csv('/datasets/users.csv')\n",
    "calls_data.info()\n",
    "internet_data.info()\n",
    "messages_data.info()\n",
    "tariffs_data.info()\n",
    "users_data.info()\n",
    "print(calls_data.duplicated().value_counts())\n",
    "print(internet_data.duplicated().value_counts())\n",
    "print(messages_data.duplicated().value_counts())\n",
    "print(tariffs_data.duplicated().value_counts())\n",
    "print(users_data.duplicated().value_counts())"
   ]
  },
  {
   "cell_type": "markdown",
   "metadata": {},
   "source": [
    "Проводим первичный анализ данных. Видим, что даты имеют тип данных object, нужно привести данные к типу date.\n",
    "Дубликатов не обнаружено. Пропущенные значения не удаляем, поскольку пользователи подключаются к тарифу и вызодят из него в разное время, удаление пропущенных значений может серьёзно навредить объективности анализа. "
   ]
  },
  {
   "cell_type": "markdown",
   "metadata": {},
   "source": [
    "# Обработка данных и расчет выручки"
   ]
  },
  {
   "cell_type": "code",
   "execution_count": 2,
   "metadata": {},
   "outputs": [
    {
     "name": "stdout",
     "output_type": "stream",
     "text": [
      "Таблица количества израсходованных минут по каждому пользователю в месяц:\n"
     ]
    },
    {
     "data": {
      "text/html": [
       "<div>\n",
       "<style scoped>\n",
       "    .dataframe tbody tr th:only-of-type {\n",
       "        vertical-align: middle;\n",
       "    }\n",
       "\n",
       "    .dataframe tbody tr th {\n",
       "        vertical-align: top;\n",
       "    }\n",
       "\n",
       "    .dataframe thead th {\n",
       "        text-align: right;\n",
       "    }\n",
       "</style>\n",
       "<table border=\"1\" class=\"dataframe\">\n",
       "  <thead>\n",
       "    <tr style=\"text-align: right;\">\n",
       "      <th></th>\n",
       "      <th></th>\n",
       "      <th>calls_duration</th>\n",
       "    </tr>\n",
       "    <tr>\n",
       "      <th>user_id</th>\n",
       "      <th>month</th>\n",
       "      <th></th>\n",
       "    </tr>\n",
       "  </thead>\n",
       "  <tbody>\n",
       "    <tr>\n",
       "      <td rowspan=\"5\" valign=\"top\">1000</td>\n",
       "      <td>5</td>\n",
       "      <td>159</td>\n",
       "    </tr>\n",
       "    <tr>\n",
       "      <td>6</td>\n",
       "      <td>172</td>\n",
       "    </tr>\n",
       "    <tr>\n",
       "      <td>7</td>\n",
       "      <td>340</td>\n",
       "    </tr>\n",
       "    <tr>\n",
       "      <td>8</td>\n",
       "      <td>408</td>\n",
       "    </tr>\n",
       "    <tr>\n",
       "      <td>9</td>\n",
       "      <td>466</td>\n",
       "    </tr>\n",
       "    <tr>\n",
       "      <td>...</td>\n",
       "      <td>...</td>\n",
       "      <td>...</td>\n",
       "    </tr>\n",
       "    <tr>\n",
       "      <td>1498</td>\n",
       "      <td>10</td>\n",
       "      <td>247</td>\n",
       "    </tr>\n",
       "    <tr>\n",
       "      <td rowspan=\"4\" valign=\"top\">1499</td>\n",
       "      <td>9</td>\n",
       "      <td>70</td>\n",
       "    </tr>\n",
       "    <tr>\n",
       "      <td>10</td>\n",
       "      <td>449</td>\n",
       "    </tr>\n",
       "    <tr>\n",
       "      <td>11</td>\n",
       "      <td>612</td>\n",
       "    </tr>\n",
       "    <tr>\n",
       "      <td>12</td>\n",
       "      <td>492</td>\n",
       "    </tr>\n",
       "  </tbody>\n",
       "</table>\n",
       "<p>3174 rows × 1 columns</p>\n",
       "</div>"
      ],
      "text/plain": [
       "               calls_duration\n",
       "user_id month                \n",
       "1000    5                 159\n",
       "        6                 172\n",
       "        7                 340\n",
       "        8                 408\n",
       "        9                 466\n",
       "...                       ...\n",
       "1498    10                247\n",
       "1499    9                  70\n",
       "        10                449\n",
       "        11                612\n",
       "        12                492\n",
       "\n",
       "[3174 rows x 1 columns]"
      ]
     },
     "execution_count": 2,
     "metadata": {},
     "output_type": "execute_result"
    }
   ],
   "source": [
    "calls_data['duration'] = calls_data['duration'].apply(lambda x: math.ceil(x))\n",
    "calls_data['month'] = calls_data['call_date'].dt.month#добавляем столбец с месяцем\n",
    "month_calls_duration = calls_data.pivot_table(index=['user_id', 'month'], values='duration', aggfunc = 'sum')#строим сводную таблицу с мультииндексом\n",
    "month_calls_duration.columns = ['calls_duration']\n",
    "print('Таблица количества израсходованных минут по каждому пользователю в месяц:')\n",
    "month_calls_duration\n"
   ]
  },
  {
   "cell_type": "markdown",
   "metadata": {},
   "source": [
    "Приводим данные по датам в таблицах в подходящий формат.  Округляем данные по звонкам до целых значений в бОльшую сторону, поскольку по правилам тарифа даже одна секунда считается как целая минута. Добавляем столбец с месяцем совершения звонка. Строим таблицу с длительностью звонков по каждому пользователю за каждый месяц."
   ]
  },
  {
   "cell_type": "code",
   "execution_count": 3,
   "metadata": {},
   "outputs": [
    {
     "name": "stdout",
     "output_type": "stream",
     "text": [
      "Таблица количества звонков по каждому пользователю в месяц:\n"
     ]
    },
    {
     "data": {
      "text/html": [
       "<div>\n",
       "<style scoped>\n",
       "    .dataframe tbody tr th:only-of-type {\n",
       "        vertical-align: middle;\n",
       "    }\n",
       "\n",
       "    .dataframe tbody tr th {\n",
       "        vertical-align: top;\n",
       "    }\n",
       "\n",
       "    .dataframe thead th {\n",
       "        text-align: right;\n",
       "    }\n",
       "</style>\n",
       "<table border=\"1\" class=\"dataframe\">\n",
       "  <thead>\n",
       "    <tr style=\"text-align: right;\">\n",
       "      <th></th>\n",
       "      <th></th>\n",
       "      <th>calls</th>\n",
       "    </tr>\n",
       "    <tr>\n",
       "      <th>user_id</th>\n",
       "      <th>month</th>\n",
       "      <th></th>\n",
       "    </tr>\n",
       "  </thead>\n",
       "  <tbody>\n",
       "    <tr>\n",
       "      <td rowspan=\"5\" valign=\"top\">1000</td>\n",
       "      <td>5</td>\n",
       "      <td>22</td>\n",
       "    </tr>\n",
       "    <tr>\n",
       "      <td>6</td>\n",
       "      <td>43</td>\n",
       "    </tr>\n",
       "    <tr>\n",
       "      <td>7</td>\n",
       "      <td>47</td>\n",
       "    </tr>\n",
       "    <tr>\n",
       "      <td>8</td>\n",
       "      <td>52</td>\n",
       "    </tr>\n",
       "    <tr>\n",
       "      <td>9</td>\n",
       "      <td>58</td>\n",
       "    </tr>\n",
       "    <tr>\n",
       "      <td>...</td>\n",
       "      <td>...</td>\n",
       "      <td>...</td>\n",
       "    </tr>\n",
       "    <tr>\n",
       "      <td>1498</td>\n",
       "      <td>10</td>\n",
       "      <td>41</td>\n",
       "    </tr>\n",
       "    <tr>\n",
       "      <td rowspan=\"4\" valign=\"top\">1499</td>\n",
       "      <td>9</td>\n",
       "      <td>9</td>\n",
       "    </tr>\n",
       "    <tr>\n",
       "      <td>10</td>\n",
       "      <td>68</td>\n",
       "    </tr>\n",
       "    <tr>\n",
       "      <td>11</td>\n",
       "      <td>74</td>\n",
       "    </tr>\n",
       "    <tr>\n",
       "      <td>12</td>\n",
       "      <td>69</td>\n",
       "    </tr>\n",
       "  </tbody>\n",
       "</table>\n",
       "<p>3174 rows × 1 columns</p>\n",
       "</div>"
      ],
      "text/plain": [
       "               calls\n",
       "user_id month       \n",
       "1000    5         22\n",
       "        6         43\n",
       "        7         47\n",
       "        8         52\n",
       "        9         58\n",
       "...              ...\n",
       "1498    10        41\n",
       "1499    9          9\n",
       "        10        68\n",
       "        11        74\n",
       "        12        69\n",
       "\n",
       "[3174 rows x 1 columns]"
      ]
     },
     "execution_count": 3,
     "metadata": {},
     "output_type": "execute_result"
    }
   ],
   "source": [
    "print('Таблица количества звонков по каждому пользователю в месяц:')\n",
    "month_calls = calls_data.pivot_table(index=['user_id','month'], values='id', aggfunc = 'count') #строим сводную таблицу по месяцам\n",
    "month_calls.columns = ['calls']\n",
    "month_calls"
   ]
  },
  {
   "cell_type": "markdown",
   "metadata": {},
   "source": [
    " Строим таблицу с количеством звонков по каждому пользователю за каждый месяц."
   ]
  },
  {
   "cell_type": "code",
   "execution_count": 4,
   "metadata": {
    "scrolled": true
   },
   "outputs": [
    {
     "name": "stdout",
     "output_type": "stream",
     "text": [
      "Таблица количества сообщений по каждому пользователю в месяц:\n"
     ]
    },
    {
     "data": {
      "text/html": [
       "<div>\n",
       "<style scoped>\n",
       "    .dataframe tbody tr th:only-of-type {\n",
       "        vertical-align: middle;\n",
       "    }\n",
       "\n",
       "    .dataframe tbody tr th {\n",
       "        vertical-align: top;\n",
       "    }\n",
       "\n",
       "    .dataframe thead th {\n",
       "        text-align: right;\n",
       "    }\n",
       "</style>\n",
       "<table border=\"1\" class=\"dataframe\">\n",
       "  <thead>\n",
       "    <tr style=\"text-align: right;\">\n",
       "      <th></th>\n",
       "      <th></th>\n",
       "      <th>messages</th>\n",
       "    </tr>\n",
       "    <tr>\n",
       "      <th>user_id</th>\n",
       "      <th>month</th>\n",
       "      <th></th>\n",
       "    </tr>\n",
       "  </thead>\n",
       "  <tbody>\n",
       "    <tr>\n",
       "      <td rowspan=\"5\" valign=\"top\">1000</td>\n",
       "      <td>5</td>\n",
       "      <td>22</td>\n",
       "    </tr>\n",
       "    <tr>\n",
       "      <td>6</td>\n",
       "      <td>60</td>\n",
       "    </tr>\n",
       "    <tr>\n",
       "      <td>7</td>\n",
       "      <td>75</td>\n",
       "    </tr>\n",
       "    <tr>\n",
       "      <td>8</td>\n",
       "      <td>81</td>\n",
       "    </tr>\n",
       "    <tr>\n",
       "      <td>9</td>\n",
       "      <td>57</td>\n",
       "    </tr>\n",
       "    <tr>\n",
       "      <td>...</td>\n",
       "      <td>...</td>\n",
       "      <td>...</td>\n",
       "    </tr>\n",
       "    <tr>\n",
       "      <td>1498</td>\n",
       "      <td>10</td>\n",
       "      <td>42</td>\n",
       "    </tr>\n",
       "    <tr>\n",
       "      <td rowspan=\"4\" valign=\"top\">1499</td>\n",
       "      <td>9</td>\n",
       "      <td>11</td>\n",
       "    </tr>\n",
       "    <tr>\n",
       "      <td>10</td>\n",
       "      <td>48</td>\n",
       "    </tr>\n",
       "    <tr>\n",
       "      <td>11</td>\n",
       "      <td>59</td>\n",
       "    </tr>\n",
       "    <tr>\n",
       "      <td>12</td>\n",
       "      <td>66</td>\n",
       "    </tr>\n",
       "  </tbody>\n",
       "</table>\n",
       "<p>2717 rows × 1 columns</p>\n",
       "</div>"
      ],
      "text/plain": [
       "               messages\n",
       "user_id month          \n",
       "1000    5            22\n",
       "        6            60\n",
       "        7            75\n",
       "        8            81\n",
       "        9            57\n",
       "...                 ...\n",
       "1498    10           42\n",
       "1499    9            11\n",
       "        10           48\n",
       "        11           59\n",
       "        12           66\n",
       "\n",
       "[2717 rows x 1 columns]"
      ]
     },
     "execution_count": 4,
     "metadata": {},
     "output_type": "execute_result"
    }
   ],
   "source": [
    "print('Таблица количества сообщений по каждому пользователю в месяц:')\n",
    "messages_data['month'] = messages_data['message_date'].dt.month#добавляем стоец с месяцем к данным по сообщениям\n",
    "month_messages = messages_data.pivot_table(index=['user_id','month'], values='id', aggfunc = 'count')#строим сводную таблицу  по отправленным сообщениям\n",
    "month_messages.columns = ['messages']\n",
    "month_messages\n"
   ]
  },
  {
   "cell_type": "markdown",
   "metadata": {},
   "source": [
    "Добавляем столбец с месяцем направления сообщения. Строим таблицу с количеством сообщения для каждого пользователя по месяцам."
   ]
  },
  {
   "cell_type": "code",
   "execution_count": 5,
   "metadata": {},
   "outputs": [
    {
     "name": "stdout",
     "output_type": "stream",
     "text": [
      "Таблица количества трафика по каждому пользователю в месяц:\n"
     ]
    },
    {
     "data": {
      "text/html": [
       "<div>\n",
       "<style scoped>\n",
       "    .dataframe tbody tr th:only-of-type {\n",
       "        vertical-align: middle;\n",
       "    }\n",
       "\n",
       "    .dataframe tbody tr th {\n",
       "        vertical-align: top;\n",
       "    }\n",
       "\n",
       "    .dataframe thead th {\n",
       "        text-align: right;\n",
       "    }\n",
       "</style>\n",
       "<table border=\"1\" class=\"dataframe\">\n",
       "  <thead>\n",
       "    <tr style=\"text-align: right;\">\n",
       "      <th></th>\n",
       "      <th></th>\n",
       "      <th>internet</th>\n",
       "    </tr>\n",
       "    <tr>\n",
       "      <th>user_id</th>\n",
       "      <th>month</th>\n",
       "      <th></th>\n",
       "    </tr>\n",
       "  </thead>\n",
       "  <tbody>\n",
       "    <tr>\n",
       "      <td rowspan=\"5\" valign=\"top\">1000</td>\n",
       "      <td>5</td>\n",
       "      <td>3.0</td>\n",
       "    </tr>\n",
       "    <tr>\n",
       "      <td>6</td>\n",
       "      <td>23.0</td>\n",
       "    </tr>\n",
       "    <tr>\n",
       "      <td>7</td>\n",
       "      <td>14.0</td>\n",
       "    </tr>\n",
       "    <tr>\n",
       "      <td>8</td>\n",
       "      <td>14.0</td>\n",
       "    </tr>\n",
       "    <tr>\n",
       "      <td>9</td>\n",
       "      <td>15.0</td>\n",
       "    </tr>\n",
       "    <tr>\n",
       "      <td>...</td>\n",
       "      <td>...</td>\n",
       "      <td>...</td>\n",
       "    </tr>\n",
       "    <tr>\n",
       "      <td>1498</td>\n",
       "      <td>10</td>\n",
       "      <td>21.0</td>\n",
       "    </tr>\n",
       "    <tr>\n",
       "      <td rowspan=\"4\" valign=\"top\">1499</td>\n",
       "      <td>9</td>\n",
       "      <td>2.0</td>\n",
       "    </tr>\n",
       "    <tr>\n",
       "      <td>10</td>\n",
       "      <td>18.0</td>\n",
       "    </tr>\n",
       "    <tr>\n",
       "      <td>11</td>\n",
       "      <td>18.0</td>\n",
       "    </tr>\n",
       "    <tr>\n",
       "      <td>12</td>\n",
       "      <td>13.0</td>\n",
       "    </tr>\n",
       "  </tbody>\n",
       "</table>\n",
       "<p>3203 rows × 1 columns</p>\n",
       "</div>"
      ],
      "text/plain": [
       "               internet\n",
       "user_id month          \n",
       "1000    5           3.0\n",
       "        6          23.0\n",
       "        7          14.0\n",
       "        8          14.0\n",
       "        9          15.0\n",
       "...                 ...\n",
       "1498    10         21.0\n",
       "1499    9           2.0\n",
       "        10         18.0\n",
       "        11         18.0\n",
       "        12         13.0\n",
       "\n",
       "[3203 rows x 1 columns]"
      ]
     },
     "execution_count": 5,
     "metadata": {},
     "output_type": "execute_result"
    }
   ],
   "source": [
    "print('Таблица количества трафика по каждому пользователю в месяц:')\n",
    "internet_data['month'] = internet_data['session_date'].dt.month#добавляем столбец с номером месяца\n",
    "month_internet = internet_data.pivot_table(index=['user_id','month'], values='mb_used', aggfunc = 'sum')#строим сводную таблицу по месяцам для интернет-трафика\n",
    "month_internet = month_internet / 1024#делим количество использованных мегабайт в месяц на 1024, чтобы получить количество израсходованных Гб\n",
    "month_internet = np.ceil(month_internet)#окргуляем количество Гб в большую сторону в соответствии с условиями Мегалайн\n",
    "month_internet.columns = ['internet']\n",
    "month_internet"
   ]
  },
  {
   "cell_type": "markdown",
   "metadata": {},
   "source": [
    "Добавляем столбец с месяцем интернет-сессии. Округляем количество мегабайт в большую сторону согласно правилам тарифа. Строим таблицу с данными по интернет-трафику по каждому пользователю за каждый месяц."
   ]
  },
  {
   "cell_type": "code",
   "execution_count": 6,
   "metadata": {},
   "outputs": [
    {
     "data": {
      "text/html": [
       "<div>\n",
       "<style scoped>\n",
       "    .dataframe tbody tr th:only-of-type {\n",
       "        vertical-align: middle;\n",
       "    }\n",
       "\n",
       "    .dataframe tbody tr th {\n",
       "        vertical-align: top;\n",
       "    }\n",
       "\n",
       "    .dataframe thead th {\n",
       "        text-align: right;\n",
       "    }\n",
       "</style>\n",
       "<table border=\"1\" class=\"dataframe\">\n",
       "  <thead>\n",
       "    <tr style=\"text-align: right;\">\n",
       "      <th></th>\n",
       "      <th></th>\n",
       "      <th>calls</th>\n",
       "      <th>messages</th>\n",
       "      <th>internet</th>\n",
       "      <th>calls_duration</th>\n",
       "      <th>tariff</th>\n",
       "      <th>city</th>\n",
       "    </tr>\n",
       "    <tr>\n",
       "      <th>user_id</th>\n",
       "      <th>month</th>\n",
       "      <th></th>\n",
       "      <th></th>\n",
       "      <th></th>\n",
       "      <th></th>\n",
       "      <th></th>\n",
       "      <th></th>\n",
       "    </tr>\n",
       "  </thead>\n",
       "  <tbody>\n",
       "    <tr>\n",
       "      <td rowspan=\"5\" valign=\"top\">1000</td>\n",
       "      <td>5</td>\n",
       "      <td>22</td>\n",
       "      <td>22.0</td>\n",
       "      <td>3.0</td>\n",
       "      <td>159</td>\n",
       "      <td>ultra</td>\n",
       "      <td>Краснодар</td>\n",
       "    </tr>\n",
       "    <tr>\n",
       "      <td>6</td>\n",
       "      <td>43</td>\n",
       "      <td>60.0</td>\n",
       "      <td>23.0</td>\n",
       "      <td>172</td>\n",
       "      <td>ultra</td>\n",
       "      <td>Краснодар</td>\n",
       "    </tr>\n",
       "    <tr>\n",
       "      <td>7</td>\n",
       "      <td>47</td>\n",
       "      <td>75.0</td>\n",
       "      <td>14.0</td>\n",
       "      <td>340</td>\n",
       "      <td>ultra</td>\n",
       "      <td>Краснодар</td>\n",
       "    </tr>\n",
       "    <tr>\n",
       "      <td>8</td>\n",
       "      <td>52</td>\n",
       "      <td>81.0</td>\n",
       "      <td>14.0</td>\n",
       "      <td>408</td>\n",
       "      <td>ultra</td>\n",
       "      <td>Краснодар</td>\n",
       "    </tr>\n",
       "    <tr>\n",
       "      <td>9</td>\n",
       "      <td>58</td>\n",
       "      <td>57.0</td>\n",
       "      <td>15.0</td>\n",
       "      <td>466</td>\n",
       "      <td>ultra</td>\n",
       "      <td>Краснодар</td>\n",
       "    </tr>\n",
       "    <tr>\n",
       "      <td>...</td>\n",
       "      <td>...</td>\n",
       "      <td>...</td>\n",
       "      <td>...</td>\n",
       "      <td>...</td>\n",
       "      <td>...</td>\n",
       "      <td>...</td>\n",
       "      <td>...</td>\n",
       "    </tr>\n",
       "    <tr>\n",
       "      <td>1498</td>\n",
       "      <td>10</td>\n",
       "      <td>41</td>\n",
       "      <td>42.0</td>\n",
       "      <td>21.0</td>\n",
       "      <td>247</td>\n",
       "      <td>smart</td>\n",
       "      <td>Владикавказ</td>\n",
       "    </tr>\n",
       "    <tr>\n",
       "      <td rowspan=\"4\" valign=\"top\">1499</td>\n",
       "      <td>9</td>\n",
       "      <td>9</td>\n",
       "      <td>11.0</td>\n",
       "      <td>2.0</td>\n",
       "      <td>70</td>\n",
       "      <td>smart</td>\n",
       "      <td>Пермь</td>\n",
       "    </tr>\n",
       "    <tr>\n",
       "      <td>10</td>\n",
       "      <td>68</td>\n",
       "      <td>48.0</td>\n",
       "      <td>18.0</td>\n",
       "      <td>449</td>\n",
       "      <td>smart</td>\n",
       "      <td>Пермь</td>\n",
       "    </tr>\n",
       "    <tr>\n",
       "      <td>11</td>\n",
       "      <td>74</td>\n",
       "      <td>59.0</td>\n",
       "      <td>18.0</td>\n",
       "      <td>612</td>\n",
       "      <td>smart</td>\n",
       "      <td>Пермь</td>\n",
       "    </tr>\n",
       "    <tr>\n",
       "      <td>12</td>\n",
       "      <td>69</td>\n",
       "      <td>66.0</td>\n",
       "      <td>13.0</td>\n",
       "      <td>492</td>\n",
       "      <td>smart</td>\n",
       "      <td>Пермь</td>\n",
       "    </tr>\n",
       "  </tbody>\n",
       "</table>\n",
       "<p>3174 rows × 6 columns</p>\n",
       "</div>"
      ],
      "text/plain": [
       "               calls  messages  internet  calls_duration tariff         city\n",
       "user_id month                                                               \n",
       "1000    5         22      22.0       3.0             159  ultra    Краснодар\n",
       "        6         43      60.0      23.0             172  ultra    Краснодар\n",
       "        7         47      75.0      14.0             340  ultra    Краснодар\n",
       "        8         52      81.0      14.0             408  ultra    Краснодар\n",
       "        9         58      57.0      15.0             466  ultra    Краснодар\n",
       "...              ...       ...       ...             ...    ...          ...\n",
       "1498    10        41      42.0      21.0             247  smart  Владикавказ\n",
       "1499    9          9      11.0       2.0              70  smart        Пермь\n",
       "        10        68      48.0      18.0             449  smart        Пермь\n",
       "        11        74      59.0      18.0             612  smart        Пермь\n",
       "        12        69      66.0      13.0             492  smart        Пермь\n",
       "\n",
       "[3174 rows x 6 columns]"
      ]
     },
     "execution_count": 6,
     "metadata": {},
     "output_type": "execute_result"
    }
   ],
   "source": [
    "mes_calls = month_calls.join(month_messages)\n",
    "\n",
    "mes_calls_internet = mes_calls.join(month_internet)\n",
    "calls_messages_internet_dur = mes_calls_internet.join(month_calls_duration) \n",
    "calls_messages_internet_dur.fillna(0, inplace = True)\n",
    "calls_messages_internet_dur.head(10)\n",
    "users_data.set_index(['user_id'])\n",
    "for user_id in calls_messages_internet_dur.index:\n",
    "    calls_messages_internet_dur.loc[user_id, 'tariff'] = users_data.loc[user_id[0]-1000, 'tariff']# честно говоря не до конца понял как работает часть user_id[0]-1000, вроде значение user_id в таблицах одинаковое, решение вопроса нашёл на кегле\n",
    "for user_id in calls_messages_internet_dur.index:\n",
    "    calls_messages_internet_dur.loc[user_id, 'city'] = users_data.loc[user_id[0]-1000, 'city']\n",
    "calls_messages_internet_dur"
   ]
  },
  {
   "cell_type": "markdown",
   "metadata": {},
   "source": [
    "<div class=\"alert alert-success\">\n",
    "<font size=\"5\"><b>Комментарий ревьюера 2</b></font>\n",
    "\n",
    "Да, такой способ соединения мы можем использовать в данном случае. Иначе в таблицу не попадут клиенты, которые не пользовались одним из видов услуг оператора в течение конкретного месяца. \n",
    "\n",
    "</div>"
   ]
  },
  {
   "cell_type": "code",
   "execution_count": 7,
   "metadata": {},
   "outputs": [
    {
     "data": {
      "text/html": [
       "<div>\n",
       "<style scoped>\n",
       "    .dataframe tbody tr th:only-of-type {\n",
       "        vertical-align: middle;\n",
       "    }\n",
       "\n",
       "    .dataframe tbody tr th {\n",
       "        vertical-align: top;\n",
       "    }\n",
       "\n",
       "    .dataframe thead th {\n",
       "        text-align: right;\n",
       "    }\n",
       "</style>\n",
       "<table border=\"1\" class=\"dataframe\">\n",
       "  <thead>\n",
       "    <tr style=\"text-align: right;\">\n",
       "      <th></th>\n",
       "      <th>messages_included</th>\n",
       "      <th>minutes_included</th>\n",
       "      <th>rub_monthly_fee</th>\n",
       "      <th>rub_per_gb</th>\n",
       "      <th>rub_per_message</th>\n",
       "      <th>rub_per_minute</th>\n",
       "      <th>tariff_name</th>\n",
       "      <th>gb_per_month_included</th>\n",
       "    </tr>\n",
       "  </thead>\n",
       "  <tbody>\n",
       "    <tr>\n",
       "      <td>0</td>\n",
       "      <td>50</td>\n",
       "      <td>500</td>\n",
       "      <td>550</td>\n",
       "      <td>200</td>\n",
       "      <td>3</td>\n",
       "      <td>3</td>\n",
       "      <td>smart</td>\n",
       "      <td>15.0</td>\n",
       "    </tr>\n",
       "  </tbody>\n",
       "</table>\n",
       "</div>"
      ],
      "text/plain": [
       "   messages_included  minutes_included  rub_monthly_fee  rub_per_gb  \\\n",
       "0                 50               500              550         200   \n",
       "\n",
       "   rub_per_message  rub_per_minute tariff_name  gb_per_month_included  \n",
       "0                3               3       smart                   15.0  "
      ]
     },
     "execution_count": 7,
     "metadata": {},
     "output_type": "execute_result"
    }
   ],
   "source": [
    "tariffs_data['gb_per_month_included'] = tariffs_data['mb_per_month_included'] / 1024\n",
    "tariffs_data.drop(columns = ['mb_per_month_included'], inplace = True)\n",
    "tariff_smart = tariffs_data.query('tariff_name == \"smart\"')\n",
    "tariff_ultra = tariffs_data.query('tariff_name == \"ultra\"')\n",
    "tariff_smart"
   ]
  },
  {
   "cell_type": "code",
   "execution_count": 8,
   "metadata": {},
   "outputs": [],
   "source": [
    "def profit_month(row): #пишем фунцию для расчета помесячной прибыли с каждого пользователя\n",
    "    \n",
    "    calls_duration = row['calls_duration']\n",
    "    messages = row['messages']\n",
    "    gb_used = row['internet']\n",
    "    tariff = row['tariff']\n",
    "    calls = row['calls']\n",
    "     \n",
    "    if tariff == 'smart':\n",
    "        extr_duration = calls_duration - tariff_smart.loc[0,'minutes_included']\n",
    "        extr_gb = gb_used - tariff_smart.loc[0,'gb_per_month_included']\n",
    "        extr_messages = messages - tariff_smart.loc[0,'messages_included']\n",
    " \n",
    "        if extr_duration < 0: \n",
    "            extr_duration = 0\n",
    "        if extr_gb < 0: \n",
    "            extr_gb = 0\n",
    "        if extr_messages < 0: \n",
    "            extr_messages = 0\n",
    " \n",
    "        return (tariff_smart.loc[0,'rub_per_message'] * extr_messages + \n",
    "                   tariff_smart.loc[0,'rub_per_gb'] * extr_gb + \n",
    "                   tariff_smart.loc[0,'rub_per_minute'] * extr_duration + \n",
    "                   tariff_smart.loc[0,'rub_monthly_fee']\n",
    "                   ) \n",
    " \n",
    "    if tariff == 'ultra':\n",
    "        extr_duration = calls_duration - tariff_ultra.loc[1,'minutes_included']\n",
    "        extr_gb = gb_used - tariff_ultra.loc[1,'gb_per_month_included']\n",
    "        extr_messages = messages - tariff_ultra.loc[1,'messages_included']\n",
    " \n",
    "        if extr_duration < 0: \n",
    "                extr_duration = 0\n",
    "        if extr_gb < 0: \n",
    "                extr_gb = 0\n",
    "        if extr_messages < 0: \n",
    "                extr_messages = 0\n",
    " \n",
    "        return (tariff_ultra.loc[1,'rub_per_message'] * extr_messages + \n",
    "                   tariff_ultra.loc[1,'rub_per_gb'] * extr_gb + \n",
    "                   tariff_ultra.loc[1,'rub_per_minute'] * extr_duration + \n",
    "                   tariff_ultra.loc[1,'rub_monthly_fee']\n",
    "                   ) \n",
    "            \n",
    "calls_messages_internet_dur['profit'] = calls_messages_internet_dur.apply(profit_month, axis=1)\n",
    "full_data = calls_messages_internet_dur"
   ]
  },
  {
   "cell_type": "markdown",
   "metadata": {},
   "source": [
    "Соединяем таблицы для наглядности и проведения расчетов. Создаем функцию для расчета выручки с каждого пользователя за каждый месяц. Присоедяем таблицу с расчетами."
   ]
  },
  {
   "cell_type": "code",
   "execution_count": 15,
   "metadata": {},
   "outputs": [
    {
     "data": {
      "text/html": [
       "<div>\n",
       "<style scoped>\n",
       "    .dataframe tbody tr th:only-of-type {\n",
       "        vertical-align: middle;\n",
       "    }\n",
       "\n",
       "    .dataframe tbody tr th {\n",
       "        vertical-align: top;\n",
       "    }\n",
       "\n",
       "    .dataframe thead th {\n",
       "        text-align: right;\n",
       "    }\n",
       "</style>\n",
       "<table border=\"1\" class=\"dataframe\">\n",
       "  <thead>\n",
       "    <tr style=\"text-align: right;\">\n",
       "      <th></th>\n",
       "      <th></th>\n",
       "      <th>calls</th>\n",
       "      <th>messages</th>\n",
       "      <th>internet</th>\n",
       "      <th>calls_duration</th>\n",
       "      <th>tariff</th>\n",
       "      <th>city</th>\n",
       "      <th>profit</th>\n",
       "      <th>region</th>\n",
       "    </tr>\n",
       "    <tr>\n",
       "      <th>user_id</th>\n",
       "      <th>month</th>\n",
       "      <th></th>\n",
       "      <th></th>\n",
       "      <th></th>\n",
       "      <th></th>\n",
       "      <th></th>\n",
       "      <th></th>\n",
       "      <th></th>\n",
       "      <th></th>\n",
       "    </tr>\n",
       "  </thead>\n",
       "  <tbody>\n",
       "    <tr>\n",
       "      <td rowspan=\"5\" valign=\"top\">1000</td>\n",
       "      <td>5</td>\n",
       "      <td>22</td>\n",
       "      <td>22.0</td>\n",
       "      <td>3.0</td>\n",
       "      <td>159</td>\n",
       "      <td>ultra</td>\n",
       "      <td>Краснодар</td>\n",
       "      <td>1950.0</td>\n",
       "      <td>Регион</td>\n",
       "    </tr>\n",
       "    <tr>\n",
       "      <td>6</td>\n",
       "      <td>43</td>\n",
       "      <td>60.0</td>\n",
       "      <td>23.0</td>\n",
       "      <td>172</td>\n",
       "      <td>ultra</td>\n",
       "      <td>Краснодар</td>\n",
       "      <td>1950.0</td>\n",
       "      <td>Регион</td>\n",
       "    </tr>\n",
       "    <tr>\n",
       "      <td>7</td>\n",
       "      <td>47</td>\n",
       "      <td>75.0</td>\n",
       "      <td>14.0</td>\n",
       "      <td>340</td>\n",
       "      <td>ultra</td>\n",
       "      <td>Краснодар</td>\n",
       "      <td>1950.0</td>\n",
       "      <td>Регион</td>\n",
       "    </tr>\n",
       "    <tr>\n",
       "      <td>8</td>\n",
       "      <td>52</td>\n",
       "      <td>81.0</td>\n",
       "      <td>14.0</td>\n",
       "      <td>408</td>\n",
       "      <td>ultra</td>\n",
       "      <td>Краснодар</td>\n",
       "      <td>1950.0</td>\n",
       "      <td>Регион</td>\n",
       "    </tr>\n",
       "    <tr>\n",
       "      <td>9</td>\n",
       "      <td>58</td>\n",
       "      <td>57.0</td>\n",
       "      <td>15.0</td>\n",
       "      <td>466</td>\n",
       "      <td>ultra</td>\n",
       "      <td>Краснодар</td>\n",
       "      <td>1950.0</td>\n",
       "      <td>Регион</td>\n",
       "    </tr>\n",
       "    <tr>\n",
       "      <td>...</td>\n",
       "      <td>...</td>\n",
       "      <td>...</td>\n",
       "      <td>...</td>\n",
       "      <td>...</td>\n",
       "      <td>...</td>\n",
       "      <td>...</td>\n",
       "      <td>...</td>\n",
       "      <td>...</td>\n",
       "      <td>...</td>\n",
       "    </tr>\n",
       "    <tr>\n",
       "      <td>1498</td>\n",
       "      <td>10</td>\n",
       "      <td>41</td>\n",
       "      <td>42.0</td>\n",
       "      <td>21.0</td>\n",
       "      <td>247</td>\n",
       "      <td>smart</td>\n",
       "      <td>Владикавказ</td>\n",
       "      <td>1750.0</td>\n",
       "      <td>Регион</td>\n",
       "    </tr>\n",
       "    <tr>\n",
       "      <td rowspan=\"4\" valign=\"top\">1499</td>\n",
       "      <td>9</td>\n",
       "      <td>9</td>\n",
       "      <td>11.0</td>\n",
       "      <td>2.0</td>\n",
       "      <td>70</td>\n",
       "      <td>smart</td>\n",
       "      <td>Пермь</td>\n",
       "      <td>550.0</td>\n",
       "      <td>Регион</td>\n",
       "    </tr>\n",
       "    <tr>\n",
       "      <td>10</td>\n",
       "      <td>68</td>\n",
       "      <td>48.0</td>\n",
       "      <td>18.0</td>\n",
       "      <td>449</td>\n",
       "      <td>smart</td>\n",
       "      <td>Пермь</td>\n",
       "      <td>1150.0</td>\n",
       "      <td>Регион</td>\n",
       "    </tr>\n",
       "    <tr>\n",
       "      <td>11</td>\n",
       "      <td>74</td>\n",
       "      <td>59.0</td>\n",
       "      <td>18.0</td>\n",
       "      <td>612</td>\n",
       "      <td>smart</td>\n",
       "      <td>Пермь</td>\n",
       "      <td>1513.0</td>\n",
       "      <td>Регион</td>\n",
       "    </tr>\n",
       "    <tr>\n",
       "      <td>12</td>\n",
       "      <td>69</td>\n",
       "      <td>66.0</td>\n",
       "      <td>13.0</td>\n",
       "      <td>492</td>\n",
       "      <td>smart</td>\n",
       "      <td>Пермь</td>\n",
       "      <td>598.0</td>\n",
       "      <td>Регион</td>\n",
       "    </tr>\n",
       "  </tbody>\n",
       "</table>\n",
       "<p>3174 rows × 8 columns</p>\n",
       "</div>"
      ],
      "text/plain": [
       "               calls  messages  internet  calls_duration tariff         city  \\\n",
       "user_id month                                                                  \n",
       "1000    5         22      22.0       3.0             159  ultra    Краснодар   \n",
       "        6         43      60.0      23.0             172  ultra    Краснодар   \n",
       "        7         47      75.0      14.0             340  ultra    Краснодар   \n",
       "        8         52      81.0      14.0             408  ultra    Краснодар   \n",
       "        9         58      57.0      15.0             466  ultra    Краснодар   \n",
       "...              ...       ...       ...             ...    ...          ...   \n",
       "1498    10        41      42.0      21.0             247  smart  Владикавказ   \n",
       "1499    9          9      11.0       2.0              70  smart        Пермь   \n",
       "        10        68      48.0      18.0             449  smart        Пермь   \n",
       "        11        74      59.0      18.0             612  smart        Пермь   \n",
       "        12        69      66.0      13.0             492  smart        Пермь   \n",
       "\n",
       "               profit  region  \n",
       "user_id month                  \n",
       "1000    5      1950.0  Регион  \n",
       "        6      1950.0  Регион  \n",
       "        7      1950.0  Регион  \n",
       "        8      1950.0  Регион  \n",
       "        9      1950.0  Регион  \n",
       "...               ...     ...  \n",
       "1498    10     1750.0  Регион  \n",
       "1499    9       550.0  Регион  \n",
       "        10     1150.0  Регион  \n",
       "        11     1513.0  Регион  \n",
       "        12      598.0  Регион  \n",
       "\n",
       "[3174 rows x 8 columns]"
      ]
     },
     "execution_count": 15,
     "metadata": {},
     "output_type": "execute_result"
    }
   ],
   "source": [
    "full_data"
   ]
  },
  {
   "cell_type": "markdown",
   "metadata": {},
   "source": [
    "# Анализ данных"
   ]
  },
  {
   "cell_type": "code",
   "execution_count": 9,
   "metadata": {},
   "outputs": [
    {
     "data": {
      "image/png": "[encoded data removed]",
      "text/plain": [
       "<Figure size 432x288 with 1 Axes>"
      ]
     },
     "metadata": {
      "needs_background": "light"
     },
     "output_type": "display_data"
    },
    {
     "data": {
      "image/png": "[encoded data removed]",
      "text/plain": [
       "<Figure size 432x288 with 1 Axes>"
      ]
     },
     "metadata": {
      "needs_background": "light"
     },
     "output_type": "display_data"
    },
    {
     "data": {
      "image/png": "[encoded data removed]",
      "text/plain": [
       "<Figure size 432x288 with 1 Axes>"
      ]
     },
     "metadata": {
      "needs_background": "light"
     },
     "output_type": "display_data"
    },
    {
     "name": "stdout",
     "output_type": "stream",
     "text": [
      "Основные показатели по звонкам для Тарифа Смарт count    2223.000000\n",
      "mean       58.621233\n",
      "std        25.796101\n",
      "min         1.000000\n",
      "25%        40.000000\n",
      "50%        60.000000\n",
      "75%        76.000000\n",
      "max       198.000000\n",
      "Name: calls, dtype: float64\n",
      "Основные показатели по звонкам для Тарифа Ультра count    951.000000\n",
      "mean      76.016824\n",
      "std       42.403348\n",
      "min        1.000000\n",
      "25%       43.000000\n",
      "50%       75.000000\n",
      "75%      105.000000\n",
      "max      244.000000\n",
      "Name: calls, dtype: float64\n",
      "Диспресия для тарифа Смарт: 665.4388289031333\n",
      "Диспресия для тарифа Ультра: 1798.043927168078\n"
     ]
    }
   ],
   "source": [
    "smart_data = full_data.query('tariff == \"smart\"')\n",
    "mean_data_smart = smart_data.pivot_table(index = ['user_id'],\n",
    "                                         values = ['calls','messages', 'internet', 'calls_duration'], \n",
    "                                         aggfunc = 'mean')\n",
    "ultra_data = full_data.query('tariff == \"ultra\"')\n",
    "mean_data_ultra = ultra_data.pivot_table(index = ['user_id'],\n",
    "                                         values = ['calls','messages', 'internet', 'calls_duration'], \n",
    "                                         aggfunc = 'mean')\n",
    "#нашли средние значения для каждого пользователя по отдельным тарифам\n",
    "fig = sns.kdeplot(smart_data['calls'], shade=True, color=\"r\")\n",
    "fig = sns.kdeplot(ultra_data['calls'], shade=True, color=\"b\").set(title='Количество звонков по Тарифам: Красный - Смарт, Синий - Ультра',\n",
    "                                                                  xlabel='Количество звонков',\n",
    "                                                                  ylabel='% от выборки')\n",
    "\n",
    "plt.show()\n",
    "sns.boxplot(smart_data['calls'], color = \"r\").set(title = 'Тариф Смарт')\n",
    "plt.show()\n",
    "sns.boxplot(ultra_data['calls']).set(title = 'Тариф Ультра')\n",
    "plt.show()\n",
    "print ('Основные показатели по звонкам для Тарифа Смарт', smart_data['calls'].describe())\n",
    "print ('Основные показатели по звонкам для Тарифа Ультра', ultra_data['calls'].describe())\n",
    "print('Диспресия для тарифа Смарт:', smart_data['calls'].var())\n",
    "print('Диспресия для тарифа Ультра:', ultra_data['calls'].var())\n"
   ]
  },
  {
   "cell_type": "markdown",
   "metadata": {},
   "source": [
    "Выделяем таблицы для количества звонков и разделяем по тарифам. Находим средние значения. Строим гистограммы. Находим стандартные отклонения и дисперсии по тарифам. Наблюдаем, что пик ярко выражен у пользователей Тарифа Смарт, пользователи Тарифа Ультра совершают ожидаемо больше звонков.\n",
    "Дисперсия и стандартное отклонение у тарифа Ультра также выше."
   ]
  },
  {
   "cell_type": "code",
   "execution_count": 10,
   "metadata": {},
   "outputs": [
    {
     "data": {
      "image/png": "[encoded data removed]",
      "text/plain": [
       "<Figure size 432x288 with 1 Axes>"
      ]
     },
     "metadata": {
      "needs_background": "light"
     },
     "output_type": "display_data"
    },
    {
     "data": {
      "image/png": "[encoded data removed]",
      "text/plain": [
       "<Figure size 432x288 with 1 Axes>"
      ]
     },
     "metadata": {
      "needs_background": "light"
     },
     "output_type": "display_data"
    },
    {
     "data": {
      "image/png": "[encoded data removed]",
      "text/plain": [
       "<Figure size 432x288 with 1 Axes>"
      ]
     },
     "metadata": {
      "needs_background": "light"
     },
     "output_type": "display_data"
    },
    {
     "name": "stdout",
     "output_type": "stream",
     "text": [
      "Основные показатели по количеству минут для Тарифа Смарт count    2223.000000\n",
      "mean      419.062978\n",
      "std       189.325618\n",
      "min         0.000000\n",
      "25%       285.000000\n",
      "50%       423.000000\n",
      "75%       545.500000\n",
      "max      1435.000000\n",
      "Name: calls_duration, dtype: float64\n",
      "Основные показатели по количеству минут для Тарифа Ультра count     951.000000\n",
      "mean      545.451104\n",
      "std       306.925754\n",
      "min         0.000000\n",
      "25%       310.000000\n",
      "50%       528.000000\n",
      "75%       756.500000\n",
      "max      1673.000000\n",
      "Name: calls_duration, dtype: float64\n",
      "Диспресия для тарифа Смарт: 35844.1895513438\n",
      "Диспресия для тарифа Ультра: 94203.41839614812\n"
     ]
    }
   ],
   "source": [
    "fig = sns.kdeplot(smart_data['calls_duration'], shade=True, color=\"r\")\n",
    "fig = sns.kdeplot(ultra_data['calls_duration'], shade=True, color=\"b\").set(title='Среднее значение потраченных минут по Тарифам: Красный - Смарт, Синий - Ультра',\n",
    "                                                                  xlabel='Количество минут',\n",
    "                                                                  ylabel='% от выборки')\n",
    "\n",
    "plt.show()\n",
    "sns.boxplot(smart_data['calls_duration'], color = \"r\").set(title = 'Тариф Смарт')\n",
    "plt.show()\n",
    "sns.boxplot(ultra_data['calls_duration']).set(title = 'Тариф Ультра')\n",
    "plt.show()\n",
    "print ('Основные показатели по количеству минут для Тарифа Смарт', smart_data['calls_duration'].describe())\n",
    "print ('Основные показатели по количеству минут для Тарифа Ультра', ultra_data['calls_duration'].describe())\n",
    "print('Диспресия для тарифа Смарт:', smart_data['calls_duration'].var())\n",
    "print('Диспресия для тарифа Ультра:', ultra_data['calls_duration'].var())"
   ]
  },
  {
   "cell_type": "markdown",
   "metadata": {},
   "source": [
    " Находим средние значения и  строим графики и ящики с усами. Находим стандартные отклонения и дисперсии по тарифам. Наблюдаем, что пик ярко выражен опять же у пользователей Тарифа Смарт, пользователи Тарифа Ультра тратят больше минут на разговоры. Также тариф Смарт показывает гораздо большее значение выбросов данных, возможно пользователи не знают о тарифе, включающем большее количество минут и платят за экстра-минуты.\n",
    "Дисперсия и стандартное отклонение у тарифа Ультра также выше."
   ]
  },
  {
   "cell_type": "code",
   "execution_count": 11,
   "metadata": {},
   "outputs": [
    {
     "data": {
      "image/png": "[encoded data removed]",
      "text/plain": [
       "<Figure size 432x288 with 1 Axes>"
      ]
     },
     "metadata": {
      "needs_background": "light"
     },
     "output_type": "display_data"
    },
    {
     "data": {
      "image/png": "[encoded data removed]",
      "text/plain": [
       "<Figure size 432x288 with 1 Axes>"
      ]
     },
     "metadata": {
      "needs_background": "light"
     },
     "output_type": "display_data"
    },
    {
     "data": {
      "image/png": "[encoded data removed]",
      "text/plain": [
       "<Figure size 432x288 with 1 Axes>"
      ]
     },
     "metadata": {
      "needs_background": "light"
     },
     "output_type": "display_data"
    },
    {
     "name": "stdout",
     "output_type": "stream",
     "text": [
      "Основные показатели по количеству минут для Тарифа Смарт count    2223.000000\n",
      "mean       33.396311\n",
      "std        28.259437\n",
      "min         0.000000\n",
      "25%        10.000000\n",
      "50%        28.000000\n",
      "75%        51.000000\n",
      "max       143.000000\n",
      "Name: messages, dtype: float64\n",
      "Основные показатели по количеству минут для Тарифа Ультра count    951.000000\n",
      "mean      49.033649\n",
      "std       46.890656\n",
      "min        0.000000\n",
      "25%        5.000000\n",
      "50%       39.000000\n",
      "75%       79.000000\n",
      "max      224.000000\n",
      "Name: messages, dtype: float64\n",
      "Диспресия для тарифа Смарт: 798.5957919678608\n",
      "Диспресия для тарифа Ультра: 2198.7336034091536\n"
     ]
    }
   ],
   "source": [
    "fig = sns.distplot(smart_data['messages'], color=\"r\")\n",
    "fig = sns.distplot(ultra_data['messages'], color=\"b\").set(title='Среднее значение отправленных сообщений по Тарифам: Красный - Смарт, Синий - Ультра',\n",
    "                                                                  xlabel='Количество сообщений',\n",
    "                                                                  ylabel='% от выборки')\n",
    "\n",
    "plt.show()\n",
    "sns.boxplot(smart_data['messages'], color = \"r\").set(title = 'Тариф Смарт')\n",
    "plt.show()\n",
    "sns.boxplot(ultra_data['messages']).set(title = 'Тариф Ультра')\n",
    "plt.show()\n",
    "print ('Основные показатели по количеству минут для Тарифа Смарт', smart_data['messages'].describe())\n",
    "print ('Основные показатели по количеству минут для Тарифа Ультра', ultra_data['messages'].describe())\n",
    "print('Диспресия для тарифа Смарт:', smart_data['messages'].var())\n",
    "print('Диспресия для тарифа Ультра:', ultra_data['messages'].var())"
   ]
  },
  {
   "cell_type": "markdown",
   "metadata": {},
   "source": [
    " Строим гистограммы и ящики с усами. Наблюдаем, что пик у обоих тарифов наблюдается в районе 0 сообщений, большинство пользователей вообще не пользуются сообщениями. Пользователи тарифа Ультра, отправляют больше сообщений, средние и медианные показатели существенно выше, чем у пользователей Смарта. Снова наблюдаем большое количество выбросов у тарифа Смарт. Стандартное отклонениие и дисперсия, соответственно, выше у Ультра."
   ]
  },
  {
   "cell_type": "code",
   "execution_count": 12,
   "metadata": {},
   "outputs": [
    {
     "data": {
      "image/png": "[encoded data removed]",
      "text/plain": [
       "<Figure size 432x288 with 1 Axes>"
      ]
     },
     "metadata": {
      "needs_background": "light"
     },
     "output_type": "display_data"
    },
    {
     "data": {
      "image/png": "[encoded data removed]",
      "text/plain": [
       "<Figure size 432x288 with 1 Axes>"
      ]
     },
     "metadata": {
      "needs_background": "light"
     },
     "output_type": "display_data"
    },
    {
     "data": {
      "image/png": "[encoded data removed]",
      "text/plain": [
       "<Figure size 432x288 with 1 Axes>"
      ]
     },
     "metadata": {
      "needs_background": "light"
     },
     "output_type": "display_data"
    },
    {
     "name": "stdout",
     "output_type": "stream",
     "text": [
      "Основные показатели по использованному трафику для Тарифа Смарт count    2223.000000\n",
      "mean       16.329735\n",
      "std         5.752599\n",
      "min         0.000000\n",
      "25%        13.000000\n",
      "50%        17.000000\n",
      "75%        20.000000\n",
      "max        38.000000\n",
      "Name: internet, dtype: float64\n",
      "Основные показатели по  использованному трафику для Тарифа Ультра count    951.000000\n",
      "mean      19.487907\n",
      "std        9.890432\n",
      "min        0.000000\n",
      "25%       12.000000\n",
      "50%       19.000000\n",
      "75%       27.000000\n",
      "max       49.000000\n",
      "Name: internet, dtype: float64\n",
      "Диспресия для тарифа Смарт: 33.09239628416283\n",
      "Диспресия для тарифа Ультра: 97.82064309037578\n"
     ]
    }
   ],
   "source": [
    "fig = sns.kdeplot(smart_data['internet'], shade=True, color=\"r\")\n",
    "fig = sns.kdeplot(ultra_data['internet'], shade=True, color=\"b\").set(title='Среднее количество трафика: Красный - Смарт, Синий - Ультра',\n",
    "                                                                  xlabel='Количество использованных ГБ',\n",
    "                                                                  ylabel='% от выборки')\n",
    "\n",
    "plt.show()\n",
    "sns.boxplot(smart_data['internet'], color = \"r\").set(title = 'Тариф Смарт')\n",
    "plt.show()\n",
    "sns.boxplot(ultra_data['internet']).set(title = 'Тариф Ультра')\n",
    "plt.show()\n",
    "print ('Основные показатели по использованному трафику для Тарифа Смарт', smart_data['internet'].describe())\n",
    "print ('Основные показатели по  использованному трафику для Тарифа Ультра', ultra_data['internet'].describe())\n",
    "print('Диспресия для тарифа Смарт:', smart_data['internet'].var())\n",
    "print('Диспресия для тарифа Ультра:', ultra_data['internet'].var())"
   ]
  },
  {
   "cell_type": "markdown",
   "metadata": {},
   "source": [
    " Строим гистограммы и ящики с усами. Наблюдаем, что средние показатели у Тарифов отличаются не так сильно, как в случае со звонками и сообщениями. Пользователи тарифа Ультра ожидаемо тратят больше трафика, однако их показатели распределены более равномерно, околонулевые значения у пользователей Смарта являются выбросами, можно предположить, что так пользователи, пользуясь мессенджерами, пытаются экономить на звонках и сообщениях. Снова наблюдаем большое количество выбросов у тарифа Смарт. Стандартное отклонениие и дисперсия, соответственно, выше у Ультра."
   ]
  },
  {
   "cell_type": "markdown",
   "metadata": {},
   "source": [
    "# Проверка гипотез\n",
    "H0  — средняя выручка пользователей тарифа «Ультра» равна средней выручке пользователей тарифа «Смарт».\n",
    "\n",
    "H1  — средняя выручка пользователей тарифов «Ультра» и «Смарт» различаются.\n",
    "\n",
    "α=1% Статистическую значимость принимаем за 1%.\n"
   ]
  },
  {
   "cell_type": "code",
   "execution_count": 13,
   "metadata": {},
   "outputs": [
    {
     "name": "stdout",
     "output_type": "stream",
     "text": [
      "p-значение: 3.155173205867294e-245\n",
      "Отвергаем нулевую гипотезу\n",
      "Медианная общая выручка по тарифам:         profit\n",
      "tariff        \n",
      "smart   1030.0\n",
      "ultra   1950.0\n",
      "Средняя общая выручка по тарифам:              profit\n",
      "tariff             \n",
      "smart   1290.891138\n",
      "ultra   2070.977918\n"
     ]
    }
   ],
   "source": [
    "\n",
    "ultra = full_data.query('tariff == \"ultra\"')['profit']\n",
    "smart = full_data.query('tariff == \"smart\"')['profit']\n",
    "\n",
    "alpha = .01\n",
    "\n",
    "results = st.ttest_ind(\n",
    "    ultra, \n",
    "    smart, \n",
    "    equal_var=False)#проводим независимый т-тест, зная что дисперсия отличается, параменту equal_var присваимваем значение False\n",
    "\n",
    "print('p-значение:', results.pvalue)\n",
    "\n",
    "if (results.pvalue < alpha):#сравниваем p-value со статистической значимостью\n",
    "    print(\"Отвергаем нулевую гипотезу\")\n",
    "else:\n",
    "    print(\"Не получилось отвергнуть нулевую гипотезу\")\n",
    "print('Медианная общая выручка по тарифам:',full_data.pivot_table(index='tariff', values='profit', aggfunc='median'))\n",
    "print('Средняя общая выручка по тарифам:',full_data.pivot_table(index='tariff', values='profit', aggfunc='mean'))"
   ]
  },
  {
   "cell_type": "markdown",
   "metadata": {},
   "source": [
    "Исходя из проверки значения p_value делаем вывод, что выручка с тарифов не одинаковая, исходя из имеющихся данных, медианная и средняя отличаются почти  в два раза, что и было подтверждено т-тестом."
   ]
  },
  {
   "cell_type": "markdown",
   "metadata": {},
   "source": [
    "\n",
    "H0 — средняя выручка пользователей из Москвы равна средней выручке пользователей из других регионов.\n",
    "\n",
    "H1 — средняя выручка пользователей из Москвы отличается от средней выручке пользователей из других регионов.\n",
    "\n",
    "α=1%"
   ]
  },
  {
   "cell_type": "code",
   "execution_count": 14,
   "metadata": {},
   "outputs": [
    {
     "name": "stdout",
     "output_type": "stream",
     "text": [
      "p-значение: 0.4619932225305272\n",
      "Не получилось отвергнуть нулевую гипотезу\n",
      "Медианная общая выручка по Регионам:         profit\n",
      "region        \n",
      "Москва  1750.0\n",
      "Регион  1553.5\n",
      "Средняя общая выручка по Регионам:              profit\n",
      "region             \n",
      "Москва  1546.052459\n",
      "Регион  1519.523791\n"
     ]
    }
   ],
   "source": [
    "moscow = full_data.query('city == \"Москва\"')['profit']\n",
    "regions = full_data.query('city != \"Москва\"')['profit']\n",
    "\n",
    "alpha = .01\n",
    "\n",
    "results = st.ttest_ind(\n",
    "    moscow, \n",
    "    regions)\n",
    "\n",
    "print('p-значение:', results.pvalue)\n",
    "\n",
    "if (results.pvalue < alpha):#сравниваем p-value со статистической значимостью\n",
    "    print(\"Отвергаем нулевую гипотезу\")\n",
    "else:\n",
    "    print(\"Не получилось отвергнуть нулевую гипотезу\")\n",
    "def pick_region(city):# пишем функцию с распеределением данных на Москву и остальные регионы.\n",
    "    if city == 'Москва': return 'Москва'\n",
    "    else: return 'Регион'\n",
    "    \n",
    "full_data['region'] = full_data['city'].apply(pick_region)#применяем фунцию к датасету\n",
    "print('Медианная общая выручка по Регионам:', full_data.pivot_table(index='region', values='profit', aggfunc='median'))\n",
    "print('Средняя общая выручка по Регионам:', full_data.pivot_table(index='region', values='profit', aggfunc='mean'))"
   ]
  },
  {
   "cell_type": "markdown",
   "metadata": {},
   "source": [
    "У нас не получилось отвергнуть нашу нулевую гипотезу, значит делаем предположение, что выручка пользователей из Москвы и из других регионов не отличается. Проверяем медианные и средние значения выручки исходя из региона и подтверждаем наше предположение: выручка отличается незначительно."
   ]
  },
  {
   "cell_type": "markdown",
   "metadata": {},
   "source": [
    "# Общий вывод\n",
    "По результатам статистического анализа доходы от тарифа «Ультра» больше, чем от тарифа «Смарт»: в среднем Мегалайн от одного пользователя в месяц получает 2070 рублей и 1290 рублей соответственно. \n",
    "Учитывая ежемесячную стоимость тарифа Смарт в 550 рублей, пользователи Смарта гораздо больше выходят за пределы включенных минут, сообщений и трафика. Это объясняет более выделяющиеся пики показателей: пользователи сознательно себя ограничивают в объеме используемых услуг. Показатели пользователей тарифа Ультра распределены равномерно, что означает, что они меньше задумываются об объеме пользуемых услуг.\n",
    "Проверка гипотезы о равенстве выручки с тарифов позволяет нам сделать вывод о неравестве выручки с тарифов.\n",
    "Кроме того была проверена гипотеза о равенстве выручки в Москве и остальных регионах, что получило подтверждение в Т-тесте: выручка отличается незначительно."
   ]
  }
 ],
 "metadata": {
  "ExecuteTimeLog": [
   {
    "duration": 385,
    "start_time": "2021-10-16T08:23:47.025Z"
   },
   {
    "duration": 1451,
    "start_time": "2021-10-16T08:24:13.878Z"
   },
   {
    "duration": 305,
    "start_time": "2021-10-16T08:24:15.439Z"
   },
   {
    "duration": 62,
    "start_time": "2021-10-16T08:24:19.990Z"
   },
   {
    "duration": 67,
    "start_time": "2021-10-16T08:24:28.151Z"
   },
   {
    "duration": 147,
    "start_time": "2021-10-16T08:24:32.591Z"
   },
   {
    "duration": 105,
    "start_time": "2021-10-16T08:24:35.921Z"
   },
   {
    "duration": 10068,
    "start_time": "2021-10-16T08:24:44.163Z"
   },
   {
    "duration": 536,
    "start_time": "2021-10-16T08:41:21.710Z"
   },
   {
    "duration": 550,
    "start_time": "2021-10-16T08:43:10.640Z"
   },
   {
    "duration": 594,
    "start_time": "2021-10-16T08:43:28.145Z"
   },
   {
    "duration": 322,
    "start_time": "2021-10-16T08:45:29.090Z"
   },
   {
    "duration": 611,
    "start_time": "2021-10-16T08:45:36.778Z"
   },
   {
    "duration": 1437,
    "start_time": "2021-10-16T08:45:45.043Z"
   },
   {
    "duration": 470,
    "start_time": "2021-10-16T08:45:50.338Z"
   },
   {
    "duration": 624,
    "start_time": "2021-10-16T08:45:54.929Z"
   },
   {
    "duration": 2005,
    "start_time": "2021-10-16T08:46:01.233Z"
   },
   {
    "duration": 329,
    "start_time": "2021-10-16T08:46:03.241Z"
   },
   {
    "duration": 90,
    "start_time": "2021-10-16T08:46:03.578Z"
   },
   {
    "duration": 85,
    "start_time": "2021-10-16T08:46:03.670Z"
   },
   {
    "duration": 161,
    "start_time": "2021-10-16T08:46:03.757Z"
   },
   {
    "duration": 123,
    "start_time": "2021-10-16T08:46:03.921Z"
   },
   {
    "duration": 8848,
    "start_time": "2021-10-16T08:46:04.047Z"
   },
   {
    "duration": 201,
    "start_time": "2021-10-16T08:46:30.306Z"
   },
   {
    "duration": 191,
    "start_time": "2021-10-16T08:48:10.521Z"
   },
   {
    "duration": 192,
    "start_time": "2021-10-16T08:49:31.808Z"
   },
   {
    "duration": 200,
    "start_time": "2021-10-16T08:50:13.534Z"
   },
   {
    "duration": 195,
    "start_time": "2021-10-16T08:51:11.892Z"
   },
   {
    "duration": 81,
    "start_time": "2021-10-16T08:51:32.157Z"
   },
   {
    "duration": 1511,
    "start_time": "2021-10-16T08:51:47.164Z"
   },
   {
    "duration": 181,
    "start_time": "2021-10-16T08:51:48.677Z"
   },
   {
    "duration": 91,
    "start_time": "2021-10-16T08:51:55.279Z"
   },
   {
    "duration": 226,
    "start_time": "2021-10-16T08:52:29.951Z"
   },
   {
    "duration": 617,
    "start_time": "2021-10-16T08:54:15.635Z"
   },
   {
    "duration": 733,
    "start_time": "2021-10-16T09:00:14.187Z"
   },
   {
    "duration": 197,
    "start_time": "2021-10-16T09:00:30.036Z"
   },
   {
    "duration": 191,
    "start_time": "2021-10-16T09:00:53.314Z"
   },
   {
    "duration": 189,
    "start_time": "2021-10-16T09:01:16.480Z"
   },
   {
    "duration": 115,
    "start_time": "2021-10-16T09:01:30.137Z"
   },
   {
    "duration": 187,
    "start_time": "2021-10-16T09:01:36.379Z"
   },
   {
    "duration": 543,
    "start_time": "2021-10-16T09:02:03.850Z"
   },
   {
    "duration": 1389,
    "start_time": "2021-10-16T09:02:18.223Z"
   },
   {
    "duration": 322,
    "start_time": "2021-10-16T09:02:22.721Z"
   },
   {
    "duration": 72,
    "start_time": "2021-10-16T09:02:30.178Z"
   },
   {
    "duration": 70,
    "start_time": "2021-10-16T09:03:12.785Z"
   },
   {
    "duration": 76,
    "start_time": "2021-10-16T09:03:30.830Z"
   },
   {
    "duration": 81,
    "start_time": "2021-10-16T09:03:55.640Z"
   },
   {
    "duration": 284,
    "start_time": "2021-10-18T10:20:31.232Z"
   },
   {
    "duration": 1090,
    "start_time": "2021-10-18T10:20:39.017Z"
   },
   {
    "duration": 208,
    "start_time": "2021-10-18T10:20:40.109Z"
   },
   {
    "duration": 64,
    "start_time": "2021-10-18T10:20:40.321Z"
   },
   {
    "duration": 49,
    "start_time": "2021-10-18T10:20:40.387Z"
   },
   {
    "duration": 66,
    "start_time": "2021-10-18T10:20:40.437Z"
   },
   {
    "duration": 63,
    "start_time": "2021-10-18T10:20:40.505Z"
   },
   {
    "duration": 6446,
    "start_time": "2021-10-18T10:20:40.569Z"
   },
   {
    "duration": 79,
    "start_time": "2021-10-18T10:21:23.058Z"
   },
   {
    "duration": 101,
    "start_time": "2021-10-18T10:21:58.571Z"
   },
   {
    "duration": 41,
    "start_time": "2021-10-18T10:22:20.696Z"
   },
   {
    "duration": 43,
    "start_time": "2021-10-18T10:22:31.893Z"
   },
   {
    "duration": 1094,
    "start_time": "2021-10-18T10:22:38.512Z"
   },
   {
    "duration": 213,
    "start_time": "2021-10-18T10:22:39.608Z"
   },
   {
    "duration": 68,
    "start_time": "2021-10-18T10:22:39.823Z"
   },
   {
    "duration": 49,
    "start_time": "2021-10-18T10:22:39.893Z"
   },
   {
    "duration": 63,
    "start_time": "2021-10-18T10:22:39.944Z"
   },
   {
    "duration": 73,
    "start_time": "2021-10-18T10:22:40.009Z"
   },
   {
    "duration": 6772,
    "start_time": "2021-10-18T10:22:40.084Z"
   },
   {
    "duration": 1053,
    "start_time": "2021-10-18T10:22:55.377Z"
   },
   {
    "duration": 210,
    "start_time": "2021-10-18T10:22:56.431Z"
   },
   {
    "duration": 64,
    "start_time": "2021-10-18T10:22:56.645Z"
   },
   {
    "duration": 58,
    "start_time": "2021-10-18T10:22:56.711Z"
   },
   {
    "duration": 120,
    "start_time": "2021-10-18T10:22:56.770Z"
   },
   {
    "duration": 75,
    "start_time": "2021-10-18T10:22:56.892Z"
   },
   {
    "duration": 6344,
    "start_time": "2021-10-18T10:22:56.969Z"
   },
   {
    "duration": 331,
    "start_time": "2021-10-18T10:23:31.705Z"
   },
   {
    "duration": 1088,
    "start_time": "2021-10-18T10:23:51.311Z"
   },
   {
    "duration": 223,
    "start_time": "2021-10-18T10:23:52.401Z"
   },
   {
    "duration": 65,
    "start_time": "2021-10-18T10:23:52.626Z"
   },
   {
    "duration": 52,
    "start_time": "2021-10-18T10:23:52.693Z"
   },
   {
    "duration": 135,
    "start_time": "2021-10-18T10:23:52.747Z"
   },
   {
    "duration": 64,
    "start_time": "2021-10-18T10:23:52.884Z"
   },
   {
    "duration": 6226,
    "start_time": "2021-10-18T10:23:52.950Z"
   },
   {
    "duration": 1133,
    "start_time": "2021-10-18T10:24:21.451Z"
   },
   {
    "duration": 221,
    "start_time": "2021-10-18T10:24:22.587Z"
   },
   {
    "duration": 69,
    "start_time": "2021-10-18T10:24:22.810Z"
   },
   {
    "duration": 50,
    "start_time": "2021-10-18T10:24:22.880Z"
   },
   {
    "duration": 70,
    "start_time": "2021-10-18T10:24:22.932Z"
   },
   {
    "duration": 72,
    "start_time": "2021-10-18T10:24:23.004Z"
   },
   {
    "duration": 6439,
    "start_time": "2021-10-18T10:24:23.078Z"
   },
   {
    "duration": 1166,
    "start_time": "2021-10-18T10:24:50.334Z"
   },
   {
    "duration": 228,
    "start_time": "2021-10-18T10:24:51.502Z"
   },
   {
    "duration": 68,
    "start_time": "2021-10-18T10:24:51.733Z"
   },
   {
    "duration": 60,
    "start_time": "2021-10-18T10:24:51.803Z"
   },
   {
    "duration": 125,
    "start_time": "2021-10-18T10:24:51.865Z"
   },
   {
    "duration": 75,
    "start_time": "2021-10-18T10:24:51.992Z"
   },
   {
    "duration": 6556,
    "start_time": "2021-10-18T10:24:52.069Z"
   },
   {
    "duration": 1120,
    "start_time": "2021-10-18T10:25:19.512Z"
   },
   {
    "duration": 224,
    "start_time": "2021-10-18T10:25:20.635Z"
   },
   {
    "duration": 63,
    "start_time": "2021-10-18T10:25:20.861Z"
   },
   {
    "duration": 64,
    "start_time": "2021-10-18T10:25:20.926Z"
   },
   {
    "duration": 62,
    "start_time": "2021-10-18T10:25:20.992Z"
   },
   {
    "duration": 67,
    "start_time": "2021-10-18T10:25:21.056Z"
   },
   {
    "duration": 6827,
    "start_time": "2021-10-18T10:25:21.125Z"
   },
   {
    "duration": 1852,
    "start_time": "2021-10-18T10:26:17.156Z"
   },
   {
    "duration": 230,
    "start_time": "2021-10-18T10:26:19.010Z"
   },
   {
    "duration": 72,
    "start_time": "2021-10-18T10:26:19.243Z"
   },
   {
    "duration": 69,
    "start_time": "2021-10-18T10:26:19.318Z"
   },
   {
    "duration": 133,
    "start_time": "2021-10-18T10:26:19.390Z"
   },
   {
    "duration": 76,
    "start_time": "2021-10-18T10:26:19.526Z"
   },
   {
    "duration": 6599,
    "start_time": "2021-10-18T10:26:19.604Z"
   },
   {
    "duration": 1082,
    "start_time": "2021-10-18T10:28:09.920Z"
   },
   {
    "duration": 225,
    "start_time": "2021-10-18T10:28:11.004Z"
   },
   {
    "duration": 75,
    "start_time": "2021-10-18T10:28:11.233Z"
   },
   {
    "duration": 60,
    "start_time": "2021-10-18T10:28:11.310Z"
   },
   {
    "duration": 122,
    "start_time": "2021-10-18T10:28:11.372Z"
   },
   {
    "duration": 68,
    "start_time": "2021-10-18T10:28:11.496Z"
   },
   {
    "duration": 6468,
    "start_time": "2021-10-18T10:28:11.566Z"
   },
   {
    "duration": 1126,
    "start_time": "2021-10-18T10:28:26.375Z"
   },
   {
    "duration": 222,
    "start_time": "2021-10-18T10:28:27.503Z"
   },
   {
    "duration": 67,
    "start_time": "2021-10-18T10:28:27.728Z"
   },
   {
    "duration": 53,
    "start_time": "2021-10-18T10:28:27.797Z"
   },
   {
    "duration": 50,
    "start_time": "2021-10-18T10:28:27.863Z"
   },
   {
    "duration": 83,
    "start_time": "2021-10-18T10:28:27.915Z"
   },
   {
    "duration": 7383,
    "start_time": "2021-10-18T10:28:28.000Z"
   },
   {
    "duration": 1085,
    "start_time": "2021-10-18T10:29:16.013Z"
   },
   {
    "duration": 234,
    "start_time": "2021-10-18T10:29:17.100Z"
   },
   {
    "duration": 66,
    "start_time": "2021-10-18T10:29:17.337Z"
   },
   {
    "duration": 67,
    "start_time": "2021-10-18T10:29:17.405Z"
   },
   {
    "duration": 127,
    "start_time": "2021-10-18T10:29:17.474Z"
   },
   {
    "duration": 78,
    "start_time": "2021-10-18T10:29:17.603Z"
   },
   {
    "duration": 7070,
    "start_time": "2021-10-18T10:29:17.683Z"
   },
   {
    "duration": 1174,
    "start_time": "2021-10-18T10:30:03.847Z"
   },
   {
    "duration": 224,
    "start_time": "2021-10-18T10:30:05.023Z"
   },
   {
    "duration": 63,
    "start_time": "2021-10-18T10:30:05.249Z"
   },
   {
    "duration": 60,
    "start_time": "2021-10-18T10:30:05.314Z"
   },
   {
    "duration": 53,
    "start_time": "2021-10-18T10:30:05.376Z"
   },
   {
    "duration": 74,
    "start_time": "2021-10-18T10:30:05.431Z"
   },
   {
    "duration": 6992,
    "start_time": "2021-10-18T10:30:05.507Z"
   },
   {
    "duration": 110,
    "start_time": "2021-10-18T10:35:37.394Z"
   },
   {
    "duration": 1149,
    "start_time": "2021-10-18T10:36:09.638Z"
   },
   {
    "duration": 226,
    "start_time": "2021-10-18T10:36:10.790Z"
   },
   {
    "duration": 72,
    "start_time": "2021-10-18T10:36:11.018Z"
   },
   {
    "duration": 55,
    "start_time": "2021-10-18T10:36:11.093Z"
   },
   {
    "duration": 391,
    "start_time": "2021-10-18T10:36:11.163Z"
   },
   {
    "duration": 1306,
    "start_time": "2021-10-18T10:36:10.250Z"
   },
   {
    "duration": 1298,
    "start_time": "2021-10-18T10:36:10.259Z"
   },
   {
    "duration": 1094,
    "start_time": "2021-10-18T10:36:59.512Z"
   },
   {
    "duration": 227,
    "start_time": "2021-10-18T10:37:00.608Z"
   },
   {
    "duration": 73,
    "start_time": "2021-10-18T10:37:00.838Z"
   },
   {
    "duration": 67,
    "start_time": "2021-10-18T10:37:00.913Z"
   },
   {
    "duration": 126,
    "start_time": "2021-10-18T10:37:00.982Z"
   },
   {
    "duration": 80,
    "start_time": "2021-10-18T10:37:01.110Z"
   },
   {
    "duration": 6718,
    "start_time": "2021-10-18T10:37:01.191Z"
   },
   {
    "duration": 58,
    "start_time": "2021-10-18T10:39:37.190Z"
   },
   {
    "duration": 427,
    "start_time": "2021-10-18T10:39:43.866Z"
   },
   {
    "duration": 200,
    "start_time": "2021-10-18T10:39:48.669Z"
   },
   {
    "duration": 53,
    "start_time": "2021-10-18T10:39:52.130Z"
   },
   {
    "duration": 1131,
    "start_time": "2021-10-18T10:40:11.971Z"
   },
   {
    "duration": 229,
    "start_time": "2021-10-18T10:40:13.105Z"
   },
   {
    "duration": 70,
    "start_time": "2021-10-18T10:40:13.336Z"
   },
   {
    "duration": 60,
    "start_time": "2021-10-18T10:40:13.408Z"
   },
   {
    "duration": 125,
    "start_time": "2021-10-18T10:40:13.471Z"
   },
   {
    "duration": 220,
    "start_time": "2021-10-18T10:40:13.597Z"
   },
   {
    "duration": 6717,
    "start_time": "2021-10-18T10:40:13.819Z"
   },
   {
    "duration": 57,
    "start_time": "2021-10-18T10:41:13.600Z"
   },
   {
    "duration": 71,
    "start_time": "2021-10-18T10:41:28.075Z"
   },
   {
    "duration": 50,
    "start_time": "2021-10-18T10:42:07.998Z"
   },
   {
    "duration": 118,
    "start_time": "2021-10-18T10:42:41.096Z"
   },
   {
    "duration": 1159,
    "start_time": "2021-10-18T10:43:01.633Z"
   },
   {
    "duration": 217,
    "start_time": "2021-10-18T10:43:02.794Z"
   },
   {
    "duration": 69,
    "start_time": "2021-10-18T10:43:03.014Z"
   },
   {
    "duration": 52,
    "start_time": "2021-10-18T10:43:03.085Z"
   },
   {
    "duration": 129,
    "start_time": "2021-10-18T10:43:03.139Z"
   },
   {
    "duration": 221,
    "start_time": "2021-10-18T10:43:03.269Z"
   },
   {
    "duration": 6895,
    "start_time": "2021-10-18T10:43:03.493Z"
   },
   {
    "duration": 47,
    "start_time": "2021-10-18T10:43:14.171Z"
   },
   {
    "duration": 1112,
    "start_time": "2021-10-18T10:44:03.373Z"
   },
   {
    "duration": 222,
    "start_time": "2021-10-18T10:44:04.487Z"
   },
   {
    "duration": 69,
    "start_time": "2021-10-18T10:44:04.711Z"
   },
   {
    "duration": 55,
    "start_time": "2021-10-18T10:44:04.782Z"
   },
   {
    "duration": 72,
    "start_time": "2021-10-18T10:44:04.839Z"
   },
   {
    "duration": 225,
    "start_time": "2021-10-18T10:44:04.913Z"
   },
   {
    "duration": 7436,
    "start_time": "2021-10-18T10:44:05.140Z"
   },
   {
    "duration": 113,
    "start_time": "2021-10-18T10:46:18.885Z"
   },
   {
    "duration": 114,
    "start_time": "2021-10-18T10:46:47.472Z"
   },
   {
    "duration": 112,
    "start_time": "2021-10-18T10:47:46.437Z"
   },
   {
    "duration": 109,
    "start_time": "2021-10-18T10:48:34.647Z"
   },
   {
    "duration": 111,
    "start_time": "2021-10-18T10:48:44.270Z"
   },
   {
    "duration": 5557,
    "start_time": "2021-10-18T10:50:49.484Z"
   },
   {
    "duration": 5234,
    "start_time": "2021-10-18T10:51:26.900Z"
   },
   {
    "duration": 1133,
    "start_time": "2021-10-18T10:51:40.064Z"
   },
   {
    "duration": 218,
    "start_time": "2021-10-18T10:51:41.199Z"
   },
   {
    "duration": 72,
    "start_time": "2021-10-18T10:51:41.420Z"
   },
   {
    "duration": 51,
    "start_time": "2021-10-18T10:51:41.494Z"
   },
   {
    "duration": 67,
    "start_time": "2021-10-18T10:51:41.547Z"
   },
   {
    "duration": 228,
    "start_time": "2021-10-18T10:51:41.616Z"
   },
   {
    "duration": 7239,
    "start_time": "2021-10-18T10:51:41.846Z"
   },
   {
    "duration": 456,
    "start_time": "2021-10-18T10:52:11.255Z"
   },
   {
    "duration": 1113,
    "start_time": "2021-10-18T10:52:42.085Z"
   },
   {
    "duration": 220,
    "start_time": "2021-10-18T10:52:43.200Z"
   },
   {
    "duration": 79,
    "start_time": "2021-10-18T10:52:43.423Z"
   },
   {
    "duration": 59,
    "start_time": "2021-10-18T10:52:43.504Z"
   },
   {
    "duration": 524,
    "start_time": "2021-10-18T10:52:43.565Z"
   },
   {
    "duration": 1320,
    "start_time": "2021-10-18T10:52:42.772Z"
   },
   {
    "duration": 1318,
    "start_time": "2021-10-18T10:52:42.775Z"
   },
   {
    "duration": 1073,
    "start_time": "2021-10-18T11:01:22.073Z"
   },
   {
    "duration": 642,
    "start_time": "2021-10-18T11:01:31.239Z"
   },
   {
    "duration": 286,
    "start_time": "2021-10-18T11:01:50.895Z"
   },
   {
    "duration": 1178,
    "start_time": "2021-10-18T11:05:16.670Z"
   },
   {
    "duration": 225,
    "start_time": "2021-10-18T11:05:17.851Z"
   },
   {
    "duration": 62,
    "start_time": "2021-10-18T11:05:18.079Z"
   },
   {
    "duration": 72,
    "start_time": "2021-10-18T11:05:18.143Z"
   },
   {
    "duration": 365,
    "start_time": "2021-10-18T11:05:18.217Z"
   },
   {
    "duration": 1331,
    "start_time": "2021-10-18T11:05:17.253Z"
   },
   {
    "duration": 1322,
    "start_time": "2021-10-18T11:05:17.263Z"
   },
   {
    "duration": 47,
    "start_time": "2021-10-18T11:05:35.429Z"
   },
   {
    "duration": 47,
    "start_time": "2021-10-18T11:05:49.065Z"
   },
   {
    "duration": 47,
    "start_time": "2021-10-18T11:05:55.500Z"
   },
   {
    "duration": 215,
    "start_time": "2021-10-18T11:31:49.577Z"
   },
   {
    "duration": 211,
    "start_time": "2021-10-18T11:51:06.848Z"
   },
   {
    "duration": 1073,
    "start_time": "2021-10-18T11:53:55.797Z"
   },
   {
    "duration": 232,
    "start_time": "2021-10-18T11:53:56.872Z"
   },
   {
    "duration": 68,
    "start_time": "2021-10-18T11:53:57.106Z"
   },
   {
    "duration": 50,
    "start_time": "2021-10-18T11:53:57.176Z"
   },
   {
    "duration": 68,
    "start_time": "2021-10-18T11:53:57.228Z"
   },
   {
    "duration": 7533,
    "start_time": "2021-10-18T11:53:57.297Z"
   },
   {
    "duration": 187,
    "start_time": "2021-10-18T11:54:04.645Z"
   },
   {
    "duration": 235,
    "start_time": "2021-10-18T11:54:28.908Z"
   },
   {
    "duration": 234,
    "start_time": "2021-10-18T11:55:19.566Z"
   },
   {
    "duration": 1149,
    "start_time": "2021-10-18T12:09:47.704Z"
   },
   {
    "duration": 231,
    "start_time": "2021-10-18T12:09:48.855Z"
   },
   {
    "duration": 76,
    "start_time": "2021-10-18T12:09:49.089Z"
   },
   {
    "duration": 57,
    "start_time": "2021-10-18T12:09:49.167Z"
   },
   {
    "duration": 79,
    "start_time": "2021-10-18T12:09:49.226Z"
   },
   {
    "duration": 92,
    "start_time": "2021-10-18T12:09:49.307Z"
   },
   {
    "duration": 179,
    "start_time": "2021-10-18T12:09:49.222Z"
   },
   {
    "duration": 86,
    "start_time": "2021-10-18T12:10:01.589Z"
   },
   {
    "duration": 807,
    "start_time": "2021-10-18T12:10:28.356Z"
   },
   {
    "duration": 559,
    "start_time": "2021-10-18T12:10:57.831Z"
   },
   {
    "duration": 525,
    "start_time": "2021-10-18T12:11:56.676Z"
   },
   {
    "duration": 513,
    "start_time": "2021-10-18T12:12:05.038Z"
   },
   {
    "duration": 554,
    "start_time": "2021-10-18T12:12:17.166Z"
   },
   {
    "duration": 101,
    "start_time": "2021-10-18T12:26:18.388Z"
   },
   {
    "duration": 1205,
    "start_time": "2021-10-18T12:30:57.697Z"
   },
   {
    "duration": 255,
    "start_time": "2021-10-18T12:30:58.904Z"
   },
   {
    "duration": 67,
    "start_time": "2021-10-18T12:30:59.161Z"
   },
   {
    "duration": 80,
    "start_time": "2021-10-18T12:30:59.230Z"
   },
   {
    "duration": 69,
    "start_time": "2021-10-18T12:30:59.312Z"
   },
   {
    "duration": 97,
    "start_time": "2021-10-18T12:30:59.383Z"
   },
   {
    "duration": 234,
    "start_time": "2021-10-18T12:30:59.248Z"
   },
   {
    "duration": 6984,
    "start_time": "2021-10-18T12:31:34.807Z"
   },
   {
    "duration": 6879,
    "start_time": "2021-10-18T12:31:43.133Z"
   },
   {
    "duration": 1243,
    "start_time": "2021-10-18T12:32:15.456Z"
   },
   {
    "duration": 241,
    "start_time": "2021-10-18T12:32:16.702Z"
   },
   {
    "duration": 72,
    "start_time": "2021-10-18T12:32:16.945Z"
   },
   {
    "duration": 76,
    "start_time": "2021-10-18T12:32:17.019Z"
   },
   {
    "duration": 68,
    "start_time": "2021-10-18T12:32:17.097Z"
   },
   {
    "duration": 243,
    "start_time": "2021-10-18T12:32:17.169Z"
   },
   {
    "duration": 7317,
    "start_time": "2021-10-18T12:32:17.414Z"
   },
   {
    "duration": 111,
    "start_time": "2021-10-18T12:32:54.373Z"
   },
   {
    "duration": 477,
    "start_time": "2021-10-18T12:33:32.265Z"
   },
   {
    "duration": 1295,
    "start_time": "2021-10-18T12:33:59.607Z"
   },
   {
    "duration": 247,
    "start_time": "2021-10-18T12:34:00.904Z"
   },
   {
    "duration": 74,
    "start_time": "2021-10-18T12:34:01.155Z"
   },
   {
    "duration": 75,
    "start_time": "2021-10-18T12:34:01.231Z"
   },
   {
    "duration": 67,
    "start_time": "2021-10-18T12:34:01.307Z"
   },
   {
    "duration": 365,
    "start_time": "2021-10-18T12:34:01.376Z"
   },
   {
    "duration": 8080,
    "start_time": "2021-10-18T12:34:01.743Z"
   },
   {
    "duration": 362,
    "start_time": "2021-10-18T12:51:07.039Z"
   },
   {
    "duration": 362,
    "start_time": "2021-10-18T12:51:20.191Z"
   },
   {
    "duration": 95,
    "start_time": "2021-10-18T12:52:34.591Z"
   },
   {
    "duration": 119,
    "start_time": "2021-10-18T12:53:14.190Z"
   },
   {
    "duration": 376,
    "start_time": "2021-10-18T13:23:33.439Z"
   },
   {
    "duration": 375,
    "start_time": "2021-10-18T13:23:42.624Z"
   },
   {
    "duration": 1209,
    "start_time": "2021-10-18T13:23:56.358Z"
   },
   {
    "duration": 259,
    "start_time": "2021-10-18T13:23:57.570Z"
   },
   {
    "duration": 75,
    "start_time": "2021-10-18T13:23:57.832Z"
   },
   {
    "duration": 67,
    "start_time": "2021-10-18T13:23:57.909Z"
   },
   {
    "duration": 59,
    "start_time": "2021-10-18T13:23:57.978Z"
   },
   {
    "duration": 540,
    "start_time": "2021-10-18T13:23:58.039Z"
   },
   {
    "duration": 491,
    "start_time": "2021-10-18T13:23:58.089Z"
   },
   {
    "duration": 1229,
    "start_time": "2021-10-18T13:24:44.033Z"
   },
   {
    "duration": 255,
    "start_time": "2021-10-18T13:24:45.266Z"
   },
   {
    "duration": 81,
    "start_time": "2021-10-18T13:24:45.524Z"
   },
   {
    "duration": 71,
    "start_time": "2021-10-18T13:24:45.607Z"
   },
   {
    "duration": 59,
    "start_time": "2021-10-18T13:24:45.680Z"
   },
   {
    "duration": 278,
    "start_time": "2021-10-18T13:24:45.741Z"
   },
   {
    "duration": 8927,
    "start_time": "2021-10-18T13:24:46.021Z"
   },
   {
    "duration": 123,
    "start_time": "2021-10-18T13:25:33.285Z"
   },
   {
    "duration": 377,
    "start_time": "2021-10-18T13:25:52.831Z"
   },
   {
    "duration": 406,
    "start_time": "2021-10-18T13:27:03.076Z"
   },
   {
    "duration": 761,
    "start_time": "2021-10-18T13:27:54.375Z"
   },
   {
    "duration": 704,
    "start_time": "2021-10-18T13:28:00.988Z"
   },
   {
    "duration": 1249,
    "start_time": "2021-10-18T13:28:35.658Z"
   },
   {
    "duration": 275,
    "start_time": "2021-10-18T13:28:36.909Z"
   },
   {
    "duration": 77,
    "start_time": "2021-10-18T13:28:37.187Z"
   },
   {
    "duration": 63,
    "start_time": "2021-10-18T13:28:37.281Z"
   },
   {
    "duration": 72,
    "start_time": "2021-10-18T13:28:37.346Z"
   },
   {
    "duration": 430,
    "start_time": "2021-10-18T13:28:37.420Z"
   },
   {
    "duration": 9470,
    "start_time": "2021-10-18T13:28:37.852Z"
   },
   {
    "duration": 681,
    "start_time": "2021-10-18T13:29:26.637Z"
   },
   {
    "duration": 104,
    "start_time": "2021-10-18T13:29:37.077Z"
   },
   {
    "duration": 103,
    "start_time": "2021-10-18T13:29:55.354Z"
   },
   {
    "duration": 1144,
    "start_time": "2021-10-18T13:33:14.950Z"
   },
   {
    "duration": 416,
    "start_time": "2021-10-18T13:33:58.330Z"
   },
   {
    "duration": 427,
    "start_time": "2021-10-18T13:34:13.540Z"
   },
   {
    "duration": 94,
    "start_time": "2021-10-18T13:42:27.987Z"
   },
   {
    "duration": 1173,
    "start_time": "2021-10-18T13:49:39.413Z"
   },
   {
    "duration": 238,
    "start_time": "2021-10-18T13:49:40.589Z"
   },
   {
    "duration": 77,
    "start_time": "2021-10-18T13:49:40.829Z"
   },
   {
    "duration": 61,
    "start_time": "2021-10-18T13:49:40.908Z"
   },
   {
    "duration": 62,
    "start_time": "2021-10-18T13:49:40.973Z"
   },
   {
    "duration": 448,
    "start_time": "2021-10-18T13:49:41.037Z"
   },
   {
    "duration": 7155,
    "start_time": "2021-10-18T13:49:41.488Z"
   },
   {
    "duration": 446,
    "start_time": "2021-10-18T13:50:24.169Z"
   },
   {
    "duration": 469,
    "start_time": "2021-10-18T13:51:28.345Z"
   },
   {
    "duration": 433,
    "start_time": "2021-10-18T13:51:39.399Z"
   },
   {
    "duration": 7927,
    "start_time": "2021-10-18T13:51:57.587Z"
   },
   {
    "duration": 761,
    "start_time": "2021-10-18T13:52:27.367Z"
   },
   {
    "duration": 1188,
    "start_time": "2021-10-18T13:52:58.137Z"
   },
   {
    "duration": 262,
    "start_time": "2021-10-18T13:52:59.327Z"
   },
   {
    "duration": 55,
    "start_time": "2021-10-18T13:52:59.596Z"
   },
   {
    "duration": 62,
    "start_time": "2021-10-18T13:52:59.653Z"
   },
   {
    "duration": 93,
    "start_time": "2021-10-18T13:52:59.717Z"
   },
   {
    "duration": 97,
    "start_time": "2021-10-18T13:52:59.812Z"
   },
   {
    "duration": 515,
    "start_time": "2021-10-18T13:52:59.396Z"
   },
   {
    "duration": 791,
    "start_time": "2021-10-18T13:53:07.128Z"
   },
   {
    "duration": 1059,
    "start_time": "2021-10-18T13:53:25.022Z"
   },
   {
    "duration": 750,
    "start_time": "2021-10-18T13:54:29.845Z"
   },
   {
    "duration": 459,
    "start_time": "2021-10-18T13:55:39.437Z"
   },
   {
    "duration": 448,
    "start_time": "2021-10-18T13:56:09.277Z"
   },
   {
    "duration": 421,
    "start_time": "2021-10-18T13:58:50.573Z"
   },
   {
    "duration": 678,
    "start_time": "2021-10-18T13:59:27.908Z"
   },
   {
    "duration": 721,
    "start_time": "2021-10-18T13:59:52.537Z"
   },
   {
    "duration": 447,
    "start_time": "2021-10-18T14:01:19.665Z"
   },
   {
    "duration": 119,
    "start_time": "2021-10-18T15:27:27.935Z"
   },
   {
    "duration": 6901,
    "start_time": "2021-10-18T15:27:32.226Z"
   },
   {
    "duration": 269,
    "start_time": "2021-10-18T15:28:30.976Z"
   },
   {
    "duration": 1317,
    "start_time": "2021-10-19T08:25:36.579Z"
   },
   {
    "duration": 296,
    "start_time": "2021-10-19T08:25:37.899Z"
   },
   {
    "duration": 91,
    "start_time": "2021-10-19T08:25:38.198Z"
   },
   {
    "duration": 68,
    "start_time": "2021-10-19T08:25:38.292Z"
   },
   {
    "duration": 91,
    "start_time": "2021-10-19T08:25:38.363Z"
   },
   {
    "duration": 446,
    "start_time": "2021-10-19T08:25:38.457Z"
   },
   {
    "duration": 1281,
    "start_time": "2021-10-19T08:25:37.624Z"
   },
   {
    "duration": 625,
    "start_time": "2021-10-19T08:26:02.577Z"
   },
   {
    "duration": 296,
    "start_time": "2021-10-19T08:26:54.476Z"
   },
   {
    "duration": 610,
    "start_time": "2021-10-19T08:28:00.690Z"
   },
   {
    "duration": 498,
    "start_time": "2021-10-19T08:28:41.607Z"
   },
   {
    "duration": 3794,
    "start_time": "2021-10-19T09:24:05.500Z"
   },
   {
    "duration": 3598,
    "start_time": "2021-10-19T09:26:58.573Z"
   },
   {
    "duration": 1335,
    "start_time": "2021-10-19T09:28:02.212Z"
   },
   {
    "duration": 289,
    "start_time": "2021-10-19T09:28:03.550Z"
   },
   {
    "duration": 92,
    "start_time": "2021-10-19T09:28:03.843Z"
   },
   {
    "duration": 83,
    "start_time": "2021-10-19T09:28:03.938Z"
   },
   {
    "duration": 91,
    "start_time": "2021-10-19T09:28:04.024Z"
   },
   {
    "duration": 611,
    "start_time": "2021-10-19T09:28:04.117Z"
   },
   {
    "duration": 4041,
    "start_time": "2021-10-19T09:28:04.731Z"
   },
   {
    "duration": 3768,
    "start_time": "2021-10-19T09:43:57.017Z"
   },
   {
    "duration": 6828,
    "start_time": "2021-10-19T10:46:38.658Z"
   },
   {
    "duration": 7575,
    "start_time": "2021-10-19T10:48:52.031Z"
   },
   {
    "duration": 6914,
    "start_time": "2021-10-19T10:49:17.471Z"
   },
   {
    "duration": 1400,
    "start_time": "2021-10-19T10:49:27.789Z"
   },
   {
    "duration": 319,
    "start_time": "2021-10-19T10:49:29.192Z"
   },
   {
    "duration": 98,
    "start_time": "2021-10-19T10:49:29.517Z"
   },
   {
    "duration": 80,
    "start_time": "2021-10-19T10:49:29.618Z"
   },
   {
    "duration": 88,
    "start_time": "2021-10-19T10:49:29.701Z"
   },
   {
    "duration": 671,
    "start_time": "2021-10-19T10:49:29.792Z"
   },
   {
    "duration": 8227,
    "start_time": "2021-10-19T10:49:30.467Z"
   },
   {
    "duration": 91,
    "start_time": "2021-10-19T10:52:54.560Z"
   },
   {
    "duration": 89,
    "start_time": "2021-10-19T10:53:11.041Z"
   },
   {
    "duration": 19,
    "start_time": "2021-10-19T10:53:44.686Z"
   },
   {
    "duration": 308,
    "start_time": "2021-10-19T10:56:31.016Z"
   },
   {
    "duration": 317,
    "start_time": "2021-10-19T11:02:22.683Z"
   },
   {
    "duration": 12,
    "start_time": "2021-10-19T11:02:47.337Z"
   },
   {
    "duration": 1566,
    "start_time": "2021-10-19T11:03:07.430Z"
   },
   {
    "duration": 305,
    "start_time": "2021-10-19T11:03:08.998Z"
   },
   {
    "duration": 88,
    "start_time": "2021-10-19T11:03:09.306Z"
   },
   {
    "duration": 85,
    "start_time": "2021-10-19T11:03:09.397Z"
   },
   {
    "duration": 76,
    "start_time": "2021-10-19T11:03:09.485Z"
   },
   {
    "duration": 631,
    "start_time": "2021-10-19T11:03:09.564Z"
   },
   {
    "duration": 11,
    "start_time": "2021-10-19T11:03:10.198Z"
   },
   {
    "duration": 26,
    "start_time": "2021-10-19T11:03:17.655Z"
   },
   {
    "duration": 373,
    "start_time": "2021-10-19T11:04:29.565Z"
   },
   {
    "duration": 44,
    "start_time": "2021-10-19T11:04:40.388Z"
   },
   {
    "duration": 49,
    "start_time": "2021-10-19T11:06:09.758Z"
   },
   {
    "duration": 47,
    "start_time": "2021-10-19T11:07:13.996Z"
   },
   {
    "duration": 29,
    "start_time": "2021-10-19T11:07:23.641Z"
   },
   {
    "duration": 284,
    "start_time": "2021-10-19T11:08:05.529Z"
   },
   {
    "duration": 327,
    "start_time": "2021-10-19T11:09:33.646Z"
   },
   {
    "duration": 289,
    "start_time": "2021-10-19T11:09:41.461Z"
   },
   {
    "duration": 1340,
    "start_time": "2021-10-19T11:10:35.615Z"
   },
   {
    "duration": 349,
    "start_time": "2021-10-19T11:10:36.958Z"
   },
   {
    "duration": 99,
    "start_time": "2021-10-19T11:10:37.311Z"
   },
   {
    "duration": 89,
    "start_time": "2021-10-19T11:10:37.413Z"
   },
   {
    "duration": 103,
    "start_time": "2021-10-19T11:10:37.504Z"
   },
   {
    "duration": 669,
    "start_time": "2021-10-19T11:10:37.609Z"
   },
   {
    "duration": 353,
    "start_time": "2021-10-19T11:10:38.283Z"
   },
   {
    "duration": 1970,
    "start_time": "2021-10-19T11:34:19.779Z"
   },
   {
    "duration": 302,
    "start_time": "2021-10-19T11:34:21.752Z"
   },
   {
    "duration": 87,
    "start_time": "2021-10-19T11:34:22.057Z"
   },
   {
    "duration": 89,
    "start_time": "2021-10-19T11:34:22.147Z"
   },
   {
    "duration": 94,
    "start_time": "2021-10-19T11:34:22.239Z"
   },
   {
    "duration": 654,
    "start_time": "2021-10-19T11:34:22.335Z"
   },
   {
    "duration": 259,
    "start_time": "2021-10-19T11:34:22.991Z"
   },
   {
    "duration": 413,
    "start_time": "2021-10-19T11:34:47.074Z"
   },
   {
    "duration": 558,
    "start_time": "2021-10-19T11:38:47.824Z"
   },
   {
    "duration": 288,
    "start_time": "2021-10-19T11:39:24.746Z"
   },
   {
    "duration": 696,
    "start_time": "2021-10-19T11:39:33.889Z"
   },
   {
    "duration": 331,
    "start_time": "2021-10-19T11:39:46.211Z"
   },
   {
    "duration": 726,
    "start_time": "2021-10-19T11:39:50.817Z"
   },
   {
    "duration": 616,
    "start_time": "2021-10-19T11:42:15.253Z"
   },
   {
    "duration": 739,
    "start_time": "2021-10-19T11:42:18.461Z"
   },
   {
    "duration": 325,
    "start_time": "2021-10-19T11:47:53.691Z"
   },
   {
    "duration": 598,
    "start_time": "2021-10-19T11:47:55.765Z"
   },
   {
    "duration": 424,
    "start_time": "2021-10-19T11:48:39.660Z"
   },
   {
    "duration": 776,
    "start_time": "2021-10-19T11:48:41.979Z"
   },
   {
    "duration": 362,
    "start_time": "2021-10-19T11:48:49.747Z"
   },
   {
    "duration": 737,
    "start_time": "2021-10-19T11:48:56.830Z"
   },
   {
    "duration": 422,
    "start_time": "2021-10-19T11:49:41.511Z"
   },
   {
    "duration": 1136,
    "start_time": "2021-10-19T11:49:45.750Z"
   },
   {
    "duration": 377,
    "start_time": "2021-10-19T11:49:56.447Z"
   },
   {
    "duration": 684,
    "start_time": "2021-10-19T11:49:59.033Z"
   },
   {
    "duration": 477,
    "start_time": "2021-10-19T11:51:00.610Z"
   },
   {
    "duration": 722,
    "start_time": "2021-10-19T11:51:08.903Z"
   },
   {
    "duration": 336,
    "start_time": "2021-10-19T11:51:35.384Z"
   },
   {
    "duration": 700,
    "start_time": "2021-10-19T11:51:37.268Z"
   },
   {
    "duration": 2122,
    "start_time": "2021-10-19T12:57:56.347Z"
   },
   {
    "duration": 298,
    "start_time": "2021-10-19T12:57:58.473Z"
   },
   {
    "duration": 119,
    "start_time": "2021-10-19T12:57:58.783Z"
   },
   {
    "duration": 108,
    "start_time": "2021-10-19T12:57:58.905Z"
   },
   {
    "duration": 117,
    "start_time": "2021-10-19T12:57:59.015Z"
   },
   {
    "duration": 641,
    "start_time": "2021-10-19T12:57:59.135Z"
   },
   {
    "duration": 982,
    "start_time": "2021-10-19T12:57:59.779Z"
   },
   {
    "duration": 794,
    "start_time": "2021-10-19T12:58:00.766Z"
   },
   {
    "duration": 651,
    "start_time": "2021-10-19T12:59:41.202Z"
   },
   {
    "duration": 661,
    "start_time": "2021-10-19T12:59:44.442Z"
   },
   {
    "duration": 112,
    "start_time": "2021-10-19T13:01:43.646Z"
   },
   {
    "duration": 337,
    "start_time": "2021-10-19T13:02:06.048Z"
   },
   {
    "duration": 715,
    "start_time": "2021-10-19T13:02:13.811Z"
   },
   {
    "duration": 3190,
    "start_time": "2021-10-19T13:03:05.921Z"
   },
   {
    "duration": 548,
    "start_time": "2021-10-19T13:03:09.116Z"
   },
   {
    "duration": 156,
    "start_time": "2021-10-19T13:03:09.682Z"
   },
   {
    "duration": 132,
    "start_time": "2021-10-19T13:03:09.843Z"
   },
   {
    "duration": 148,
    "start_time": "2021-10-19T13:03:09.978Z"
   },
   {
    "duration": 1226,
    "start_time": "2021-10-19T13:03:10.130Z"
   },
   {
    "duration": 718,
    "start_time": "2021-10-19T13:03:11.359Z"
   },
   {
    "duration": 640,
    "start_time": "2021-10-19T13:03:12.083Z"
   },
   {
    "duration": 1972,
    "start_time": "2021-10-19T13:07:25.402Z"
   },
   {
    "duration": 301,
    "start_time": "2021-10-19T13:07:27.377Z"
   },
   {
    "duration": 80,
    "start_time": "2021-10-19T13:07:27.685Z"
   },
   {
    "duration": 78,
    "start_time": "2021-10-19T13:07:27.784Z"
   },
   {
    "duration": 127,
    "start_time": "2021-10-19T13:07:27.865Z"
   },
   {
    "duration": 708,
    "start_time": "2021-10-19T13:07:27.994Z"
   },
   {
    "duration": 1103,
    "start_time": "2021-10-19T13:07:28.705Z"
   },
   {
    "duration": 664,
    "start_time": "2021-10-19T13:07:29.810Z"
   },
   {
    "duration": 684,
    "start_time": "2021-10-19T13:07:30.484Z"
   },
   {
    "duration": 2848,
    "start_time": "2021-10-20T07:21:05.652Z"
   },
   {
    "duration": 333,
    "start_time": "2021-10-20T07:21:08.503Z"
   },
   {
    "duration": 90,
    "start_time": "2021-10-20T07:21:08.839Z"
   },
   {
    "duration": 79,
    "start_time": "2021-10-20T07:21:08.932Z"
   },
   {
    "duration": 102,
    "start_time": "2021-10-20T07:21:09.014Z"
   },
   {
    "duration": 631,
    "start_time": "2021-10-20T07:21:09.119Z"
   },
   {
    "duration": 643,
    "start_time": "2021-10-20T07:21:09.753Z"
   },
   {
    "duration": 636,
    "start_time": "2021-10-20T07:21:10.399Z"
   },
   {
    "duration": 943,
    "start_time": "2021-10-20T07:21:11.040Z"
   },
   {
    "duration": 672,
    "start_time": "2021-10-20T07:23:06.925Z"
   },
   {
    "duration": 699,
    "start_time": "2021-10-20T07:23:30.336Z"
   },
   {
    "duration": 862,
    "start_time": "2021-10-20T07:24:21.110Z"
   },
   {
    "duration": 2213,
    "start_time": "2021-10-20T07:43:53.813Z"
   },
   {
    "duration": 314,
    "start_time": "2021-10-20T07:43:56.029Z"
   },
   {
    "duration": 82,
    "start_time": "2021-10-20T07:43:56.346Z"
   },
   {
    "duration": 74,
    "start_time": "2021-10-20T07:43:56.431Z"
   },
   {
    "duration": 96,
    "start_time": "2021-10-20T07:43:56.508Z"
   },
   {
    "duration": 631,
    "start_time": "2021-10-20T07:43:56.607Z"
   },
   {
    "duration": 651,
    "start_time": "2021-10-20T07:43:57.240Z"
   },
   {
    "duration": 658,
    "start_time": "2021-10-20T07:43:57.896Z"
   },
   {
    "duration": 605,
    "start_time": "2021-10-20T07:43:58.556Z"
   },
   {
    "duration": 2301,
    "start_time": "2021-10-20T07:49:41.023Z"
   },
   {
    "duration": 295,
    "start_time": "2021-10-20T07:49:43.327Z"
   },
   {
    "duration": 82,
    "start_time": "2021-10-20T07:49:43.625Z"
   },
   {
    "duration": 79,
    "start_time": "2021-10-20T07:49:43.711Z"
   },
   {
    "duration": 89,
    "start_time": "2021-10-20T07:49:43.793Z"
   },
   {
    "duration": 9418,
    "start_time": "2021-10-20T07:49:43.885Z"
   },
   {
    "duration": -57,
    "start_time": "2021-10-20T07:49:53.364Z"
   },
   {
    "duration": -56,
    "start_time": "2021-10-20T07:49:53.365Z"
   },
   {
    "duration": -54,
    "start_time": "2021-10-20T07:49:53.366Z"
   },
   {
    "duration": 658,
    "start_time": "2021-10-20T07:50:11.566Z"
   },
   {
    "duration": 2346,
    "start_time": "2021-10-20T07:56:14.462Z"
   },
   {
    "duration": 303,
    "start_time": "2021-10-20T07:56:16.811Z"
   },
   {
    "duration": 81,
    "start_time": "2021-10-20T07:56:17.117Z"
   },
   {
    "duration": 65,
    "start_time": "2021-10-20T07:56:17.200Z"
   },
   {
    "duration": 78,
    "start_time": "2021-10-20T07:56:17.283Z"
   },
   {
    "duration": 635,
    "start_time": "2021-10-20T07:56:17.364Z"
   },
   {
    "duration": 674,
    "start_time": "2021-10-20T07:56:18.002Z"
   },
   {
    "duration": 604,
    "start_time": "2021-10-20T07:56:18.682Z"
   },
   {
    "duration": 627,
    "start_time": "2021-10-20T07:56:19.288Z"
   },
   {
    "duration": 607,
    "start_time": "2021-10-20T08:06:37.652Z"
   },
   {
    "duration": 676,
    "start_time": "2021-10-20T08:06:45.437Z"
   },
   {
    "duration": 2297,
    "start_time": "2021-10-20T08:07:18.100Z"
   },
   {
    "duration": 315,
    "start_time": "2021-10-20T08:07:20.400Z"
   },
   {
    "duration": 81,
    "start_time": "2021-10-20T08:07:20.718Z"
   },
   {
    "duration": 64,
    "start_time": "2021-10-20T08:07:20.802Z"
   },
   {
    "duration": 88,
    "start_time": "2021-10-20T08:07:20.868Z"
   },
   {
    "duration": 608,
    "start_time": "2021-10-20T08:07:20.959Z"
   },
   {
    "duration": 649,
    "start_time": "2021-10-20T08:07:21.570Z"
   },
   {
    "duration": 658,
    "start_time": "2021-10-20T08:07:22.222Z"
   },
   {
    "duration": 654,
    "start_time": "2021-10-20T08:07:22.883Z"
   },
   {
    "duration": 394,
    "start_time": "2021-10-20T08:12:55.140Z"
   },
   {
    "duration": 674,
    "start_time": "2021-10-20T08:13:02.640Z"
   },
   {
    "duration": 537,
    "start_time": "2021-10-20T08:13:30.862Z"
   },
   {
    "duration": 865,
    "start_time": "2021-10-20T08:13:33.398Z"
   },
   {
    "duration": 438,
    "start_time": "2021-10-20T08:14:09.633Z"
   },
   {
    "duration": 653,
    "start_time": "2021-10-20T08:14:12.467Z"
   },
   {
    "duration": 319,
    "start_time": "2021-10-20T08:15:06.158Z"
   },
   {
    "duration": 666,
    "start_time": "2021-10-20T08:15:08.093Z"
   },
   {
    "duration": 599,
    "start_time": "2021-10-20T08:16:32.459Z"
   },
   {
    "duration": 480,
    "start_time": "2021-10-20T08:16:34.499Z"
   },
   {
    "duration": 548,
    "start_time": "2021-10-20T08:16:46.153Z"
   },
   {
    "duration": 628,
    "start_time": "2021-10-20T08:16:48.097Z"
   },
   {
    "duration": 332,
    "start_time": "2021-10-20T08:17:57.968Z"
   },
   {
    "duration": 639,
    "start_time": "2021-10-20T08:17:59.790Z"
   },
   {
    "duration": 424,
    "start_time": "2021-10-20T08:18:48.772Z"
   },
   {
    "duration": 668,
    "start_time": "2021-10-20T08:18:50.414Z"
   },
   {
    "duration": 2405,
    "start_time": "2021-10-20T08:20:34.905Z"
   },
   {
    "duration": 315,
    "start_time": "2021-10-20T08:20:37.312Z"
   },
   {
    "duration": 85,
    "start_time": "2021-10-20T08:20:37.630Z"
   },
   {
    "duration": 81,
    "start_time": "2021-10-20T08:20:37.718Z"
   },
   {
    "duration": 90,
    "start_time": "2021-10-20T08:20:37.802Z"
   },
   {
    "duration": 618,
    "start_time": "2021-10-20T08:20:37.895Z"
   },
   {
    "duration": 465,
    "start_time": "2021-10-20T08:20:38.516Z"
   },
   {
    "duration": -23,
    "start_time": "2021-10-20T08:20:39.006Z"
   },
   {
    "duration": -22,
    "start_time": "2021-10-20T08:20:39.007Z"
   },
   {
    "duration": 2418,
    "start_time": "2021-10-20T08:21:24.578Z"
   },
   {
    "duration": 312,
    "start_time": "2021-10-20T08:21:27.000Z"
   },
   {
    "duration": 72,
    "start_time": "2021-10-20T08:21:27.315Z"
   },
   {
    "duration": 65,
    "start_time": "2021-10-20T08:21:27.390Z"
   },
   {
    "duration": 96,
    "start_time": "2021-10-20T08:21:27.458Z"
   },
   {
    "duration": 635,
    "start_time": "2021-10-20T08:21:27.557Z"
   },
   {
    "duration": 125,
    "start_time": "2021-10-20T08:21:28.195Z"
   },
   {
    "duration": -10,
    "start_time": "2021-10-20T08:21:28.333Z"
   },
   {
    "duration": -10,
    "start_time": "2021-10-20T08:21:28.335Z"
   },
   {
    "duration": 656,
    "start_time": "2021-10-20T08:21:46.508Z"
   },
   {
    "duration": 2388,
    "start_time": "2021-10-20T08:22:45.361Z"
   },
   {
    "duration": 313,
    "start_time": "2021-10-20T08:22:47.752Z"
   },
   {
    "duration": 76,
    "start_time": "2021-10-20T08:22:48.068Z"
   },
   {
    "duration": 80,
    "start_time": "2021-10-20T08:22:48.146Z"
   },
   {
    "duration": 96,
    "start_time": "2021-10-20T08:22:48.228Z"
   },
   {
    "duration": 678,
    "start_time": "2021-10-20T08:22:48.327Z"
   },
   {
    "duration": 605,
    "start_time": "2021-10-20T08:22:49.008Z"
   },
   {
    "duration": 600,
    "start_time": "2021-10-20T08:22:49.615Z"
   },
   {
    "duration": 611,
    "start_time": "2021-10-20T08:22:50.218Z"
   },
   {
    "duration": 459,
    "start_time": "2021-10-20T08:23:29.856Z"
   },
   {
    "duration": 2351,
    "start_time": "2021-10-20T08:23:35.205Z"
   },
   {
    "duration": 334,
    "start_time": "2021-10-20T08:23:37.559Z"
   },
   {
    "duration": 88,
    "start_time": "2021-10-20T08:23:37.897Z"
   },
   {
    "duration": 74,
    "start_time": "2021-10-20T08:23:37.988Z"
   },
   {
    "duration": 87,
    "start_time": "2021-10-20T08:23:38.065Z"
   },
   {
    "duration": 648,
    "start_time": "2021-10-20T08:23:38.155Z"
   },
   {
    "duration": 630,
    "start_time": "2021-10-20T08:23:38.805Z"
   },
   {
    "duration": 600,
    "start_time": "2021-10-20T08:23:39.438Z"
   },
   {
    "duration": 608,
    "start_time": "2021-10-20T08:23:40.043Z"
   },
   {
    "duration": 2376,
    "start_time": "2021-10-20T08:24:27.308Z"
   },
   {
    "duration": 301,
    "start_time": "2021-10-20T08:24:29.687Z"
   },
   {
    "duration": 71,
    "start_time": "2021-10-20T08:24:29.992Z"
   },
   {
    "duration": 69,
    "start_time": "2021-10-20T08:24:30.084Z"
   },
   {
    "duration": 101,
    "start_time": "2021-10-20T08:24:30.157Z"
   },
   {
    "duration": 656,
    "start_time": "2021-10-20T08:24:30.261Z"
   },
   {
    "duration": 669,
    "start_time": "2021-10-20T08:24:30.920Z"
   },
   {
    "duration": 628,
    "start_time": "2021-10-20T08:24:31.592Z"
   },
   {
    "duration": 615,
    "start_time": "2021-10-20T08:24:32.223Z"
   },
   {
    "duration": 2321,
    "start_time": "2021-10-20T08:25:33.685Z"
   },
   {
    "duration": 319,
    "start_time": "2021-10-20T08:25:36.009Z"
   },
   {
    "duration": 87,
    "start_time": "2021-10-20T08:25:36.331Z"
   },
   {
    "duration": 81,
    "start_time": "2021-10-20T08:25:36.421Z"
   },
   {
    "duration": 87,
    "start_time": "2021-10-20T08:25:36.505Z"
   },
   {
    "duration": 663,
    "start_time": "2021-10-20T08:25:36.595Z"
   },
   {
    "duration": 539,
    "start_time": "2021-10-20T08:25:37.261Z"
   },
   {
    "duration": -6,
    "start_time": "2021-10-20T08:25:37.808Z"
   },
   {
    "duration": -6,
    "start_time": "2021-10-20T08:25:37.810Z"
   },
   {
    "duration": 2330,
    "start_time": "2021-10-20T08:26:04.678Z"
   },
   {
    "duration": 299,
    "start_time": "2021-10-20T08:26:07.011Z"
   },
   {
    "duration": 80,
    "start_time": "2021-10-20T08:26:07.313Z"
   },
   {
    "duration": 67,
    "start_time": "2021-10-20T08:26:07.396Z"
   },
   {
    "duration": 95,
    "start_time": "2021-10-20T08:26:07.465Z"
   },
   {
    "duration": 721,
    "start_time": "2021-10-20T08:26:07.563Z"
   },
   {
    "duration": 405,
    "start_time": "2021-10-20T08:26:08.286Z"
   },
   {
    "duration": -15,
    "start_time": "2021-10-20T08:26:08.709Z"
   },
   {
    "duration": -16,
    "start_time": "2021-10-20T08:26:08.711Z"
   },
   {
    "duration": 2243,
    "start_time": "2021-10-20T08:27:24.525Z"
   },
   {
    "duration": 300,
    "start_time": "2021-10-20T08:27:26.771Z"
   },
   {
    "duration": 71,
    "start_time": "2021-10-20T08:27:27.074Z"
   },
   {
    "duration": 88,
    "start_time": "2021-10-20T08:27:27.148Z"
   },
   {
    "duration": 95,
    "start_time": "2021-10-20T08:27:27.240Z"
   },
   {
    "duration": 726,
    "start_time": "2021-10-20T08:27:27.338Z"
   },
   {
    "duration": 419,
    "start_time": "2021-10-20T08:27:28.067Z"
   },
   {
    "duration": -120,
    "start_time": "2021-10-20T08:27:28.609Z"
   },
   {
    "duration": -120,
    "start_time": "2021-10-20T08:27:28.611Z"
   },
   {
    "duration": 2302,
    "start_time": "2021-10-20T08:27:43.515Z"
   },
   {
    "duration": 297,
    "start_time": "2021-10-20T08:27:45.819Z"
   },
   {
    "duration": 80,
    "start_time": "2021-10-20T08:27:46.120Z"
   },
   {
    "duration": 80,
    "start_time": "2021-10-20T08:27:46.203Z"
   },
   {
    "duration": 77,
    "start_time": "2021-10-20T08:27:46.286Z"
   },
   {
    "duration": 637,
    "start_time": "2021-10-20T08:27:46.366Z"
   },
   {
    "duration": 641,
    "start_time": "2021-10-20T08:27:47.005Z"
   },
   {
    "duration": -12,
    "start_time": "2021-10-20T08:27:47.661Z"
   },
   {
    "duration": -66,
    "start_time": "2021-10-20T08:27:47.716Z"
   },
   {
    "duration": 2399,
    "start_time": "2021-10-20T08:28:08.453Z"
   },
   {
    "duration": 351,
    "start_time": "2021-10-20T08:28:10.855Z"
   },
   {
    "duration": 84,
    "start_time": "2021-10-20T08:28:11.209Z"
   },
   {
    "duration": 65,
    "start_time": "2021-10-20T08:28:11.296Z"
   },
   {
    "duration": 88,
    "start_time": "2021-10-20T08:28:11.364Z"
   },
   {
    "duration": 666,
    "start_time": "2021-10-20T08:28:11.455Z"
   },
   {
    "duration": 666,
    "start_time": "2021-10-20T08:28:12.124Z"
   },
   {
    "duration": 619,
    "start_time": "2021-10-20T08:28:12.792Z"
   },
   {
    "duration": 648,
    "start_time": "2021-10-20T08:28:13.415Z"
   },
   {
    "duration": 2304,
    "start_time": "2021-10-20T08:30:51.417Z"
   },
   {
    "duration": 321,
    "start_time": "2021-10-20T08:30:53.725Z"
   },
   {
    "duration": 84,
    "start_time": "2021-10-20T08:30:54.050Z"
   },
   {
    "duration": 89,
    "start_time": "2021-10-20T08:30:54.137Z"
   },
   {
    "duration": 90,
    "start_time": "2021-10-20T08:30:54.228Z"
   },
   {
    "duration": 633,
    "start_time": "2021-10-20T08:30:54.321Z"
   },
   {
    "duration": 677,
    "start_time": "2021-10-20T08:30:54.957Z"
   },
   {
    "duration": 624,
    "start_time": "2021-10-20T08:30:55.637Z"
   },
   {
    "duration": 627,
    "start_time": "2021-10-20T08:30:56.264Z"
   },
   {
    "duration": 2472,
    "start_time": "2021-10-20T08:31:35.342Z"
   },
   {
    "duration": 330,
    "start_time": "2021-10-20T08:31:37.817Z"
   },
   {
    "duration": 93,
    "start_time": "2021-10-20T08:31:38.153Z"
   },
   {
    "duration": 90,
    "start_time": "2021-10-20T08:31:38.248Z"
   },
   {
    "duration": 96,
    "start_time": "2021-10-20T08:31:38.341Z"
   },
   {
    "duration": 633,
    "start_time": "2021-10-20T08:31:38.440Z"
   },
   {
    "duration": 667,
    "start_time": "2021-10-20T08:31:39.083Z"
   },
   {
    "duration": 621,
    "start_time": "2021-10-20T08:31:39.754Z"
   },
   {
    "duration": 632,
    "start_time": "2021-10-20T08:31:40.387Z"
   },
   {
    "duration": 2287,
    "start_time": "2021-10-20T08:33:58.369Z"
   },
   {
    "duration": 323,
    "start_time": "2021-10-20T08:34:00.660Z"
   },
   {
    "duration": 69,
    "start_time": "2021-10-20T08:34:00.986Z"
   },
   {
    "duration": 82,
    "start_time": "2021-10-20T08:34:01.058Z"
   },
   {
    "duration": 92,
    "start_time": "2021-10-20T08:34:01.142Z"
   },
   {
    "duration": 622,
    "start_time": "2021-10-20T08:34:01.237Z"
   },
   {
    "duration": 657,
    "start_time": "2021-10-20T08:34:01.862Z"
   },
   {
    "duration": 611,
    "start_time": "2021-10-20T08:34:02.522Z"
   },
   {
    "duration": 652,
    "start_time": "2021-10-20T08:34:03.136Z"
   },
   {
    "duration": 2458,
    "start_time": "2021-10-20T08:34:45.572Z"
   },
   {
    "duration": 335,
    "start_time": "2021-10-20T08:34:48.033Z"
   },
   {
    "duration": 87,
    "start_time": "2021-10-20T08:34:48.371Z"
   },
   {
    "duration": 83,
    "start_time": "2021-10-20T08:34:48.462Z"
   },
   {
    "duration": 99,
    "start_time": "2021-10-20T08:34:48.548Z"
   },
   {
    "duration": 682,
    "start_time": "2021-10-20T08:34:48.650Z"
   },
   {
    "duration": 723,
    "start_time": "2021-10-20T08:34:49.335Z"
   },
   {
    "duration": 635,
    "start_time": "2021-10-20T08:34:50.061Z"
   },
   {
    "duration": 639,
    "start_time": "2021-10-20T08:34:50.699Z"
   },
   {
    "duration": 2309,
    "start_time": "2021-10-20T09:39:17.768Z"
   },
   {
    "duration": 304,
    "start_time": "2021-10-20T09:39:20.084Z"
   },
   {
    "duration": 95,
    "start_time": "2021-10-20T09:39:20.397Z"
   },
   {
    "duration": 71,
    "start_time": "2021-10-20T09:39:20.495Z"
   },
   {
    "duration": 79,
    "start_time": "2021-10-20T09:39:20.583Z"
   },
   {
    "duration": 602,
    "start_time": "2021-10-20T09:39:20.682Z"
   },
   {
    "duration": 769,
    "start_time": "2021-10-20T09:39:21.287Z"
   },
   {
    "duration": 606,
    "start_time": "2021-10-20T09:39:22.060Z"
   },
   {
    "duration": 670,
    "start_time": "2021-10-20T09:39:22.669Z"
   },
   {
    "duration": 2312,
    "start_time": "2021-10-20T09:41:46.091Z"
   },
   {
    "duration": 362,
    "start_time": "2021-10-20T09:41:48.407Z"
   },
   {
    "duration": 75,
    "start_time": "2021-10-20T09:41:48.772Z"
   },
   {
    "duration": 83,
    "start_time": "2021-10-20T09:41:48.850Z"
   },
   {
    "duration": 92,
    "start_time": "2021-10-20T09:41:48.935Z"
   },
   {
    "duration": 604,
    "start_time": "2021-10-20T09:41:49.030Z"
   },
   {
    "duration": 753,
    "start_time": "2021-10-20T09:41:49.637Z"
   },
   {
    "duration": 415,
    "start_time": "2021-10-20T09:41:50.393Z"
   },
   {
    "duration": 389,
    "start_time": "2021-10-20T09:41:50.422Z"
   },
   {
    "duration": 2280,
    "start_time": "2021-10-20T09:42:46.096Z"
   },
   {
    "duration": 327,
    "start_time": "2021-10-20T09:42:48.383Z"
   },
   {
    "duration": 88,
    "start_time": "2021-10-20T09:42:48.716Z"
   },
   {
    "duration": 80,
    "start_time": "2021-10-20T09:42:48.807Z"
   },
   {
    "duration": 96,
    "start_time": "2021-10-20T09:42:48.890Z"
   },
   {
    "duration": 612,
    "start_time": "2021-10-20T09:42:48.989Z"
   },
   {
    "duration": 726,
    "start_time": "2021-10-20T09:42:49.604Z"
   },
   {
    "duration": 637,
    "start_time": "2021-10-20T09:42:50.333Z"
   },
   {
    "duration": 635,
    "start_time": "2021-10-20T09:42:50.973Z"
   },
   {
    "duration": 2284,
    "start_time": "2021-10-20T09:46:38.040Z"
   },
   {
    "duration": 312,
    "start_time": "2021-10-20T09:46:40.326Z"
   },
   {
    "duration": 87,
    "start_time": "2021-10-20T09:46:40.641Z"
   },
   {
    "duration": 81,
    "start_time": "2021-10-20T09:46:40.731Z"
   },
   {
    "duration": 92,
    "start_time": "2021-10-20T09:46:40.815Z"
   },
   {
    "duration": 616,
    "start_time": "2021-10-20T09:46:40.909Z"
   },
   {
    "duration": 729,
    "start_time": "2021-10-20T09:46:41.528Z"
   },
   {
    "duration": 627,
    "start_time": "2021-10-20T09:46:42.259Z"
   },
   {
    "duration": 665,
    "start_time": "2021-10-20T09:46:42.889Z"
   },
   {
    "duration": 2308,
    "start_time": "2021-10-20T09:47:43.025Z"
   },
   {
    "duration": 315,
    "start_time": "2021-10-20T09:47:45.336Z"
   },
   {
    "duration": 82,
    "start_time": "2021-10-20T09:47:45.658Z"
   },
   {
    "duration": 85,
    "start_time": "2021-10-20T09:47:45.743Z"
   },
   {
    "duration": 86,
    "start_time": "2021-10-20T09:47:45.830Z"
   },
   {
    "duration": 634,
    "start_time": "2021-10-20T09:47:45.919Z"
   },
   {
    "duration": 744,
    "start_time": "2021-10-20T09:47:46.555Z"
   },
   {
    "duration": 620,
    "start_time": "2021-10-20T09:47:47.302Z"
   },
   {
    "duration": 643,
    "start_time": "2021-10-20T09:47:47.925Z"
   },
   {
    "duration": 2313,
    "start_time": "2021-10-20T09:49:03.921Z"
   },
   {
    "duration": 332,
    "start_time": "2021-10-20T09:49:06.237Z"
   },
   {
    "duration": 85,
    "start_time": "2021-10-20T09:49:06.572Z"
   },
   {
    "duration": 82,
    "start_time": "2021-10-20T09:49:06.660Z"
   },
   {
    "duration": 96,
    "start_time": "2021-10-20T09:49:06.745Z"
   },
   {
    "duration": 639,
    "start_time": "2021-10-20T09:49:06.844Z"
   },
   {
    "duration": 838,
    "start_time": "2021-10-20T09:49:07.485Z"
   },
   {
    "duration": 626,
    "start_time": "2021-10-20T09:49:08.327Z"
   },
   {
    "duration": 718,
    "start_time": "2021-10-20T09:49:08.956Z"
   },
   {
    "duration": 2301,
    "start_time": "2021-10-20T10:09:56.383Z"
   },
   {
    "duration": 302,
    "start_time": "2021-10-20T10:09:58.687Z"
   },
   {
    "duration": 67,
    "start_time": "2021-10-20T10:09:58.992Z"
   },
   {
    "duration": 84,
    "start_time": "2021-10-20T10:09:59.062Z"
   },
   {
    "duration": 98,
    "start_time": "2021-10-20T10:09:59.148Z"
   },
   {
    "duration": 627,
    "start_time": "2021-10-20T10:09:59.249Z"
   },
   {
    "duration": 741,
    "start_time": "2021-10-20T10:09:59.878Z"
   },
   {
    "duration": 626,
    "start_time": "2021-10-20T10:10:00.623Z"
   },
   {
    "duration": 736,
    "start_time": "2021-10-20T10:10:01.252Z"
   },
   {
    "duration": 526,
    "start_time": "2021-10-20T10:10:01.991Z"
   },
   {
    "duration": 2482,
    "start_time": "2021-10-20T10:10:40.453Z"
   },
   {
    "duration": 300,
    "start_time": "2021-10-20T10:10:42.938Z"
   },
   {
    "duration": 80,
    "start_time": "2021-10-20T10:10:43.241Z"
   },
   {
    "duration": 81,
    "start_time": "2021-10-20T10:10:43.324Z"
   },
   {
    "duration": 91,
    "start_time": "2021-10-20T10:10:43.407Z"
   },
   {
    "duration": 651,
    "start_time": "2021-10-20T10:10:43.501Z"
   },
   {
    "duration": 727,
    "start_time": "2021-10-20T10:10:44.154Z"
   },
   {
    "duration": 604,
    "start_time": "2021-10-20T10:10:44.884Z"
   },
   {
    "duration": 721,
    "start_time": "2021-10-20T10:10:45.491Z"
   },
   {
    "duration": 489,
    "start_time": "2021-10-20T10:10:46.214Z"
   },
   {
    "duration": 2479,
    "start_time": "2021-10-20T10:11:21.156Z"
   },
   {
    "duration": 348,
    "start_time": "2021-10-20T10:11:23.637Z"
   },
   {
    "duration": 72,
    "start_time": "2021-10-20T10:11:23.988Z"
   },
   {
    "duration": 67,
    "start_time": "2021-10-20T10:11:24.083Z"
   },
   {
    "duration": 112,
    "start_time": "2021-10-20T10:11:24.153Z"
   },
   {
    "duration": 658,
    "start_time": "2021-10-20T10:11:24.268Z"
   },
   {
    "duration": 749,
    "start_time": "2021-10-20T10:11:24.928Z"
   },
   {
    "duration": 651,
    "start_time": "2021-10-20T10:11:25.683Z"
   },
   {
    "duration": 725,
    "start_time": "2021-10-20T10:11:26.337Z"
   },
   {
    "duration": 103,
    "start_time": "2021-10-20T10:11:27.065Z"
   },
   {
    "duration": 412,
    "start_time": "2021-10-20T10:14:34.704Z"
   },
   {
    "duration": 24,
    "start_time": "2021-10-20T10:14:44.589Z"
   },
   {
    "duration": 34,
    "start_time": "2021-10-20T10:16:21.924Z"
   },
   {
    "duration": 2341,
    "start_time": "2021-10-20T10:25:41.230Z"
   },
   {
    "duration": 303,
    "start_time": "2021-10-20T10:25:43.574Z"
   },
   {
    "duration": 67,
    "start_time": "2021-10-20T10:25:43.884Z"
   },
   {
    "duration": 88,
    "start_time": "2021-10-20T10:25:43.953Z"
   },
   {
    "duration": 86,
    "start_time": "2021-10-20T10:25:44.043Z"
   },
   {
    "duration": 626,
    "start_time": "2021-10-20T10:25:44.131Z"
   },
   {
    "duration": 700,
    "start_time": "2021-10-20T10:25:44.760Z"
   },
   {
    "duration": 607,
    "start_time": "2021-10-20T10:25:45.463Z"
   },
   {
    "duration": 712,
    "start_time": "2021-10-20T10:25:46.072Z"
   },
   {
    "duration": 119,
    "start_time": "2021-10-20T10:25:46.786Z"
   },
   {
    "duration": 12,
    "start_time": "2021-10-20T10:25:46.907Z"
   },
   {
    "duration": 38,
    "start_time": "2021-10-20T10:31:10.924Z"
   },
   {
    "duration": 41,
    "start_time": "2021-10-20T10:39:38.564Z"
   },
   {
    "duration": 1811,
    "start_time": "2021-10-20T13:04:56.816Z"
   },
   {
    "duration": 222,
    "start_time": "2021-10-20T13:04:58.629Z"
   },
   {
    "duration": 53,
    "start_time": "2021-10-20T13:04:58.853Z"
   },
   {
    "duration": 64,
    "start_time": "2021-10-20T13:04:58.908Z"
   },
   {
    "duration": 58,
    "start_time": "2021-10-20T13:04:58.974Z"
   },
   {
    "duration": 388,
    "start_time": "2021-10-20T13:04:59.034Z"
   },
   {
    "duration": 456,
    "start_time": "2021-10-20T13:04:59.424Z"
   },
   {
    "duration": 405,
    "start_time": "2021-10-20T13:04:59.881Z"
   },
   {
    "duration": 437,
    "start_time": "2021-10-20T13:05:00.288Z"
   },
   {
    "duration": 120,
    "start_time": "2021-10-20T13:05:00.726Z"
   },
   {
    "duration": 40,
    "start_time": "2021-10-20T13:05:00.848Z"
   },
   {
    "duration": 30,
    "start_time": "2021-10-20T13:12:42.717Z"
   },
   {
    "duration": 42,
    "start_time": "2021-10-20T13:16:22.771Z"
   },
   {
    "duration": 4,
    "start_time": "2021-10-20T13:19:14.480Z"
   },
   {
    "duration": 316,
    "start_time": "2021-10-20T13:19:20.967Z"
   },
   {
    "duration": 16,
    "start_time": "2021-10-20T13:19:29.578Z"
   },
   {
    "duration": 29,
    "start_time": "2021-10-20T13:20:19.969Z"
   },
   {
    "duration": 2094,
    "start_time": "2021-10-21T12:03:45.331Z"
   },
   {
    "duration": 408,
    "start_time": "2021-10-21T12:05:22.694Z"
   },
   {
    "duration": 360,
    "start_time": "2021-10-21T12:05:56.033Z"
   },
   {
    "duration": 377,
    "start_time": "2021-10-21T12:06:09.541Z"
   },
   {
    "duration": 938,
    "start_time": "2021-10-21T12:07:24.035Z"
   },
   {
    "duration": 248,
    "start_time": "2021-10-21T12:10:09.263Z"
   },
   {
    "duration": 135,
    "start_time": "2021-10-21T12:10:39.309Z"
   },
   {
    "duration": 196,
    "start_time": "2021-10-21T12:11:06.542Z"
   },
   {
    "duration": 195,
    "start_time": "2021-10-21T12:11:17.925Z"
   },
   {
    "duration": 620,
    "start_time": "2021-10-21T12:12:10.987Z"
   },
   {
    "duration": 213,
    "start_time": "2021-10-21T12:12:36.878Z"
   },
   {
    "duration": 188,
    "start_time": "2021-10-21T12:13:02.933Z"
   },
   {
    "duration": 203,
    "start_time": "2021-10-21T12:13:22.103Z"
   },
   {
    "duration": 58,
    "start_time": "2021-10-21T12:22:45.118Z"
   },
   {
    "duration": 63,
    "start_time": "2021-10-21T12:22:50.910Z"
   },
   {
    "duration": 65,
    "start_time": "2021-10-21T12:23:33.097Z"
   },
   {
    "duration": 136,
    "start_time": "2021-10-21T12:24:02.170Z"
   },
   {
    "duration": 51,
    "start_time": "2021-10-21T12:24:11.114Z"
   },
   {
    "duration": 57,
    "start_time": "2021-10-21T12:24:18.801Z"
   },
   {
    "duration": 92,
    "start_time": "2021-10-21T12:25:04.973Z"
   },
   {
    "duration": 316,
    "start_time": "2021-10-22T07:39:49.903Z"
   },
   {
    "duration": 2423,
    "start_time": "2021-10-22T07:40:02.286Z"
   },
   {
    "duration": 232,
    "start_time": "2021-10-22T07:40:04.711Z"
   },
   {
    "duration": 433,
    "start_time": "2021-10-22T07:40:04.946Z"
   },
   {
    "duration": 561,
    "start_time": "2021-10-22T07:40:04.821Z"
   },
   {
    "duration": 559,
    "start_time": "2021-10-22T07:40:04.825Z"
   },
   {
    "duration": 558,
    "start_time": "2021-10-22T07:40:04.828Z"
   },
   {
    "duration": 555,
    "start_time": "2021-10-22T07:40:04.832Z"
   },
   {
    "duration": 553,
    "start_time": "2021-10-22T07:40:04.835Z"
   },
   {
    "duration": 553,
    "start_time": "2021-10-22T07:40:04.837Z"
   },
   {
    "duration": 552,
    "start_time": "2021-10-22T07:40:04.839Z"
   },
   {
    "duration": 552,
    "start_time": "2021-10-22T07:40:04.841Z"
   },
   {
    "duration": 552,
    "start_time": "2021-10-22T07:40:04.843Z"
   },
   {
    "duration": 548,
    "start_time": "2021-10-22T07:40:04.848Z"
   },
   {
    "duration": 547,
    "start_time": "2021-10-22T07:40:04.850Z"
   },
   {
    "duration": 74,
    "start_time": "2021-10-22T07:48:48.144Z"
   },
   {
    "duration": 200,
    "start_time": "2021-10-22T07:49:44.552Z"
   },
   {
    "duration": 196,
    "start_time": "2021-10-22T07:49:52.219Z"
   },
   {
    "duration": 77,
    "start_time": "2021-10-22T07:50:33.286Z"
   },
   {
    "duration": 75,
    "start_time": "2021-10-22T07:51:18.699Z"
   },
   {
    "duration": 6454,
    "start_time": "2021-10-22T07:52:08.397Z"
   },
   {
    "duration": 94,
    "start_time": "2021-10-22T07:52:29.377Z"
   },
   {
    "duration": 98,
    "start_time": "2021-10-22T07:52:49.279Z"
   },
   {
    "duration": 95,
    "start_time": "2021-10-22T07:52:57.047Z"
   },
   {
    "duration": 90,
    "start_time": "2021-10-22T07:56:45.002Z"
   },
   {
    "duration": 15,
    "start_time": "2021-10-22T07:57:22.740Z"
   },
   {
    "duration": 9,
    "start_time": "2021-10-22T07:57:42.122Z"
   },
   {
    "duration": 11,
    "start_time": "2021-10-22T07:57:57.729Z"
   },
   {
    "duration": 32,
    "start_time": "2021-10-22T07:58:13.932Z"
   },
   {
    "duration": 18,
    "start_time": "2021-10-22T07:58:52.562Z"
   },
   {
    "duration": 217,
    "start_time": "2021-10-22T07:59:26.375Z"
   },
   {
    "duration": 271,
    "start_time": "2021-10-22T07:59:48.819Z"
   },
   {
    "duration": 17,
    "start_time": "2021-10-22T08:00:30.078Z"
   },
   {
    "duration": 22,
    "start_time": "2021-10-22T08:01:28.047Z"
   },
   {
    "duration": 24,
    "start_time": "2021-10-22T08:03:57.227Z"
   },
   {
    "duration": 23,
    "start_time": "2021-10-22T08:04:23.806Z"
   },
   {
    "duration": 910,
    "start_time": "2021-10-22T08:16:38.391Z"
   },
   {
    "duration": 301,
    "start_time": "2021-10-22T08:17:43.519Z"
   },
   {
    "duration": 311,
    "start_time": "2021-10-22T08:17:49.420Z"
   },
   {
    "duration": 329,
    "start_time": "2021-10-22T08:18:07.597Z"
   },
   {
    "duration": 14,
    "start_time": "2021-10-22T08:18:14.170Z"
   },
   {
    "duration": 29,
    "start_time": "2021-10-22T08:18:37.316Z"
   },
   {
    "duration": 31,
    "start_time": "2021-10-22T08:20:17.529Z"
   },
   {
    "duration": 6651,
    "start_time": "2021-10-22T08:21:59.081Z"
   },
   {
    "duration": 257,
    "start_time": "2021-10-22T08:22:30.675Z"
   },
   {
    "duration": 1487,
    "start_time": "2021-10-22T08:22:48.792Z"
   },
   {
    "duration": 6562,
    "start_time": "2021-10-22T08:23:14.005Z"
   },
   {
    "duration": 346,
    "start_time": "2021-10-22T08:24:26.488Z"
   },
   {
    "duration": 80,
    "start_time": "2021-10-22T08:27:18.820Z"
   },
   {
    "duration": 265,
    "start_time": "2021-10-22T08:27:29.207Z"
   },
   {
    "duration": 34,
    "start_time": "2021-10-22T08:28:15.011Z"
   },
   {
    "duration": 277,
    "start_time": "2021-10-22T08:28:58.427Z"
   },
   {
    "duration": 255,
    "start_time": "2021-10-22T08:29:22.346Z"
   },
   {
    "duration": 862,
    "start_time": "2021-10-22T08:31:11.524Z"
   },
   {
    "duration": 260,
    "start_time": "2021-10-22T08:32:30.200Z"
   },
   {
    "duration": 3213,
    "start_time": "2021-10-22T08:32:35.838Z"
   },
   {
    "duration": 250,
    "start_time": "2021-10-22T08:49:39.429Z"
   },
   {
    "duration": 242,
    "start_time": "2021-10-22T08:50:08.454Z"
   },
   {
    "duration": 7,
    "start_time": "2021-10-22T08:50:24.655Z"
   },
   {
    "duration": 10,
    "start_time": "2021-10-22T08:50:53.515Z"
   },
   {
    "duration": 16,
    "start_time": "2021-10-22T08:51:00.737Z"
   },
   {
    "duration": 16,
    "start_time": "2021-10-22T08:51:16.097Z"
   },
   {
    "duration": 18,
    "start_time": "2021-10-22T08:51:21.521Z"
   },
   {
    "duration": 20,
    "start_time": "2021-10-22T08:51:41.231Z"
   },
   {
    "duration": 18,
    "start_time": "2021-10-22T08:51:51.085Z"
   },
   {
    "duration": 238,
    "start_time": "2021-10-22T08:52:43.843Z"
   },
   {
    "duration": 21,
    "start_time": "2021-10-22T08:52:55.674Z"
   },
   {
    "duration": 739,
    "start_time": "2021-10-22T08:53:44.687Z"
   },
   {
    "duration": 22,
    "start_time": "2021-10-22T08:54:28.487Z"
   },
   {
    "duration": 5964,
    "start_time": "2021-10-22T08:54:41.057Z"
   },
   {
    "duration": 6409,
    "start_time": "2021-10-22T08:55:02.642Z"
   },
   {
    "duration": 2417,
    "start_time": "2021-10-22T08:55:11.020Z"
   },
   {
    "duration": 243,
    "start_time": "2021-10-22T08:55:13.440Z"
   },
   {
    "duration": 82,
    "start_time": "2021-10-22T08:55:13.686Z"
   },
   {
    "duration": 69,
    "start_time": "2021-10-22T08:55:13.771Z"
   },
   {
    "duration": 92,
    "start_time": "2021-10-22T08:55:13.843Z"
   },
   {
    "duration": 3158,
    "start_time": "2021-10-22T08:55:13.938Z"
   },
   {
    "duration": 24,
    "start_time": "2021-10-22T08:55:17.099Z"
   },
   {
    "duration": 41,
    "start_time": "2021-10-22T08:55:17.127Z"
   },
   {
    "duration": 749,
    "start_time": "2021-10-22T08:55:17.171Z"
   },
   {
    "duration": 730,
    "start_time": "2021-10-22T08:55:17.923Z"
   },
   {
    "duration": 852,
    "start_time": "2021-10-22T08:55:18.655Z"
   },
   {
    "duration": 400,
    "start_time": "2021-10-22T08:55:19.509Z"
   },
   {
    "duration": 638,
    "start_time": "2021-10-22T08:55:19.274Z"
   },
   {
    "duration": 638,
    "start_time": "2021-10-22T08:55:19.275Z"
   },
   {
    "duration": 2476,
    "start_time": "2021-10-22T08:58:52.622Z"
   },
   {
    "duration": 238,
    "start_time": "2021-10-22T08:58:55.100Z"
   },
   {
    "duration": 81,
    "start_time": "2021-10-22T08:58:55.341Z"
   },
   {
    "duration": 89,
    "start_time": "2021-10-22T08:58:55.425Z"
   },
   {
    "duration": 92,
    "start_time": "2021-10-22T08:58:55.516Z"
   },
   {
    "duration": 6345,
    "start_time": "2021-10-22T08:58:55.611Z"
   },
   {
    "duration": 30,
    "start_time": "2021-10-22T08:59:01.959Z"
   },
   {
    "duration": 22,
    "start_time": "2021-10-22T08:59:01.994Z"
   },
   {
    "duration": 972,
    "start_time": "2021-10-22T08:59:02.019Z"
   },
   {
    "duration": 759,
    "start_time": "2021-10-22T08:59:02.994Z"
   },
   {
    "duration": 826,
    "start_time": "2021-10-22T08:59:03.755Z"
   },
   {
    "duration": 407,
    "start_time": "2021-10-22T08:59:04.583Z"
   },
   {
    "duration": 628,
    "start_time": "2021-10-22T08:59:04.365Z"
   },
   {
    "duration": 628,
    "start_time": "2021-10-22T08:59:04.367Z"
   },
   {
    "duration": 299,
    "start_time": "2021-10-22T09:08:15.846Z"
   },
   {
    "duration": 277,
    "start_time": "2021-10-22T09:08:30.929Z"
   },
   {
    "duration": 2399,
    "start_time": "2021-10-22T09:08:38.791Z"
   },
   {
    "duration": 228,
    "start_time": "2021-10-22T09:08:41.193Z"
   },
   {
    "duration": 81,
    "start_time": "2021-10-22T09:08:41.424Z"
   },
   {
    "duration": 89,
    "start_time": "2021-10-22T09:08:41.508Z"
   },
   {
    "duration": 94,
    "start_time": "2021-10-22T09:08:41.600Z"
   },
   {
    "duration": 6357,
    "start_time": "2021-10-22T09:08:41.696Z"
   },
   {
    "duration": 32,
    "start_time": "2021-10-22T09:08:48.056Z"
   },
   {
    "duration": 23,
    "start_time": "2021-10-22T09:08:48.090Z"
   },
   {
    "duration": 825,
    "start_time": "2021-10-22T09:08:48.116Z"
   },
   {
    "duration": 670,
    "start_time": "2021-10-22T09:08:48.944Z"
   },
   {
    "duration": 820,
    "start_time": "2021-10-22T09:08:49.617Z"
   },
   {
    "duration": 405,
    "start_time": "2021-10-22T09:08:50.439Z"
   },
   {
    "duration": 605,
    "start_time": "2021-10-22T09:08:50.242Z"
   },
   {
    "duration": 600,
    "start_time": "2021-10-22T09:08:50.249Z"
   },
   {
    "duration": 2418,
    "start_time": "2021-10-22T10:16:17.085Z"
   },
   {
    "duration": 242,
    "start_time": "2021-10-22T10:16:19.506Z"
   },
   {
    "duration": 71,
    "start_time": "2021-10-22T10:16:19.767Z"
   },
   {
    "duration": 87,
    "start_time": "2021-10-22T10:16:19.840Z"
   },
   {
    "duration": 94,
    "start_time": "2021-10-22T10:16:19.930Z"
   },
   {
    "duration": 6296,
    "start_time": "2021-10-22T10:16:20.027Z"
   },
   {
    "duration": 73,
    "start_time": "2021-10-22T10:16:26.327Z"
   },
   {
    "duration": 695,
    "start_time": "2021-10-22T10:16:25.708Z"
   },
   {
    "duration": 693,
    "start_time": "2021-10-22T10:16:25.711Z"
   },
   {
    "duration": 693,
    "start_time": "2021-10-22T10:16:25.712Z"
   },
   {
    "duration": 692,
    "start_time": "2021-10-22T10:16:25.715Z"
   },
   {
    "duration": 690,
    "start_time": "2021-10-22T10:16:25.718Z"
   },
   {
    "duration": 690,
    "start_time": "2021-10-22T10:16:25.720Z"
   },
   {
    "duration": 690,
    "start_time": "2021-10-22T10:16:25.722Z"
   },
   {
    "duration": 142,
    "start_time": "2021-10-22T10:19:28.534Z"
   },
   {
    "duration": 2497,
    "start_time": "2021-10-22T10:20:06.506Z"
   },
   {
    "duration": 236,
    "start_time": "2021-10-22T10:20:09.006Z"
   },
   {
    "duration": 80,
    "start_time": "2021-10-22T10:20:09.245Z"
   },
   {
    "duration": 88,
    "start_time": "2021-10-22T10:20:09.327Z"
   },
   {
    "duration": 92,
    "start_time": "2021-10-22T10:20:09.418Z"
   },
   {
    "duration": 6412,
    "start_time": "2021-10-22T10:20:09.512Z"
   },
   {
    "duration": 75,
    "start_time": "2021-10-22T10:20:15.927Z"
   },
   {
    "duration": 684,
    "start_time": "2021-10-22T10:20:15.321Z"
   },
   {
    "duration": 683,
    "start_time": "2021-10-22T10:20:15.323Z"
   },
   {
    "duration": 684,
    "start_time": "2021-10-22T10:20:15.324Z"
   },
   {
    "duration": 682,
    "start_time": "2021-10-22T10:20:15.327Z"
   },
   {
    "duration": 683,
    "start_time": "2021-10-22T10:20:15.328Z"
   },
   {
    "duration": 683,
    "start_time": "2021-10-22T10:20:15.330Z"
   },
   {
    "duration": 681,
    "start_time": "2021-10-22T10:20:15.333Z"
   },
   {
    "duration": 91,
    "start_time": "2021-10-22T10:22:10.252Z"
   },
   {
    "duration": 106,
    "start_time": "2021-10-22T10:23:18.563Z"
   },
   {
    "duration": 317,
    "start_time": "2021-10-22T10:24:16.996Z"
   },
   {
    "duration": 93,
    "start_time": "2021-10-22T10:24:32.807Z"
   },
   {
    "duration": 95,
    "start_time": "2021-10-22T10:24:36.953Z"
   },
   {
    "duration": 106,
    "start_time": "2021-10-22T10:24:41.203Z"
   },
   {
    "duration": 90,
    "start_time": "2021-10-22T10:25:12.729Z"
   },
   {
    "duration": 110,
    "start_time": "2021-10-22T10:26:54.991Z"
   },
   {
    "duration": 88,
    "start_time": "2021-10-22T10:28:08.898Z"
   },
   {
    "duration": 92,
    "start_time": "2021-10-22T10:28:20.776Z"
   },
   {
    "duration": 93,
    "start_time": "2021-10-22T10:28:25.825Z"
   },
   {
    "duration": 78,
    "start_time": "2021-10-22T10:28:58.152Z"
   },
   {
    "duration": 2490,
    "start_time": "2021-10-22T10:29:47.828Z"
   },
   {
    "duration": 338,
    "start_time": "2021-10-22T10:29:50.321Z"
   },
   {
    "duration": 70,
    "start_time": "2021-10-22T10:29:50.662Z"
   },
   {
    "duration": 89,
    "start_time": "2021-10-22T10:29:50.735Z"
   },
   {
    "duration": 97,
    "start_time": "2021-10-22T10:29:50.827Z"
   },
   {
    "duration": 6256,
    "start_time": "2021-10-22T10:29:50.926Z"
   },
   {
    "duration": 73,
    "start_time": "2021-10-22T10:29:57.184Z"
   },
   {
    "duration": 709,
    "start_time": "2021-10-22T10:29:56.551Z"
   },
   {
    "duration": 709,
    "start_time": "2021-10-22T10:29:56.553Z"
   },
   {
    "duration": 705,
    "start_time": "2021-10-22T10:29:56.558Z"
   },
   {
    "duration": 704,
    "start_time": "2021-10-22T10:29:56.560Z"
   },
   {
    "duration": 701,
    "start_time": "2021-10-22T10:29:56.565Z"
   },
   {
    "duration": 700,
    "start_time": "2021-10-22T10:29:56.567Z"
   },
   {
    "duration": 698,
    "start_time": "2021-10-22T10:29:56.570Z"
   },
   {
    "duration": 97,
    "start_time": "2021-10-22T10:33:26.333Z"
   },
   {
    "duration": 88,
    "start_time": "2021-10-22T10:36:48.975Z"
   },
   {
    "duration": 103,
    "start_time": "2021-10-22T10:38:01.178Z"
   },
   {
    "duration": 91,
    "start_time": "2021-10-22T10:38:06.862Z"
   },
   {
    "duration": 93,
    "start_time": "2021-10-22T10:38:14.865Z"
   },
   {
    "duration": 13,
    "start_time": "2021-10-22T11:24:11.383Z"
   },
   {
    "duration": 114,
    "start_time": "2021-10-22T11:24:14.386Z"
   },
   {
    "duration": 127,
    "start_time": "2021-10-22T11:27:54.803Z"
   },
   {
    "duration": 406,
    "start_time": "2021-10-22T11:28:15.744Z"
   },
   {
    "duration": 123,
    "start_time": "2021-10-22T11:28:39.084Z"
   },
   {
    "duration": 123,
    "start_time": "2021-10-22T11:28:50.512Z"
   },
   {
    "duration": 139,
    "start_time": "2021-10-22T11:29:06.427Z"
   },
   {
    "duration": 126,
    "start_time": "2021-10-22T11:30:24.657Z"
   },
   {
    "duration": 148,
    "start_time": "2021-10-22T11:30:59.871Z"
   },
   {
    "duration": 547,
    "start_time": "2021-10-22T11:32:20.352Z"
   },
   {
    "duration": 2453,
    "start_time": "2021-10-22T11:32:31.054Z"
   },
   {
    "duration": 239,
    "start_time": "2021-10-22T11:32:33.510Z"
   },
   {
    "duration": 79,
    "start_time": "2021-10-22T11:32:33.755Z"
   },
   {
    "duration": 93,
    "start_time": "2021-10-22T11:32:33.836Z"
   },
   {
    "duration": 90,
    "start_time": "2021-10-22T11:32:33.931Z"
   },
   {
    "duration": 6472,
    "start_time": "2021-10-22T11:32:34.023Z"
   },
   {
    "duration": 11,
    "start_time": "2021-10-22T11:32:40.497Z"
   },
   {
    "duration": 93,
    "start_time": "2021-10-22T11:32:40.512Z"
   },
   {
    "duration": 752,
    "start_time": "2021-10-22T11:32:39.855Z"
   },
   {
    "duration": 750,
    "start_time": "2021-10-22T11:32:39.859Z"
   },
   {
    "duration": 748,
    "start_time": "2021-10-22T11:32:39.863Z"
   },
   {
    "duration": 749,
    "start_time": "2021-10-22T11:32:39.865Z"
   },
   {
    "duration": 745,
    "start_time": "2021-10-22T11:32:39.870Z"
   },
   {
    "duration": 741,
    "start_time": "2021-10-22T11:32:39.875Z"
   },
   {
    "duration": 739,
    "start_time": "2021-10-22T11:32:39.878Z"
   },
   {
    "duration": 2581,
    "start_time": "2021-10-22T11:35:17.327Z"
   },
   {
    "duration": 242,
    "start_time": "2021-10-22T11:35:19.911Z"
   },
   {
    "duration": 79,
    "start_time": "2021-10-22T11:35:20.157Z"
   },
   {
    "duration": 89,
    "start_time": "2021-10-22T11:35:20.238Z"
   },
   {
    "duration": 90,
    "start_time": "2021-10-22T11:35:20.330Z"
   },
   {
    "duration": 6220,
    "start_time": "2021-10-22T11:35:20.423Z"
   },
   {
    "duration": 32,
    "start_time": "2021-10-22T11:35:26.645Z"
   },
   {
    "duration": 333,
    "start_time": "2021-10-22T11:35:26.680Z"
   },
   {
    "duration": 758,
    "start_time": "2021-10-22T11:35:26.259Z"
   },
   {
    "duration": 758,
    "start_time": "2021-10-22T11:35:26.261Z"
   },
   {
    "duration": 758,
    "start_time": "2021-10-22T11:35:26.263Z"
   },
   {
    "duration": 753,
    "start_time": "2021-10-22T11:35:26.270Z"
   },
   {
    "duration": 752,
    "start_time": "2021-10-22T11:35:26.273Z"
   },
   {
    "duration": 752,
    "start_time": "2021-10-22T11:35:26.275Z"
   },
   {
    "duration": 753,
    "start_time": "2021-10-22T11:35:26.276Z"
   },
   {
    "duration": 125,
    "start_time": "2021-10-22T11:36:17.648Z"
   },
   {
    "duration": 765,
    "start_time": "2021-10-22T11:36:49.211Z"
   },
   {
    "duration": 2394,
    "start_time": "2021-10-22T11:36:54.987Z"
   },
   {
    "duration": 246,
    "start_time": "2021-10-22T11:36:57.384Z"
   },
   {
    "duration": 80,
    "start_time": "2021-10-22T11:36:57.633Z"
   },
   {
    "duration": 85,
    "start_time": "2021-10-22T11:36:57.716Z"
   },
   {
    "duration": 93,
    "start_time": "2021-10-22T11:36:57.803Z"
   },
   {
    "duration": 6213,
    "start_time": "2021-10-22T11:36:57.898Z"
   },
   {
    "duration": 21,
    "start_time": "2021-10-22T11:37:04.114Z"
   },
   {
    "duration": 89,
    "start_time": "2021-10-22T11:37:04.138Z"
   },
   {
    "duration": 768,
    "start_time": "2021-10-22T11:37:03.462Z"
   },
   {
    "duration": 767,
    "start_time": "2021-10-22T11:37:03.464Z"
   },
   {
    "duration": 767,
    "start_time": "2021-10-22T11:37:03.466Z"
   },
   {
    "duration": 767,
    "start_time": "2021-10-22T11:37:03.467Z"
   },
   {
    "duration": 765,
    "start_time": "2021-10-22T11:37:03.470Z"
   },
   {
    "duration": 764,
    "start_time": "2021-10-22T11:37:03.472Z"
   },
   {
    "duration": 765,
    "start_time": "2021-10-22T11:37:03.473Z"
   },
   {
    "duration": 131,
    "start_time": "2021-10-22T11:37:43.081Z"
   },
   {
    "duration": 6168,
    "start_time": "2021-10-22T11:39:21.942Z"
   },
   {
    "duration": 5741,
    "start_time": "2021-10-22T11:39:47.448Z"
   },
   {
    "duration": 2597,
    "start_time": "2021-10-22T11:39:59.531Z"
   },
   {
    "duration": 249,
    "start_time": "2021-10-22T11:40:02.130Z"
   },
   {
    "duration": 87,
    "start_time": "2021-10-22T11:40:02.382Z"
   },
   {
    "duration": 77,
    "start_time": "2021-10-22T11:40:02.471Z"
   },
   {
    "duration": 89,
    "start_time": "2021-10-22T11:40:02.551Z"
   },
   {
    "duration": 6605,
    "start_time": "2021-10-22T11:40:02.643Z"
   },
   {
    "duration": 35,
    "start_time": "2021-10-22T11:40:09.250Z"
   },
   {
    "duration": 6208,
    "start_time": "2021-10-22T11:40:09.289Z"
   },
   {
    "duration": 756,
    "start_time": "2021-10-22T11:40:14.743Z"
   },
   {
    "duration": 749,
    "start_time": "2021-10-22T11:40:14.752Z"
   },
   {
    "duration": 745,
    "start_time": "2021-10-22T11:40:14.757Z"
   },
   {
    "duration": 744,
    "start_time": "2021-10-22T11:40:14.759Z"
   },
   {
    "duration": 743,
    "start_time": "2021-10-22T11:40:14.761Z"
   },
   {
    "duration": 744,
    "start_time": "2021-10-22T11:40:14.762Z"
   },
   {
    "duration": 743,
    "start_time": "2021-10-22T11:40:14.764Z"
   },
   {
    "duration": 96,
    "start_time": "2021-10-22T11:41:01.431Z"
   },
   {
    "duration": 69,
    "start_time": "2021-10-22T11:41:21.209Z"
   },
   {
    "duration": 2435,
    "start_time": "2021-10-22T11:41:30.280Z"
   },
   {
    "duration": 237,
    "start_time": "2021-10-22T11:41:32.718Z"
   },
   {
    "duration": 74,
    "start_time": "2021-10-22T11:41:32.958Z"
   },
   {
    "duration": 94,
    "start_time": "2021-10-22T11:41:33.034Z"
   },
   {
    "duration": 89,
    "start_time": "2021-10-22T11:41:33.130Z"
   },
   {
    "duration": 6396,
    "start_time": "2021-10-22T11:41:33.221Z"
   },
   {
    "duration": 21,
    "start_time": "2021-10-22T11:41:39.621Z"
   },
   {
    "duration": 117,
    "start_time": "2021-10-22T11:41:39.645Z"
   },
   {
    "duration": 768,
    "start_time": "2021-10-22T11:41:38.996Z"
   },
   {
    "duration": 762,
    "start_time": "2021-10-22T11:41:39.003Z"
   },
   {
    "duration": 761,
    "start_time": "2021-10-22T11:41:39.006Z"
   },
   {
    "duration": 760,
    "start_time": "2021-10-22T11:41:39.008Z"
   },
   {
    "duration": 760,
    "start_time": "2021-10-22T11:41:39.009Z"
   },
   {
    "duration": 756,
    "start_time": "2021-10-22T11:41:39.015Z"
   },
   {
    "duration": 754,
    "start_time": "2021-10-22T11:41:39.018Z"
   },
   {
    "duration": 96,
    "start_time": "2021-10-22T11:41:52.132Z"
   },
   {
    "duration": 103,
    "start_time": "2021-10-22T11:42:08.561Z"
   },
   {
    "duration": 82,
    "start_time": "2021-10-22T11:42:41.360Z"
   },
   {
    "duration": 584,
    "start_time": "2021-10-22T11:42:56.001Z"
   },
   {
    "duration": 623,
    "start_time": "2021-10-22T11:43:12.733Z"
   },
   {
    "duration": 121,
    "start_time": "2021-10-22T11:43:40.088Z"
   },
   {
    "duration": 605,
    "start_time": "2021-10-22T11:43:51.470Z"
   },
   {
    "duration": 645,
    "start_time": "2021-10-22T11:44:07.013Z"
   },
   {
    "duration": 89,
    "start_time": "2021-10-22T11:45:02.833Z"
   },
   {
    "duration": 94,
    "start_time": "2021-10-22T11:45:28.235Z"
   },
   {
    "duration": 90,
    "start_time": "2021-10-22T11:46:06.383Z"
   },
   {
    "duration": 1096,
    "start_time": "2021-10-22T11:47:32.124Z"
   },
   {
    "duration": 649,
    "start_time": "2021-10-22T12:18:54.200Z"
   },
   {
    "duration": 396,
    "start_time": "2021-10-22T12:19:20.309Z"
   },
   {
    "duration": 1021,
    "start_time": "2021-10-22T12:19:55.924Z"
   },
   {
    "duration": 96,
    "start_time": "2021-10-22T12:20:02.404Z"
   },
   {
    "duration": 33,
    "start_time": "2021-10-22T12:20:51.315Z"
   },
   {
    "duration": 49,
    "start_time": "2021-10-22T12:24:23.412Z"
   },
   {
    "duration": 335,
    "start_time": "2021-10-22T12:27:57.110Z"
   },
   {
    "duration": 533,
    "start_time": "2021-10-22T12:29:38.666Z"
   },
   {
    "duration": 471,
    "start_time": "2021-10-22T12:30:48.201Z"
   },
   {
    "duration": 323,
    "start_time": "2021-10-22T12:35:29.313Z"
   },
   {
    "duration": 314,
    "start_time": "2021-10-22T12:35:54.299Z"
   },
   {
    "duration": 282,
    "start_time": "2021-10-22T12:36:18.314Z"
   },
   {
    "duration": 256,
    "start_time": "2021-10-22T12:36:24.476Z"
   },
   {
    "duration": 319,
    "start_time": "2021-10-22T12:36:31.136Z"
   },
   {
    "duration": 329,
    "start_time": "2021-10-22T12:36:36.806Z"
   },
   {
    "duration": 347,
    "start_time": "2021-10-22T12:36:55.023Z"
   },
   {
    "duration": 349,
    "start_time": "2021-10-22T12:37:14.476Z"
   },
   {
    "duration": 351,
    "start_time": "2021-10-22T12:37:23.734Z"
   },
   {
    "duration": 360,
    "start_time": "2021-10-22T12:39:34.661Z"
   },
   {
    "duration": 390,
    "start_time": "2021-10-22T12:43:26.074Z"
   },
   {
    "duration": 103,
    "start_time": "2021-10-22T12:43:37.330Z"
   },
   {
    "duration": 344,
    "start_time": "2021-10-22T12:43:43.601Z"
   },
   {
    "duration": 607,
    "start_time": "2021-10-22T12:44:02.518Z"
   },
   {
    "duration": 546,
    "start_time": "2021-10-22T12:44:15.161Z"
   },
   {
    "duration": 367,
    "start_time": "2021-10-22T12:46:35.284Z"
   },
   {
    "duration": 356,
    "start_time": "2021-10-22T12:46:44.583Z"
   },
   {
    "duration": 1019,
    "start_time": "2021-10-22T12:50:34.331Z"
   },
   {
    "duration": 657,
    "start_time": "2021-10-22T12:51:38.476Z"
   },
   {
    "duration": 594,
    "start_time": "2021-10-22T12:52:14.173Z"
   },
   {
    "duration": 758,
    "start_time": "2021-10-22T12:52:26.009Z"
   },
   {
    "duration": 788,
    "start_time": "2021-10-22T12:53:26.020Z"
   },
   {
    "duration": 883,
    "start_time": "2021-10-22T12:53:42.475Z"
   },
   {
    "duration": 836,
    "start_time": "2021-10-22T12:53:52.622Z"
   },
   {
    "duration": 818,
    "start_time": "2021-10-22T12:54:03.467Z"
   },
   {
    "duration": 807,
    "start_time": "2021-10-22T12:54:09.329Z"
   },
   {
    "duration": 774,
    "start_time": "2021-10-22T12:54:52.633Z"
   },
   {
    "duration": 930,
    "start_time": "2021-10-22T12:55:42.067Z"
   },
   {
    "duration": 895,
    "start_time": "2021-10-22T12:56:36.372Z"
   },
   {
    "duration": 798,
    "start_time": "2021-10-22T12:57:47.627Z"
   },
   {
    "duration": 804,
    "start_time": "2021-10-22T12:59:10.114Z"
   },
   {
    "duration": 978,
    "start_time": "2021-10-22T12:59:24.418Z"
   },
   {
    "duration": 911,
    "start_time": "2021-10-22T13:00:13.569Z"
   },
   {
    "duration": 901,
    "start_time": "2021-10-22T13:00:49.811Z"
   },
   {
    "duration": 897,
    "start_time": "2021-10-22T13:03:06.036Z"
   },
   {
    "duration": 787,
    "start_time": "2021-10-22T13:10:05.331Z"
   },
   {
    "duration": 241,
    "start_time": "2021-10-22T13:11:22.181Z"
   },
   {
    "duration": 941,
    "start_time": "2021-10-22T13:11:34.281Z"
   },
   {
    "duration": 769,
    "start_time": "2021-10-22T13:18:37.814Z"
   },
   {
    "duration": 764,
    "start_time": "2021-10-22T13:18:45.904Z"
   },
   {
    "duration": 2396,
    "start_time": "2021-10-22T13:25:55.204Z"
   },
   {
    "duration": 240,
    "start_time": "2021-10-22T13:25:57.603Z"
   },
   {
    "duration": 81,
    "start_time": "2021-10-22T13:25:57.847Z"
   },
   {
    "duration": 93,
    "start_time": "2021-10-22T13:25:57.931Z"
   },
   {
    "duration": 96,
    "start_time": "2021-10-22T13:25:58.027Z"
   },
   {
    "duration": 6413,
    "start_time": "2021-10-22T13:25:58.125Z"
   },
   {
    "duration": 37,
    "start_time": "2021-10-22T13:26:04.540Z"
   },
   {
    "duration": 1068,
    "start_time": "2021-10-22T13:26:04.580Z"
   },
   {
    "duration": 825,
    "start_time": "2021-10-22T13:26:05.650Z"
   },
   {
    "duration": 892,
    "start_time": "2021-10-22T13:26:06.477Z"
   },
   {
    "duration": 952,
    "start_time": "2021-10-22T13:26:07.371Z"
   },
   {
    "duration": 991,
    "start_time": "2021-10-22T13:26:08.325Z"
   },
   {
    "duration": 408,
    "start_time": "2021-10-22T13:26:09.319Z"
   },
   {
    "duration": 832,
    "start_time": "2021-10-22T13:26:08.898Z"
   },
   {
    "duration": 54,
    "start_time": "2021-10-22T13:26:39.173Z"
   },
   {
    "duration": 50,
    "start_time": "2021-10-22T13:27:35.845Z"
   },
   {
    "duration": 2044,
    "start_time": "2021-10-23T06:58:38.183Z"
   },
   {
    "duration": 172,
    "start_time": "2021-10-23T06:58:40.230Z"
   },
   {
    "duration": 69,
    "start_time": "2021-10-23T06:58:40.404Z"
   },
   {
    "duration": 54,
    "start_time": "2021-10-23T06:58:40.475Z"
   },
   {
    "duration": 81,
    "start_time": "2021-10-23T06:58:40.531Z"
   },
   {
    "duration": 3779,
    "start_time": "2021-10-23T06:58:40.614Z"
   },
   {
    "duration": 16,
    "start_time": "2021-10-23T06:58:44.394Z"
   },
   {
    "duration": 541,
    "start_time": "2021-10-23T06:58:44.413Z"
   },
   {
    "duration": 527,
    "start_time": "2021-10-23T06:58:44.956Z"
   },
   {
    "duration": 701,
    "start_time": "2021-10-23T06:58:45.485Z"
   },
   {
    "duration": 565,
    "start_time": "2021-10-23T06:58:46.188Z"
   },
   {
    "duration": 495,
    "start_time": "2021-10-23T06:58:46.755Z"
   },
   {
    "duration": 36,
    "start_time": "2021-10-23T06:58:47.252Z"
   },
   {
    "duration": 31,
    "start_time": "2021-10-23T06:58:47.290Z"
   },
   {
    "duration": 22,
    "start_time": "2021-10-23T07:00:39.912Z"
   }
  ],
  "kernelspec": {
   "display_name": "Python 3 (ipykernel)",
   "language": "python",
   "name": "python3"
  },
  "language_info": {
   "codemirror_mode": {
    "name": "ipython",
    "version": 3
   },
   "file_extension": ".py",
   "mimetype": "text/x-python",
   "name": "python",
   "nbconvert_exporter": "python",
   "pygments_lexer": "ipython3",
   "version": "3.8.12"
  },
  "toc": {
   "base_numbering": 1,
   "nav_menu": {},
   "number_sections": true,
   "sideBar": true,
   "skip_h1_title": true,
   "title_cell": "Table of Contents",
   "title_sidebar": "Contents",
   "toc_cell": false,
   "toc_position": {
    "height": "calc(100% - 180px)",
    "left": "10px",
    "top": "150px",
    "width": "165px"
   },
   "toc_section_display": true,
   "toc_window_display": false
  }
 },
 "nbformat": 4,
 "nbformat_minor": 2
}
