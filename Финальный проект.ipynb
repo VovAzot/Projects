{
 "cells": [
  {
   "cell_type": "code",
   "execution_count": 8,
   "id": "bc32a441",
   "metadata": {
    "scrolled": true
   },
   "outputs": [
    {
     "name": "stdout",
     "output_type": "stream",
     "text": [
      "<class 'pandas.core.frame.DataFrame'>\n",
      "RangeIndex: 7043 entries, 0 to 7042\n",
      "Data columns (total 8 columns):\n",
      " #   Column            Non-Null Count  Dtype  \n",
      "---  ------            --------------  -----  \n",
      " 0   customerID        7043 non-null   object \n",
      " 1   BeginDate         7043 non-null   object \n",
      " 2   EndDate           7043 non-null   object \n",
      " 3   Type              7043 non-null   object \n",
      " 4   PaperlessBilling  7043 non-null   object \n",
      " 5   PaymentMethod     7043 non-null   object \n",
      " 6   MonthlyCharges    7043 non-null   float64\n",
      " 7   TotalCharges      7043 non-null   object \n",
      "dtypes: float64(1), object(7)\n",
      "memory usage: 440.3+ KB\n"
     ]
    },
    {
     "data": {
      "application/vnd.jupyter.widget-view+json": {
       "model_id": "6d484745249843dcbb931bc51a147954",
       "version_major": 2,
       "version_minor": 0
      },
      "text/plain": [
       "                                             |          | [  0%]   00:00 -> (? left)"
      ]
     },
     "metadata": {},
     "output_type": "display_data"
    }
   ],
   "source": [
    "import sweetviz as sv\n",
    "import pandas as pd\n",
    "df_con = pd.read_csv('C:/Users/VovAz/Desktop/Проект/Финальный проект/contract.csv')\n",
    "\n",
    "df_con.info()\n",
    "df_con['TotalCharges'] = pd.to_numeric(df_con['TotalCharges'], errors='coerce')\n",
    "report_con = sv.analyze([df_con, \"contract\"])\n"
   ]
  },
  {
   "cell_type": "code",
   "execution_count": 7,
   "id": "3c84cc42",
   "metadata": {},
   "outputs": [
    {
     "name": "stdout",
     "output_type": "stream",
     "text": [
      "Report SWEETVIZ_REPORT.html was generated! NOTEBOOK/COLAB USERS: the web browser MAY not pop up, regardless, the report IS saved in your notebook/colab files.\n"
     ]
    }
   ],
   "source": [
    "report_con.show_html()"
   ]
  },
  {
   "cell_type": "markdown",
   "id": "fc945b19",
   "metadata": {},
   "source": [
    "Изучили данные по контрактам. 4 категориальных столбца, 2 столбца с датами в формате obj, нужно заменить на формат DateTime.Формат столбца TotalCharges - obj, требуется изменение формата на float. Пропусков и дубликатов нет. В стобце EndDate 5 уникальных значений, 73% значений - no, что может означать, что данные клиенты активны. В столбце MonthlyCharges изучили значения минимальных и максимальных значений, значение дисперсии, стандартного отклонения, данные сбаланисрованы, с пологими пиками и хвостом, направленным к отрицательным значениям.\n",
    "\\n\n",
    "В столбце TotalCharges после замены формата были утеряны 11 значений, изучили значения минимальных и максимальных значений, значение дисперсии, стандартного отклонения,, данные в нем сбалансированы, сильных выбросов нет, с пологими пиками и хвостом, направленным к положительным значениям."
   ]
  },
  {
   "cell_type": "code",
   "execution_count": 3,
   "id": "6d7b83fe",
   "metadata": {},
   "outputs": [
    {
     "data": {
      "application/vnd.jupyter.widget-view+json": {
       "model_id": "d83de5cb280842c7b248e716e4d9dfdb",
       "version_major": 2,
       "version_minor": 0
      },
      "text/plain": [
       "                                             |          | [  0%]   00:00 -> (? left)"
      ]
     },
     "metadata": {},
     "output_type": "display_data"
    },
    {
     "name": "stdout",
     "output_type": "stream",
     "text": [
      "Report SWEETVIZ_REPORT.html was generated! NOTEBOOK/COLAB USERS: the web browser MAY not pop up, regardless, the report IS saved in your notebook/colab files.\n",
      "<class 'pandas.core.frame.DataFrame'>\n",
      "RangeIndex: 5517 entries, 0 to 5516\n",
      "Data columns (total 8 columns):\n",
      " #   Column            Non-Null Count  Dtype \n",
      "---  ------            --------------  ----- \n",
      " 0   customerID        5517 non-null   object\n",
      " 1   InternetService   5517 non-null   object\n",
      " 2   OnlineSecurity    5517 non-null   object\n",
      " 3   OnlineBackup      5517 non-null   object\n",
      " 4   DeviceProtection  5517 non-null   object\n",
      " 5   TechSupport       5517 non-null   object\n",
      " 6   StreamingTV       5517 non-null   object\n",
      " 7   StreamingMovies   5517 non-null   object\n",
      "dtypes: object(8)\n",
      "memory usage: 344.9+ KB\n"
     ]
    }
   ],
   "source": [
    "df_int = pd.read_csv('C:/Users/VovAz/Desktop/Проект/Финальный проект/internet.csv')\n",
    "report_int = sv.analyze([df_int, \"internet\"])\n",
    "report_int.show_html()\n",
    "df_int.info()"
   ]
  },
  {
   "cell_type": "markdown",
   "id": "85db94bf",
   "metadata": {},
   "source": [
    "Данные с интернет пользователями содержат категориальные значения, пропусков и дубликатов нет, требуется только обработка с помощью ohe."
   ]
  },
  {
   "cell_type": "code",
   "execution_count": 4,
   "id": "78cd9be4",
   "metadata": {},
   "outputs": [
    {
     "data": {
      "application/vnd.jupyter.widget-view+json": {
       "model_id": "49a73fa32a0745858aeca36930173425",
       "version_major": 2,
       "version_minor": 0
      },
      "text/plain": [
       "                                             |          | [  0%]   00:00 -> (? left)"
      ]
     },
     "metadata": {},
     "output_type": "display_data"
    },
    {
     "name": "stdout",
     "output_type": "stream",
     "text": [
      "Report SWEETVIZ_REPORT.html was generated! NOTEBOOK/COLAB USERS: the web browser MAY not pop up, regardless, the report IS saved in your notebook/colab files.\n",
      "<class 'pandas.core.frame.DataFrame'>\n",
      "RangeIndex: 7043 entries, 0 to 7042\n",
      "Data columns (total 5 columns):\n",
      " #   Column         Non-Null Count  Dtype \n",
      "---  ------         --------------  ----- \n",
      " 0   customerID     7043 non-null   object\n",
      " 1   gender         7043 non-null   object\n",
      " 2   SeniorCitizen  7043 non-null   int64 \n",
      " 3   Partner        7043 non-null   object\n",
      " 4   Dependents     7043 non-null   object\n",
      "dtypes: int64(1), object(4)\n",
      "memory usage: 275.2+ KB\n"
     ]
    }
   ],
   "source": [
    "df_pers = pd.read_csv('C:/Users/VovAz/Desktop/Проект/Финальный проект/personal.csv')\n",
    "report_pers = sv.analyze([df_pers, \"personal\"])\n",
    "report_pers.show_html()\n",
    "df_pers.info()"
   ]
  },
  {
   "cell_type": "markdown",
   "id": "6193a398",
   "metadata": {},
   "source": [
    "В данной таблице содержатся данные о пользователях: о его поле, имеются ли партнеры, иждивенцы и является ли клиент пенсионером. Пропусков и дубликатов нет."
   ]
  },
  {
   "cell_type": "code",
   "execution_count": 5,
   "id": "d1b5e77d",
   "metadata": {},
   "outputs": [
    {
     "data": {
      "application/vnd.jupyter.widget-view+json": {
       "model_id": "c8d1f481a84744919e26108612ffbadb",
       "version_major": 2,
       "version_minor": 0
      },
      "text/plain": [
       "                                             |          | [  0%]   00:00 -> (? left)"
      ]
     },
     "metadata": {},
     "output_type": "display_data"
    },
    {
     "name": "stdout",
     "output_type": "stream",
     "text": [
      "Report SWEETVIZ_REPORT.html was generated! NOTEBOOK/COLAB USERS: the web browser MAY not pop up, regardless, the report IS saved in your notebook/colab files.\n",
      "<class 'pandas.core.frame.DataFrame'>\n",
      "RangeIndex: 6361 entries, 0 to 6360\n",
      "Data columns (total 2 columns):\n",
      " #   Column         Non-Null Count  Dtype \n",
      "---  ------         --------------  ----- \n",
      " 0   customerID     6361 non-null   object\n",
      " 1   MultipleLines  6361 non-null   object\n",
      "dtypes: object(2)\n",
      "memory usage: 99.5+ KB\n"
     ]
    }
   ],
   "source": [
    "df_phone = pd.read_csv('C:/Users/VovAz/Desktop/Проект/Финальный проект/phone.csv')\n",
    "report_phone = sv.analyze([df_phone, \"phone\"])\n",
    "report_phone.show_html()\n",
    "df_phone.info()"
   ]
  },
  {
   "cell_type": "markdown",
   "id": "be68a58e",
   "metadata": {},
   "source": [
    "В данной талице содержатся данные о том пользуется ли клиент несколькими линиями, поскольку количество значений в таблице меньше, чем в основной предлагается заменить пропуски значением 'No'. "
   ]
  },
  {
   "cell_type": "markdown",
   "id": "3190dec2",
   "metadata": {},
   "source": [
    "# План\n",
    "## 1. Соединить таблицы.\n",
    "### Для того, чтобы собрать в одну таблицу данные по клиентам.\n",
    "## 2. Заполнить недостающие значения.\n",
    "### И изменить значение целевого признака на булев тип для отслеживания ухода клиентов\n",
    "## 3. Провести кодирование категориальных признаков.\n",
    "## 4. Разделить выборку на тестовую и тренировочную, в тренировочной провести балансировку классов.\n",
    "## 5. Обучить модели."
   ]
  }
 ],
 "metadata": {
  "kernelspec": {
   "display_name": "Python 3 (ipykernel)",
   "language": "python",
   "name": "python3"
  },
  "language_info": {
   "codemirror_mode": {
    "name": "ipython",
    "version": 3
   },
   "file_extension": ".py",
   "mimetype": "text/x-python",
   "name": "python",
   "nbconvert_exporter": "python",
   "pygments_lexer": "ipython3",
   "version": "3.8.12"
  }
 },
 "nbformat": 4,
 "nbformat_minor": 5
}
