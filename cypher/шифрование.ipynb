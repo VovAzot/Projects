{
 "cells": [
  {
   "cell_type": "markdown",
   "metadata": {},
   "source": [
    "# Защита персональных данных клиентов"
   ]
  },
  {
   "cell_type": "markdown",
   "metadata": {},
   "source": [
    "Вам нужно защитить данные клиентов страховой компании «Хоть потоп». Разработайте такой метод преобразования данных, чтобы по ним было сложно восстановить персональную информацию. Обоснуйте корректность его работы.\n",
    "\n",
    "Нужно защитить данные, чтобы при преобразовании качество моделей машинного обучения не ухудшилось. Подбирать наилучшую модель не требуется."
   ]
  },
  {
   "cell_type": "markdown",
   "metadata": {},
   "source": [
    "## Загрузка данных"
   ]
  },
  {
   "cell_type": "code",
   "execution_count": 1,
   "metadata": {},
   "outputs": [],
   "source": [
    "import pandas as pd\n",
    "import numpy as np\n",
    "from sklearn.model_selection import train_test_split\n",
    "from sklearn.linear_model import LinearRegression\n",
    "from sklearn.metrics import r2_score"
   ]
  },
  {
   "cell_type": "code",
   "execution_count": 2,
   "metadata": {},
   "outputs": [
    {
     "name": "stdout",
     "output_type": "stream",
     "text": [
      "<class 'pandas.core.frame.DataFrame'>\n",
      "RangeIndex: 5000 entries, 0 to 4999\n",
      "Data columns (total 5 columns):\n",
      "Пол                  5000 non-null int64\n",
      "Возраст              5000 non-null float64\n",
      "Зарплата             5000 non-null float64\n",
      "Члены семьи          5000 non-null int64\n",
      "Страховые выплаты    5000 non-null int64\n",
      "dtypes: float64(2), int64(3)\n",
      "memory usage: 195.4 KB\n",
      "   Пол  Возраст  Зарплата  Члены семьи  Страховые выплаты\n",
      "0    1     41.0   49600.0            1                  0\n",
      "1    0     46.0   38000.0            1                  1\n",
      "2    0     29.0   21000.0            0                  0\n",
      "3    0     21.0   41700.0            2                  0\n",
      "4    1     28.0   26100.0            0                  0\n",
      "False    4847\n",
      "True      153\n",
      "dtype: int64\n"
     ]
    },
    {
     "data": {
      "text/html": [
       "<div>\n",
       "<style scoped>\n",
       "    .dataframe tbody tr th:only-of-type {\n",
       "        vertical-align: middle;\n",
       "    }\n",
       "\n",
       "    .dataframe tbody tr th {\n",
       "        vertical-align: top;\n",
       "    }\n",
       "\n",
       "    .dataframe thead th {\n",
       "        text-align: right;\n",
       "    }\n",
       "</style>\n",
       "<table border=\"1\" class=\"dataframe\">\n",
       "  <thead>\n",
       "    <tr style=\"text-align: right;\">\n",
       "      <th></th>\n",
       "      <th>Пол</th>\n",
       "      <th>Возраст</th>\n",
       "      <th>Зарплата</th>\n",
       "      <th>Члены семьи</th>\n",
       "      <th>Страховые выплаты</th>\n",
       "    </tr>\n",
       "  </thead>\n",
       "  <tbody>\n",
       "    <tr>\n",
       "      <td>0</td>\n",
       "      <td>1</td>\n",
       "      <td>41.0</td>\n",
       "      <td>49600.0</td>\n",
       "      <td>1</td>\n",
       "      <td>0</td>\n",
       "    </tr>\n",
       "    <tr>\n",
       "      <td>1</td>\n",
       "      <td>0</td>\n",
       "      <td>46.0</td>\n",
       "      <td>38000.0</td>\n",
       "      <td>1</td>\n",
       "      <td>1</td>\n",
       "    </tr>\n",
       "    <tr>\n",
       "      <td>2</td>\n",
       "      <td>0</td>\n",
       "      <td>29.0</td>\n",
       "      <td>21000.0</td>\n",
       "      <td>0</td>\n",
       "      <td>0</td>\n",
       "    </tr>\n",
       "    <tr>\n",
       "      <td>3</td>\n",
       "      <td>0</td>\n",
       "      <td>21.0</td>\n",
       "      <td>41700.0</td>\n",
       "      <td>2</td>\n",
       "      <td>0</td>\n",
       "    </tr>\n",
       "    <tr>\n",
       "      <td>4</td>\n",
       "      <td>1</td>\n",
       "      <td>28.0</td>\n",
       "      <td>26100.0</td>\n",
       "      <td>0</td>\n",
       "      <td>0</td>\n",
       "    </tr>\n",
       "    <tr>\n",
       "      <td>...</td>\n",
       "      <td>...</td>\n",
       "      <td>...</td>\n",
       "      <td>...</td>\n",
       "      <td>...</td>\n",
       "      <td>...</td>\n",
       "    </tr>\n",
       "    <tr>\n",
       "      <td>4995</td>\n",
       "      <td>0</td>\n",
       "      <td>28.0</td>\n",
       "      <td>35700.0</td>\n",
       "      <td>2</td>\n",
       "      <td>0</td>\n",
       "    </tr>\n",
       "    <tr>\n",
       "      <td>4996</td>\n",
       "      <td>0</td>\n",
       "      <td>34.0</td>\n",
       "      <td>52400.0</td>\n",
       "      <td>1</td>\n",
       "      <td>0</td>\n",
       "    </tr>\n",
       "    <tr>\n",
       "      <td>4997</td>\n",
       "      <td>0</td>\n",
       "      <td>20.0</td>\n",
       "      <td>33900.0</td>\n",
       "      <td>2</td>\n",
       "      <td>0</td>\n",
       "    </tr>\n",
       "    <tr>\n",
       "      <td>4998</td>\n",
       "      <td>1</td>\n",
       "      <td>22.0</td>\n",
       "      <td>32700.0</td>\n",
       "      <td>3</td>\n",
       "      <td>0</td>\n",
       "    </tr>\n",
       "    <tr>\n",
       "      <td>4999</td>\n",
       "      <td>1</td>\n",
       "      <td>28.0</td>\n",
       "      <td>40600.0</td>\n",
       "      <td>1</td>\n",
       "      <td>0</td>\n",
       "    </tr>\n",
       "  </tbody>\n",
       "</table>\n",
       "<p>5000 rows × 5 columns</p>\n",
       "</div>"
      ],
      "text/plain": [
       "      Пол  Возраст  Зарплата  Члены семьи  Страховые выплаты\n",
       "0       1     41.0   49600.0            1                  0\n",
       "1       0     46.0   38000.0            1                  1\n",
       "2       0     29.0   21000.0            0                  0\n",
       "3       0     21.0   41700.0            2                  0\n",
       "4       1     28.0   26100.0            0                  0\n",
       "...   ...      ...       ...          ...                ...\n",
       "4995    0     28.0   35700.0            2                  0\n",
       "4996    0     34.0   52400.0            1                  0\n",
       "4997    0     20.0   33900.0            2                  0\n",
       "4998    1     22.0   32700.0            3                  0\n",
       "4999    1     28.0   40600.0            1                  0\n",
       "\n",
       "[5000 rows x 5 columns]"
      ]
     },
     "execution_count": 2,
     "metadata": {},
     "output_type": "execute_result"
    }
   ],
   "source": [
    "#df = pd.read_csv('C:/Users/VovAz/Desktop/Проект/Линал/insurance.csv')\n",
    "df = pd.read_csv('/datasets/insurance.csv')\n",
    "df.info()\n",
    "print(df.head())\n",
    "print(df.duplicated().value_counts())\n",
    "df"
   ]
  },
  {
   "cell_type": "markdown",
   "metadata": {},
   "source": [
    "Данные прочитаны и изучены: пропусков нет, обнаружено 153 дубликата. Поскольку задачи предобработки данных не стоит, игнорируем данный факт. "
   ]
  },
  {
   "cell_type": "markdown",
   "metadata": {},
   "source": [
    "## Умножение матриц"
   ]
  },
  {
   "cell_type": "markdown",
   "metadata": {},
   "source": [
    "В этом задании вы можете записывать формулы в *Jupyter Notebook.*\n",
    "\n",
    "Чтобы записать формулу внутри текста, окружите её символами доллара \\\\$; если снаружи —  двойными символами \\\\$\\\\$. Эти формулы записываются на языке вёрстки *LaTeX.* \n",
    "\n",
    "Для примера мы записали формулы линейной регрессии. Можете их скопировать и отредактировать, чтобы решить задачу.\n",
    "\n",
    "Работать в *LaTeX* необязательно."
   ]
  },
  {
   "cell_type": "markdown",
   "metadata": {},
   "source": [
    "Обозначения:\n",
    "\n",
    "- $X$ — матрица признаков (нулевой столбец состоит из единиц)\n",
    "\n",
    "- $y$ — вектор целевого признака\n",
    "\n",
    "- $P$ — матрица, на которую умножаются признаки\n",
    "\n",
    "- $w$ — вектор весов линейной регрессии (нулевой элемент равен сдвигу)"
   ]
  },
  {
   "cell_type": "markdown",
   "metadata": {},
   "source": [
    "Предсказания:\n",
    "\n",
    "$$\n",
    "a = Xw\n",
    "$$\n",
    "\n",
    "Задача обучения:\n",
    "\n",
    "$$\n",
    "w = \\arg\\min_w MSE(Xw, y)\n",
    "$$\n",
    "\n",
    "Формула обучения:\n",
    "\n",
    "$$\n",
    "w = (X^T X)^{-1} X^T y\n",
    "$$"
   ]
  },
  {
   "cell_type": "markdown",
   "metadata": {},
   "source": [
    "**Ответ:** Нет, не изменится\n",
    "\n",
    "**Обоснование:** \n",
    "Вспомним формулу для вычисления весов параметров\n",
    "$$\n",
    "w = (X^T X)^{-1} X^T y\n",
    "$$ \n",
    "Заменяем матрицу X произведением матриц X и P:\n",
    "$$\n",
    "w1 = ((X P)^T X P)^{-1} (X P) ^T y\n",
    "$$\n",
    "Поскольку предполагается, что произведение матриц X и P определено, воспользуемся свойством транспонированных матриц\n",
    "$\n",
    "(AB)^T=B^T A^T\n",
    "$ для раскрытия скобок:\n",
    "$$\n",
    "w1 = (P^T X^T X P)^{-1} P^T X^T y\n",
    "$$\n",
    "\n",
    "Воспользуемся свойством ассоциативности произведения матриц \n",
    "$\n",
    "(A · B) · C= A · (B · C)\n",
    "$\n",
    "\n",
    "$$\n",
    "w1 = (P^T (X^T X) P) ^{-1} P^T X^T y\n",
    "$$\n",
    "\n",
    "Используем свойство для раскрытия скобок при обращении \n",
    "$\n",
    "(AB)^{–1}=B^{–1}A^{–1}\n",
    "$\n",
    "\n",
    "$$\n",
    "w1 = P^{-1} (X^T X)^{-1} P^T^{-1} P^T X^T y\n",
    "$$\n",
    "Умножение матрицы\n",
    "$\n",
    "P\n",
    "$\n",
    "на обратную матрицу\n",
    "$P^{-1}\n",
    "$\n",
    "дает единичную матрицу \n",
    "$\n",
    "E\n",
    "$\n",
    "$$\n",
    "AE = A\n",
    "$$\n",
    "\n",
    "$$\n",
    "w1 = P^{-1} (X^T X)^{-1} X^T y\n",
    "$$\n",
    "Замечаем, что \n",
    "$\n",
    "X^T X^{-1} X^T y\n",
    "$ является формулой для вычисления веса w\n",
    "\n",
    "$$\n",
    "w1 = P^{-1} w\n",
    "$$\n",
    "Формула для вычисления предсказаний: \n",
    "$$\n",
    "a= Xw\n",
    "$$\n",
    "Следовательно,\n",
    "$$\n",
    "a1 = XPP^{-1} w \n",
    "$$\n",
    "$$\n",
    "a1 = Xw\n",
    "$$\n",
    "\n",
    "$$\n",
    "a = a1\n",
    "$$"
   ]
  },
  {
   "cell_type": "markdown",
   "metadata": {},
   "source": [
    "## Алгоритм преобразования"
   ]
  },
  {
   "cell_type": "markdown",
   "metadata": {},
   "source": [
    "**Алгоритм**\n",
    "\n",
    "Для защиты информации предлагается : \n",
    "1. Сгенерировать случайную обратимую матрицу $P$ с учетом того чтобы матрица с преобразованными признаками $Z$ имела одинаковую размерность с матрицей признаков $X$.\n",
    "2. Получить преобразованные признаки $Z = XP$\n"
   ]
  },
  {
   "cell_type": "markdown",
   "metadata": {},
   "source": [
    "**Обоснование**\n",
    "Поскольку, во втором пункте проекта мы доказали, что умножение признаков на обратимую матрицу не влияет на предсказания, алгоритм шифрования данных подходит для использования в рамках обучения и применения линейной регрессии."
   ]
  },
  {
   "cell_type": "markdown",
   "metadata": {},
   "source": [
    "## Проверка алгоритма"
   ]
  },
  {
   "cell_type": "code",
   "execution_count": 3,
   "metadata": {},
   "outputs": [
    {
     "name": "stdout",
     "output_type": "stream",
     "text": [
      "Значение R2 для незашифрованных данных 0.41921160370427357\n"
     ]
    }
   ],
   "source": [
    "features = df.drop('Страховые выплаты',axis=1)#разделяем данные на признаки и целевые значения\n",
    "target = df['Страховые выплаты']\n",
    "features_train, features_test, target_train, target_test = train_test_split(\n",
    "    features, target, test_size=0.25, random_state=123456)\n",
    "model = LinearRegression()\n",
    "model.fit(features_train, target_train)\n",
    "raw_data_r2 =  r2_score(target_test, model.predict(features_test))\n",
    "print(\"Значение R2 для незашифрованных данных\", raw_data_r2)"
   ]
  },
  {
   "cell_type": "markdown",
   "metadata": {},
   "source": [
    "Получаем значение метрики R2 для линейной регрессии на незашифрованных данных."
   ]
  },
  {
   "cell_type": "code",
   "execution_count": 4,
   "metadata": {},
   "outputs": [],
   "source": [
    "def cipher_features(features):#создаем фунцию для шифрования признаков. На вход фунция принмает признаки\n",
    "    crypted_features = features\n",
    "    n = features.shape[1]#выделяем значение ширины матрицы признаков\n",
    "    np.random.seed(12345)\n",
    "    cipher_matrix = np.random.randint(0, 10, (n,n))#генерируем матрицу с высотой и шириной исходя из ширины исходной матриы\n",
    "    det = np.linalg.det(cipher_matrix)# находим определитель матрицы чтобы убедиться, что матрица обратимая\n",
    "    print(\"Определитель сгенерированной матрицы:\", det)\n",
    "    if det == 0:# если определитель равен 0, матрица необратимая, нужно сгенерировать новую. Шанс сгенерировать необратимую матрицу очень мал, поэтому одной проверки достаточно.\n",
    "        np.random.seed(123456)\n",
    "        cipher_matrix = np.random.randint(0, 10, (n,n))\n",
    "        det = np.linalg.det(cipher_matrix)\n",
    "        print(\"Определитель сгенерированной матрицы:\",det)\n",
    "    crypted_features = crypted_features @ cipher_matrix\n",
    "    return crypted_features, cipher_matrix"
   ]
  },
  {
   "cell_type": "code",
   "execution_count": 5,
   "metadata": {},
   "outputs": [
    {
     "name": "stdout",
     "output_type": "stream",
     "text": [
      "Определитель сгенерированной матрицы: -2895.9999999999995\n",
      "Значение R2 для незашифрованных данных 0.41921160370427357\n",
      "Значение R2 для зашифрованных данных 0.41921160370430766\n",
      "Матрица шифрования\n",
      " [[2 5 1 4]\n",
      " [9 5 2 1]\n",
      " [6 1 9 7]\n",
      " [6 0 2 9]]\n"
     ]
    }
   ],
   "source": [
    "features_crypted, cipher_matrix = cipher_features(features)\n",
    "features_train, features_test, target_train, target_test = train_test_split(\n",
    "    features_crypted, target, test_size=0.25, random_state=123456)\n",
    "model = LinearRegression()\n",
    "model.fit(features_train, target_train)\n",
    "print(\"Значение R2 для незашифрованных данных\", raw_data_r2)\n",
    "print(\"Значение R2 для зашифрованных данных\", r2_score(target_test, model.predict(features_test)))\n",
    "print('Матрица шифрования\\n', cipher_matrix)"
   ]
  },
  {
   "cell_type": "code",
   "execution_count": 6,
   "metadata": {},
   "outputs": [
    {
     "data": {
      "text/html": [
       "<div>\n",
       "<style scoped>\n",
       "    .dataframe tbody tr th:only-of-type {\n",
       "        vertical-align: middle;\n",
       "    }\n",
       "\n",
       "    .dataframe tbody tr th {\n",
       "        vertical-align: top;\n",
       "    }\n",
       "\n",
       "    .dataframe thead th {\n",
       "        text-align: right;\n",
       "    }\n",
       "</style>\n",
       "<table border=\"1\" class=\"dataframe\">\n",
       "  <thead>\n",
       "    <tr style=\"text-align: right;\">\n",
       "      <th></th>\n",
       "      <th>0</th>\n",
       "      <th>1</th>\n",
       "      <th>2</th>\n",
       "      <th>3</th>\n",
       "    </tr>\n",
       "  </thead>\n",
       "  <tbody>\n",
       "    <tr>\n",
       "      <td>0</td>\n",
       "      <td>1.000000e+00</td>\n",
       "      <td>41.0</td>\n",
       "      <td>49600.0</td>\n",
       "      <td>1.000000e+00</td>\n",
       "    </tr>\n",
       "    <tr>\n",
       "      <td>1</td>\n",
       "      <td>-2.792891e-12</td>\n",
       "      <td>46.0</td>\n",
       "      <td>38000.0</td>\n",
       "      <td>1.000000e+00</td>\n",
       "    </tr>\n",
       "    <tr>\n",
       "      <td>2</td>\n",
       "      <td>-2.909201e-13</td>\n",
       "      <td>29.0</td>\n",
       "      <td>21000.0</td>\n",
       "      <td>2.417858e-12</td>\n",
       "    </tr>\n",
       "    <tr>\n",
       "      <td>3</td>\n",
       "      <td>-8.620465e-13</td>\n",
       "      <td>21.0</td>\n",
       "      <td>41700.0</td>\n",
       "      <td>2.000000e+00</td>\n",
       "    </tr>\n",
       "    <tr>\n",
       "      <td>4</td>\n",
       "      <td>1.000000e+00</td>\n",
       "      <td>28.0</td>\n",
       "      <td>26100.0</td>\n",
       "      <td>2.438438e-12</td>\n",
       "    </tr>\n",
       "    <tr>\n",
       "      <td>...</td>\n",
       "      <td>...</td>\n",
       "      <td>...</td>\n",
       "      <td>...</td>\n",
       "      <td>...</td>\n",
       "    </tr>\n",
       "    <tr>\n",
       "      <td>4995</td>\n",
       "      <td>-2.631090e-12</td>\n",
       "      <td>28.0</td>\n",
       "      <td>35700.0</td>\n",
       "      <td>2.000000e+00</td>\n",
       "    </tr>\n",
       "    <tr>\n",
       "      <td>4996</td>\n",
       "      <td>-1.855585e-12</td>\n",
       "      <td>34.0</td>\n",
       "      <td>52400.0</td>\n",
       "      <td>1.000000e+00</td>\n",
       "    </tr>\n",
       "    <tr>\n",
       "      <td>4997</td>\n",
       "      <td>-1.278394e-12</td>\n",
       "      <td>20.0</td>\n",
       "      <td>33900.0</td>\n",
       "      <td>2.000000e+00</td>\n",
       "    </tr>\n",
       "    <tr>\n",
       "      <td>4998</td>\n",
       "      <td>1.000000e+00</td>\n",
       "      <td>22.0</td>\n",
       "      <td>32700.0</td>\n",
       "      <td>3.000000e+00</td>\n",
       "    </tr>\n",
       "    <tr>\n",
       "      <td>4999</td>\n",
       "      <td>1.000000e+00</td>\n",
       "      <td>28.0</td>\n",
       "      <td>40600.0</td>\n",
       "      <td>1.000000e+00</td>\n",
       "    </tr>\n",
       "  </tbody>\n",
       "</table>\n",
       "<p>5000 rows × 4 columns</p>\n",
       "</div>"
      ],
      "text/plain": [
       "                 0     1        2             3\n",
       "0     1.000000e+00  41.0  49600.0  1.000000e+00\n",
       "1    -2.792891e-12  46.0  38000.0  1.000000e+00\n",
       "2    -2.909201e-13  29.0  21000.0  2.417858e-12\n",
       "3    -8.620465e-13  21.0  41700.0  2.000000e+00\n",
       "4     1.000000e+00  28.0  26100.0  2.438438e-12\n",
       "...            ...   ...      ...           ...\n",
       "4995 -2.631090e-12  28.0  35700.0  2.000000e+00\n",
       "4996 -1.855585e-12  34.0  52400.0  1.000000e+00\n",
       "4997 -1.278394e-12  20.0  33900.0  2.000000e+00\n",
       "4998  1.000000e+00  22.0  32700.0  3.000000e+00\n",
       "4999  1.000000e+00  28.0  40600.0  1.000000e+00\n",
       "\n",
       "[5000 rows x 4 columns]"
      ]
     },
     "execution_count": 6,
     "metadata": {},
     "output_type": "execute_result"
    }
   ],
   "source": [
    "features_crypted.head()\n",
    "raw2 = features_crypted @ np.linalg.inv(cipher_matrix) \n",
    "raw2"
   ]
  },
  {
   "cell_type": "markdown",
   "metadata": {},
   "source": [
    "Удалось сгенерировать матрицу шифрования, умножить признаки на нее и получить результат R2 не уступающий данным без шифрования."
   ]
  }
 ],
 "metadata": {
  "ExecuteTimeLog": [
   {
    "duration": 1033,
    "start_time": "2022-01-20T12:38:20.453Z"
   },
   {
    "duration": 2015,
    "start_time": "2022-01-20T12:38:21.488Z"
   },
   {
    "duration": 28,
    "start_time": "2022-01-20T12:38:54.597Z"
   },
   {
    "duration": 12,
    "start_time": "2022-01-20T12:43:46.003Z"
   },
   {
    "duration": 4,
    "start_time": "2022-01-20T12:43:47.826Z"
   },
   {
    "duration": 12,
    "start_time": "2022-01-20T12:43:48.460Z"
   },
   {
    "duration": 373,
    "start_time": "2022-01-20T13:15:15.404Z"
   },
   {
    "duration": 1050,
    "start_time": "2022-01-20T13:15:20.235Z"
   },
   {
    "duration": 26,
    "start_time": "2022-01-20T13:15:21.287Z"
   },
   {
    "duration": 10,
    "start_time": "2022-01-20T13:15:21.315Z"
   },
   {
    "duration": 4,
    "start_time": "2022-01-20T13:15:21.327Z"
   },
   {
    "duration": 15,
    "start_time": "2022-01-20T13:15:21.332Z"
   },
   {
    "duration": 26,
    "start_time": "2022-01-20T13:15:21.349Z"
   },
   {
    "duration": 385,
    "start_time": "2022-01-20T13:16:21.262Z"
   },
   {
    "duration": 17,
    "start_time": "2022-01-20T13:16:45.352Z"
   },
   {
    "duration": 969,
    "start_time": "2022-01-20T13:17:50.604Z"
   },
   {
    "duration": 39,
    "start_time": "2022-01-20T13:17:51.574Z"
   },
   {
    "duration": 9,
    "start_time": "2022-01-20T13:17:51.617Z"
   },
   {
    "duration": 11,
    "start_time": "2022-01-20T13:17:51.627Z"
   },
   {
    "duration": 40,
    "start_time": "2022-01-20T13:17:51.640Z"
   },
   {
    "duration": 13,
    "start_time": "2022-01-20T13:17:51.682Z"
   },
   {
    "duration": 843,
    "start_time": "2022-01-20T13:20:01.129Z"
   },
   {
    "duration": 1214,
    "start_time": "2022-01-20T13:20:25.257Z"
   },
   {
    "duration": 38,
    "start_time": "2022-01-20T13:20:26.473Z"
   },
   {
    "duration": 10,
    "start_time": "2022-01-20T13:20:26.513Z"
   },
   {
    "duration": 4,
    "start_time": "2022-01-20T13:20:26.524Z"
   },
   {
    "duration": 17,
    "start_time": "2022-01-20T13:20:26.530Z"
   },
   {
    "duration": 422,
    "start_time": "2022-01-20T13:20:26.548Z"
   },
   {
    "duration": 97,
    "start_time": "2022-01-20T13:20:35.176Z"
   },
   {
    "duration": 985,
    "start_time": "2022-01-20T13:20:56.086Z"
   },
   {
    "duration": 40,
    "start_time": "2022-01-20T13:20:57.072Z"
   },
   {
    "duration": 10,
    "start_time": "2022-01-20T13:20:57.114Z"
   },
   {
    "duration": 9,
    "start_time": "2022-01-20T13:20:57.125Z"
   },
   {
    "duration": 40,
    "start_time": "2022-01-20T13:20:57.135Z"
   },
   {
    "duration": 32,
    "start_time": "2022-01-20T13:20:57.176Z"
   }
  ],
  "kernelspec": {
   "display_name": "Python 3 (ipykernel)",
   "language": "python",
   "name": "python3"
  },
  "language_info": {
   "codemirror_mode": {
    "name": "ipython",
    "version": 3
   },
   "file_extension": ".py",
   "mimetype": "text/x-python",
   "name": "python",
   "nbconvert_exporter": "python",
   "pygments_lexer": "ipython3",
   "version": "3.8.12"
  },
  "toc": {
   "base_numbering": 1,
   "nav_menu": {},
   "number_sections": true,
   "sideBar": true,
   "skip_h1_title": true,
   "title_cell": "Содержание",
   "title_sidebar": "Contents",
   "toc_cell": true,
   "toc_position": {},
   "toc_section_display": true,
   "toc_window_display": true
  }
 },
 "nbformat": 4,
 "nbformat_minor": 2
}
